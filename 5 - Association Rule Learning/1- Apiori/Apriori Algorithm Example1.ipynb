{
 "cells": [
  {
   "cell_type": "markdown",
   "id": "500f94e7",
   "metadata": {},
   "source": [
    "# Apriori Algorithm Example"
   ]
  },
  {
   "cell_type": "code",
   "execution_count": 3,
   "id": "e40d9acc",
   "metadata": {},
   "outputs": [],
   "source": [
    "dataset = [['Milk', 'Eggs', 'Bread'],\n",
    "['Milk', 'Eggs'],\n",
    "['Milk', 'Bread'],\n",
    "['Eggs', 'Apple']]"
   ]
  },
  {
   "attachments": {
    "ds.PNG": {
     "image/png": "[encoded data removed]"
    }
   },
   "cell_type": "markdown",
   "id": "9d3451fe",
   "metadata": {},
   "source": [
    "![ds.PNG](attachment:ds.PNG)"
   ]
  },
  {
   "cell_type": "code",
   "execution_count": 4,
   "id": "55c3e13e",
   "metadata": {},
   "outputs": [],
   "source": [
    "#Convert list to dataframe with boolean values\n",
    "import pandas as pd\n",
    "from mlxtend.preprocessing import TransactionEncoder\n",
    "\n",
    "te = TransactionEncoder()\n",
    "te_array = te.fit(dataset).transform(dataset)\n",
    "df = pd.DataFrame(te_array, columns=te.columns_)"
   ]
  },
  {
   "cell_type": "code",
   "execution_count": 5,
   "id": "1b641bda",
   "metadata": {},
   "outputs": [
    {
     "name": "stdout",
     "output_type": "stream",
     "text": [
      "   Apple  Bread   Eggs   Milk\n",
      "0  False   True   True   True\n",
      "1  False  False   True   True\n",
      "2  False   True  False   True\n",
      "3   True  False   True  False\n"
     ]
    }
   ],
   "source": [
    "print(df)"
   ]
  },
  {
   "cell_type": "code",
   "execution_count": 6,
   "id": "bc074836",
   "metadata": {},
   "outputs": [],
   "source": [
    "#Find frequently occurring itemsets using Apriori Algorithm\n",
    "from mlxtend.frequent_patterns import apriori\n",
    "\n",
    "frequent_itemsets_ap = apriori(df, min_support=0.01, use_colnames=True)"
   ]
  },
  {
   "cell_type": "code",
   "execution_count": 7,
   "id": "1a689901",
   "metadata": {},
   "outputs": [
    {
     "name": "stdout",
     "output_type": "stream",
     "text": [
      "   support             itemsets\n",
      "0     0.25              (Apple)\n",
      "1     0.50              (Bread)\n",
      "2     0.75               (Eggs)\n",
      "3     0.75               (Milk)\n",
      "4     0.25        (Apple, Eggs)\n",
      "5     0.25        (Bread, Eggs)\n",
      "6     0.50        (Milk, Bread)\n",
      "7     0.50         (Milk, Eggs)\n",
      "8     0.25  (Milk, Bread, Eggs)\n"
     ]
    }
   ],
   "source": [
    "print(frequent_itemsets_ap)"
   ]
  },
  {
   "cell_type": "markdown",
   "id": "103f6c2f",
   "metadata": {},
   "source": [
    "Note: “metric” and “min_threshold” parameters can be tuned on a case-by-case basis, depending on the business problem requirements."
   ]
  },
  {
   "cell_type": "code",
   "execution_count": 8,
   "id": "6949bb84",
   "metadata": {},
   "outputs": [
    {
     "name": "stdout",
     "output_type": "stream",
     "text": [
      "   support             itemsets\n",
      "0     0.75               (Milk)\n",
      "1     0.75               (Eggs)\n",
      "2     0.50              (Bread)\n",
      "3     0.25              (Apple)\n",
      "4     0.50         (Milk, Eggs)\n",
      "5     0.50        (Milk, Bread)\n",
      "6     0.25        (Bread, Eggs)\n",
      "7     0.25  (Milk, Bread, Eggs)\n",
      "8     0.25        (Apple, Eggs)\n"
     ]
    }
   ],
   "source": [
    "#Find frequently occurring itemsets using F-P Growth\n",
    "from mlxtend.frequent_patterns import fpgrowth\n",
    "\n",
    "frequent_itemsets_fp=fpgrowth(df, min_support=0.01, use_colnames=True)\n",
    "print(frequent_itemsets_fp)"
   ]
  },
  {
   "cell_type": "code",
   "execution_count": 9,
   "id": "ed42a760",
   "metadata": {},
   "outputs": [],
   "source": [
    "#Mine the Association Rules\n",
    "from mlxtend.frequent_patterns import association_rules\n",
    "\n",
    "rules_ap = association_rules(frequent_itemsets_ap, metric=\"confidence\", min_threshold=0.8)\n",
    "rules_fp = association_rules(frequent_itemsets_fp, metric=\"confidence\", min_threshold=0.8)"
   ]
  },
  {
   "cell_type": "code",
   "execution_count": 10,
   "id": "31655222",
   "metadata": {},
   "outputs": [
    {
     "name": "stdout",
     "output_type": "stream",
     "text": [
      "     antecedents consequents  antecedent support  consequent support  support  \\\n",
      "0        (Apple)      (Eggs)                0.25                0.75     0.25   \n",
      "1        (Bread)      (Milk)                0.50                0.75     0.50   \n",
      "2  (Bread, Eggs)      (Milk)                0.25                0.75     0.25   \n",
      "\n",
      "   confidence      lift  leverage  conviction  \n",
      "0         1.0  1.333333    0.0625         inf  \n",
      "1         1.0  1.333333    0.1250         inf  \n",
      "2         1.0  1.333333    0.0625         inf  \n"
     ]
    }
   ],
   "source": [
    "print(rules_ap)"
   ]
  },
  {
   "cell_type": "code",
   "execution_count": 11,
   "id": "63eb387e",
   "metadata": {},
   "outputs": [
    {
     "name": "stdout",
     "output_type": "stream",
     "text": [
      "     antecedents consequents  antecedent support  consequent support  support  \\\n",
      "0        (Bread)      (Milk)                0.50                0.75     0.50   \n",
      "1  (Bread, Eggs)      (Milk)                0.25                0.75     0.25   \n",
      "2        (Apple)      (Eggs)                0.25                0.75     0.25   \n",
      "\n",
      "   confidence      lift  leverage  conviction  \n",
      "0         1.0  1.333333    0.1250         inf  \n",
      "1         1.0  1.333333    0.0625         inf  \n",
      "2         1.0  1.333333    0.0625         inf  \n"
     ]
    }
   ],
   "source": [
    "print(rules_fp)"
   ]
  },
  {
   "cell_type": "markdown",
   "id": "ba2001ba",
   "metadata": {},
   "source": [
    "From the two above we see that both algorithms found identical association rules with same coefficients, just presented in a different order."
   ]
  },
  {
   "cell_type": "code",
   "execution_count": null,
   "id": "bdb7014a",
   "metadata": {},
   "outputs": [],
   "source": []
  }
 ],
 "metadata": {
  "kernelspec": {
   "display_name": "Python 3",
   "language": "python",
   "name": "python3"
  },
  "language_info": {
   "codemirror_mode": {
    "name": "ipython",
    "version": 3
   },
   "file_extension": ".py",
   "mimetype": "text/x-python",
   "name": "python",
   "nbconvert_exporter": "python",
   "pygments_lexer": "ipython3",
   "version": "3.9.5"
  }
 },
 "nbformat": 4,
 "nbformat_minor": 5
}
