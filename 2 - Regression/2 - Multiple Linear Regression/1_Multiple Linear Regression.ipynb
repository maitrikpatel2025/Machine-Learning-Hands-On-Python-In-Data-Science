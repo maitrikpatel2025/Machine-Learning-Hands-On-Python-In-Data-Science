{
 "cells": [
  {
   "cell_type": "markdown",
   "id": "54e6df70",
   "metadata": {},
   "source": [
    "# Multiple Linear Regression"
   ]
  },
  {
   "cell_type": "markdown",
   "id": "3b3af933",
   "metadata": {},
   "source": [
    "## Importing the libraries"
   ]
  },
  {
   "cell_type": "code",
   "execution_count": 1,
   "id": "4e9507f1",
   "metadata": {},
   "outputs": [],
   "source": [
    "import numpy as np\n",
    "import pandas as pd\n",
    "import matplotlib.pyplot as plt"
   ]
  },
  {
   "cell_type": "code",
   "execution_count": 2,
   "id": "7283f4b2",
   "metadata": {},
   "outputs": [],
   "source": [
    "from sklearn.impute import SimpleImputer\n",
    "from sklearn.compose import ColumnTransformer\n",
    "from sklearn.preprocessing import OneHotEncoder\n",
    "from sklearn.preprocessing import LabelEncoder"
   ]
  },
  {
   "cell_type": "code",
   "execution_count": 3,
   "id": "5e7b08d1",
   "metadata": {},
   "outputs": [],
   "source": [
    "from sklearn.model_selection import train_test_split"
   ]
  },
  {
   "cell_type": "code",
   "execution_count": 4,
   "id": "d25d9a7e",
   "metadata": {},
   "outputs": [],
   "source": [
    "from sklearn.linear_model import LinearRegression"
   ]
  },
  {
   "cell_type": "markdown",
   "id": "06bb5bbd",
   "metadata": {},
   "source": [
    "## Importing the data set"
   ]
  },
  {
   "cell_type": "code",
   "execution_count": 5,
   "id": "a4fc3eda",
   "metadata": {},
   "outputs": [
    {
     "name": "stdout",
     "output_type": "stream",
     "text": [
      "        price  area  bedrooms  bathrooms  stories mainroad guestroom basement  \\\n",
      "0    13300000  7420         4          2        3      yes        no       no   \n",
      "1    12250000  8960         4          4        4      yes        no       no   \n",
      "2    12250000  9960         3          2        2      yes        no      yes   \n",
      "3    12215000  7500         4          2        2      yes        no      yes   \n",
      "4    11410000  7420         4          1        2      yes       yes      yes   \n",
      "..        ...   ...       ...        ...      ...      ...       ...      ...   \n",
      "540   1820000  3000         2          1        1      yes        no      yes   \n",
      "541   1767150  2400         3          1        1       no        no       no   \n",
      "542   1750000  3620         2          1        1      yes        no       no   \n",
      "543   1750000  2910         3          1        1       no        no       no   \n",
      "544   1750000  3850         3          1        2      yes        no       no   \n",
      "\n",
      "    hotwaterheating airconditioning  parking prefarea furnishingstatus  \n",
      "0                no             yes        2      yes        furnished  \n",
      "1                no             yes        3       no        furnished  \n",
      "2                no              no        2      yes   semi-furnished  \n",
      "3                no             yes        3      yes        furnished  \n",
      "4                no             yes        2       no        furnished  \n",
      "..              ...             ...      ...      ...              ...  \n",
      "540              no              no        2       no      unfurnished  \n",
      "541              no              no        0       no   semi-furnished  \n",
      "542              no              no        0       no      unfurnished  \n",
      "543              no              no        0       no        furnished  \n",
      "544              no              no        0       no      unfurnished  \n",
      "\n",
      "[545 rows x 13 columns]\n"
     ]
    }
   ],
   "source": [
    "data_set = pd.read_csv(\"housing.csv\")\n",
    "print(data_set)"
   ]
  },
  {
   "cell_type": "code",
   "execution_count": 6,
   "id": "d72c7e46",
   "metadata": {},
   "outputs": [],
   "source": [
    "x = data_set.iloc[:,1:].values\n",
    "y = data_set.iloc[:,0].values"
   ]
  },
  {
   "cell_type": "code",
   "execution_count": 7,
   "id": "f98b095b",
   "metadata": {},
   "outputs": [
    {
     "name": "stdout",
     "output_type": "stream",
     "text": [
      "[[7420 4 2 ... 2 'yes' 'furnished']\n",
      " [8960 4 4 ... 3 'no' 'furnished']\n",
      " [9960 3 2 ... 2 'yes' 'semi-furnished']\n",
      " ...\n",
      " [3620 2 1 ... 0 'no' 'unfurnished']\n",
      " [2910 3 1 ... 0 'no' 'furnished']\n",
      " [3850 3 1 ... 0 'no' 'unfurnished']]\n"
     ]
    }
   ],
   "source": [
    "print(x)"
   ]
  },
  {
   "cell_type": "code",
   "execution_count": 8,
   "id": "b35ee743",
   "metadata": {},
   "outputs": [
    {
     "name": "stdout",
     "output_type": "stream",
     "text": [
      "[13300000 12250000 12250000 12215000 11410000 10850000 10150000 10150000\n",
      "  9870000  9800000  9800000  9681000  9310000  9240000  9240000  9100000\n",
      "  9100000  8960000  8890000  8855000  8750000  8680000  8645000  8645000\n",
      "  8575000  8540000  8463000  8400000  8400000  8400000  8400000  8400000\n",
      "  8295000  8190000  8120000  8080940  8043000  7980000  7962500  7910000\n",
      "  7875000  7840000  7700000  7700000  7560000  7560000  7525000  7490000\n",
      "  7455000  7420000  7420000  7420000  7350000  7350000  7350000  7350000\n",
      "  7343000  7245000  7210000  7210000  7140000  7070000  7070000  7035000\n",
      "  7000000  6930000  6930000  6895000  6860000  6790000  6790000  6755000\n",
      "  6720000  6685000  6650000  6650000  6650000  6650000  6650000  6650000\n",
      "  6629000  6615000  6615000  6580000  6510000  6510000  6510000  6475000\n",
      "  6475000  6440000  6440000  6419000  6405000  6300000  6300000  6300000\n",
      "  6300000  6300000  6293000  6265000  6230000  6230000  6195000  6195000\n",
      "  6195000  6160000  6160000  6125000  6107500  6090000  6090000  6090000\n",
      "  6083000  6083000  6020000  6020000  6020000  5950000  5950000  5950000\n",
      "  5950000  5950000  5950000  5950000  5950000  5943000  5880000  5880000\n",
      "  5873000  5873000  5866000  5810000  5810000  5810000  5803000  5775000\n",
      "  5740000  5740000  5740000  5740000  5740000  5652500  5600000  5600000\n",
      "  5600000  5600000  5600000  5600000  5600000  5600000  5600000  5565000\n",
      "  5565000  5530000  5530000  5530000  5523000  5495000  5495000  5460000\n",
      "  5460000  5460000  5460000  5425000  5390000  5383000  5320000  5285000\n",
      "  5250000  5250000  5250000  5250000  5250000  5250000  5250000  5250000\n",
      "  5250000  5243000  5229000  5215000  5215000  5215000  5145000  5145000\n",
      "  5110000  5110000  5110000  5110000  5075000  5040000  5040000  5040000\n",
      "  5040000  5033000  5005000  4970000  4970000  4956000  4935000  4907000\n",
      "  4900000  4900000  4900000  4900000  4900000  4900000  4900000  4900000\n",
      "  4900000  4900000  4900000  4900000  4893000  4893000  4865000  4830000\n",
      "  4830000  4830000  4830000  4795000  4795000  4767000  4760000  4760000\n",
      "  4760000  4753000  4690000  4690000  4690000  4690000  4690000  4690000\n",
      "  4655000  4620000  4620000  4620000  4620000  4620000  4613000  4585000\n",
      "  4585000  4550000  4550000  4550000  4550000  4550000  4550000  4550000\n",
      "  4543000  4543000  4515000  4515000  4515000  4515000  4480000  4480000\n",
      "  4480000  4480000  4480000  4473000  4473000  4473000  4445000  4410000\n",
      "  4410000  4403000  4403000  4403000  4382000  4375000  4340000  4340000\n",
      "  4340000  4340000  4340000  4319000  4305000  4305000  4277000  4270000\n",
      "  4270000  4270000  4270000  4270000  4270000  4235000  4235000  4200000\n",
      "  4200000  4200000  4200000  4200000  4200000  4200000  4200000  4200000\n",
      "  4200000  4200000  4200000  4200000  4200000  4200000  4200000  4200000\n",
      "  4193000  4193000  4165000  4165000  4165000  4130000  4130000  4123000\n",
      "  4098500  4095000  4095000  4095000  4060000  4060000  4060000  4060000\n",
      "  4060000  4025000  4025000  4025000  4007500  4007500  3990000  3990000\n",
      "  3990000  3990000  3990000  3920000  3920000  3920000  3920000  3920000\n",
      "  3920000  3920000  3885000  3885000  3850000  3850000  3850000  3850000\n",
      "  3850000  3850000  3850000  3836000  3815000  3780000  3780000  3780000\n",
      "  3780000  3780000  3780000  3773000  3773000  3773000  3745000  3710000\n",
      "  3710000  3710000  3710000  3710000  3703000  3703000  3675000  3675000\n",
      "  3675000  3675000  3640000  3640000  3640000  3640000  3640000  3640000\n",
      "  3640000  3640000  3640000  3633000  3605000  3605000  3570000  3570000\n",
      "  3570000  3570000  3535000  3500000  3500000  3500000  3500000  3500000\n",
      "  3500000  3500000  3500000  3500000  3500000  3500000  3500000  3500000\n",
      "  3500000  3500000  3500000  3500000  3493000  3465000  3465000  3465000\n",
      "  3430000  3430000  3430000  3430000  3430000  3430000  3423000  3395000\n",
      "  3395000  3395000  3360000  3360000  3360000  3360000  3360000  3360000\n",
      "  3360000  3360000  3353000  3332000  3325000  3325000  3290000  3290000\n",
      "  3290000  3290000  3290000  3290000  3290000  3290000  3255000  3255000\n",
      "  3234000  3220000  3220000  3220000  3220000  3150000  3150000  3150000\n",
      "  3150000  3150000  3150000  3150000  3150000  3150000  3143000  3129000\n",
      "  3118850  3115000  3115000  3115000  3087000  3080000  3080000  3080000\n",
      "  3080000  3045000  3010000  3010000  3010000  3010000  3010000  3010000\n",
      "  3010000  3003000  2975000  2961000  2940000  2940000  2940000  2940000\n",
      "  2940000  2940000  2940000  2940000  2870000  2870000  2870000  2870000\n",
      "  2852500  2835000  2835000  2835000  2800000  2800000  2730000  2730000\n",
      "  2695000  2660000  2660000  2660000  2660000  2660000  2660000  2660000\n",
      "  2653000  2653000  2604000  2590000  2590000  2590000  2520000  2520000\n",
      "  2520000  2485000  2485000  2450000  2450000  2450000  2450000  2450000\n",
      "  2450000  2408000  2380000  2380000  2380000  2345000  2310000  2275000\n",
      "  2275000  2275000  2240000  2233000  2135000  2100000  2100000  2100000\n",
      "  1960000  1890000  1890000  1855000  1820000  1767150  1750000  1750000\n",
      "  1750000]\n"
     ]
    }
   ],
   "source": [
    "print(y)"
   ]
  },
  {
   "cell_type": "markdown",
   "id": "28240861",
   "metadata": {},
   "source": [
    "# Taking care of missing data"
   ]
  },
  {
   "cell_type": "code",
   "execution_count": 9,
   "id": "f3418fd2",
   "metadata": {},
   "outputs": [
    {
     "name": "stdout",
     "output_type": "stream",
     "text": [
      "[[7420.0 4.0 2.0 ... 2 'yes' 'furnished']\n",
      " [8960.0 4.0 4.0 ... 3 'no' 'furnished']\n",
      " [9960.0 3.0 2.0 ... 2 'yes' 'semi-furnished']\n",
      " ...\n",
      " [3620.0 2.0 1.0 ... 0 'no' 'unfurnished']\n",
      " [2910.0 3.0 1.0 ... 0 'no' 'furnished']\n",
      " [3850.0 3.0 1.0 ... 0 'no' 'unfurnished']]\n"
     ]
    }
   ],
   "source": [
    "imputer = SimpleImputer(missing_values = np.nan, strategy=\"mean\")\n",
    "imputer.fit(x[:,0:4])\n",
    "x[:,0:4] = imputer.transform(x[:,0:4])\n",
    "print(x)"
   ]
  },
  {
   "cell_type": "markdown",
   "id": "f9dff3cd",
   "metadata": {},
   "source": [
    "## Encoding categorical data"
   ]
  },
  {
   "cell_type": "code",
   "execution_count": 10,
   "id": "41c93725",
   "metadata": {},
   "outputs": [
    {
     "name": "stdout",
     "output_type": "stream",
     "text": [
      "       area bedrooms bathrooms stories mainroad guestroom basement  \\\n",
      "0    7420.0      4.0       2.0     3.0        1         0        0   \n",
      "1    8960.0      4.0       4.0     4.0        1         0        0   \n",
      "2    9960.0      3.0       2.0     2.0        1         0        1   \n",
      "3    7500.0      4.0       2.0     2.0        1         0        1   \n",
      "4    7420.0      4.0       1.0     2.0        1         1        1   \n",
      "..      ...      ...       ...     ...      ...       ...      ...   \n",
      "540  3000.0      2.0       1.0     1.0        1         0        1   \n",
      "541  2400.0      3.0       1.0     1.0        0         0        0   \n",
      "542  3620.0      2.0       1.0     1.0        1         0        0   \n",
      "543  2910.0      3.0       1.0     1.0        0         0        0   \n",
      "544  3850.0      3.0       1.0     2.0        1         0        0   \n",
      "\n",
      "    hotwaterheating airconditioning parking prefarea furnishingstatus  \n",
      "0                 0               1       2        1        furnished  \n",
      "1                 0               1       3        0        furnished  \n",
      "2                 0               0       2        1   semi-furnished  \n",
      "3                 0               1       3        1        furnished  \n",
      "4                 0               1       2        0        furnished  \n",
      "..              ...             ...     ...      ...              ...  \n",
      "540               0               0       2        0      unfurnished  \n",
      "541               0               0       0        0   semi-furnished  \n",
      "542               0               0       0        0      unfurnished  \n",
      "543               0               0       0        0        furnished  \n",
      "544               0               0       0        0      unfurnished  \n",
      "\n",
      "[545 rows x 12 columns]\n"
     ]
    }
   ],
   "source": [
    "le = LabelEncoder()\n",
    "for i in range(4,9):\n",
    "    x[:,i]=le.fit_transform(x[:, i])\n",
    "x[:,10] = le.fit_transform(x[:, 10])\n",
    "df2 = pd.DataFrame(x,\n",
    "                   columns=['area','bedrooms','bathrooms','stories','mainroad','guestroom','basement','hotwaterheating','airconditioning','parking','prefarea','furnishingstatus'])\n",
    "print(df2)"
   ]
  },
  {
   "cell_type": "code",
   "execution_count": 11,
   "id": "e50ffdf7",
   "metadata": {},
   "outputs": [],
   "source": [
    "ct = ColumnTransformer(transformers=[('encoder',OneHotEncoder(),[-1])], remainder ='passthrough')\n",
    "x = ct.fit_transform(x)"
   ]
  },
  {
   "cell_type": "code",
   "execution_count": 12,
   "id": "f04e05d7",
   "metadata": {},
   "outputs": [
    {
     "name": "stdout",
     "output_type": "stream",
     "text": [
      "[[1.0 0.0 0.0 ... 1 2 1]\n",
      " [1.0 0.0 0.0 ... 1 3 0]\n",
      " [0.0 1.0 0.0 ... 0 2 1]\n",
      " ...\n",
      " [0.0 0.0 1.0 ... 0 0 0]\n",
      " [1.0 0.0 0.0 ... 0 0 0]\n",
      " [0.0 0.0 1.0 ... 0 0 0]]\n"
     ]
    }
   ],
   "source": [
    "print(x)"
   ]
  },
  {
   "cell_type": "markdown",
   "id": "52dbc3f7",
   "metadata": {},
   "source": [
    "## Splitting the dataset into the Training set and Test set"
   ]
  },
  {
   "cell_type": "code",
   "execution_count": 13,
   "id": "af0a66d5",
   "metadata": {},
   "outputs": [],
   "source": [
    "x_train,x_test,y_train,y_test = train_test_split(x,y,test_size=0.2,random_state = 0)"
   ]
  },
  {
   "cell_type": "markdown",
   "id": "29c27974",
   "metadata": {},
   "source": [
    "## Training Multiple linear Regression Model on Training set"
   ]
  },
  {
   "cell_type": "code",
   "execution_count": 14,
   "id": "956fdcaf",
   "metadata": {},
   "outputs": [
    {
     "data": {
      "text/plain": [
       "LinearRegression()"
      ]
     },
     "execution_count": 14,
     "metadata": {},
     "output_type": "execute_result"
    }
   ],
   "source": [
    "Regressor = LinearRegression()\n",
    "Regressor.fit(x_train,y_train)"
   ]
  },
  {
   "cell_type": "markdown",
   "id": "efa435b9",
   "metadata": {},
   "source": [
    "## Predict Test Result"
   ]
  },
  {
   "cell_type": "code",
   "execution_count": 15,
   "id": "c1f9625b",
   "metadata": {},
   "outputs": [
    {
     "name": "stdout",
     "output_type": "stream",
     "text": [
      "[ 3950288.61876186  6173868.81883097  4483635.98836257  7258732.75105262\n",
      "  2836727.58490489  7032947.09749069  3203851.47112398  3270994.00904059\n",
      "  3472554.03645921  8289978.32623712  6605321.62954622  3723366.23684097\n",
      "  3812376.95976089  4548966.84544606  4020476.34849665  1969836.22090145\n",
      "  4057262.98087852  3704586.86711738  3282767.93188797  4609423.64909565\n",
      "  5968243.7363715   6363698.62063812  4751300.32389     2659595.2763304\n",
      "  5305573.24662114  5680819.58784466  5404106.90027136  5543050.52192533\n",
      "  5768360.47982213  5801753.70839278  3389277.9611061   6399092.02678432\n",
      "  7081030.31411766  2913042.40387674  4498664.01335428  5210561.68059363\n",
      "  5013457.84122307  3707596.71347581  2916603.45485344  3937761.75634076\n",
      "  8041334.20180906  4942174.61142058  6432605.21981749  3511338.78156424\n",
      "  3813475.39540802  6434856.19540023  4447687.02885143  2696243.71724909\n",
      "  4180018.7062579   6455973.25779219  4056226.34306795  7124571.30073162\n",
      "  2530661.67791769  3033278.46419633  3500830.32062851  5119451.01676906\n",
      "  7110973.93249732  4127705.79986422  2970005.36861355  4325732.61744623\n",
      "  5986119.70766289  6824682.68794772  3325637.45729287  7191804.55935359\n",
      "  2609468.55099836  5056521.66455845  6636269.77589391  2565659.89128223\n",
      "  3751294.03758699  5080427.99370212  4281895.68812414  7361447.18275848\n",
      "  5088033.19021901  6022539.93047588  4176648.20409018  4639478.54662216\n",
      "  2898083.34640792  7564393.66040199  2583102.74086261  3764386.73199931\n",
      "  4281895.68812414  6064669.41608409  5199726.50699984  5402615.00751864\n",
      "  3900783.41794333  4206866.2650743   4785571.46071493  5125782.90220212\n",
      "  3843109.12191362  4373515.96292202  3233779.5782631   5800152.85515802\n",
      "  3086788.94075886  3736808.50597383  4475695.33317623 10490600.69498244\n",
      "  3044861.09249672  7172608.23555216  4348859.16641406  4508307.36728267\n",
      "  6607800.84903008  3393091.94230309  4545560.49433451  3313363.08812173\n",
      "  7340959.28328467  5235408.60082987  4134159.03053663  5058911.23363255\n",
      "  6279957.32173086]\n"
     ]
    }
   ],
   "source": [
    "y_predict = Regressor.predict(x_test)\n",
    "print(y_predict)"
   ]
  },
  {
   "cell_type": "code",
   "execution_count": 16,
   "id": "c5664526",
   "metadata": {},
   "outputs": [],
   "source": [
    "df = pd.DataFrame({\"Acctual value\":y_test,\"predicted value\":np.round(y_predict, 2),\"difference\":y_test-np.round(y_predict, 2)})"
   ]
  },
  {
   "cell_type": "code",
   "execution_count": 19,
   "id": "4786a4cb",
   "metadata": {},
   "outputs": [
    {
     "name": "stdout",
     "output_type": "stream",
     "text": [
      "     Acctual value  predicted value  difference\n",
      "0          4585000       3950288.62   634711.38\n",
      "1          6083000       6173868.82   -90868.82\n",
      "2          4007500       4483635.99  -476135.99\n",
      "3          6930000       7258732.75  -328732.75\n",
      "4          2940000       2836727.58   103272.42\n",
      "..             ...              ...         ...\n",
      "104        6650000       7340959.28  -690959.28\n",
      "105        5810000       5235408.60   574591.40\n",
      "106        4123000       4134159.03   -11159.03\n",
      "107        3080000       5058911.23 -1978911.23\n",
      "108        5530000       6279957.32  -749957.32\n",
      "\n",
      "[109 rows x 3 columns]\n"
     ]
    }
   ],
   "source": [
    "print(df)"
   ]
  },
  {
   "cell_type": "code",
   "execution_count": null,
   "id": "438c3c15",
   "metadata": {},
   "outputs": [],
   "source": []
  }
 ],
 "metadata": {
  "kernelspec": {
   "display_name": "Python 3",
   "language": "python",
   "name": "python3"
  },
  "language_info": {
   "codemirror_mode": {
    "name": "ipython",
    "version": 3
   },
   "file_extension": ".py",
   "mimetype": "text/x-python",
   "name": "python",
   "nbconvert_exporter": "python",
   "pygments_lexer": "ipython3",
   "version": "3.8.8"
  }
 },
 "nbformat": 4,
 "nbformat_minor": 5
}
