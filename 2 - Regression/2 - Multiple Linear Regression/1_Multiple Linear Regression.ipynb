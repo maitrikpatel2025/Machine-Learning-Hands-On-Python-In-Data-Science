{
 "cells": [
  {
   "cell_type": "markdown",
   "id": "54e6df70",
   "metadata": {},
   "source": [
    "# Multiple Linear Regression"
   ]
  },
  {
   "cell_type": "markdown",
   "id": "3b3af933",
   "metadata": {},
   "source": [
    "## Importing the libraries"
   ]
  },
  {
   "cell_type": "code",
   "execution_count": 1,
   "id": "4e9507f1",
   "metadata": {},
   "outputs": [],
   "source": [
    "import numpy as np\n",
    "import pandas as pd\n",
    "import matplotlib.pyplot as plt"
   ]
  },
  {
   "cell_type": "code",
   "execution_count": 2,
   "id": "7283f4b2",
   "metadata": {},
   "outputs": [],
   "source": [
    "from sklearn.impute import SimpleImputer\n",
    "from sklearn.compose import ColumnTransformer\n",
    "from sklearn.preprocessing import OneHotEncoder\n",
    "from sklearn.preprocessing import LabelEncoder"
   ]
  },
  {
   "cell_type": "code",
   "execution_count": 3,
   "id": "5e7b08d1",
   "metadata": {},
   "outputs": [],
   "source": [
    "from sklearn.model_selection import train_test_split"
   ]
  },
  {
   "cell_type": "code",
   "execution_count": 4,
   "id": "d25d9a7e",
   "metadata": {},
   "outputs": [],
   "source": [
    "from sklearn.linear_model import LinearRegression"
   ]
  },
  {
   "cell_type": "code",
   "execution_count": 5,
   "id": "62ff8dd2",
   "metadata": {},
   "outputs": [],
   "source": [
    "import statsmodels.api as sm"
   ]
  },
  {
   "cell_type": "code",
   "execution_count": 6,
   "id": "3ec0f757",
   "metadata": {},
   "outputs": [],
   "source": [
    "import seaborn as sns"
   ]
  },
  {
   "cell_type": "markdown",
   "id": "06bb5bbd",
   "metadata": {},
   "source": [
    "## Importing the data set"
   ]
  },
  {
   "cell_type": "code",
   "execution_count": 7,
   "id": "a4fc3eda",
   "metadata": {},
   "outputs": [
    {
     "name": "stdout",
     "output_type": "stream",
     "text": [
      "        price  area  bedrooms  bathrooms  stories mainroad guestroom basement  \\\n",
      "0    13300000  7420         4          2        3      yes        no       no   \n",
      "1    12250000  8960         4          4        4      yes        no       no   \n",
      "2    12250000  9960         3          2        2      yes        no      yes   \n",
      "3    12215000  7500         4          2        2      yes        no      yes   \n",
      "4    11410000  7420         4          1        2      yes       yes      yes   \n",
      "..        ...   ...       ...        ...      ...      ...       ...      ...   \n",
      "540   1820000  3000         2          1        1      yes        no      yes   \n",
      "541   1767150  2400         3          1        1       no        no       no   \n",
      "542   1750000  3620         2          1        1      yes        no       no   \n",
      "543   1750000  2910         3          1        1       no        no       no   \n",
      "544   1750000  3850         3          1        2      yes        no       no   \n",
      "\n",
      "    hotwaterheating airconditioning  parking prefarea furnishingstatus  \n",
      "0                no             yes        2      yes        furnished  \n",
      "1                no             yes        3       no        furnished  \n",
      "2                no              no        2      yes   semi-furnished  \n",
      "3                no             yes        3      yes        furnished  \n",
      "4                no             yes        2       no        furnished  \n",
      "..              ...             ...      ...      ...              ...  \n",
      "540              no              no        2       no      unfurnished  \n",
      "541              no              no        0       no   semi-furnished  \n",
      "542              no              no        0       no      unfurnished  \n",
      "543              no              no        0       no        furnished  \n",
      "544              no              no        0       no      unfurnished  \n",
      "\n",
      "[545 rows x 13 columns]\n"
     ]
    }
   ],
   "source": [
    "data_set = pd.read_csv(\"housing.csv\")\n",
    "print(data_set)"
   ]
  },
  {
   "cell_type": "code",
   "execution_count": 8,
   "id": "d72c7e46",
   "metadata": {},
   "outputs": [],
   "source": [
    "x = data_set.iloc[:,1:].values\n",
    "y = data_set.iloc[:,0].values"
   ]
  },
  {
   "cell_type": "code",
   "execution_count": 9,
   "id": "f98b095b",
   "metadata": {},
   "outputs": [
    {
     "name": "stdout",
     "output_type": "stream",
     "text": [
      "[[7420 4 2 ... 2 'yes' 'furnished']\n",
      " [8960 4 4 ... 3 'no' 'furnished']\n",
      " [9960 3 2 ... 2 'yes' 'semi-furnished']\n",
      " ...\n",
      " [3620 2 1 ... 0 'no' 'unfurnished']\n",
      " [2910 3 1 ... 0 'no' 'furnished']\n",
      " [3850 3 1 ... 0 'no' 'unfurnished']]\n"
     ]
    }
   ],
   "source": [
    "print(x)"
   ]
  },
  {
   "cell_type": "code",
   "execution_count": 10,
   "id": "b35ee743",
   "metadata": {},
   "outputs": [
    {
     "name": "stdout",
     "output_type": "stream",
     "text": [
      "[13300000 12250000 12250000 12215000 11410000 10850000 10150000 10150000\n",
      "  9870000  9800000  9800000  9681000  9310000  9240000  9240000  9100000\n",
      "  9100000  8960000  8890000  8855000  8750000  8680000  8645000  8645000\n",
      "  8575000  8540000  8463000  8400000  8400000  8400000  8400000  8400000\n",
      "  8295000  8190000  8120000  8080940  8043000  7980000  7962500  7910000\n",
      "  7875000  7840000  7700000  7700000  7560000  7560000  7525000  7490000\n",
      "  7455000  7420000  7420000  7420000  7350000  7350000  7350000  7350000\n",
      "  7343000  7245000  7210000  7210000  7140000  7070000  7070000  7035000\n",
      "  7000000  6930000  6930000  6895000  6860000  6790000  6790000  6755000\n",
      "  6720000  6685000  6650000  6650000  6650000  6650000  6650000  6650000\n",
      "  6629000  6615000  6615000  6580000  6510000  6510000  6510000  6475000\n",
      "  6475000  6440000  6440000  6419000  6405000  6300000  6300000  6300000\n",
      "  6300000  6300000  6293000  6265000  6230000  6230000  6195000  6195000\n",
      "  6195000  6160000  6160000  6125000  6107500  6090000  6090000  6090000\n",
      "  6083000  6083000  6020000  6020000  6020000  5950000  5950000  5950000\n",
      "  5950000  5950000  5950000  5950000  5950000  5943000  5880000  5880000\n",
      "  5873000  5873000  5866000  5810000  5810000  5810000  5803000  5775000\n",
      "  5740000  5740000  5740000  5740000  5740000  5652500  5600000  5600000\n",
      "  5600000  5600000  5600000  5600000  5600000  5600000  5600000  5565000\n",
      "  5565000  5530000  5530000  5530000  5523000  5495000  5495000  5460000\n",
      "  5460000  5460000  5460000  5425000  5390000  5383000  5320000  5285000\n",
      "  5250000  5250000  5250000  5250000  5250000  5250000  5250000  5250000\n",
      "  5250000  5243000  5229000  5215000  5215000  5215000  5145000  5145000\n",
      "  5110000  5110000  5110000  5110000  5075000  5040000  5040000  5040000\n",
      "  5040000  5033000  5005000  4970000  4970000  4956000  4935000  4907000\n",
      "  4900000  4900000  4900000  4900000  4900000  4900000  4900000  4900000\n",
      "  4900000  4900000  4900000  4900000  4893000  4893000  4865000  4830000\n",
      "  4830000  4830000  4830000  4795000  4795000  4767000  4760000  4760000\n",
      "  4760000  4753000  4690000  4690000  4690000  4690000  4690000  4690000\n",
      "  4655000  4620000  4620000  4620000  4620000  4620000  4613000  4585000\n",
      "  4585000  4550000  4550000  4550000  4550000  4550000  4550000  4550000\n",
      "  4543000  4543000  4515000  4515000  4515000  4515000  4480000  4480000\n",
      "  4480000  4480000  4480000  4473000  4473000  4473000  4445000  4410000\n",
      "  4410000  4403000  4403000  4403000  4382000  4375000  4340000  4340000\n",
      "  4340000  4340000  4340000  4319000  4305000  4305000  4277000  4270000\n",
      "  4270000  4270000  4270000  4270000  4270000  4235000  4235000  4200000\n",
      "  4200000  4200000  4200000  4200000  4200000  4200000  4200000  4200000\n",
      "  4200000  4200000  4200000  4200000  4200000  4200000  4200000  4200000\n",
      "  4193000  4193000  4165000  4165000  4165000  4130000  4130000  4123000\n",
      "  4098500  4095000  4095000  4095000  4060000  4060000  4060000  4060000\n",
      "  4060000  4025000  4025000  4025000  4007500  4007500  3990000  3990000\n",
      "  3990000  3990000  3990000  3920000  3920000  3920000  3920000  3920000\n",
      "  3920000  3920000  3885000  3885000  3850000  3850000  3850000  3850000\n",
      "  3850000  3850000  3850000  3836000  3815000  3780000  3780000  3780000\n",
      "  3780000  3780000  3780000  3773000  3773000  3773000  3745000  3710000\n",
      "  3710000  3710000  3710000  3710000  3703000  3703000  3675000  3675000\n",
      "  3675000  3675000  3640000  3640000  3640000  3640000  3640000  3640000\n",
      "  3640000  3640000  3640000  3633000  3605000  3605000  3570000  3570000\n",
      "  3570000  3570000  3535000  3500000  3500000  3500000  3500000  3500000\n",
      "  3500000  3500000  3500000  3500000  3500000  3500000  3500000  3500000\n",
      "  3500000  3500000  3500000  3500000  3493000  3465000  3465000  3465000\n",
      "  3430000  3430000  3430000  3430000  3430000  3430000  3423000  3395000\n",
      "  3395000  3395000  3360000  3360000  3360000  3360000  3360000  3360000\n",
      "  3360000  3360000  3353000  3332000  3325000  3325000  3290000  3290000\n",
      "  3290000  3290000  3290000  3290000  3290000  3290000  3255000  3255000\n",
      "  3234000  3220000  3220000  3220000  3220000  3150000  3150000  3150000\n",
      "  3150000  3150000  3150000  3150000  3150000  3150000  3143000  3129000\n",
      "  3118850  3115000  3115000  3115000  3087000  3080000  3080000  3080000\n",
      "  3080000  3045000  3010000  3010000  3010000  3010000  3010000  3010000\n",
      "  3010000  3003000  2975000  2961000  2940000  2940000  2940000  2940000\n",
      "  2940000  2940000  2940000  2940000  2870000  2870000  2870000  2870000\n",
      "  2852500  2835000  2835000  2835000  2800000  2800000  2730000  2730000\n",
      "  2695000  2660000  2660000  2660000  2660000  2660000  2660000  2660000\n",
      "  2653000  2653000  2604000  2590000  2590000  2590000  2520000  2520000\n",
      "  2520000  2485000  2485000  2450000  2450000  2450000  2450000  2450000\n",
      "  2450000  2408000  2380000  2380000  2380000  2345000  2310000  2275000\n",
      "  2275000  2275000  2240000  2233000  2135000  2100000  2100000  2100000\n",
      "  1960000  1890000  1890000  1855000  1820000  1767150  1750000  1750000\n",
      "  1750000]\n"
     ]
    }
   ],
   "source": [
    "print(y)"
   ]
  },
  {
   "cell_type": "markdown",
   "id": "28240861",
   "metadata": {},
   "source": [
    "# Taking care of missing data"
   ]
  },
  {
   "cell_type": "code",
   "execution_count": 11,
   "id": "f3418fd2",
   "metadata": {},
   "outputs": [
    {
     "name": "stdout",
     "output_type": "stream",
     "text": [
      "[[7420.0 4.0 2.0 ... 2 'yes' 'furnished']\n",
      " [8960.0 4.0 4.0 ... 3 'no' 'furnished']\n",
      " [9960.0 3.0 2.0 ... 2 'yes' 'semi-furnished']\n",
      " ...\n",
      " [3620.0 2.0 1.0 ... 0 'no' 'unfurnished']\n",
      " [2910.0 3.0 1.0 ... 0 'no' 'furnished']\n",
      " [3850.0 3.0 1.0 ... 0 'no' 'unfurnished']]\n"
     ]
    }
   ],
   "source": [
    "imputer = SimpleImputer(missing_values = np.nan, strategy=\"mean\")\n",
    "imputer.fit(x[:,0:4])\n",
    "x[:,0:4] = imputer.transform(x[:,0:4])\n",
    "print(x)"
   ]
  },
  {
   "cell_type": "markdown",
   "id": "f9dff3cd",
   "metadata": {},
   "source": [
    "## Encoding categorical data"
   ]
  },
  {
   "cell_type": "code",
   "execution_count": 12,
   "id": "41c93725",
   "metadata": {},
   "outputs": [
    {
     "name": "stdout",
     "output_type": "stream",
     "text": [
      "       area bedrooms bathrooms stories mainroad guestroom basement  \\\n",
      "0    7420.0      4.0       2.0     3.0        1         0        0   \n",
      "1    8960.0      4.0       4.0     4.0        1         0        0   \n",
      "2    9960.0      3.0       2.0     2.0        1         0        1   \n",
      "3    7500.0      4.0       2.0     2.0        1         0        1   \n",
      "4    7420.0      4.0       1.0     2.0        1         1        1   \n",
      "..      ...      ...       ...     ...      ...       ...      ...   \n",
      "540  3000.0      2.0       1.0     1.0        1         0        1   \n",
      "541  2400.0      3.0       1.0     1.0        0         0        0   \n",
      "542  3620.0      2.0       1.0     1.0        1         0        0   \n",
      "543  2910.0      3.0       1.0     1.0        0         0        0   \n",
      "544  3850.0      3.0       1.0     2.0        1         0        0   \n",
      "\n",
      "    hotwaterheating airconditioning parking prefarea furnishingstatus  \n",
      "0                 0               1       2        1        furnished  \n",
      "1                 0               1       3        0        furnished  \n",
      "2                 0               0       2        1   semi-furnished  \n",
      "3                 0               1       3        1        furnished  \n",
      "4                 0               1       2        0        furnished  \n",
      "..              ...             ...     ...      ...              ...  \n",
      "540               0               0       2        0      unfurnished  \n",
      "541               0               0       0        0   semi-furnished  \n",
      "542               0               0       0        0      unfurnished  \n",
      "543               0               0       0        0        furnished  \n",
      "544               0               0       0        0      unfurnished  \n",
      "\n",
      "[545 rows x 12 columns]\n"
     ]
    }
   ],
   "source": [
    "le = LabelEncoder()\n",
    "for i in range(4,9):\n",
    "    x[:,i]=le.fit_transform(x[:, i])\n",
    "x[:,10] = le.fit_transform(x[:, 10])\n",
    "df2 = pd.DataFrame(x,\n",
    "                   columns=['area','bedrooms','bathrooms','stories','mainroad','guestroom','basement','hotwaterheating','airconditioning','parking','prefarea','furnishingstatus'])\n",
    "print(df2)"
   ]
  },
  {
   "cell_type": "code",
   "execution_count": 13,
   "id": "e50ffdf7",
   "metadata": {},
   "outputs": [],
   "source": [
    "ct = ColumnTransformer(transformers=[('encoder',OneHotEncoder(),[-1])], remainder ='passthrough')\n",
    "x = ct.fit_transform(x)"
   ]
  },
  {
   "cell_type": "code",
   "execution_count": 14,
   "id": "f04e05d7",
   "metadata": {},
   "outputs": [
    {
     "name": "stdout",
     "output_type": "stream",
     "text": [
      "[[1.0 0.0 0.0 ... 1 2 1]\n",
      " [1.0 0.0 0.0 ... 1 3 0]\n",
      " [0.0 1.0 0.0 ... 0 2 1]\n",
      " ...\n",
      " [0.0 0.0 1.0 ... 0 0 0]\n",
      " [1.0 0.0 0.0 ... 0 0 0]\n",
      " [0.0 0.0 1.0 ... 0 0 0]]\n"
     ]
    }
   ],
   "source": [
    "print(x)\n"
   ]
  },
  {
   "cell_type": "code",
   "execution_count": 15,
   "id": "4cc07509",
   "metadata": {},
   "outputs": [],
   "source": [
    "x = x[:, 1:]"
   ]
  },
  {
   "cell_type": "markdown",
   "id": "52dbc3f7",
   "metadata": {},
   "source": [
    "## Splitting the dataset into the Training set and Test set"
   ]
  },
  {
   "cell_type": "code",
   "execution_count": 16,
   "id": "af0a66d5",
   "metadata": {},
   "outputs": [],
   "source": [
    "x_train,x_test,y_train,y_test = train_test_split(x,y,test_size=0.2,random_state = 0)"
   ]
  },
  {
   "cell_type": "markdown",
   "id": "29c27974",
   "metadata": {},
   "source": [
    "## Training Multiple linear Regression Model on Training set"
   ]
  },
  {
   "cell_type": "code",
   "execution_count": 17,
   "id": "956fdcaf",
   "metadata": {},
   "outputs": [
    {
     "data": {
      "text/plain": [
       "LinearRegression()"
      ]
     },
     "execution_count": 17,
     "metadata": {},
     "output_type": "execute_result"
    }
   ],
   "source": [
    "Regressor = LinearRegression()\n",
    "Regressor.fit(x_train,y_train)"
   ]
  },
  {
   "cell_type": "markdown",
   "id": "efa435b9",
   "metadata": {},
   "source": [
    "## Predict Test Result"
   ]
  },
  {
   "cell_type": "code",
   "execution_count": 18,
   "id": "c1f9625b",
   "metadata": {},
   "outputs": [
    {
     "name": "stdout",
     "output_type": "stream",
     "text": [
      "[ 3950288.61876196  6173868.81883061  4483635.98836272  7258732.75105198\n",
      "  2836727.58490499  7032947.0974906   3203851.47112406  3270994.00904074\n",
      "  3472554.03645932  8289978.32623682  6605321.62954614  3723366.23684106\n",
      "  3812376.95976104  4548966.84544599  4020476.3484966   1969836.22090165\n",
      "  4057262.98087856  3704586.86711732  3282767.93188815  4609423.64909571\n",
      "  5968243.73637128  6363698.62063799  4751300.32389003  2659595.27633066\n",
      "  5305573.24662102  5680819.58784482  5404106.90027122  5543050.5219253\n",
      "  5768360.4798223   5801753.70839269  3389277.96110617  6399092.02678457\n",
      "  7081030.31411738  2913042.40387681  4498664.01335446  5210561.68059354\n",
      "  5013457.84122302  3707596.71347599  2916603.45485358  3937761.75634098\n",
      "  8041334.20180879  4942174.6114205   6432605.21981742  3511338.78156419\n",
      "  3813475.39540813  6434856.19540018  4447687.02885148  2696243.71724915\n",
      "  4180018.706258    6455973.25779215  4056226.34306799  7124571.30073128\n",
      "  2530661.67791795  3033278.46419645  3500830.32062843  5119451.01676899\n",
      "  7110973.93249708  4127705.79986428  2970005.36861369  4325732.61744607\n",
      "  5986119.70766227  6824682.68794762  3325637.45729309  7191804.55935353\n",
      "  2609468.55099856  5056521.66455864  6636269.77589372  2565659.89128227\n",
      "  3751294.03758704  5080427.99370204  4281895.68812439  7361447.18275847\n",
      "  5088033.19021914  6022539.93047597  4176648.2040903   4639478.54662236\n",
      "  2898083.34640804  7564393.66040171  2583102.74086279  3764386.73199941\n",
      "  4281895.68812439  6064669.4160839   5199726.50699991  5402615.00751849\n",
      "  3900783.41794339  4206866.26507446  4785571.46071508  5125782.90220209\n",
      "  3843109.12191378  4373515.96292211  3233779.57826289  5800152.85515771\n",
      "  3086788.94075898  3736808.50597401  4475695.33317646 10490600.69498214\n",
      "  3044861.09249697  7172608.23555207  4348859.16641385  4508307.36728241\n",
      "  6607800.84902966  3393091.94230324  4545560.49433471  3313363.08812188\n",
      "  7340959.28328457  5235408.60082988  4134159.03053657  5058911.23363261\n",
      "  6279957.32173079]\n"
     ]
    }
   ],
   "source": [
    "y_predict = Regressor.predict(x_test)\n",
    "print(y_predict)"
   ]
  },
  {
   "cell_type": "code",
   "execution_count": 19,
   "id": "c5664526",
   "metadata": {},
   "outputs": [],
   "source": [
    "df = pd.DataFrame({\"Acctual value\":y_test,\"predicted value\":np.round(y_predict, 2),\"difference\":y_test-np.round(y_predict, 2)})"
   ]
  },
  {
   "cell_type": "code",
   "execution_count": 20,
   "id": "4786a4cb",
   "metadata": {},
   "outputs": [
    {
     "name": "stdout",
     "output_type": "stream",
     "text": [
      "     Acctual value  predicted value  difference\n",
      "0          4585000       3950288.62   634711.38\n",
      "1          6083000       6173868.82   -90868.82\n",
      "2          4007500       4483635.99  -476135.99\n",
      "3          6930000       7258732.75  -328732.75\n",
      "4          2940000       2836727.58   103272.42\n",
      "..             ...              ...         ...\n",
      "104        6650000       7340959.28  -690959.28\n",
      "105        5810000       5235408.60   574591.40\n",
      "106        4123000       4134159.03   -11159.03\n",
      "107        3080000       5058911.23 -1978911.23\n",
      "108        5530000       6279957.32  -749957.32\n",
      "\n",
      "[109 rows x 3 columns]\n"
     ]
    }
   ],
   "source": [
    "print(df)"
   ]
  },
  {
   "cell_type": "markdown",
   "id": "7fe2f2b8",
   "metadata": {},
   "source": [
    "## Building the optimal model using Backward Elimination"
   ]
  },
  {
   "cell_type": "code",
   "execution_count": 21,
   "id": "438c3c15",
   "metadata": {},
   "outputs": [
    {
     "name": "stdout",
     "output_type": "stream",
     "text": [
      "[[1 0.0 0.0 ... 1 2 1]\n",
      " [1 0.0 0.0 ... 1 3 0]\n",
      " [1 1.0 0.0 ... 0 2 1]\n",
      " ...\n",
      " [1 0.0 1.0 ... 0 0 0]\n",
      " [1 0.0 0.0 ... 0 0 0]\n",
      " [1 0.0 1.0 ... 0 0 0]]\n"
     ]
    }
   ],
   "source": [
    "x = np.append(arr = np.ones((545, 1)).astype(int), values = x, axis = 1)\n",
    "print(x)"
   ]
  },
  {
   "cell_type": "code",
   "execution_count": 22,
   "id": "8e9a033f",
   "metadata": {},
   "outputs": [
    {
     "name": "stdout",
     "output_type": "stream",
     "text": [
      "[[1.00e+00 0.00e+00 0.00e+00 7.42e+03 4.00e+00 2.00e+00]\n",
      " [1.00e+00 0.00e+00 0.00e+00 8.96e+03 4.00e+00 4.00e+00]\n",
      " [1.00e+00 1.00e+00 0.00e+00 9.96e+03 3.00e+00 2.00e+00]\n",
      " ...\n",
      " [1.00e+00 0.00e+00 1.00e+00 3.62e+03 2.00e+00 1.00e+00]\n",
      " [1.00e+00 0.00e+00 0.00e+00 2.91e+03 3.00e+00 1.00e+00]\n",
      " [1.00e+00 0.00e+00 1.00e+00 3.85e+03 3.00e+00 1.00e+00]]\n"
     ]
    }
   ],
   "source": [
    "x_opt = x[:, [0, 1, 2, 3, 4, 5]]\n",
    "x_opt = x_opt.astype(np.float64)\n",
    "print(x_opt)"
   ]
  },
  {
   "cell_type": "code",
   "execution_count": 23,
   "id": "bfac08eb",
   "metadata": {},
   "outputs": [
    {
     "data": {
      "text/html": [
       "<table class=\"simpletable\">\n",
       "<caption>OLS Regression Results</caption>\n",
       "<tr>\n",
       "  <th>Dep. Variable:</th>            <td>y</td>        <th>  R-squared:         </th> <td>   0.514</td> \n",
       "</tr>\n",
       "<tr>\n",
       "  <th>Model:</th>                   <td>OLS</td>       <th>  Adj. R-squared:    </th> <td>   0.509</td> \n",
       "</tr>\n",
       "<tr>\n",
       "  <th>Method:</th>             <td>Least Squares</td>  <th>  F-statistic:       </th> <td>   113.8</td> \n",
       "</tr>\n",
       "<tr>\n",
       "  <th>Date:</th>             <td>Sun, 17 Oct 2021</td> <th>  Prob (F-statistic):</th> <td>5.59e-82</td> \n",
       "</tr>\n",
       "<tr>\n",
       "  <th>Time:</th>                 <td>12:40:16</td>     <th>  Log-Likelihood:    </th> <td> -8447.2</td> \n",
       "</tr>\n",
       "<tr>\n",
       "  <th>No. Observations:</th>      <td>   545</td>      <th>  AIC:               </th> <td>1.691e+04</td>\n",
       "</tr>\n",
       "<tr>\n",
       "  <th>Df Residuals:</th>          <td>   539</td>      <th>  BIC:               </th> <td>1.693e+04</td>\n",
       "</tr>\n",
       "<tr>\n",
       "  <th>Df Model:</th>              <td>     5</td>      <th>                     </th>     <td> </td>    \n",
       "</tr>\n",
       "<tr>\n",
       "  <th>Covariance Type:</th>      <td>nonrobust</td>    <th>                     </th>     <td> </td>    \n",
       "</tr>\n",
       "</table>\n",
       "<table class=\"simpletable\">\n",
       "<tr>\n",
       "    <td></td>       <th>coef</th>     <th>std err</th>      <th>t</th>      <th>P>|t|</th>  <th>[0.025</th>    <th>0.975]</th>  \n",
       "</tr>\n",
       "<tr>\n",
       "  <th>const</th> <td> 4.696e+05</td> <td> 2.92e+05</td> <td>    1.607</td> <td> 0.109</td> <td>-1.04e+05</td> <td> 1.04e+06</td>\n",
       "</tr>\n",
       "<tr>\n",
       "  <th>x1</th>    <td>-2.808e+05</td> <td> 1.42e+05</td> <td>   -1.983</td> <td> 0.048</td> <td>-5.59e+05</td> <td>-2620.471</td>\n",
       "</tr>\n",
       "<tr>\n",
       "  <th>x2</th>    <td> -7.93e+05</td> <td> 1.52e+05</td> <td>   -5.234</td> <td> 0.000</td> <td>-1.09e+06</td> <td>-4.95e+05</td>\n",
       "</tr>\n",
       "<tr>\n",
       "  <th>x3</th>    <td>  358.8673</td> <td>   26.769</td> <td>   13.406</td> <td> 0.000</td> <td>  306.283</td> <td>  411.451</td>\n",
       "</tr>\n",
       "<tr>\n",
       "  <th>x4</th>    <td> 3.756e+05</td> <td> 8.26e+04</td> <td>    4.546</td> <td> 0.000</td> <td> 2.13e+05</td> <td> 5.38e+05</td>\n",
       "</tr>\n",
       "<tr>\n",
       "  <th>x5</th>    <td>  1.33e+06</td> <td> 1.22e+05</td> <td>   10.869</td> <td> 0.000</td> <td> 1.09e+06</td> <td> 1.57e+06</td>\n",
       "</tr>\n",
       "</table>\n",
       "<table class=\"simpletable\">\n",
       "<tr>\n",
       "  <th>Omnibus:</th>       <td>75.630</td> <th>  Durbin-Watson:     </th> <td>   1.006</td>\n",
       "</tr>\n",
       "<tr>\n",
       "  <th>Prob(Omnibus):</th> <td> 0.000</td> <th>  Jarque-Bera (JB):  </th> <td> 152.634</td>\n",
       "</tr>\n",
       "<tr>\n",
       "  <th>Skew:</th>          <td> 0.789</td> <th>  Prob(JB):          </th> <td>7.18e-34</td>\n",
       "</tr>\n",
       "<tr>\n",
       "  <th>Kurtosis:</th>      <td> 5.058</td> <th>  Cond. No.          </th> <td>3.12e+04</td>\n",
       "</tr>\n",
       "</table><br/><br/>Notes:<br/>[1] Standard Errors assume that the covariance matrix of the errors is correctly specified.<br/>[2] The condition number is large, 3.12e+04. This might indicate that there are<br/>strong multicollinearity or other numerical problems."
      ],
      "text/plain": [
       "<class 'statsmodels.iolib.summary.Summary'>\n",
       "\"\"\"\n",
       "                            OLS Regression Results                            \n",
       "==============================================================================\n",
       "Dep. Variable:                      y   R-squared:                       0.514\n",
       "Model:                            OLS   Adj. R-squared:                  0.509\n",
       "Method:                 Least Squares   F-statistic:                     113.8\n",
       "Date:                Sun, 17 Oct 2021   Prob (F-statistic):           5.59e-82\n",
       "Time:                        12:40:16   Log-Likelihood:                -8447.2\n",
       "No. Observations:                 545   AIC:                         1.691e+04\n",
       "Df Residuals:                     539   BIC:                         1.693e+04\n",
       "Df Model:                           5                                         \n",
       "Covariance Type:            nonrobust                                         \n",
       "==============================================================================\n",
       "                 coef    std err          t      P>|t|      [0.025      0.975]\n",
       "------------------------------------------------------------------------------\n",
       "const       4.696e+05   2.92e+05      1.607      0.109   -1.04e+05    1.04e+06\n",
       "x1         -2.808e+05   1.42e+05     -1.983      0.048   -5.59e+05   -2620.471\n",
       "x2          -7.93e+05   1.52e+05     -5.234      0.000   -1.09e+06   -4.95e+05\n",
       "x3           358.8673     26.769     13.406      0.000     306.283     411.451\n",
       "x4          3.756e+05   8.26e+04      4.546      0.000    2.13e+05    5.38e+05\n",
       "x5           1.33e+06   1.22e+05     10.869      0.000    1.09e+06    1.57e+06\n",
       "==============================================================================\n",
       "Omnibus:                       75.630   Durbin-Watson:                   1.006\n",
       "Prob(Omnibus):                  0.000   Jarque-Bera (JB):              152.634\n",
       "Skew:                           0.789   Prob(JB):                     7.18e-34\n",
       "Kurtosis:                       5.058   Cond. No.                     3.12e+04\n",
       "==============================================================================\n",
       "\n",
       "Notes:\n",
       "[1] Standard Errors assume that the covariance matrix of the errors is correctly specified.\n",
       "[2] The condition number is large, 3.12e+04. This might indicate that there are\n",
       "strong multicollinearity or other numerical problems.\n",
       "\"\"\""
      ]
     },
     "execution_count": 23,
     "metadata": {},
     "output_type": "execute_result"
    }
   ],
   "source": [
    "regressor_OLS = sm.OLS(endog = y, exog = x_opt).fit()\n",
    "regressor_OLS.summary()"
   ]
  },
  {
   "cell_type": "code",
   "execution_count": 24,
   "id": "b8b0f7f4",
   "metadata": {},
   "outputs": [
    {
     "data": {
      "text/html": [
       "<table class=\"simpletable\">\n",
       "<caption>OLS Regression Results</caption>\n",
       "<tr>\n",
       "  <th>Dep. Variable:</th>            <td>y</td>        <th>  R-squared:         </th> <td>   0.489</td> \n",
       "</tr>\n",
       "<tr>\n",
       "  <th>Model:</th>                   <td>OLS</td>       <th>  Adj. R-squared:    </th> <td>   0.485</td> \n",
       "</tr>\n",
       "<tr>\n",
       "  <th>Method:</th>             <td>Least Squares</td>  <th>  F-statistic:       </th> <td>   129.1</td> \n",
       "</tr>\n",
       "<tr>\n",
       "  <th>Date:</th>             <td>Sun, 17 Oct 2021</td> <th>  Prob (F-statistic):</th> <td>2.72e-77</td> \n",
       "</tr>\n",
       "<tr>\n",
       "  <th>Time:</th>                 <td>12:40:16</td>     <th>  Log-Likelihood:    </th> <td> -8460.7</td> \n",
       "</tr>\n",
       "<tr>\n",
       "  <th>No. Observations:</th>      <td>   545</td>      <th>  AIC:               </th> <td>1.693e+04</td>\n",
       "</tr>\n",
       "<tr>\n",
       "  <th>Df Residuals:</th>          <td>   540</td>      <th>  BIC:               </th> <td>1.695e+04</td>\n",
       "</tr>\n",
       "<tr>\n",
       "  <th>Df Model:</th>              <td>     4</td>      <th>                     </th>     <td> </td>    \n",
       "</tr>\n",
       "<tr>\n",
       "  <th>Covariance Type:</th>      <td>nonrobust</td>    <th>                     </th>     <td> </td>    \n",
       "</tr>\n",
       "</table>\n",
       "<table class=\"simpletable\">\n",
       "<tr>\n",
       "    <td></td>       <th>coef</th>     <th>std err</th>      <th>t</th>      <th>P>|t|</th>  <th>[0.025</th>    <th>0.975]</th>  \n",
       "</tr>\n",
       "<tr>\n",
       "  <th>const</th> <td>-2.229e+05</td> <td> 2.67e+05</td> <td>   -0.835</td> <td> 0.404</td> <td>-7.47e+05</td> <td> 3.01e+05</td>\n",
       "</tr>\n",
       "<tr>\n",
       "  <th>x1</th>    <td> 1.589e+05</td> <td> 1.17e+05</td> <td>    1.361</td> <td> 0.174</td> <td>-7.05e+04</td> <td> 3.88e+05</td>\n",
       "</tr>\n",
       "<tr>\n",
       "  <th>x2</th>    <td>  378.8844</td> <td>   27.134</td> <td>   13.963</td> <td> 0.000</td> <td>  325.583</td> <td>  432.186</td>\n",
       "</tr>\n",
       "<tr>\n",
       "  <th>x3</th>    <td>  4.02e+05</td> <td> 8.45e+04</td> <td>    4.759</td> <td> 0.000</td> <td> 2.36e+05</td> <td> 5.68e+05</td>\n",
       "</tr>\n",
       "<tr>\n",
       "  <th>x4</th>    <td> 1.384e+06</td> <td> 1.25e+05</td> <td>   11.080</td> <td> 0.000</td> <td> 1.14e+06</td> <td> 1.63e+06</td>\n",
       "</tr>\n",
       "</table>\n",
       "<table class=\"simpletable\">\n",
       "<tr>\n",
       "  <th>Omnibus:</th>       <td>74.733</td> <th>  Durbin-Watson:     </th> <td>   0.955</td>\n",
       "</tr>\n",
       "<tr>\n",
       "  <th>Prob(Omnibus):</th> <td> 0.000</td> <th>  Jarque-Bera (JB):  </th> <td> 156.197</td>\n",
       "</tr>\n",
       "<tr>\n",
       "  <th>Skew:</th>          <td> 0.768</td> <th>  Prob(JB):          </th> <td>1.21e-34</td>\n",
       "</tr>\n",
       "<tr>\n",
       "  <th>Kurtosis:</th>      <td> 5.126</td> <th>  Cond. No.          </th> <td>2.67e+04</td>\n",
       "</tr>\n",
       "</table><br/><br/>Notes:<br/>[1] Standard Errors assume that the covariance matrix of the errors is correctly specified.<br/>[2] The condition number is large, 2.67e+04. This might indicate that there are<br/>strong multicollinearity or other numerical problems."
      ],
      "text/plain": [
       "<class 'statsmodels.iolib.summary.Summary'>\n",
       "\"\"\"\n",
       "                            OLS Regression Results                            \n",
       "==============================================================================\n",
       "Dep. Variable:                      y   R-squared:                       0.489\n",
       "Model:                            OLS   Adj. R-squared:                  0.485\n",
       "Method:                 Least Squares   F-statistic:                     129.1\n",
       "Date:                Sun, 17 Oct 2021   Prob (F-statistic):           2.72e-77\n",
       "Time:                        12:40:16   Log-Likelihood:                -8460.7\n",
       "No. Observations:                 545   AIC:                         1.693e+04\n",
       "Df Residuals:                     540   BIC:                         1.695e+04\n",
       "Df Model:                           4                                         \n",
       "Covariance Type:            nonrobust                                         \n",
       "==============================================================================\n",
       "                 coef    std err          t      P>|t|      [0.025      0.975]\n",
       "------------------------------------------------------------------------------\n",
       "const      -2.229e+05   2.67e+05     -0.835      0.404   -7.47e+05    3.01e+05\n",
       "x1          1.589e+05   1.17e+05      1.361      0.174   -7.05e+04    3.88e+05\n",
       "x2           378.8844     27.134     13.963      0.000     325.583     432.186\n",
       "x3           4.02e+05   8.45e+04      4.759      0.000    2.36e+05    5.68e+05\n",
       "x4          1.384e+06   1.25e+05     11.080      0.000    1.14e+06    1.63e+06\n",
       "==============================================================================\n",
       "Omnibus:                       74.733   Durbin-Watson:                   0.955\n",
       "Prob(Omnibus):                  0.000   Jarque-Bera (JB):              156.197\n",
       "Skew:                           0.768   Prob(JB):                     1.21e-34\n",
       "Kurtosis:                       5.126   Cond. No.                     2.67e+04\n",
       "==============================================================================\n",
       "\n",
       "Notes:\n",
       "[1] Standard Errors assume that the covariance matrix of the errors is correctly specified.\n",
       "[2] The condition number is large, 2.67e+04. This might indicate that there are\n",
       "strong multicollinearity or other numerical problems.\n",
       "\"\"\""
      ]
     },
     "execution_count": 24,
     "metadata": {},
     "output_type": "execute_result"
    }
   ],
   "source": [
    "x_opt = x[:, [0, 1, 3, 4, 5]]\n",
    "x_opt = x_opt.astype(np.float64)\n",
    "regressor_OLS = sm.OLS(endog = y, exog = x_opt).fit()\n",
    "regressor_OLS.summary()"
   ]
  },
  {
   "cell_type": "code",
   "execution_count": 25,
   "id": "2075b8ff",
   "metadata": {},
   "outputs": [
    {
     "data": {
      "text/html": [
       "<table class=\"simpletable\">\n",
       "<caption>OLS Regression Results</caption>\n",
       "<tr>\n",
       "  <th>Dep. Variable:</th>            <td>y</td>        <th>  R-squared:         </th> <td>   0.487</td> \n",
       "</tr>\n",
       "<tr>\n",
       "  <th>Model:</th>                   <td>OLS</td>       <th>  Adj. R-squared:    </th> <td>   0.484</td> \n",
       "</tr>\n",
       "<tr>\n",
       "  <th>Method:</th>             <td>Least Squares</td>  <th>  F-statistic:       </th> <td>   171.3</td> \n",
       "</tr>\n",
       "<tr>\n",
       "  <th>Date:</th>             <td>Sun, 17 Oct 2021</td> <th>  Prob (F-statistic):</th> <td>4.80e-78</td> \n",
       "</tr>\n",
       "<tr>\n",
       "  <th>Time:</th>                 <td>12:40:16</td>     <th>  Log-Likelihood:    </th> <td> -8461.6</td> \n",
       "</tr>\n",
       "<tr>\n",
       "  <th>No. Observations:</th>      <td>   545</td>      <th>  AIC:               </th> <td>1.693e+04</td>\n",
       "</tr>\n",
       "<tr>\n",
       "  <th>Df Residuals:</th>          <td>   541</td>      <th>  BIC:               </th> <td>1.695e+04</td>\n",
       "</tr>\n",
       "<tr>\n",
       "  <th>Df Model:</th>              <td>     3</td>      <th>                     </th>     <td> </td>    \n",
       "</tr>\n",
       "<tr>\n",
       "  <th>Covariance Type:</th>      <td>nonrobust</td>    <th>                     </th>     <td> </td>    \n",
       "</tr>\n",
       "</table>\n",
       "<table class=\"simpletable\">\n",
       "<tr>\n",
       "    <td></td>       <th>coef</th>     <th>std err</th>      <th>t</th>      <th>P>|t|</th>  <th>[0.025</th>    <th>0.975]</th>  \n",
       "</tr>\n",
       "<tr>\n",
       "  <th>const</th> <td>-1.732e+05</td> <td> 2.65e+05</td> <td>   -0.655</td> <td> 0.513</td> <td>-6.93e+05</td> <td> 3.47e+05</td>\n",
       "</tr>\n",
       "<tr>\n",
       "  <th>x1</th>    <td>  378.7628</td> <td>   27.155</td> <td>   13.948</td> <td> 0.000</td> <td>  325.420</td> <td>  432.105</td>\n",
       "</tr>\n",
       "<tr>\n",
       "  <th>x2</th>    <td> 4.068e+05</td> <td> 8.45e+04</td> <td>    4.817</td> <td> 0.000</td> <td> 2.41e+05</td> <td> 5.73e+05</td>\n",
       "</tr>\n",
       "<tr>\n",
       "  <th>x3</th>    <td> 1.386e+06</td> <td> 1.25e+05</td> <td>   11.089</td> <td> 0.000</td> <td> 1.14e+06</td> <td> 1.63e+06</td>\n",
       "</tr>\n",
       "</table>\n",
       "<table class=\"simpletable\">\n",
       "<tr>\n",
       "  <th>Omnibus:</th>       <td>70.408</td> <th>  Durbin-Watson:     </th> <td>   0.952</td>\n",
       "</tr>\n",
       "<tr>\n",
       "  <th>Prob(Omnibus):</th> <td> 0.000</td> <th>  Jarque-Bera (JB):  </th> <td> 142.930</td>\n",
       "</tr>\n",
       "<tr>\n",
       "  <th>Skew:</th>          <td> 0.738</td> <th>  Prob(JB):          </th> <td>9.19e-32</td>\n",
       "</tr>\n",
       "<tr>\n",
       "  <th>Kurtosis:</th>      <td> 5.029</td> <th>  Cond. No.          </th> <td>2.64e+04</td>\n",
       "</tr>\n",
       "</table><br/><br/>Notes:<br/>[1] Standard Errors assume that the covariance matrix of the errors is correctly specified.<br/>[2] The condition number is large, 2.64e+04. This might indicate that there are<br/>strong multicollinearity or other numerical problems."
      ],
      "text/plain": [
       "<class 'statsmodels.iolib.summary.Summary'>\n",
       "\"\"\"\n",
       "                            OLS Regression Results                            \n",
       "==============================================================================\n",
       "Dep. Variable:                      y   R-squared:                       0.487\n",
       "Model:                            OLS   Adj. R-squared:                  0.484\n",
       "Method:                 Least Squares   F-statistic:                     171.3\n",
       "Date:                Sun, 17 Oct 2021   Prob (F-statistic):           4.80e-78\n",
       "Time:                        12:40:16   Log-Likelihood:                -8461.6\n",
       "No. Observations:                 545   AIC:                         1.693e+04\n",
       "Df Residuals:                     541   BIC:                         1.695e+04\n",
       "Df Model:                           3                                         \n",
       "Covariance Type:            nonrobust                                         \n",
       "==============================================================================\n",
       "                 coef    std err          t      P>|t|      [0.025      0.975]\n",
       "------------------------------------------------------------------------------\n",
       "const      -1.732e+05   2.65e+05     -0.655      0.513   -6.93e+05    3.47e+05\n",
       "x1           378.7628     27.155     13.948      0.000     325.420     432.105\n",
       "x2          4.068e+05   8.45e+04      4.817      0.000    2.41e+05    5.73e+05\n",
       "x3          1.386e+06   1.25e+05     11.089      0.000    1.14e+06    1.63e+06\n",
       "==============================================================================\n",
       "Omnibus:                       70.408   Durbin-Watson:                   0.952\n",
       "Prob(Omnibus):                  0.000   Jarque-Bera (JB):              142.930\n",
       "Skew:                           0.738   Prob(JB):                     9.19e-32\n",
       "Kurtosis:                       5.029   Cond. No.                     2.64e+04\n",
       "==============================================================================\n",
       "\n",
       "Notes:\n",
       "[1] Standard Errors assume that the covariance matrix of the errors is correctly specified.\n",
       "[2] The condition number is large, 2.64e+04. This might indicate that there are\n",
       "strong multicollinearity or other numerical problems.\n",
       "\"\"\""
      ]
     },
     "execution_count": 25,
     "metadata": {},
     "output_type": "execute_result"
    }
   ],
   "source": [
    "x_opt = x[:, [0, 3, 4, 5]]\n",
    "x_opt = x_opt.astype(np.float64)\n",
    "regressor_OLS = sm.OLS(endog = y, exog = x_opt).fit()\n",
    "regressor_OLS.summary()"
   ]
  },
  {
   "cell_type": "code",
   "execution_count": 26,
   "id": "e986b23b",
   "metadata": {},
   "outputs": [
    {
     "data": {
      "text/html": [
       "<table class=\"simpletable\">\n",
       "<caption>OLS Regression Results</caption>\n",
       "<tr>\n",
       "  <th>Dep. Variable:</th>            <td>y</td>        <th>  R-squared:         </th> <td>   0.465</td> \n",
       "</tr>\n",
       "<tr>\n",
       "  <th>Model:</th>                   <td>OLS</td>       <th>  Adj. R-squared:    </th> <td>   0.463</td> \n",
       "</tr>\n",
       "<tr>\n",
       "  <th>Method:</th>             <td>Least Squares</td>  <th>  F-statistic:       </th> <td>   235.6</td> \n",
       "</tr>\n",
       "<tr>\n",
       "  <th>Date:</th>             <td>Sun, 17 Oct 2021</td> <th>  Prob (F-statistic):</th> <td>2.32e-74</td> \n",
       "</tr>\n",
       "<tr>\n",
       "  <th>Time:</th>                 <td>12:40:16</td>     <th>  Log-Likelihood:    </th> <td> -8473.0</td> \n",
       "</tr>\n",
       "<tr>\n",
       "  <th>No. Observations:</th>      <td>   545</td>      <th>  AIC:               </th> <td>1.695e+04</td>\n",
       "</tr>\n",
       "<tr>\n",
       "  <th>Df Residuals:</th>          <td>   542</td>      <th>  BIC:               </th> <td>1.697e+04</td>\n",
       "</tr>\n",
       "<tr>\n",
       "  <th>Df Model:</th>              <td>     2</td>      <th>                     </th>     <td> </td>    \n",
       "</tr>\n",
       "<tr>\n",
       "  <th>Covariance Type:</th>      <td>nonrobust</td>    <th>                     </th>     <td> </td>    \n",
       "</tr>\n",
       "</table>\n",
       "<table class=\"simpletable\">\n",
       "<tr>\n",
       "    <td></td>       <th>coef</th>     <th>std err</th>      <th>t</th>      <th>P>|t|</th>  <th>[0.025</th>    <th>0.975]</th>  \n",
       "</tr>\n",
       "<tr>\n",
       "  <th>const</th> <td> 6.992e+05</td> <td> 1.97e+05</td> <td>    3.554</td> <td> 0.000</td> <td> 3.13e+05</td> <td> 1.09e+06</td>\n",
       "</tr>\n",
       "<tr>\n",
       "  <th>x1</th>    <td>  390.1749</td> <td>   27.600</td> <td>   14.137</td> <td> 0.000</td> <td>  335.958</td> <td>  444.391</td>\n",
       "</tr>\n",
       "<tr>\n",
       "  <th>x2</th>    <td>   1.6e+06</td> <td> 1.19e+05</td> <td>   13.422</td> <td> 0.000</td> <td> 1.37e+06</td> <td> 1.83e+06</td>\n",
       "</tr>\n",
       "</table>\n",
       "<table class=\"simpletable\">\n",
       "<tr>\n",
       "  <th>Omnibus:</th>       <td>84.006</td> <th>  Durbin-Watson:     </th> <td>   0.922</td>\n",
       "</tr>\n",
       "<tr>\n",
       "  <th>Prob(Omnibus):</th> <td> 0.000</td> <th>  Jarque-Bera (JB):  </th> <td> 182.089</td>\n",
       "</tr>\n",
       "<tr>\n",
       "  <th>Skew:</th>          <td> 0.840</td> <th>  Prob(JB):          </th> <td>2.88e-40</td>\n",
       "</tr>\n",
       "<tr>\n",
       "  <th>Kurtosis:</th>      <td> 5.280</td> <th>  Cond. No.          </th> <td>2.04e+04</td>\n",
       "</tr>\n",
       "</table><br/><br/>Notes:<br/>[1] Standard Errors assume that the covariance matrix of the errors is correctly specified.<br/>[2] The condition number is large, 2.04e+04. This might indicate that there are<br/>strong multicollinearity or other numerical problems."
      ],
      "text/plain": [
       "<class 'statsmodels.iolib.summary.Summary'>\n",
       "\"\"\"\n",
       "                            OLS Regression Results                            \n",
       "==============================================================================\n",
       "Dep. Variable:                      y   R-squared:                       0.465\n",
       "Model:                            OLS   Adj. R-squared:                  0.463\n",
       "Method:                 Least Squares   F-statistic:                     235.6\n",
       "Date:                Sun, 17 Oct 2021   Prob (F-statistic):           2.32e-74\n",
       "Time:                        12:40:16   Log-Likelihood:                -8473.0\n",
       "No. Observations:                 545   AIC:                         1.695e+04\n",
       "Df Residuals:                     542   BIC:                         1.697e+04\n",
       "Df Model:                           2                                         \n",
       "Covariance Type:            nonrobust                                         \n",
       "==============================================================================\n",
       "                 coef    std err          t      P>|t|      [0.025      0.975]\n",
       "------------------------------------------------------------------------------\n",
       "const       6.992e+05   1.97e+05      3.554      0.000    3.13e+05    1.09e+06\n",
       "x1           390.1749     27.600     14.137      0.000     335.958     444.391\n",
       "x2            1.6e+06   1.19e+05     13.422      0.000    1.37e+06    1.83e+06\n",
       "==============================================================================\n",
       "Omnibus:                       84.006   Durbin-Watson:                   0.922\n",
       "Prob(Omnibus):                  0.000   Jarque-Bera (JB):              182.089\n",
       "Skew:                           0.840   Prob(JB):                     2.88e-40\n",
       "Kurtosis:                       5.280   Cond. No.                     2.04e+04\n",
       "==============================================================================\n",
       "\n",
       "Notes:\n",
       "[1] Standard Errors assume that the covariance matrix of the errors is correctly specified.\n",
       "[2] The condition number is large, 2.04e+04. This might indicate that there are\n",
       "strong multicollinearity or other numerical problems.\n",
       "\"\"\""
      ]
     },
     "execution_count": 26,
     "metadata": {},
     "output_type": "execute_result"
    }
   ],
   "source": [
    "x_opt = x[:, [0, 3, 5]]\n",
    "x_opt = x_opt.astype(np.float64)\n",
    "regressor_OLS = sm.OLS(endog = y, exog = x_opt).fit()\n",
    "regressor_OLS.summary()"
   ]
  },
  {
   "cell_type": "code",
   "execution_count": 27,
   "id": "cc4ffa91",
   "metadata": {},
   "outputs": [
    {
     "data": {
      "text/html": [
       "<table class=\"simpletable\">\n",
       "<caption>OLS Regression Results</caption>\n",
       "<tr>\n",
       "  <th>Dep. Variable:</th>            <td>y</td>        <th>  R-squared:         </th> <td>   0.287</td> \n",
       "</tr>\n",
       "<tr>\n",
       "  <th>Model:</th>                   <td>OLS</td>       <th>  Adj. R-squared:    </th> <td>   0.286</td> \n",
       "</tr>\n",
       "<tr>\n",
       "  <th>Method:</th>             <td>Least Squares</td>  <th>  F-statistic:       </th> <td>   218.9</td> \n",
       "</tr>\n",
       "<tr>\n",
       "  <th>Date:</th>             <td>Sun, 17 Oct 2021</td> <th>  Prob (F-statistic):</th> <td>7.39e-42</td> \n",
       "</tr>\n",
       "<tr>\n",
       "  <th>Time:</th>                 <td>12:40:16</td>     <th>  Log-Likelihood:    </th> <td> -8551.2</td> \n",
       "</tr>\n",
       "<tr>\n",
       "  <th>No. Observations:</th>      <td>   545</td>      <th>  AIC:               </th> <td>1.711e+04</td>\n",
       "</tr>\n",
       "<tr>\n",
       "  <th>Df Residuals:</th>          <td>   543</td>      <th>  BIC:               </th> <td>1.712e+04</td>\n",
       "</tr>\n",
       "<tr>\n",
       "  <th>Df Model:</th>              <td>     1</td>      <th>                     </th>     <td> </td>    \n",
       "</tr>\n",
       "<tr>\n",
       "  <th>Covariance Type:</th>      <td>nonrobust</td>    <th>                     </th>     <td> </td>    \n",
       "</tr>\n",
       "</table>\n",
       "<table class=\"simpletable\">\n",
       "<tr>\n",
       "    <td></td>       <th>coef</th>     <th>std err</th>      <th>t</th>      <th>P>|t|</th>  <th>[0.025</th>    <th>0.975]</th>  \n",
       "</tr>\n",
       "<tr>\n",
       "  <th>const</th> <td> 2.387e+06</td> <td> 1.74e+05</td> <td>   13.681</td> <td> 0.000</td> <td> 2.04e+06</td> <td> 2.73e+06</td>\n",
       "</tr>\n",
       "<tr>\n",
       "  <th>x1</th>    <td>  461.9749</td> <td>   31.226</td> <td>   14.795</td> <td> 0.000</td> <td>  400.637</td> <td>  523.313</td>\n",
       "</tr>\n",
       "</table>\n",
       "<table class=\"simpletable\">\n",
       "<tr>\n",
       "  <th>Omnibus:</th>       <td>92.668</td> <th>  Durbin-Watson:     </th> <td>   0.565</td>\n",
       "</tr>\n",
       "<tr>\n",
       "  <th>Prob(Omnibus):</th> <td> 0.000</td> <th>  Jarque-Bera (JB):  </th> <td> 183.673</td>\n",
       "</tr>\n",
       "<tr>\n",
       "  <th>Skew:</th>          <td> 0.954</td> <th>  Prob(JB):          </th> <td>1.31e-40</td>\n",
       "</tr>\n",
       "<tr>\n",
       "  <th>Kurtosis:</th>      <td> 5.108</td> <th>  Cond. No.          </th> <td>1.44e+04</td>\n",
       "</tr>\n",
       "</table><br/><br/>Notes:<br/>[1] Standard Errors assume that the covariance matrix of the errors is correctly specified.<br/>[2] The condition number is large, 1.44e+04. This might indicate that there are<br/>strong multicollinearity or other numerical problems."
      ],
      "text/plain": [
       "<class 'statsmodels.iolib.summary.Summary'>\n",
       "\"\"\"\n",
       "                            OLS Regression Results                            \n",
       "==============================================================================\n",
       "Dep. Variable:                      y   R-squared:                       0.287\n",
       "Model:                            OLS   Adj. R-squared:                  0.286\n",
       "Method:                 Least Squares   F-statistic:                     218.9\n",
       "Date:                Sun, 17 Oct 2021   Prob (F-statistic):           7.39e-42\n",
       "Time:                        12:40:16   Log-Likelihood:                -8551.2\n",
       "No. Observations:                 545   AIC:                         1.711e+04\n",
       "Df Residuals:                     543   BIC:                         1.712e+04\n",
       "Df Model:                           1                                         \n",
       "Covariance Type:            nonrobust                                         \n",
       "==============================================================================\n",
       "                 coef    std err          t      P>|t|      [0.025      0.975]\n",
       "------------------------------------------------------------------------------\n",
       "const       2.387e+06   1.74e+05     13.681      0.000    2.04e+06    2.73e+06\n",
       "x1           461.9749     31.226     14.795      0.000     400.637     523.313\n",
       "==============================================================================\n",
       "Omnibus:                       92.668   Durbin-Watson:                   0.565\n",
       "Prob(Omnibus):                  0.000   Jarque-Bera (JB):              183.673\n",
       "Skew:                           0.954   Prob(JB):                     1.31e-40\n",
       "Kurtosis:                       5.108   Cond. No.                     1.44e+04\n",
       "==============================================================================\n",
       "\n",
       "Notes:\n",
       "[1] Standard Errors assume that the covariance matrix of the errors is correctly specified.\n",
       "[2] The condition number is large, 1.44e+04. This might indicate that there are\n",
       "strong multicollinearity or other numerical problems.\n",
       "\"\"\""
      ]
     },
     "execution_count": 27,
     "metadata": {},
     "output_type": "execute_result"
    }
   ],
   "source": [
    "x_opt = x[:, [0, 3]]\n",
    "x_opt = x_opt.astype(np.float64)\n",
    "regressor_OLS = sm.OLS(endog = y, exog = x_opt).fit()\n",
    "regressor_OLS.summary()"
   ]
  },
  {
   "cell_type": "code",
   "execution_count": 28,
   "id": "f7adae10",
   "metadata": {},
   "outputs": [
    {
     "name": "stdout",
     "output_type": "stream",
     "text": [
      "[[1.00e+00 7.42e+03]\n",
      " [1.00e+00 8.96e+03]\n",
      " [1.00e+00 9.96e+03]\n",
      " ...\n",
      " [1.00e+00 3.62e+03]\n",
      " [1.00e+00 2.91e+03]\n",
      " [1.00e+00 3.85e+03]]\n"
     ]
    }
   ],
   "source": [
    "print(x_opt)"
   ]
  },
  {
   "cell_type": "code",
   "execution_count": 29,
   "id": "0c513dca",
   "metadata": {},
   "outputs": [],
   "source": [
    "%matplotlib inline"
   ]
  },
  {
   "cell_type": "code",
   "execution_count": 30,
   "id": "0dfd1dcc",
   "metadata": {},
   "outputs": [
    {
     "data": {
      "image/png": "[encoded data removed]",
      "text/plain": [
       "<Figure size 1152x720 with 2 Axes>"
      ]
     },
     "metadata": {
      "needs_background": "light"
     },
     "output_type": "display_data"
    }
   ],
   "source": [
    "plt.figure(figsize = (16,10))\n",
    "sns.heatmap(data_set.corr(),annot= True)\n",
    "plt.show()"
   ]
  },
  {
   "cell_type": "code",
   "execution_count": null,
   "id": "e8556801",
   "metadata": {},
   "outputs": [],
   "source": []
  },
  {
   "cell_type": "code",
   "execution_count": null,
   "id": "27d2bc2e",
   "metadata": {},
   "outputs": [],
   "source": []
  }
 ],
 "metadata": {
  "kernelspec": {
   "display_name": "Python 3",
   "language": "python",
   "name": "python3"
  },
  "language_info": {
   "codemirror_mode": {
    "name": "ipython",
    "version": 3
   },
   "file_extension": ".py",
   "mimetype": "text/x-python",
   "name": "python",
   "nbconvert_exporter": "python",
   "pygments_lexer": "ipython3",
   "version": "3.8.8"
  }
 },
 "nbformat": 4,
 "nbformat_minor": 5
}
