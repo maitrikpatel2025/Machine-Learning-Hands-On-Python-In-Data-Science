{
 "cells": [
  {
   "cell_type": "markdown",
   "id": "b868a1d7",
   "metadata": {},
   "source": [
    "# Multiple Linear Regression"
   ]
  },
  {
   "cell_type": "code",
   "execution_count": 14,
   "id": "66d8c1e8",
   "metadata": {},
   "outputs": [],
   "source": [
    "# Importing the libraries\n",
    "import numpy as np\n",
    "import matplotlib.pyplot as plt\n",
    "import pandas as pd"
   ]
  },
  {
   "cell_type": "code",
   "execution_count": 28,
   "id": "86afd857",
   "metadata": {},
   "outputs": [
    {
     "name": "stdout",
     "output_type": "stream",
     "text": [
      "   R&D Spend  Administration  Marketing Spend       State     Profit\n",
      "0  165349.20       136897.80        471784.10    New York  192261.83\n",
      "1  162597.70       151377.59        443898.53  California  191792.06\n",
      "2  153441.51       101145.55        407934.54     Florida  191050.39\n",
      "3  144372.41       118671.85        383199.62    New York  182901.99\n",
      "4  142107.34        91391.77        366168.42     Florida  166187.94\n"
     ]
    }
   ],
   "source": [
    "dataset = pd.read_csv('D:\\\\Resolve6_Training\\\\DS_ML\\\\Sample Data Sets\\\\50_Startups.csv')\n",
    "X = dataset.iloc[:, :-1]\n",
    "y = dataset.iloc[:, 4]\n",
    "print(df.head())"
   ]
  },
  {
   "cell_type": "code",
   "execution_count": 16,
   "id": "0f0f2470",
   "metadata": {},
   "outputs": [
    {
     "name": "stdout",
     "output_type": "stream",
     "text": [
      "(50, 5)\n"
     ]
    }
   ],
   "source": [
    "print(df.shape)"
   ]
  },
  {
   "cell_type": "code",
   "execution_count": 17,
   "id": "5b94b085",
   "metadata": {},
   "outputs": [
    {
     "data": {
      "text/html": [
       "<div>\n",
       "<style scoped>\n",
       "    .dataframe tbody tr th:only-of-type {\n",
       "        vertical-align: middle;\n",
       "    }\n",
       "\n",
       "    .dataframe tbody tr th {\n",
       "        vertical-align: top;\n",
       "    }\n",
       "\n",
       "    .dataframe thead th {\n",
       "        text-align: right;\n",
       "    }\n",
       "</style>\n",
       "<table border=\"1\" class=\"dataframe\">\n",
       "  <thead>\n",
       "    <tr style=\"text-align: right;\">\n",
       "      <th></th>\n",
       "      <th>R&amp;D Spend</th>\n",
       "      <th>Administration</th>\n",
       "      <th>Marketing Spend</th>\n",
       "      <th>Profit</th>\n",
       "    </tr>\n",
       "  </thead>\n",
       "  <tbody>\n",
       "    <tr>\n",
       "      <th>count</th>\n",
       "      <td>50.000000</td>\n",
       "      <td>50.000000</td>\n",
       "      <td>50.000000</td>\n",
       "      <td>50.000000</td>\n",
       "    </tr>\n",
       "    <tr>\n",
       "      <th>mean</th>\n",
       "      <td>73721.615600</td>\n",
       "      <td>121344.639600</td>\n",
       "      <td>211025.097800</td>\n",
       "      <td>112012.639200</td>\n",
       "    </tr>\n",
       "    <tr>\n",
       "      <th>std</th>\n",
       "      <td>45902.256482</td>\n",
       "      <td>28017.802755</td>\n",
       "      <td>122290.310726</td>\n",
       "      <td>40306.180338</td>\n",
       "    </tr>\n",
       "    <tr>\n",
       "      <th>min</th>\n",
       "      <td>0.000000</td>\n",
       "      <td>51283.140000</td>\n",
       "      <td>0.000000</td>\n",
       "      <td>14681.400000</td>\n",
       "    </tr>\n",
       "    <tr>\n",
       "      <th>25%</th>\n",
       "      <td>39936.370000</td>\n",
       "      <td>103730.875000</td>\n",
       "      <td>129300.132500</td>\n",
       "      <td>90138.902500</td>\n",
       "    </tr>\n",
       "    <tr>\n",
       "      <th>50%</th>\n",
       "      <td>73051.080000</td>\n",
       "      <td>122699.795000</td>\n",
       "      <td>212716.240000</td>\n",
       "      <td>107978.190000</td>\n",
       "    </tr>\n",
       "    <tr>\n",
       "      <th>75%</th>\n",
       "      <td>101602.800000</td>\n",
       "      <td>144842.180000</td>\n",
       "      <td>299469.085000</td>\n",
       "      <td>139765.977500</td>\n",
       "    </tr>\n",
       "    <tr>\n",
       "      <th>max</th>\n",
       "      <td>165349.200000</td>\n",
       "      <td>182645.560000</td>\n",
       "      <td>471784.100000</td>\n",
       "      <td>192261.830000</td>\n",
       "    </tr>\n",
       "  </tbody>\n",
       "</table>\n",
       "</div>"
      ],
      "text/plain": [
       "           R&D Spend  Administration  Marketing Spend         Profit\n",
       "count      50.000000       50.000000        50.000000      50.000000\n",
       "mean    73721.615600   121344.639600    211025.097800  112012.639200\n",
       "std     45902.256482    28017.802755    122290.310726   40306.180338\n",
       "min         0.000000    51283.140000         0.000000   14681.400000\n",
       "25%     39936.370000   103730.875000    129300.132500   90138.902500\n",
       "50%     73051.080000   122699.795000    212716.240000  107978.190000\n",
       "75%    101602.800000   144842.180000    299469.085000  139765.977500\n",
       "max    165349.200000   182645.560000    471784.100000  192261.830000"
      ]
     },
     "execution_count": 17,
     "metadata": {},
     "output_type": "execute_result"
    }
   ],
   "source": [
    "df.describe()"
   ]
  },
  {
   "cell_type": "markdown",
   "id": "fa828fd9",
   "metadata": {},
   "source": [
    "Handling categorical variables\n",
    "In our dataset, there is one categorical column State, we have to handle this categorical values present inside this column for that we will use pandas get_dummies() function"
   ]
  },
  {
   "cell_type": "code",
   "execution_count": 29,
   "id": "e920caf9",
   "metadata": {},
   "outputs": [
    {
     "name": "stdout",
     "output_type": "stream",
     "text": [
      "    R&D Spend  Administration  Marketing Spend  R&D Spend  Administration  \\\n",
      "0   165349.20       136897.80        471784.10  165349.20       136897.80   \n",
      "1   162597.70       151377.59        443898.53  162597.70       151377.59   \n",
      "2   153441.51       101145.55        407934.54  153441.51       101145.55   \n",
      "3   144372.41       118671.85        383199.62  144372.41       118671.85   \n",
      "4   142107.34        91391.77        366168.42  142107.34        91391.77   \n",
      "5   131876.90        99814.71        362861.36  131876.90        99814.71   \n",
      "6   134615.46       147198.87        127716.82  134615.46       147198.87   \n",
      "7   130298.13       145530.06        323876.68  130298.13       145530.06   \n",
      "8   120542.52       148718.95        311613.29  120542.52       148718.95   \n",
      "9   123334.88       108679.17        304981.62  123334.88       108679.17   \n",
      "10  101913.08       110594.11        229160.95  101913.08       110594.11   \n",
      "11  100671.96        91790.61        249744.55  100671.96        91790.61   \n",
      "12   93863.75       127320.38        249839.44   93863.75       127320.38   \n",
      "13   91992.39       135495.07        252664.93   91992.39       135495.07   \n",
      "14  119943.24       156547.42        256512.92  119943.24       156547.42   \n",
      "15  114523.61       122616.84        261776.23  114523.61       122616.84   \n",
      "16   78013.11       121597.55        264346.06   78013.11       121597.55   \n",
      "17   94657.16       145077.58        282574.31   94657.16       145077.58   \n",
      "18   91749.16       114175.79        294919.57   91749.16       114175.79   \n",
      "19   86419.70       153514.11             0.00   86419.70       153514.11   \n",
      "20   76253.86       113867.30        298664.47   76253.86       113867.30   \n",
      "21   78389.47       153773.43        299737.29   78389.47       153773.43   \n",
      "22   73994.56       122782.75        303319.26   73994.56       122782.75   \n",
      "23   67532.53       105751.03        304768.73   67532.53       105751.03   \n",
      "24   77044.01        99281.34        140574.81   77044.01        99281.34   \n",
      "25   64664.71       139553.16        137962.62   64664.71       139553.16   \n",
      "26   75328.87       144135.98        134050.07   75328.87       144135.98   \n",
      "27   72107.60       127864.55        353183.81   72107.60       127864.55   \n",
      "28   66051.52       182645.56        118148.20   66051.52       182645.56   \n",
      "29   65605.48       153032.06        107138.38   65605.48       153032.06   \n",
      "30   61994.48       115641.28         91131.24   61994.48       115641.28   \n",
      "31   61136.38       152701.92         88218.23   61136.38       152701.92   \n",
      "32   63408.86       129219.61         46085.25   63408.86       129219.61   \n",
      "33   55493.95       103057.49        214634.81   55493.95       103057.49   \n",
      "34   46426.07       157693.92        210797.67   46426.07       157693.92   \n",
      "35   46014.02        85047.44        205517.64   46014.02        85047.44   \n",
      "36   28663.76       127056.21        201126.82   28663.76       127056.21   \n",
      "37   44069.95        51283.14        197029.42   44069.95        51283.14   \n",
      "38   20229.59        65947.93        185265.10   20229.59        65947.93   \n",
      "39   38558.51        82982.09        174999.30   38558.51        82982.09   \n",
      "40   28754.33       118546.05        172795.67   28754.33       118546.05   \n",
      "41   27892.92        84710.77        164470.71   27892.92        84710.77   \n",
      "42   23640.93        96189.63        148001.11   23640.93        96189.63   \n",
      "43   15505.73       127382.30         35534.17   15505.73       127382.30   \n",
      "44   22177.74       154806.14         28334.72   22177.74       154806.14   \n",
      "45    1000.23       124153.04          1903.93    1000.23       124153.04   \n",
      "46    1315.46       115816.21        297114.46    1315.46       115816.21   \n",
      "47       0.00       135426.92             0.00       0.00       135426.92   \n",
      "48     542.05        51743.15             0.00     542.05        51743.15   \n",
      "49       0.00       116983.80         45173.06       0.00       116983.80   \n",
      "\n",
      "    Marketing Spend  State_Florida  State_New York  \n",
      "0         471784.10              0               1  \n",
      "1         443898.53              0               0  \n",
      "2         407934.54              1               0  \n",
      "3         383199.62              0               1  \n",
      "4         366168.42              1               0  \n",
      "5         362861.36              0               1  \n",
      "6         127716.82              0               0  \n",
      "7         323876.68              1               0  \n",
      "8         311613.29              0               1  \n",
      "9         304981.62              0               0  \n",
      "10        229160.95              1               0  \n",
      "11        249744.55              0               0  \n",
      "12        249839.44              1               0  \n",
      "13        252664.93              0               0  \n",
      "14        256512.92              1               0  \n",
      "15        261776.23              0               1  \n",
      "16        264346.06              0               0  \n",
      "17        282574.31              0               1  \n",
      "18        294919.57              1               0  \n",
      "19             0.00              0               1  \n",
      "20        298664.47              0               0  \n",
      "21        299737.29              0               1  \n",
      "22        303319.26              1               0  \n",
      "23        304768.73              1               0  \n",
      "24        140574.81              0               1  \n",
      "25        137962.62              0               0  \n",
      "26        134050.07              1               0  \n",
      "27        353183.81              0               1  \n",
      "28        118148.20              1               0  \n",
      "29        107138.38              0               1  \n",
      "30         91131.24              1               0  \n",
      "31         88218.23              0               1  \n",
      "32         46085.25              0               0  \n",
      "33        214634.81              1               0  \n",
      "34        210797.67              0               0  \n",
      "35        205517.64              0               1  \n",
      "36        201126.82              1               0  \n",
      "37        197029.42              0               0  \n",
      "38        185265.10              0               1  \n",
      "39        174999.30              0               0  \n",
      "40        172795.67              0               0  \n",
      "41        164470.71              1               0  \n",
      "42        148001.11              0               0  \n",
      "43         35534.17              0               1  \n",
      "44         28334.72              0               0  \n",
      "45          1903.93              0               1  \n",
      "46        297114.46              1               0  \n",
      "47             0.00              0               0  \n",
      "48             0.00              0               1  \n",
      "49         45173.06              0               0  \n"
     ]
    }
   ],
   "source": [
    "#Convert the column into categorical columns\n",
    "states=pd.get_dummies(X['State'],drop_first=True)\n",
    "\n",
    "# Drop the state coulmn\n",
    "X=X.drop('State',axis=1)\n",
    "\n",
    "# concat the dummy variables\n",
    "X=pd.concat([X,states],axis=1)\n",
    "print(x)"
   ]
  },
  {
   "cell_type": "markdown",
   "id": "635c9344",
   "metadata": {},
   "source": [
    "split the data into training and testing parts for that we use the scikit-learn train_test_split() function."
   ]
  },
  {
   "cell_type": "code",
   "execution_count": 30,
   "id": "f5a41b3d",
   "metadata": {},
   "outputs": [],
   "source": [
    "# importing train_test_split from sklearn\n",
    "from sklearn.model_selection import train_test_split\n",
    "X_train, X_test, y_train, y_test = train_test_split(X, y, test_size = 0.2, random_state = 0)"
   ]
  },
  {
   "cell_type": "code",
   "execution_count": 31,
   "id": "6d78261f",
   "metadata": {},
   "outputs": [
    {
     "data": {
      "text/plain": [
       "LinearRegression()"
      ]
     },
     "execution_count": 31,
     "metadata": {},
     "output_type": "execute_result"
    }
   ],
   "source": [
    "# Fitting Multiple Linear Regression to the Training set\n",
    "from sklearn.linear_model import LinearRegression\n",
    "regressor = LinearRegression()\n",
    "regressor.fit(X_train, y_train)"
   ]
  },
  {
   "cell_type": "code",
   "execution_count": 33,
   "id": "9c0b8aa7",
   "metadata": {},
   "outputs": [
    {
     "name": "stdout",
     "output_type": "stream",
     "text": [
      "[103015.20159796 132582.27760816 132447.73845174  71976.09851258\n",
      " 178537.48221055 116161.24230165  67851.69209676  98791.73374687\n",
      " 113969.43533012 167921.0656955 ]\n"
     ]
    }
   ],
   "source": [
    "# Predicting the Test set results\n",
    "y_pred = regressor.predict(X_test)\n",
    "print(y_pred)"
   ]
  },
  {
   "cell_type": "code",
   "execution_count": 39,
   "id": "17bd0cc2",
   "metadata": {},
   "outputs": [
    {
     "name": "stdout",
     "output_type": "stream",
     "text": [
      "r2 socre is 0.9347068473282424\n",
      "Mean Absolute Error: 7514.293659640607\n",
      "mean_sqrd_error is== 83502864.03257747\n",
      "root_mean_squared error of is== 9137.99015279495\n"
     ]
    }
   ],
   "source": [
    "from sklearn.metrics import r2_score\n",
    "from sklearn.metrics import mean_squared_error\n",
    "# predicting the accuracy score\n",
    "score=r2_score(y_test,y_pred)\n",
    "print('r2 socre is',score)\n",
    "print('Mean Absolute Error:', metrics.mean_absolute_error(y_test, y_pred))\n",
    "print('mean_sqrd_error is==',mean_squared_error(y_test,y_pred))\n",
    "print('root_mean_squared error of is==',np.sqrt(mean_squared_error(y_test,y_pred)))"
   ]
  },
  {
   "cell_type": "code",
   "execution_count": null,
   "id": "1608bff5",
   "metadata": {},
   "outputs": [],
   "source": []
  }
 ],
 "metadata": {
  "kernelspec": {
   "display_name": "Python 3",
   "language": "python",
   "name": "python3"
  },
  "language_info": {
   "codemirror_mode": {
    "name": "ipython",
    "version": 3
   },
   "file_extension": ".py",
   "mimetype": "text/x-python",
   "name": "python",
   "nbconvert_exporter": "python",
   "pygments_lexer": "ipython3",
   "version": "3.9.5"
  }
 },
 "nbformat": 4,
 "nbformat_minor": 5
}
