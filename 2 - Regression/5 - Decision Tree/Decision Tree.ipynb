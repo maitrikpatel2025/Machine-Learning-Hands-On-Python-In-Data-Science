{
 "cells": [
  {
   "cell_type": "markdown",
   "id": "e178f4a4",
   "metadata": {},
   "source": [
    "# Decision Tree"
   ]
  },
  {
   "cell_type": "markdown",
   "id": "f3b50a25",
   "metadata": {},
   "source": [
    "## Importing the libraries"
   ]
  },
  {
   "cell_type": "code",
   "execution_count": 1,
   "id": "db5a673c",
   "metadata": {},
   "outputs": [],
   "source": [
    "import numpy as np\n",
    "import pandas as pd\n",
    "import matplotlib.pyplot as plt"
   ]
  },
  {
   "cell_type": "code",
   "execution_count": 2,
   "id": "9a91cfa3",
   "metadata": {},
   "outputs": [],
   "source": [
    "from sklearn.model_selection import train_test_split"
   ]
  },
  {
   "cell_type": "code",
   "execution_count": 40,
   "id": "2cc58918",
   "metadata": {},
   "outputs": [],
   "source": [
    "from sklearn.tree import DecisionTreeRegressor,export_text,plot_tree"
   ]
  },
  {
   "cell_type": "markdown",
   "id": "fd05d02f",
   "metadata": {},
   "source": [
    "## Importing the data set"
   ]
  },
  {
   "cell_type": "code",
   "execution_count": 3,
   "id": "7d73a0f7",
   "metadata": {},
   "outputs": [],
   "source": [
    "dataset = pd.read_csv(\"petrol_consumption.csv\")"
   ]
  },
  {
   "cell_type": "code",
   "execution_count": 4,
   "id": "909868d4",
   "metadata": {},
   "outputs": [],
   "source": [
    "x = dataset.iloc[:,:-1].values\n",
    "y = dataset.iloc[:,-1].values"
   ]
  },
  {
   "cell_type": "code",
   "execution_count": 5,
   "id": "3feb31d0",
   "metadata": {},
   "outputs": [
    {
     "data": {
      "text/html": [
       "<div>\n",
       "<style scoped>\n",
       "    .dataframe tbody tr th:only-of-type {\n",
       "        vertical-align: middle;\n",
       "    }\n",
       "\n",
       "    .dataframe tbody tr th {\n",
       "        vertical-align: top;\n",
       "    }\n",
       "\n",
       "    .dataframe thead th {\n",
       "        text-align: right;\n",
       "    }\n",
       "</style>\n",
       "<table border=\"1\" class=\"dataframe\">\n",
       "  <thead>\n",
       "    <tr style=\"text-align: right;\">\n",
       "      <th></th>\n",
       "      <th>Petrol_tax</th>\n",
       "      <th>Average_income</th>\n",
       "      <th>Paved_Highways</th>\n",
       "      <th>Population_Driver_licence(%)</th>\n",
       "      <th>Petrol_Consumption</th>\n",
       "    </tr>\n",
       "  </thead>\n",
       "  <tbody>\n",
       "    <tr>\n",
       "      <th>0</th>\n",
       "      <td>9.0</td>\n",
       "      <td>3571</td>\n",
       "      <td>1976</td>\n",
       "      <td>0.525</td>\n",
       "      <td>541</td>\n",
       "    </tr>\n",
       "    <tr>\n",
       "      <th>1</th>\n",
       "      <td>9.0</td>\n",
       "      <td>4092</td>\n",
       "      <td>1250</td>\n",
       "      <td>0.572</td>\n",
       "      <td>524</td>\n",
       "    </tr>\n",
       "    <tr>\n",
       "      <th>2</th>\n",
       "      <td>9.0</td>\n",
       "      <td>3865</td>\n",
       "      <td>1586</td>\n",
       "      <td>0.580</td>\n",
       "      <td>561</td>\n",
       "    </tr>\n",
       "    <tr>\n",
       "      <th>3</th>\n",
       "      <td>7.5</td>\n",
       "      <td>4870</td>\n",
       "      <td>2351</td>\n",
       "      <td>0.529</td>\n",
       "      <td>414</td>\n",
       "    </tr>\n",
       "    <tr>\n",
       "      <th>4</th>\n",
       "      <td>8.0</td>\n",
       "      <td>4399</td>\n",
       "      <td>431</td>\n",
       "      <td>0.544</td>\n",
       "      <td>410</td>\n",
       "    </tr>\n",
       "  </tbody>\n",
       "</table>\n",
       "</div>"
      ],
      "text/plain": [
       "   Petrol_tax  Average_income  Paved_Highways  Population_Driver_licence(%)  \\\n",
       "0         9.0            3571            1976                         0.525   \n",
       "1         9.0            4092            1250                         0.572   \n",
       "2         9.0            3865            1586                         0.580   \n",
       "3         7.5            4870            2351                         0.529   \n",
       "4         8.0            4399             431                         0.544   \n",
       "\n",
       "   Petrol_Consumption  \n",
       "0                 541  \n",
       "1                 524  \n",
       "2                 561  \n",
       "3                 414  \n",
       "4                 410  "
      ]
     },
     "execution_count": 5,
     "metadata": {},
     "output_type": "execute_result"
    }
   ],
   "source": [
    "dataset.head()"
   ]
  },
  {
   "cell_type": "code",
   "execution_count": 6,
   "id": "6bc67eea",
   "metadata": {},
   "outputs": [
    {
     "name": "stdout",
     "output_type": "stream",
     "text": [
      "[[9.0000e+00 3.5710e+03 1.9760e+03 5.2500e-01]\n",
      " [9.0000e+00 4.0920e+03 1.2500e+03 5.7200e-01]\n",
      " [9.0000e+00 3.8650e+03 1.5860e+03 5.8000e-01]\n",
      " [7.5000e+00 4.8700e+03 2.3510e+03 5.2900e-01]\n",
      " [8.0000e+00 4.3990e+03 4.3100e+02 5.4400e-01]\n",
      " [1.0000e+01 5.3420e+03 1.3330e+03 5.7100e-01]\n",
      " [8.0000e+00 5.3190e+03 1.1868e+04 4.5100e-01]\n",
      " [8.0000e+00 5.1260e+03 2.1380e+03 5.5300e-01]\n",
      " [8.0000e+00 4.4470e+03 8.5770e+03 5.2900e-01]\n",
      " [7.0000e+00 4.5120e+03 8.5070e+03 5.5200e-01]\n",
      " [8.0000e+00 4.3910e+03 5.9390e+03 5.3000e-01]\n",
      " [7.5000e+00 5.1260e+03 1.4186e+04 5.2500e-01]\n",
      " [7.0000e+00 4.8170e+03 6.9300e+03 5.7400e-01]\n",
      " [7.0000e+00 4.2070e+03 6.5800e+03 5.4500e-01]\n",
      " [7.0000e+00 4.3320e+03 8.1590e+03 6.0800e-01]\n",
      " [7.0000e+00 4.3180e+03 1.0340e+04 5.8600e-01]\n",
      " [7.0000e+00 4.2060e+03 8.5080e+03 5.7200e-01]\n",
      " [7.0000e+00 3.7180e+03 4.7250e+03 5.4000e-01]\n",
      " [7.0000e+00 4.7160e+03 5.9150e+03 7.2400e-01]\n",
      " [8.5000e+00 4.3410e+03 6.0100e+03 6.7700e-01]\n",
      " [7.0000e+00 4.5930e+03 7.8340e+03 6.6300e-01]\n",
      " [8.0000e+00 4.9830e+03 6.0200e+02 6.0200e-01]\n",
      " [9.0000e+00 4.8970e+03 2.4490e+03 5.1100e-01]\n",
      " [9.0000e+00 4.2580e+03 4.6860e+03 5.1700e-01]\n",
      " [8.5000e+00 4.5740e+03 2.6190e+03 5.5100e-01]\n",
      " [9.0000e+00 3.7210e+03 4.7460e+03 5.4400e-01]\n",
      " [8.0000e+00 3.4480e+03 5.3990e+03 5.4800e-01]\n",
      " [7.5000e+00 3.8460e+03 9.0610e+03 5.7900e-01]\n",
      " [8.0000e+00 4.1880e+03 5.9750e+03 5.6300e-01]\n",
      " [9.0000e+00 3.6010e+03 4.6500e+03 4.9300e-01]\n",
      " [7.0000e+00 3.6400e+03 6.9050e+03 5.1800e-01]\n",
      " [7.0000e+00 3.3330e+03 6.5940e+03 5.1300e-01]\n",
      " [8.0000e+00 3.0630e+03 6.5240e+03 5.7800e-01]\n",
      " [7.5000e+00 3.3570e+03 4.1210e+03 5.4700e-01]\n",
      " [8.0000e+00 3.5280e+03 3.4950e+03 4.8700e-01]\n",
      " [6.5800e+00 3.8020e+03 7.8340e+03 6.2900e-01]\n",
      " [5.0000e+00 4.0450e+03 1.7782e+04 5.6600e-01]\n",
      " [7.0000e+00 3.8970e+03 6.3850e+03 5.8600e-01]\n",
      " [8.5000e+00 3.6350e+03 3.2740e+03 6.6300e-01]\n",
      " [7.0000e+00 4.3450e+03 3.9050e+03 6.7200e-01]\n",
      " [7.0000e+00 4.4490e+03 4.6390e+03 6.2600e-01]\n",
      " [7.0000e+00 3.6560e+03 3.9850e+03 5.6300e-01]\n",
      " [7.0000e+00 4.3000e+03 3.6350e+03 6.0300e-01]\n",
      " [7.0000e+00 3.7450e+03 2.6110e+03 5.0800e-01]\n",
      " [6.0000e+00 5.2150e+03 2.3020e+03 6.7200e-01]\n",
      " [9.0000e+00 4.4760e+03 3.9420e+03 5.7100e-01]\n",
      " [7.0000e+00 4.2960e+03 4.0830e+03 6.2300e-01]\n",
      " [7.0000e+00 5.0020e+03 9.7940e+03 5.9300e-01]]\n"
     ]
    }
   ],
   "source": [
    "print(x)"
   ]
  },
  {
   "cell_type": "code",
   "execution_count": 7,
   "id": "8d81bb57",
   "metadata": {},
   "outputs": [
    {
     "name": "stdout",
     "output_type": "stream",
     "text": [
      "[541 524 561 414 410 457 344 467 464 498 580 471 525 508 566 635 603 714\n",
      " 865 640 649 540 464 547 460 566 577 631 574 534 571 554 577 628 487 644\n",
      " 640 704 648 968 587 699 632 591 782 510 610 524]\n"
     ]
    }
   ],
   "source": [
    "print(y)"
   ]
  },
  {
   "cell_type": "markdown",
   "id": "7b2608ac",
   "metadata": {},
   "source": [
    "## Splitting the dataset into the Training set and Test set"
   ]
  },
  {
   "cell_type": "code",
   "execution_count": 8,
   "id": "b99d6c04",
   "metadata": {},
   "outputs": [],
   "source": [
    "x_train,x_test,y_train,y_test =  train_test_split(x,y, test_size = 0.2, random_state = 0)"
   ]
  },
  {
   "cell_type": "markdown",
   "id": "af547329",
   "metadata": {},
   "source": [
    "## Training the Decision Tree Regression model on the training dataset"
   ]
  },
  {
   "cell_type": "code",
   "execution_count": 11,
   "id": "75eaa977",
   "metadata": {},
   "outputs": [
    {
     "data": {
      "text/plain": [
       "DecisionTreeRegressor()"
      ]
     },
     "execution_count": 11,
     "metadata": {},
     "output_type": "execute_result"
    }
   ],
   "source": [
    "regressor  = DecisionTreeRegressor()\n",
    "regressor.fit(x_train,y_train)"
   ]
  },
  {
   "cell_type": "markdown",
   "id": "ef76782b",
   "metadata": {},
   "source": [
    "## Predict Test Result"
   ]
  },
  {
   "cell_type": "code",
   "execution_count": 20,
   "id": "0a2b604e",
   "metadata": {},
   "outputs": [],
   "source": [
    "y_predict = regressor.predict(x_test)\n"
   ]
  },
  {
   "cell_type": "code",
   "execution_count": 23,
   "id": "9117eb11",
   "metadata": {},
   "outputs": [
    {
     "data": {
      "text/html": [
       "<div>\n",
       "<style scoped>\n",
       "    .dataframe tbody tr th:only-of-type {\n",
       "        vertical-align: middle;\n",
       "    }\n",
       "\n",
       "    .dataframe tbody tr th {\n",
       "        vertical-align: top;\n",
       "    }\n",
       "\n",
       "    .dataframe thead th {\n",
       "        text-align: right;\n",
       "    }\n",
       "</style>\n",
       "<table border=\"1\" class=\"dataframe\">\n",
       "  <thead>\n",
       "    <tr style=\"text-align: right;\">\n",
       "      <th></th>\n",
       "      <th>Actual</th>\n",
       "      <th>Predicted</th>\n",
       "      <th>diffrence</th>\n",
       "    </tr>\n",
       "  </thead>\n",
       "  <tbody>\n",
       "    <tr>\n",
       "      <th>0</th>\n",
       "      <td>534</td>\n",
       "      <td>541.0</td>\n",
       "      <td>-7.0</td>\n",
       "    </tr>\n",
       "    <tr>\n",
       "      <th>1</th>\n",
       "      <td>410</td>\n",
       "      <td>414.0</td>\n",
       "      <td>-4.0</td>\n",
       "    </tr>\n",
       "    <tr>\n",
       "      <th>2</th>\n",
       "      <td>577</td>\n",
       "      <td>574.0</td>\n",
       "      <td>3.0</td>\n",
       "    </tr>\n",
       "    <tr>\n",
       "      <th>3</th>\n",
       "      <td>571</td>\n",
       "      <td>554.0</td>\n",
       "      <td>17.0</td>\n",
       "    </tr>\n",
       "    <tr>\n",
       "      <th>4</th>\n",
       "      <td>577</td>\n",
       "      <td>631.0</td>\n",
       "      <td>-54.0</td>\n",
       "    </tr>\n",
       "    <tr>\n",
       "      <th>5</th>\n",
       "      <td>704</td>\n",
       "      <td>644.0</td>\n",
       "      <td>60.0</td>\n",
       "    </tr>\n",
       "    <tr>\n",
       "      <th>6</th>\n",
       "      <td>487</td>\n",
       "      <td>628.0</td>\n",
       "      <td>-141.0</td>\n",
       "    </tr>\n",
       "    <tr>\n",
       "      <th>7</th>\n",
       "      <td>587</td>\n",
       "      <td>649.0</td>\n",
       "      <td>-62.0</td>\n",
       "    </tr>\n",
       "    <tr>\n",
       "      <th>8</th>\n",
       "      <td>467</td>\n",
       "      <td>414.0</td>\n",
       "      <td>53.0</td>\n",
       "    </tr>\n",
       "    <tr>\n",
       "      <th>9</th>\n",
       "      <td>580</td>\n",
       "      <td>510.0</td>\n",
       "      <td>70.0</td>\n",
       "    </tr>\n",
       "  </tbody>\n",
       "</table>\n",
       "</div>"
      ],
      "text/plain": [
       "   Actual  Predicted  diffrence\n",
       "0     534      541.0       -7.0\n",
       "1     410      414.0       -4.0\n",
       "2     577      574.0        3.0\n",
       "3     571      554.0       17.0\n",
       "4     577      631.0      -54.0\n",
       "5     704      644.0       60.0\n",
       "6     487      628.0     -141.0\n",
       "7     587      649.0      -62.0\n",
       "8     467      414.0       53.0\n",
       "9     580      510.0       70.0"
      ]
     },
     "execution_count": 23,
     "metadata": {},
     "output_type": "execute_result"
    }
   ],
   "source": [
    "df=pd.DataFrame({'Actual':y_test, 'Predicted':y_predict, 'diffrence' : y_test - y_predict})\n",
    "df"
   ]
  },
  {
   "cell_type": "markdown",
   "id": "981f0eef",
   "metadata": {},
   "source": [
    "## Visualising the Decision Tree Regression result"
   ]
  },
  {
   "cell_type": "code",
   "execution_count": 38,
   "id": "5c1ad15b",
   "metadata": {},
   "outputs": [
    {
     "name": "stdout",
     "output_type": "stream",
     "text": [
      "|--- feature_3 <= 0.67\n",
      "|   |--- feature_1 <= 4389.50\n",
      "|   |   |--- feature_0 <= 8.75\n",
      "|   |   |   |--- feature_2 <= 5350.00\n",
      "|   |   |   |   |--- feature_1 <= 3731.50\n",
      "|   |   |   |   |   |--- feature_1 <= 3645.50\n",
      "|   |   |   |   |   |   |--- feature_3 <= 0.60\n",
      "|   |   |   |   |   |   |   |--- value: [628.00]\n",
      "|   |   |   |   |   |   |--- feature_3 >  0.60\n",
      "|   |   |   |   |   |   |   |--- value: [648.00]\n",
      "|   |   |   |   |   |--- feature_1 >  3645.50\n",
      "|   |   |   |   |   |   |--- feature_3 <= 0.55\n",
      "|   |   |   |   |   |   |   |--- value: [714.00]\n",
      "|   |   |   |   |   |   |--- feature_3 >  0.55\n",
      "|   |   |   |   |   |   |   |--- value: [699.00]\n",
      "|   |   |   |   |--- feature_1 >  3731.50\n",
      "|   |   |   |   |   |--- feature_1 <= 4298.00\n",
      "|   |   |   |   |   |   |--- feature_1 <= 4020.50\n",
      "|   |   |   |   |   |   |   |--- value: [591.00]\n",
      "|   |   |   |   |   |   |--- feature_1 >  4020.50\n",
      "|   |   |   |   |   |   |   |--- value: [610.00]\n",
      "|   |   |   |   |   |--- feature_1 >  4298.00\n",
      "|   |   |   |   |   |   |--- value: [632.00]\n",
      "|   |   |   |--- feature_2 >  5350.00\n",
      "|   |   |   |   |--- feature_3 <= 0.56\n",
      "|   |   |   |   |   |--- feature_1 <= 4197.50\n",
      "|   |   |   |   |   |   |--- feature_0 <= 7.50\n",
      "|   |   |   |   |   |   |   |--- value: [554.00]\n",
      "|   |   |   |   |   |   |--- feature_0 >  7.50\n",
      "|   |   |   |   |   |   |   |--- value: [574.00]\n",
      "|   |   |   |   |   |--- feature_1 >  4197.50\n",
      "|   |   |   |   |   |   |--- value: [508.00]\n",
      "|   |   |   |   |--- feature_3 >  0.56\n",
      "|   |   |   |   |   |--- feature_1 <= 4325.00\n",
      "|   |   |   |   |   |   |--- feature_1 <= 4125.50\n",
      "|   |   |   |   |   |   |   |--- feature_0 <= 7.04\n",
      "|   |   |   |   |   |   |   |   |--- feature_0 <= 5.79\n",
      "|   |   |   |   |   |   |   |   |   |--- value: [640.00]\n",
      "|   |   |   |   |   |   |   |   |--- feature_0 >  5.79\n",
      "|   |   |   |   |   |   |   |   |   |--- value: [644.00]\n",
      "|   |   |   |   |   |   |   |--- feature_0 >  7.04\n",
      "|   |   |   |   |   |   |   |   |--- value: [631.00]\n",
      "|   |   |   |   |   |   |--- feature_1 >  4125.50\n",
      "|   |   |   |   |   |   |   |--- feature_2 <= 9424.00\n",
      "|   |   |   |   |   |   |   |   |--- value: [603.00]\n",
      "|   |   |   |   |   |   |   |--- feature_2 >  9424.00\n",
      "|   |   |   |   |   |   |   |   |--- value: [635.00]\n",
      "|   |   |   |   |   |--- feature_1 >  4325.00\n",
      "|   |   |   |   |   |   |--- value: [566.00]\n",
      "|   |   |--- feature_0 >  8.75\n",
      "|   |   |   |--- feature_2 <= 1418.00\n",
      "|   |   |   |   |--- value: [524.00]\n",
      "|   |   |   |--- feature_2 >  1418.00\n",
      "|   |   |   |   |--- feature_3 <= 0.53\n",
      "|   |   |   |   |   |--- feature_1 <= 3914.50\n",
      "|   |   |   |   |   |   |--- value: [541.00]\n",
      "|   |   |   |   |   |--- feature_1 >  3914.50\n",
      "|   |   |   |   |   |   |--- value: [547.00]\n",
      "|   |   |   |   |--- feature_3 >  0.53\n",
      "|   |   |   |   |   |--- feature_2 <= 3166.00\n",
      "|   |   |   |   |   |   |--- value: [561.00]\n",
      "|   |   |   |   |   |--- feature_2 >  3166.00\n",
      "|   |   |   |   |   |   |--- value: [566.00]\n",
      "|   |--- feature_1 >  4389.50\n",
      "|   |   |--- feature_3 <= 0.57\n",
      "|   |   |   |--- feature_3 <= 0.48\n",
      "|   |   |   |   |--- value: [344.00]\n",
      "|   |   |   |--- feature_3 >  0.48\n",
      "|   |   |   |   |--- feature_2 <= 3280.50\n",
      "|   |   |   |   |   |--- feature_0 <= 8.00\n",
      "|   |   |   |   |   |   |--- value: [414.00]\n",
      "|   |   |   |   |   |--- feature_0 >  8.00\n",
      "|   |   |   |   |   |   |--- feature_3 <= 0.53\n",
      "|   |   |   |   |   |   |   |--- value: [464.00]\n",
      "|   |   |   |   |   |   |--- feature_3 >  0.53\n",
      "|   |   |   |   |   |   |   |--- feature_1 <= 4958.00\n",
      "|   |   |   |   |   |   |   |   |--- value: [460.00]\n",
      "|   |   |   |   |   |   |   |--- feature_1 >  4958.00\n",
      "|   |   |   |   |   |   |   |   |--- value: [457.00]\n",
      "|   |   |   |   |--- feature_2 >  3280.50\n",
      "|   |   |   |   |   |--- feature_2 <= 8542.00\n",
      "|   |   |   |   |   |   |--- feature_1 <= 4494.00\n",
      "|   |   |   |   |   |   |   |--- value: [510.00]\n",
      "|   |   |   |   |   |   |--- feature_1 >  4494.00\n",
      "|   |   |   |   |   |   |   |--- value: [498.00]\n",
      "|   |   |   |   |   |--- feature_2 >  8542.00\n",
      "|   |   |   |   |   |   |--- feature_2 <= 11381.50\n",
      "|   |   |   |   |   |   |   |--- value: [464.00]\n",
      "|   |   |   |   |   |   |--- feature_2 >  11381.50\n",
      "|   |   |   |   |   |   |   |--- value: [471.00]\n",
      "|   |   |--- feature_3 >  0.57\n",
      "|   |   |   |--- feature_1 <= 4705.00\n",
      "|   |   |   |   |--- value: [649.00]\n",
      "|   |   |   |--- feature_1 >  4705.00\n",
      "|   |   |   |   |--- feature_3 <= 0.60\n",
      "|   |   |   |   |   |--- feature_2 <= 8362.00\n",
      "|   |   |   |   |   |   |--- value: [525.00]\n",
      "|   |   |   |   |   |--- feature_2 >  8362.00\n",
      "|   |   |   |   |   |   |--- value: [524.00]\n",
      "|   |   |   |   |--- feature_3 >  0.60\n",
      "|   |   |   |   |   |--- value: [540.00]\n",
      "|--- feature_3 >  0.67\n",
      "|   |--- feature_2 <= 5962.50\n",
      "|   |   |--- feature_1 <= 4530.50\n",
      "|   |   |   |--- value: [968.00]\n",
      "|   |   |--- feature_1 >  4530.50\n",
      "|   |   |   |--- feature_1 <= 4965.50\n",
      "|   |   |   |   |--- value: [865.00]\n",
      "|   |   |   |--- feature_1 >  4965.50\n",
      "|   |   |   |   |--- value: [782.00]\n",
      "|   |--- feature_2 >  5962.50\n",
      "|   |   |--- value: [640.00]\n",
      "\n"
     ]
    }
   ],
   "source": [
    "text_representation = export_text(regressor)\n",
    "print(text_representation)"
   ]
  },
  {
   "cell_type": "markdown",
   "id": "13392780",
   "metadata": {},
   "source": [
    "## Evaluating the Algorithm"
   ]
  },
  {
   "cell_type": "code",
   "execution_count": 25,
   "id": "0a65b5f1",
   "metadata": {},
   "outputs": [
    {
     "name": "stdout",
     "output_type": "stream",
     "text": [
      "Mean Absolute Error: 47.1\n",
      "Mean Squared Error: 3831.3\n",
      "Root Mean Squared Error: 61.89749591057784\n"
     ]
    }
   ],
   "source": [
    "from sklearn import metrics\n",
    "print('Mean Absolute Error:', metrics.mean_absolute_error(y_test, y_predict))\n",
    "print('Mean Squared Error:', metrics.mean_squared_error(y_test, y_predict))\n",
    "print('Root Mean Squared Error:', np.sqrt(metrics.mean_squared_error(y_test, y_predict)))"
   ]
  }
 ],
 "metadata": {
  "kernelspec": {
   "display_name": "Python 3",
   "language": "python",
   "name": "python3"
  },
  "language_info": {
   "codemirror_mode": {
    "name": "ipython",
    "version": 3
   },
   "file_extension": ".py",
   "mimetype": "text/x-python",
   "name": "python",
   "nbconvert_exporter": "python",
   "pygments_lexer": "ipython3",
   "version": "3.8.8"
  }
 },
 "nbformat": 4,
 "nbformat_minor": 5
}
