{
 "cells": [
  {
   "cell_type": "markdown",
   "id": "128be8e5",
   "metadata": {},
   "source": [
    "# Logistic Regression"
   ]
  },
  {
   "cell_type": "markdown",
   "id": "c4991bb0",
   "metadata": {},
   "source": [
    "## Importing the libraries"
   ]
  },
  {
   "cell_type": "code",
   "execution_count": 4,
   "id": "4f43c05b",
   "metadata": {},
   "outputs": [],
   "source": [
    "import numpy as np\n",
    "import pandas as pd\n",
    "import matplotlib.pyplot as plt"
   ]
  },
  {
   "cell_type": "code",
   "execution_count": 5,
   "id": "5fa4a5b9",
   "metadata": {},
   "outputs": [],
   "source": [
    "from sklearn.model_selection import train_test_split"
   ]
  },
  {
   "cell_type": "code",
   "execution_count": 19,
   "id": "1e161e39",
   "metadata": {},
   "outputs": [],
   "source": [
    "from sklearn.preprocessing import StandardScaler"
   ]
  },
  {
   "cell_type": "code",
   "execution_count": 20,
   "id": "da4bcece",
   "metadata": {},
   "outputs": [],
   "source": [
    "from sklearn.linear_model import LogisticRegression"
   ]
  },
  {
   "cell_type": "code",
   "execution_count": 39,
   "id": "29165f5a",
   "metadata": {},
   "outputs": [],
   "source": [
    "from sklearn.metrics import confusion_matrix,accuracy_score\n",
    "from sklearn.metrics import classification_report"
   ]
  },
  {
   "cell_type": "markdown",
   "id": "e1f2a580",
   "metadata": {},
   "source": [
    "## Importing the dataset"
   ]
  },
  {
   "cell_type": "code",
   "execution_count": 6,
   "id": "0b14efac",
   "metadata": {},
   "outputs": [],
   "source": [
    "dataset = pd.read_csv(\"Social_Network_Ads.csv\")"
   ]
  },
  {
   "cell_type": "code",
   "execution_count": 7,
   "id": "f0e8a01b",
   "metadata": {},
   "outputs": [],
   "source": [
    "x = dataset.iloc[: , :-1].values\n",
    "y = dataset.iloc[: , -1].values"
   ]
  },
  {
   "cell_type": "code",
   "execution_count": 11,
   "id": "45c9190e",
   "metadata": {},
   "outputs": [
    {
     "data": {
      "text/html": [
       "<div>\n",
       "<style scoped>\n",
       "    .dataframe tbody tr th:only-of-type {\n",
       "        vertical-align: middle;\n",
       "    }\n",
       "\n",
       "    .dataframe tbody tr th {\n",
       "        vertical-align: top;\n",
       "    }\n",
       "\n",
       "    .dataframe thead th {\n",
       "        text-align: right;\n",
       "    }\n",
       "</style>\n",
       "<table border=\"1\" class=\"dataframe\">\n",
       "  <thead>\n",
       "    <tr style=\"text-align: right;\">\n",
       "      <th></th>\n",
       "      <th>Age</th>\n",
       "      <th>EstimatedSalary</th>\n",
       "      <th>Purchased</th>\n",
       "    </tr>\n",
       "  </thead>\n",
       "  <tbody>\n",
       "    <tr>\n",
       "      <th>0</th>\n",
       "      <td>19</td>\n",
       "      <td>19000</td>\n",
       "      <td>0</td>\n",
       "    </tr>\n",
       "    <tr>\n",
       "      <th>1</th>\n",
       "      <td>35</td>\n",
       "      <td>20000</td>\n",
       "      <td>0</td>\n",
       "    </tr>\n",
       "    <tr>\n",
       "      <th>2</th>\n",
       "      <td>26</td>\n",
       "      <td>43000</td>\n",
       "      <td>0</td>\n",
       "    </tr>\n",
       "    <tr>\n",
       "      <th>3</th>\n",
       "      <td>27</td>\n",
       "      <td>57000</td>\n",
       "      <td>0</td>\n",
       "    </tr>\n",
       "    <tr>\n",
       "      <th>4</th>\n",
       "      <td>19</td>\n",
       "      <td>76000</td>\n",
       "      <td>0</td>\n",
       "    </tr>\n",
       "  </tbody>\n",
       "</table>\n",
       "</div>"
      ],
      "text/plain": [
       "   Age  EstimatedSalary  Purchased\n",
       "0   19            19000          0\n",
       "1   35            20000          0\n",
       "2   26            43000          0\n",
       "3   27            57000          0\n",
       "4   19            76000          0"
      ]
     },
     "execution_count": 11,
     "metadata": {},
     "output_type": "execute_result"
    }
   ],
   "source": [
    "dataset.head()"
   ]
  },
  {
   "cell_type": "code",
   "execution_count": 12,
   "id": "a3b09d83",
   "metadata": {},
   "outputs": [
    {
     "name": "stdout",
     "output_type": "stream",
     "text": [
      "[[    19  19000]\n",
      " [    35  20000]\n",
      " [    26  43000]\n",
      " [    27  57000]\n",
      " [    19  76000]\n",
      " [    27  58000]\n",
      " [    27  84000]\n",
      " [    32 150000]\n",
      " [    25  33000]\n",
      " [    35  65000]\n",
      " [    26  80000]\n",
      " [    26  52000]\n",
      " [    20  86000]\n",
      " [    32  18000]\n",
      " [    18  82000]\n",
      " [    29  80000]\n",
      " [    47  25000]\n",
      " [    45  26000]\n",
      " [    46  28000]\n",
      " [    48  29000]\n",
      " [    45  22000]\n",
      " [    47  49000]\n",
      " [    48  41000]\n",
      " [    45  22000]\n",
      " [    46  23000]\n",
      " [    47  20000]\n",
      " [    49  28000]\n",
      " [    47  30000]\n",
      " [    29  43000]\n",
      " [    31  18000]\n",
      " [    31  74000]\n",
      " [    27 137000]\n",
      " [    21  16000]\n",
      " [    28  44000]\n",
      " [    27  90000]\n",
      " [    35  27000]\n",
      " [    33  28000]\n",
      " [    30  49000]\n",
      " [    26  72000]\n",
      " [    27  31000]\n",
      " [    27  17000]\n",
      " [    33  51000]\n",
      " [    35 108000]\n",
      " [    30  15000]\n",
      " [    28  84000]\n",
      " [    23  20000]\n",
      " [    25  79000]\n",
      " [    27  54000]\n",
      " [    30 135000]\n",
      " [    31  89000]\n",
      " [    24  32000]\n",
      " [    18  44000]\n",
      " [    29  83000]\n",
      " [    35  23000]\n",
      " [    27  58000]\n",
      " [    24  55000]\n",
      " [    23  48000]\n",
      " [    28  79000]\n",
      " [    22  18000]\n",
      " [    32 117000]\n",
      " [    27  20000]\n",
      " [    25  87000]\n",
      " [    23  66000]\n",
      " [    32 120000]\n",
      " [    59  83000]\n",
      " [    24  58000]\n",
      " [    24  19000]\n",
      " [    23  82000]\n",
      " [    22  63000]\n",
      " [    31  68000]\n",
      " [    25  80000]\n",
      " [    24  27000]\n",
      " [    20  23000]\n",
      " [    33 113000]\n",
      " [    32  18000]\n",
      " [    34 112000]\n",
      " [    18  52000]\n",
      " [    22  27000]\n",
      " [    28  87000]\n",
      " [    26  17000]\n",
      " [    30  80000]\n",
      " [    39  42000]\n",
      " [    20  49000]\n",
      " [    35  88000]\n",
      " [    30  62000]\n",
      " [    31 118000]\n",
      " [    24  55000]\n",
      " [    28  85000]\n",
      " [    26  81000]\n",
      " [    35  50000]\n",
      " [    22  81000]\n",
      " [    30 116000]\n",
      " [    26  15000]\n",
      " [    29  28000]\n",
      " [    29  83000]\n",
      " [    35  44000]\n",
      " [    35  25000]\n",
      " [    28 123000]\n",
      " [    35  73000]\n",
      " [    28  37000]\n",
      " [    27  88000]\n",
      " [    28  59000]\n",
      " [    32  86000]\n",
      " [    33 149000]\n",
      " [    19  21000]\n",
      " [    21  72000]\n",
      " [    26  35000]\n",
      " [    27  89000]\n",
      " [    26  86000]\n",
      " [    38  80000]\n",
      " [    39  71000]\n",
      " [    37  71000]\n",
      " [    38  61000]\n",
      " [    37  55000]\n",
      " [    42  80000]\n",
      " [    40  57000]\n",
      " [    35  75000]\n",
      " [    36  52000]\n",
      " [    40  59000]\n",
      " [    41  59000]\n",
      " [    36  75000]\n",
      " [    37  72000]\n",
      " [    40  75000]\n",
      " [    35  53000]\n",
      " [    41  51000]\n",
      " [    39  61000]\n",
      " [    42  65000]\n",
      " [    26  32000]\n",
      " [    30  17000]\n",
      " [    26  84000]\n",
      " [    31  58000]\n",
      " [    33  31000]\n",
      " [    30  87000]\n",
      " [    21  68000]\n",
      " [    28  55000]\n",
      " [    23  63000]\n",
      " [    20  82000]\n",
      " [    30 107000]\n",
      " [    28  59000]\n",
      " [    19  25000]\n",
      " [    19  85000]\n",
      " [    18  68000]\n",
      " [    35  59000]\n",
      " [    30  89000]\n",
      " [    34  25000]\n",
      " [    24  89000]\n",
      " [    27  96000]\n",
      " [    41  30000]\n",
      " [    29  61000]\n",
      " [    20  74000]\n",
      " [    26  15000]\n",
      " [    41  45000]\n",
      " [    31  76000]\n",
      " [    36  50000]\n",
      " [    40  47000]\n",
      " [    31  15000]\n",
      " [    46  59000]\n",
      " [    29  75000]\n",
      " [    26  30000]\n",
      " [    32 135000]\n",
      " [    32 100000]\n",
      " [    25  90000]\n",
      " [    37  33000]\n",
      " [    35  38000]\n",
      " [    33  69000]\n",
      " [    18  86000]\n",
      " [    22  55000]\n",
      " [    35  71000]\n",
      " [    29 148000]\n",
      " [    29  47000]\n",
      " [    21  88000]\n",
      " [    34 115000]\n",
      " [    26 118000]\n",
      " [    34  43000]\n",
      " [    34  72000]\n",
      " [    23  28000]\n",
      " [    35  47000]\n",
      " [    25  22000]\n",
      " [    24  23000]\n",
      " [    31  34000]\n",
      " [    26  16000]\n",
      " [    31  71000]\n",
      " [    32 117000]\n",
      " [    33  43000]\n",
      " [    33  60000]\n",
      " [    31  66000]\n",
      " [    20  82000]\n",
      " [    33  41000]\n",
      " [    35  72000]\n",
      " [    28  32000]\n",
      " [    24  84000]\n",
      " [    19  26000]\n",
      " [    29  43000]\n",
      " [    19  70000]\n",
      " [    28  89000]\n",
      " [    34  43000]\n",
      " [    30  79000]\n",
      " [    20  36000]\n",
      " [    26  80000]\n",
      " [    35  22000]\n",
      " [    35  39000]\n",
      " [    49  74000]\n",
      " [    39 134000]\n",
      " [    41  71000]\n",
      " [    58 101000]\n",
      " [    47  47000]\n",
      " [    55 130000]\n",
      " [    52 114000]\n",
      " [    40 142000]\n",
      " [    46  22000]\n",
      " [    48  96000]\n",
      " [    52 150000]\n",
      " [    59  42000]\n",
      " [    35  58000]\n",
      " [    47  43000]\n",
      " [    60 108000]\n",
      " [    49  65000]\n",
      " [    40  78000]\n",
      " [    46  96000]\n",
      " [    59 143000]\n",
      " [    41  80000]\n",
      " [    35  91000]\n",
      " [    37 144000]\n",
      " [    60 102000]\n",
      " [    35  60000]\n",
      " [    37  53000]\n",
      " [    36 126000]\n",
      " [    56 133000]\n",
      " [    40  72000]\n",
      " [    42  80000]\n",
      " [    35 147000]\n",
      " [    39  42000]\n",
      " [    40 107000]\n",
      " [    49  86000]\n",
      " [    38 112000]\n",
      " [    46  79000]\n",
      " [    40  57000]\n",
      " [    37  80000]\n",
      " [    46  82000]\n",
      " [    53 143000]\n",
      " [    42 149000]\n",
      " [    38  59000]\n",
      " [    50  88000]\n",
      " [    56 104000]\n",
      " [    41  72000]\n",
      " [    51 146000]\n",
      " [    35  50000]\n",
      " [    57 122000]\n",
      " [    41  52000]\n",
      " [    35  97000]\n",
      " [    44  39000]\n",
      " [    37  52000]\n",
      " [    48 134000]\n",
      " [    37 146000]\n",
      " [    50  44000]\n",
      " [    52  90000]\n",
      " [    41  72000]\n",
      " [    40  57000]\n",
      " [    58  95000]\n",
      " [    45 131000]\n",
      " [    35  77000]\n",
      " [    36 144000]\n",
      " [    55 125000]\n",
      " [    35  72000]\n",
      " [    48  90000]\n",
      " [    42 108000]\n",
      " [    40  75000]\n",
      " [    37  74000]\n",
      " [    47 144000]\n",
      " [    40  61000]\n",
      " [    43 133000]\n",
      " [    59  76000]\n",
      " [    60  42000]\n",
      " [    39 106000]\n",
      " [    57  26000]\n",
      " [    57  74000]\n",
      " [    38  71000]\n",
      " [    49  88000]\n",
      " [    52  38000]\n",
      " [    50  36000]\n",
      " [    59  88000]\n",
      " [    35  61000]\n",
      " [    37  70000]\n",
      " [    52  21000]\n",
      " [    48 141000]\n",
      " [    37  93000]\n",
      " [    37  62000]\n",
      " [    48 138000]\n",
      " [    41  79000]\n",
      " [    37  78000]\n",
      " [    39 134000]\n",
      " [    49  89000]\n",
      " [    55  39000]\n",
      " [    37  77000]\n",
      " [    35  57000]\n",
      " [    36  63000]\n",
      " [    42  73000]\n",
      " [    43 112000]\n",
      " [    45  79000]\n",
      " [    46 117000]\n",
      " [    58  38000]\n",
      " [    48  74000]\n",
      " [    37 137000]\n",
      " [    37  79000]\n",
      " [    40  60000]\n",
      " [    42  54000]\n",
      " [    51 134000]\n",
      " [    47 113000]\n",
      " [    36 125000]\n",
      " [    38  50000]\n",
      " [    42  70000]\n",
      " [    39  96000]\n",
      " [    38  50000]\n",
      " [    49 141000]\n",
      " [    39  79000]\n",
      " [    39  75000]\n",
      " [    54 104000]\n",
      " [    35  55000]\n",
      " [    45  32000]\n",
      " [    36  60000]\n",
      " [    52 138000]\n",
      " [    53  82000]\n",
      " [    41  52000]\n",
      " [    48  30000]\n",
      " [    48 131000]\n",
      " [    41  60000]\n",
      " [    41  72000]\n",
      " [    42  75000]\n",
      " [    36 118000]\n",
      " [    47 107000]\n",
      " [    38  51000]\n",
      " [    48 119000]\n",
      " [    42  65000]\n",
      " [    40  65000]\n",
      " [    57  60000]\n",
      " [    36  54000]\n",
      " [    58 144000]\n",
      " [    35  79000]\n",
      " [    38  55000]\n",
      " [    39 122000]\n",
      " [    53 104000]\n",
      " [    35  75000]\n",
      " [    38  65000]\n",
      " [    47  51000]\n",
      " [    47 105000]\n",
      " [    41  63000]\n",
      " [    53  72000]\n",
      " [    54 108000]\n",
      " [    39  77000]\n",
      " [    38  61000]\n",
      " [    38 113000]\n",
      " [    37  75000]\n",
      " [    42  90000]\n",
      " [    37  57000]\n",
      " [    36  99000]\n",
      " [    60  34000]\n",
      " [    54  70000]\n",
      " [    41  72000]\n",
      " [    40  71000]\n",
      " [    42  54000]\n",
      " [    43 129000]\n",
      " [    53  34000]\n",
      " [    47  50000]\n",
      " [    42  79000]\n",
      " [    42 104000]\n",
      " [    59  29000]\n",
      " [    58  47000]\n",
      " [    46  88000]\n",
      " [    38  71000]\n",
      " [    54  26000]\n",
      " [    60  46000]\n",
      " [    60  83000]\n",
      " [    39  73000]\n",
      " [    59 130000]\n",
      " [    37  80000]\n",
      " [    46  32000]\n",
      " [    46  74000]\n",
      " [    42  53000]\n",
      " [    41  87000]\n",
      " [    58  23000]\n",
      " [    42  64000]\n",
      " [    48  33000]\n",
      " [    44 139000]\n",
      " [    49  28000]\n",
      " [    57  33000]\n",
      " [    56  60000]\n",
      " [    49  39000]\n",
      " [    39  71000]\n",
      " [    47  34000]\n",
      " [    48  35000]\n",
      " [    48  33000]\n",
      " [    47  23000]\n",
      " [    45  45000]\n",
      " [    60  42000]\n",
      " [    39  59000]\n",
      " [    46  41000]\n",
      " [    51  23000]\n",
      " [    50  20000]\n",
      " [    36  33000]\n",
      " [    49  36000]]\n"
     ]
    }
   ],
   "source": [
    "print(x)"
   ]
  },
  {
   "cell_type": "code",
   "execution_count": 13,
   "id": "5ae9dbdd",
   "metadata": {},
   "outputs": [
    {
     "name": "stdout",
     "output_type": "stream",
     "text": [
      "[0 0 0 0 0 0 0 1 0 0 0 0 0 0 0 0 1 1 1 1 1 1 1 1 1 1 1 1 0 0 0 1 0 0 0 0 0\n",
      " 0 0 0 0 0 0 0 0 0 0 0 1 0 0 0 0 0 0 0 0 0 0 0 0 0 0 1 0 0 0 0 0 0 0 0 0 0\n",
      " 0 1 0 0 0 0 0 0 0 0 0 1 0 0 0 0 0 0 0 0 0 0 0 1 0 0 0 0 0 1 0 0 0 0 0 0 0\n",
      " 0 0 0 0 0 0 0 0 0 0 0 0 0 0 0 0 0 0 0 0 0 0 0 0 0 0 1 0 0 0 0 0 0 0 0 1 0\n",
      " 0 0 0 0 0 0 0 0 0 0 0 1 1 0 0 0 0 0 0 0 1 0 0 0 0 0 0 0 0 0 0 0 0 0 1 0 0\n",
      " 0 0 0 0 0 0 0 0 0 0 0 0 0 0 0 0 0 1 0 1 0 1 0 1 0 1 1 0 0 0 1 0 0 0 1 0 1\n",
      " 1 1 0 0 1 1 0 1 1 0 1 1 0 1 0 0 0 1 1 0 1 1 0 1 0 1 0 1 0 0 1 1 0 1 0 0 1\n",
      " 1 0 1 1 0 1 1 0 0 1 0 0 1 1 1 1 1 0 1 1 1 1 0 1 1 0 1 0 1 0 1 1 1 1 0 0 0\n",
      " 1 1 0 1 1 1 1 1 0 0 0 1 1 0 0 1 0 1 0 1 1 0 1 0 1 1 0 1 1 0 0 0 1 1 0 1 0\n",
      " 0 1 0 1 0 0 1 1 0 0 1 1 0 1 1 0 0 1 0 1 0 1 1 1 0 1 0 1 1 1 0 1 1 1 1 0 1\n",
      " 1 1 0 1 0 1 0 0 1 1 0 1 1 1 1 1 1 0 1 1 1 1 1 1 0 1 1 1 0 1]\n"
     ]
    }
   ],
   "source": [
    "print(y)"
   ]
  },
  {
   "cell_type": "markdown",
   "id": "529ad09a",
   "metadata": {},
   "source": [
    "##  Splitting the dataset into the Training set and Test set"
   ]
  },
  {
   "cell_type": "code",
   "execution_count": 15,
   "id": "99df3430",
   "metadata": {},
   "outputs": [],
   "source": [
    "x_train,x_test,y_train,y_test = train_test_split(x,y,test_size = 0.25,random_state = 0)"
   ]
  },
  {
   "cell_type": "markdown",
   "id": "32cd3f8a",
   "metadata": {},
   "source": [
    "## Feature Scaling"
   ]
  },
  {
   "cell_type": "code",
   "execution_count": 18,
   "id": "cbdfaa48",
   "metadata": {},
   "outputs": [],
   "source": [
    "sc = StandardScaler()\n",
    "x_train = sc.fit_transform(x_train)\n",
    "x_test = sc.transform(x_test)"
   ]
  },
  {
   "cell_type": "markdown",
   "id": "d1c602fb",
   "metadata": {},
   "source": [
    "## Training the Logistic Regression model on the Training dataset"
   ]
  },
  {
   "cell_type": "code",
   "execution_count": 22,
   "id": "9c1ff78e",
   "metadata": {},
   "outputs": [
    {
     "data": {
      "text/plain": [
       "LogisticRegression(random_state=0)"
      ]
     },
     "execution_count": 22,
     "metadata": {},
     "output_type": "execute_result"
    }
   ],
   "source": [
    "classifier = LogisticRegression(random_state = 0)\n",
    "classifier.fit(x_train,y_train)"
   ]
  },
  {
   "cell_type": "markdown",
   "id": "ba09346e",
   "metadata": {},
   "source": [
    "## Predict New Result"
   ]
  },
  {
   "cell_type": "code",
   "execution_count": 26,
   "id": "3f18248f",
   "metadata": {},
   "outputs": [
    {
     "name": "stdout",
     "output_type": "stream",
     "text": [
      "[0]\n"
     ]
    }
   ],
   "source": [
    "print(classifier.predict(sc.transform([[30,87000]])))"
   ]
  },
  {
   "cell_type": "markdown",
   "id": "984cfd90",
   "metadata": {},
   "source": [
    "## Predict Test Result"
   ]
  },
  {
   "cell_type": "code",
   "execution_count": 33,
   "id": "488cdcf3",
   "metadata": {},
   "outputs": [
    {
     "name": "stdout",
     "output_type": "stream",
     "text": [
      "    Actual  Predicted\n",
      "0        0          0\n",
      "1        0          0\n",
      "2        0          0\n",
      "3        0          0\n",
      "4        0          0\n",
      "5        0          0\n",
      "6        0          0\n",
      "7        1          1\n",
      "8        0          0\n",
      "9        0          1\n",
      "10       0          0\n",
      "11       0          0\n",
      "12       0          0\n",
      "13       0          0\n",
      "14       0          0\n",
      "15       0          0\n",
      "16       0          0\n",
      "17       0          0\n",
      "18       1          1\n",
      "19       0          0\n",
      "20       0          0\n",
      "21       1          1\n",
      "22       0          0\n",
      "23       1          1\n",
      "24       0          0\n",
      "25       1          1\n",
      "26       0          0\n",
      "27       0          0\n",
      "28       0          0\n",
      "29       0          0\n",
      "30       0          0\n",
      "31       1          0\n",
      "32       1          1\n",
      "33       0          0\n",
      "34       0          0\n",
      "35       0          0\n",
      "36       0          0\n",
      "37       0          0\n",
      "38       0          0\n",
      "39       1          1\n",
      "40       0          0\n",
      "41       0          0\n",
      "42       0          0\n",
      "43       0          0\n",
      "44       1          1\n",
      "45       0          0\n",
      "46       0          0\n",
      "47       1          1\n",
      "48       0          0\n",
      "49       1          1\n",
      "50       1          1\n",
      "51       0          0\n",
      "52       0          0\n",
      "53       0          0\n",
      "54       1          1\n",
      "55       1          0\n",
      "56       0          0\n",
      "57       0          0\n",
      "58       1          0\n",
      "59       0          0\n",
      "60       0          0\n",
      "61       1          1\n",
      "62       0          0\n",
      "63       1          0\n",
      "64       0          0\n",
      "65       1          1\n",
      "66       0          0\n",
      "67       0          0\n",
      "68       0          0\n",
      "69       0          0\n",
      "70       1          1\n",
      "71       0          0\n",
      "72       0          0\n",
      "73       1          0\n",
      "74       0          0\n",
      "75       0          0\n",
      "76       0          1\n",
      "77       0          0\n",
      "78       1          1\n",
      "79       1          1\n",
      "80       1          1\n",
      "81       0          1\n",
      "82       0          0\n",
      "83       0          0\n",
      "84       1          1\n",
      "85       1          1\n",
      "86       0          0\n",
      "87       1          1\n",
      "88       1          0\n",
      "89       0          0\n",
      "90       0          0\n",
      "91       1          1\n",
      "92       0          0\n",
      "93       0          0\n",
      "94       0          0\n",
      "95       1          0\n",
      "96       0          0\n",
      "97       1          0\n",
      "98       1          1\n",
      "99       1          1\n"
     ]
    }
   ],
   "source": [
    "y_predict = classifier.predict(x_test)\n",
    "df=pd.DataFrame({'Actual':y_test, 'Predicted':y_predict})\n",
    "pd.set_option('display.max_rows', df.shape[0]+1)\n",
    "print(df)"
   ]
  },
  {
   "cell_type": "markdown",
   "id": "5d5ecd57",
   "metadata": {},
   "source": [
    "## Making The confusion Matrix and Evaluting model"
   ]
  },
  {
   "cell_type": "code",
   "execution_count": 38,
   "id": "1d337f87",
   "metadata": {},
   "outputs": [
    {
     "name": "stdout",
     "output_type": "stream",
     "text": [
      "[[65  3]\n",
      " [ 8 24]]\n"
     ]
    },
    {
     "data": {
      "text/plain": [
       "0.89"
      ]
     },
     "execution_count": 38,
     "metadata": {},
     "output_type": "execute_result"
    }
   ],
   "source": [
    "cm = confusion_matrix(y_test, y_predict)\n",
    "print(cm)\n",
    "accuracy_score(y_test,y_predict)"
   ]
  },
  {
   "cell_type": "code",
   "execution_count": 40,
   "id": "bcf5f5f3",
   "metadata": {},
   "outputs": [
    {
     "name": "stdout",
     "output_type": "stream",
     "text": [
      "              precision    recall  f1-score   support\n",
      "\n",
      "           0       0.89      0.96      0.92        68\n",
      "           1       0.89      0.75      0.81        32\n",
      "\n",
      "    accuracy                           0.89       100\n",
      "   macro avg       0.89      0.85      0.87       100\n",
      "weighted avg       0.89      0.89      0.89       100\n",
      "\n"
     ]
    }
   ],
   "source": [
    "report = classification_report(y_test, y_predict)\n",
    "print(report)"
   ]
  },
  {
   "cell_type": "markdown",
   "id": "266622da",
   "metadata": {},
   "source": [
    "## Visualising the Training set result"
   ]
  },
  {
   "cell_type": "code",
   "execution_count": 41,
   "id": "1d7311d7",
   "metadata": {},
   "outputs": [
    {
     "name": "stderr",
     "output_type": "stream",
     "text": [
      "*c* argument looks like a single numeric RGB or RGBA sequence, which should be avoided as value-mapping will have precedence in case its length matches with *x* & *y*.  Please use the *color* keyword-argument or provide a 2-D array with a single row if you intend to specify the same RGB or RGBA value for all points.\n",
      "*c* argument looks like a single numeric RGB or RGBA sequence, which should be avoided as value-mapping will have precedence in case its length matches with *x* & *y*.  Please use the *color* keyword-argument or provide a 2-D array with a single row if you intend to specify the same RGB or RGBA value for all points.\n"
     ]
    },
    {
     "data": {
      "image/png": "[encoded data removed]",
      "text/plain": [
       "<Figure size 432x288 with 1 Axes>"
      ]
     },
     "metadata": {
      "needs_background": "light"
     },
     "output_type": "display_data"
    }
   ],
   "source": [
    "from matplotlib.colors import ListedColormap\n",
    "X_set, y_set = sc.inverse_transform(x_train), y_train\n",
    "X1, X2 = np.meshgrid(np.arange(start = X_set[:, 0].min() - 10, stop = X_set[:, 0].max() + 10, step = 0.25),\n",
    "                     np.arange(start = X_set[:, 1].min() - 1000, stop = X_set[:, 1].max() + 1000, step = 0.25))\n",
    "plt.contourf(X1, X2, classifier.predict(sc.transform(np.array([X1.ravel(), X2.ravel()]).T)).reshape(X1.shape),\n",
    "             alpha = 0.75, cmap = ListedColormap(('red', 'green')))\n",
    "plt.xlim(X1.min(), X1.max())\n",
    "plt.ylim(X2.min(), X2.max())\n",
    "for i, j in enumerate(np.unique(y_set)):\n",
    "    plt.scatter(X_set[y_set == j, 0], X_set[y_set == j, 1], c = ListedColormap(('red', 'green'))(i), label = j)\n",
    "plt.title('Logistic Regression (Test set)')\n",
    "plt.xlabel('Age')\n",
    "plt.ylabel('Estimated Salary')\n",
    "plt.legend()\n",
    "plt.show()"
   ]
  },
  {
   "cell_type": "markdown",
   "id": "1f8694c4",
   "metadata": {},
   "source": [
    "## Visualising the Test result"
   ]
  },
  {
   "cell_type": "code",
   "execution_count": null,
   "id": "b2b40df5",
   "metadata": {},
   "outputs": [],
   "source": [
    "from matplotlib.colors import ListedColormap\n",
    "X_set, y_set = sc.inverse_transform(x_test), y_test\n",
    "X1, X2 = np.meshgrid(np.arange(start = X_set[:, 0].min() - 10, stop = X_set[:, 0].max() + 10, step = 0.25),\n",
    "                     np.arange(start = X_set[:, 1].min() - 1000, stop = X_set[:, 1].max() + 1000, step = 0.25))\n",
    "plt.contourf(X1, X2, classifier.predict(sc.transform(np.array([X1.ravel(), X2.ravel()]).T)).reshape(X1.shape),\n",
    "             alpha = 0.75, cmap = ListedColormap(('red', 'green')))\n",
    "plt.xlim(X1.min(), X1.max())\n",
    "plt.ylim(X2.min(), X2.max())\n",
    "for i, j in enumerate(np.unique(y_set)):\n",
    "    plt.scatter(X_set[y_set == j, 0], X_set[y_set == j, 1], c = ListedColormap(('red', 'green'))(i), label = j)\n",
    "plt.title('Logistic Regression (Test set)')\n",
    "plt.xlabel('Age')\n",
    "plt.ylabel('Estimated Salary')\n",
    "plt.legend()\n",
    "plt.show()"
   ]
  },
  {
   "cell_type": "code",
   "execution_count": null,
   "id": "d28330a1",
   "metadata": {},
   "outputs": [],
   "source": []
  }
 ],
 "metadata": {
  "kernelspec": {
   "display_name": "Python 3",
   "language": "python",
   "name": "python3"
  },
  "language_info": {
   "codemirror_mode": {
    "name": "ipython",
    "version": 3
   },
   "file_extension": ".py",
   "mimetype": "text/x-python",
   "name": "python",
   "nbconvert_exporter": "python",
   "pygments_lexer": "ipython3",
   "version": "3.8.8"
  }
 },
 "nbformat": 4,
 "nbformat_minor": 5
}
