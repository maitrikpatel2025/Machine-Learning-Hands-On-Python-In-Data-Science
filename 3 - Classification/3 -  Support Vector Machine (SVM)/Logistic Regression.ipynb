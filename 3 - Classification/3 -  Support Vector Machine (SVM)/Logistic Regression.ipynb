{
 "cells": [
  {
   "cell_type": "markdown",
   "id": "87de8f28",
   "metadata": {},
   "source": [
    "# Logistic Regression"
   ]
  },
  {
   "cell_type": "markdown",
   "id": "1a80dc57",
   "metadata": {},
   "source": [
    "## Importing the libraries"
   ]
  },
  {
   "cell_type": "markdown",
   "id": "e0d020d9",
   "metadata": {},
   "source": [
    "## Importing the dataset"
   ]
  },
  {
   "cell_type": "markdown",
   "id": "8e6d62a0",
   "metadata": {},
   "source": [
    "##  Splitting the dataset into the Training set and Test set"
   ]
  },
  {
   "cell_type": "markdown",
   "id": "87fe5c1e",
   "metadata": {},
   "source": [
    "## Feature Scaling"
   ]
  },
  {
   "cell_type": "markdown",
   "id": "24f8b7f1",
   "metadata": {},
   "source": [
    "## Training the Logistic Regression model on the Training dataset"
   ]
  },
  {
   "cell_type": "markdown",
   "id": "31320e98",
   "metadata": {},
   "source": [
    "## Predict New Result"
   ]
  },
  {
   "cell_type": "markdown",
   "id": "64f91965",
   "metadata": {},
   "source": [
    "## Predict Test Result"
   ]
  },
  {
   "cell_type": "markdown",
   "id": "57369cdf",
   "metadata": {},
   "source": [
    "## Making The confusion Matrix"
   ]
  },
  {
   "cell_type": "markdown",
   "id": "34037ec5",
   "metadata": {},
   "source": [
    "## Visualising the Training set result"
   ]
  },
  {
   "cell_type": "markdown",
   "id": "10b927b0",
   "metadata": {},
   "source": [
    "## Visualising the Test result"
   ]
  },
  {
   "cell_type": "markdown",
   "id": "38334cdd",
   "metadata": {},
   "source": [
    "## Evaluting model"
   ]
  }
 ],
 "metadata": {
  "kernelspec": {
   "display_name": "Python 3",
   "language": "python",
   "name": "python3"
  },
  "language_info": {
   "codemirror_mode": {
    "name": "ipython",
    "version": 3
   },
   "file_extension": ".py",
   "mimetype": "text/x-python",
   "name": "python",
   "nbconvert_exporter": "python",
   "pygments_lexer": "ipython3",
   "version": "3.8.8"
  }
 },
 "nbformat": 4,
 "nbformat_minor": 5
}
