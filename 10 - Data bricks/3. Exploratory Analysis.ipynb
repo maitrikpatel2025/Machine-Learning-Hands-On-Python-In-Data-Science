{
 "cells": [
  {
   "cell_type": "markdown",
   "metadata": {
    "application/vnd.databricks.v1+cell": {
     "cellMetadata": {},
     "inputWidgets": {},
     "nuid": "6053c6f4-250c-455a-88db-b87e21a230a3",
     "showTitle": false,
     "title": ""
    }
   },
   "source": [
    "# Exploratory Analysis\n",
    "\n",
    "Exploratory data analysis, or EDA, builds intuition from your data.  This lesson introduces the objectives and strategies for EDA including summary statistics, basic plotting, and correlations.\n",
    "\n",
    "## ![Spark Logo Tiny](https://files.training.databricks.com/images/105/logo_spark_tiny.png) In this lesson you:<br>\n",
    "* Identify the main objectives of exploratory analysis\n",
    "* Calculate statistical moments to determine the center and spread of data\n",
    "* Create plots of data including histograms and scatterplots\n",
    "* Calculate correlations between variables\n",
    "* Explore more advanced plots to visualize the relation between variables"
   ]
  },
  {
   "cell_type": "markdown",
   "metadata": {
    "application/vnd.databricks.v1+cell": {
     "cellMetadata": {},
     "inputWidgets": {},
     "nuid": "d23cfb7a-4704-4699-a5fa-98dc4fe6ee11",
     "showTitle": false,
     "title": ""
    }
   },
   "source": [
    "<iframe  \n",
    "src=\"//fast.wistia.net/embed/iframe/baptj0tmzh?videoFoam=true\"\n",
    "style=\"border:1px solid #1cb1c2;\"\n",
    "allowtransparency=\"true\" scrolling=\"no\" class=\"wistia_embed\"\n",
    "name=\"wistia_embed\" allowfullscreen mozallowfullscreen webkitallowfullscreen\n",
    "oallowfullscreen msallowfullscreen width=\"640\" height=\"360\" ></iframe>\n",
    "<div>\n",
    "<a target=\"_blank\" href=\"https://fast.wistia.net/embed/iframe/baptj0tmzh?seo=false\">\n",
    "  <img alt=\"Opens in new tab\" src=\"https://files.training.databricks.com/static/images/external-link-icon-16x16.png\"/>&nbsp;Watch full-screen.</a>\n",
    "</div>"
   ]
  },
  {
   "cell_type": "markdown",
   "metadata": {
    "application/vnd.databricks.v1+cell": {
     "cellMetadata": {},
     "inputWidgets": {},
     "nuid": "4ae96587-3667-495b-92c0-51e7ec56eabc",
     "showTitle": false,
     "title": ""
    }
   },
   "source": [
    "-sandbox\n",
    "### Exploratory Data Analysis\n",
    "\n",
    "The goal of exploratory data analysis (EDA) is to build the intuition into a dataset that will inform how you model the data.  Models are only as strong as data that is fed into them and the more insight a data scientist has into their data, the stronger the features they'll create are and the more informed their design choices will be.\n",
    "\n",
    "<div><img src=\"https://files.training.databricks.com/images/eLearning/ML-Part-1/eda.png\" style=\"height: 500px; margin: 20px\"/></div>\n",
    "\n",
    "Exploratory analysis focuses on the following:<br><br>\n",
    "\n",
    "1. Gain basic intuition into the data\n",
    "  - What does each feature represent?\n",
    "  - Are your features categorical or continuous?\n",
    "  - What data needs to be encoded? (e.g. mapping a variable for gender to a number)\n",
    "  - What data types are you working with? (e.g. integers, strings)\n",
    "2. How is the data distributed?\n",
    "  - What is the mean, median, and/or mode of each variable?\n",
    "  - What is the variance, or spread, of each variable?\n",
    "  - Are there outliers?  Missing values?\n",
    "3. How can we visualize the data?\n",
    "  - Histograms, scatterplots, and boxplots\n",
    "  - Correlation plots\n",
    "4. What hypotheses will I test with my models?\n",
    "  - What features are correlated?\n",
    "  - What are our ideal features and how can we build them if they're not already available?"
   ]
  },
  {
   "cell_type": "markdown",
   "metadata": {
    "application/vnd.databricks.v1+cell": {
     "cellMetadata": {},
     "inputWidgets": {},
     "nuid": "bcb3c3ca-7579-4dc3-a09a-e91f442ad1fa",
     "showTitle": false,
     "title": ""
    }
   },
   "source": [
    "Run the following cell to set up our environment."
   ]
  },
  {
   "cell_type": "code",
   "execution_count": 0,
   "metadata": {
    "application/vnd.databricks.v1+cell": {
     "cellMetadata": {},
     "inputWidgets": {},
     "nuid": "963a46db-8f2c-46cb-b8ff-d6cc36cb2881",
     "showTitle": false,
     "title": ""
    }
   },
   "outputs": [
    {
     "output_type": "display_data",
     "data": {
      "text/html": [
       "<style scoped>\n",
       "  .ansiout {\n",
       "    display: block;\n",
       "    unicode-bidi: embed;\n",
       "    white-space: pre-wrap;\n",
       "    word-wrap: break-word;\n",
       "    word-break: break-all;\n",
       "    font-family: \"Source Code Pro\", \"Menlo\", monospace;;\n",
       "    font-size: 13px;\n",
       "    color: #555;\n",
       "    margin-left: 4px;\n",
       "    line-height: 19px;\n",
       "  }\n",
       "</style>"
      ]
     },
     "metadata": {
      "application/vnd.databricks.v1+output": {
       "arguments": {},
       "data": "",
       "errorSummary": "",
       "errorTraceType": null,
       "metadata": {},
       "type": "ipynbError"
      }
     },
     "output_type": "display_data"
    }
   ],
   "source": [
    "%run \"./Includes/Classroom-Setup\""
   ]
  },
  {
   "cell_type": "markdown",
   "metadata": {
    "application/vnd.databricks.v1+cell": {
     "cellMetadata": {},
     "inputWidgets": {},
     "nuid": "e0fe2287-296e-4e48-a1a9-30cc3a6dbf86",
     "showTitle": false,
     "title": ""
    }
   },
   "source": [
    "-sandbox\n",
    "### Count, Mean, and Standard Deviation\n",
    "\n",
    "One way to start the EDA process is to calculate **n**, or the number of observations in the dataset, as well as the center and spread of the data.  We can break this down in the following way:<br><br>\n",
    "\n",
    "1. Count gives us the number of observed values, indicating the size of the dataset and whether there are missing values.\n",
    "2. Mean gives us the center of the data.  This could also be accomplished with the median or mode, depending on the data.\n",
    "3. Standard deviation quantifies how spread out the data is from the mean.  A small standard deviation indicates that the data is closely centered on the mean.\n",
    "\n",
    "<div><img src=\"https://files.training.databricks.com/images/eLearning/ML-Part-1/standard-deviation.png\" style=\"height: 250px; margin: 20px\"/></div>\n",
    "\n",
    "This chart indicates how to interpret standard deviation.  68% of the data is within one standard deviation (represented by `σ`) from the mean.\n",
    "\n",
    "<img alt=\"Side Note\" title=\"Side Note\" style=\"vertical-align: text-bottom; position: relative; height:1.75em; top:0.05em; transform:rotate(15deg)\" src=\"https://files.training.databricks.com/static/images/icon-note.webp\"/> See the <a href=\"https://en.wikipedia.org/wiki/Standard_deviation\" target=\"_blank\">Wikipedia article on Standard Deviation for more details on standard deviation.</a>"
   ]
  },
  {
   "cell_type": "markdown",
   "metadata": {
    "application/vnd.databricks.v1+cell": {
     "cellMetadata": {},
     "inputWidgets": {},
     "nuid": "1a0bbecc-459d-4ebc-9101-1d9f077b2fca",
     "showTitle": false,
     "title": ""
    }
   },
   "source": [
    "Import the Boston dataset and call the `.describe()` method on it."
   ]
  },
  {
   "cell_type": "code",
   "execution_count": 0,
   "metadata": {
    "application/vnd.databricks.v1+cell": {
     "cellMetadata": {
      "byteLimit": 2048000,
      "rowLimit": 10000
     },
     "inputWidgets": {},
     "nuid": "ba541b9c-96f3-4ebf-bab8-9aac945d25f3",
     "showTitle": false,
     "title": ""
    }
   },
   "outputs": [
    {
     "output_type": "display_data",
     "data": {
      "text/html": [
       "<style scoped>\n",
       "  .table-result-container {\n",
       "    max-height: 300px;\n",
       "    overflow: auto;\n",
       "  }\n",
       "  table, th, td {\n",
       "    border: 1px solid black;\n",
       "    border-collapse: collapse;\n",
       "  }\n",
       "  th, td {\n",
       "    padding: 5px;\n",
       "  }\n",
       "  th {\n",
       "    text-align: left;\n",
       "  }\n",
       "</style><div class='table-result-container'><table class='table-result'><thead style='background-color: white'><tr><th>summary</th><th>crim</th><th>zn</th><th>indus</th><th>chas</th><th>nox</th><th>rm</th><th>age</th><th>dis</th><th>rad</th><th>tax</th><th>ptratio</th><th>b</th><th>lstat</th><th>medv</th></tr></thead><tbody><tr><td>count</td><td>506</td><td>506</td><td>506</td><td>506</td><td>506</td><td>506</td><td>506</td><td>506</td><td>506</td><td>506</td><td>506</td><td>506</td><td>506</td><td>506</td></tr><tr><td>mean</td><td>3.6135235573122535</td><td>11.363636363636363</td><td>11.136778656126504</td><td>0.0691699604743083</td><td>0.5546950592885372</td><td>6.284634387351787</td><td>68.57490118577078</td><td>3.795042687747034</td><td>9.549407114624506</td><td>408.2371541501976</td><td>18.455533596837967</td><td>356.67403162055257</td><td>12.653063241106723</td><td>22.532806324110698</td></tr><tr><td>stddev</td><td>8.601545105332491</td><td>23.32245299451514</td><td>6.860352940897589</td><td>0.2539940413404101</td><td>0.11587767566755584</td><td>0.7026171434153232</td><td>28.148861406903595</td><td>2.10571012662761</td><td>8.707259384239366</td><td>168.53711605495903</td><td>2.1649455237144455</td><td>91.29486438415782</td><td>7.141061511348571</td><td>9.197104087379815</td></tr><tr><td>min</td><td>0.00632</td><td>0.0</td><td>0.46</td><td>0</td><td>0.385</td><td>3.561</td><td>2.9</td><td>1.1296</td><td>1</td><td>187</td><td>12.6</td><td>0.32</td><td>1.73</td><td>5.0</td></tr><tr><td>max</td><td>88.9762</td><td>100.0</td><td>27.74</td><td>1</td><td>0.871</td><td>8.78</td><td>100.0</td><td>12.1265</td><td>24</td><td>711</td><td>22.0</td><td>396.9</td><td>37.97</td><td>50.0</td></tr></tbody></table></div>"
      ]
     },
     "metadata": {
      "application/vnd.databricks.v1+output": {
       "addedWidgets": {},
       "aggData": [],
       "aggError": "",
       "aggOverflow": false,
       "aggSchema": [],
       "aggSeriesLimitReached": false,
       "aggType": "",
       "arguments": {},
       "columnCustomDisplayInfos": {},
       "data": [
        [
         "count",
         "506",
         "506",
         "506",
         "506",
         "506",
         "506",
         "506",
         "506",
         "506",
         "506",
         "506",
         "506",
         "506",
         "506"
        ],
        [
         "mean",
         "3.6135235573122535",
         "11.363636363636363",
         "11.136778656126504",
         "0.0691699604743083",
         "0.5546950592885372",
         "6.284634387351787",
         "68.57490118577078",
         "3.795042687747034",
         "9.549407114624506",
         "408.2371541501976",
         "18.455533596837967",
         "356.67403162055257",
         "12.653063241106723",
         "22.532806324110698"
        ],
        [
         "stddev",
         "8.601545105332491",
         "23.32245299451514",
         "6.860352940897589",
         "0.2539940413404101",
         "0.11587767566755584",
         "0.7026171434153232",
         "28.148861406903595",
         "2.10571012662761",
         "8.707259384239366",
         "168.53711605495903",
         "2.1649455237144455",
         "91.29486438415782",
         "7.141061511348571",
         "9.197104087379815"
        ],
        [
         "min",
         "0.00632",
         "0.0",
         "0.46",
         "0",
         "0.385",
         "3.561",
         "2.9",
         "1.1296",
         "1",
         "187",
         "12.6",
         "0.32",
         "1.73",
         "5.0"
        ],
        [
         "max",
         "88.9762",
         "100.0",
         "27.74",
         "1",
         "0.871",
         "8.78",
         "100.0",
         "12.1265",
         "24",
         "711",
         "22.0",
         "396.9",
         "37.97",
         "50.0"
        ]
       ],
       "datasetInfos": [],
       "dbfsResultPath": null,
       "isJsonSchema": true,
       "metadata": {},
       "overflow": false,
       "plotOptions": {
        "customPlotOptions": {},
        "displayType": "table",
        "pivotAggregation": null,
        "pivotColumns": [],
        "xColumns": [],
        "yColumns": []
       },
       "removedWidgets": [],
       "schema": [
        {
         "metadata": "{}",
         "name": "summary",
         "type": "\"string\""
        },
        {
         "metadata": "{}",
         "name": "crim",
         "type": "\"string\""
        },
        {
         "metadata": "{}",
         "name": "zn",
         "type": "\"string\""
        },
        {
         "metadata": "{}",
         "name": "indus",
         "type": "\"string\""
        },
        {
         "metadata": "{}",
         "name": "chas",
         "type": "\"string\""
        },
        {
         "metadata": "{}",
         "name": "nox",
         "type": "\"string\""
        },
        {
         "metadata": "{}",
         "name": "rm",
         "type": "\"string\""
        },
        {
         "metadata": "{}",
         "name": "age",
         "type": "\"string\""
        },
        {
         "metadata": "{}",
         "name": "dis",
         "type": "\"string\""
        },
        {
         "metadata": "{}",
         "name": "rad",
         "type": "\"string\""
        },
        {
         "metadata": "{}",
         "name": "tax",
         "type": "\"string\""
        },
        {
         "metadata": "{}",
         "name": "ptratio",
         "type": "\"string\""
        },
        {
         "metadata": "{}",
         "name": "b",
         "type": "\"string\""
        },
        {
         "metadata": "{}",
         "name": "lstat",
         "type": "\"string\""
        },
        {
         "metadata": "{}",
         "name": "medv",
         "type": "\"string\""
        }
       ],
       "type": "table"
      }
     },
     "output_type": "display_data"
    }
   ],
   "source": [
    "bostonDF = spark.read.format(\"delta\").load(\"dbfs:/user/hive/warehouse/maitrik_patel2025_gmail_com_db.db/boston_housing\")\n",
    "\n",
    "\n",
    "display(bostonDF.describe())"
   ]
  },
  {
   "cell_type": "markdown",
   "metadata": {
    "application/vnd.databricks.v1+cell": {
     "cellMetadata": {},
     "inputWidgets": {},
     "nuid": "9c9f0b36-1251-4d85-90cc-530a22e883a0",
     "showTitle": false,
     "title": ""
    }
   },
   "source": [
    "This shows that there are 506 observations in our dataset with no missing values since the counts of our records are all equal.  Take a look at just the output variable `medv`."
   ]
  },
  {
   "cell_type": "code",
   "execution_count": 0,
   "metadata": {
    "application/vnd.databricks.v1+cell": {
     "cellMetadata": {
      "byteLimit": 2048000,
      "rowLimit": 10000
     },
     "inputWidgets": {},
     "nuid": "4af07f60-aaa4-4b9d-b6d8-9a346f6b8e70",
     "showTitle": false,
     "title": ""
    }
   },
   "outputs": [
    {
     "output_type": "display_data",
     "data": {
      "text/html": [
       "<style scoped>\n",
       "  .table-result-container {\n",
       "    max-height: 300px;\n",
       "    overflow: auto;\n",
       "  }\n",
       "  table, th, td {\n",
       "    border: 1px solid black;\n",
       "    border-collapse: collapse;\n",
       "  }\n",
       "  th, td {\n",
       "    padding: 5px;\n",
       "  }\n",
       "  th {\n",
       "    text-align: left;\n",
       "  }\n",
       "</style><div class='table-result-container'><table class='table-result'><thead style='background-color: white'><tr><th>summary</th><th>medv</th></tr></thead><tbody><tr><td>count</td><td>506</td></tr><tr><td>mean</td><td>22.532806324110698</td></tr><tr><td>stddev</td><td>9.197104087379815</td></tr><tr><td>min</td><td>5.0</td></tr><tr><td>max</td><td>50.0</td></tr></tbody></table></div>"
      ]
     },
     "metadata": {
      "application/vnd.databricks.v1+output": {
       "addedWidgets": {},
       "aggData": [],
       "aggError": "",
       "aggOverflow": false,
       "aggSchema": [],
       "aggSeriesLimitReached": false,
       "aggType": "",
       "arguments": {},
       "columnCustomDisplayInfos": {},
       "data": [
        [
         "count",
         "506"
        ],
        [
         "mean",
         "22.532806324110698"
        ],
        [
         "stddev",
         "9.197104087379815"
        ],
        [
         "min",
         "5.0"
        ],
        [
         "max",
         "50.0"
        ]
       ],
       "datasetInfos": [],
       "dbfsResultPath": null,
       "isJsonSchema": true,
       "metadata": {},
       "overflow": false,
       "plotOptions": {
        "customPlotOptions": {},
        "displayType": "table",
        "pivotAggregation": null,
        "pivotColumns": [],
        "xColumns": [],
        "yColumns": []
       },
       "removedWidgets": [],
       "schema": [
        {
         "metadata": "{}",
         "name": "summary",
         "type": "\"string\""
        },
        {
         "metadata": "{}",
         "name": "medv",
         "type": "\"string\""
        }
       ],
       "type": "table"
      }
     },
     "output_type": "display_data"
    }
   ],
   "source": [
    "display(bostonDF.select(\"medv\").describe())"
   ]
  },
  {
   "cell_type": "markdown",
   "metadata": {
    "application/vnd.databricks.v1+cell": {
     "cellMetadata": {},
     "inputWidgets": {},
     "nuid": "f3ac0dfc-55f7-4b97-ad67-007fee3a6188",
     "showTitle": false,
     "title": ""
    }
   },
   "source": [
    "-sandbox\n",
    "As seen with the mean and standard deviation, the average house price is $22,532 with 68% of the observations within $9,197 of that average.\n",
    "\n",
    "<img alt=\"Side Note\" title=\"Side Note\" style=\"vertical-align: text-bottom; position: relative; height:1.75em; top:0.05em; transform:rotate(15deg)\" src=\"https://files.training.databricks.com/static/images/icon-note.webp\"/> `medv` is in 1000's of dollars"
   ]
  },
  {
   "cell_type": "markdown",
   "metadata": {
    "application/vnd.databricks.v1+cell": {
     "cellMetadata": {},
     "inputWidgets": {},
     "nuid": "dfb80e92-bf7f-4be4-a47f-41eb517e182d",
     "showTitle": false,
     "title": ""
    }
   },
   "source": [
    "-sandbox\n",
    "### Plotting, Distributions, and Outliers\n",
    "\n",
    "Anscombe's Quartet is a set of four datasets that have identical means, standard deviations, and correlations.  Despite the fact that the descriptive statistics are the same, the underlying data is very different.  This is a cautionary tale for why data should always be plotted in the EDA phase.\n",
    "\n",
    "<div><img src=\"https://files.training.databricks.com/images/eLearning/ML-Part-1/anscombes_quartet.svg\" style=\"height: 400px; margin: 20px\"/></div>\n",
    "\n",
    "Plotting of a single variable is normally first done using a histogram.  This plots the general distribution of the data with the value on the x axis and the frequency the value appears on the y axis.  Plotting of two variables is normally first done with a scatterplot.\n",
    "\n",
    "<img alt=\"Side Note\" title=\"Side Note\" style=\"vertical-align: text-bottom; position: relative; height:1.75em; top:0.05em; transform:rotate(15deg)\" src=\"https://files.training.databricks.com/static/images/icon-note.webp\"/> For plotting a single variable in a more more rigorous way, use <a href=\"https://en.wikipedia.org/wiki/Kernel_density_estimation\" target=\"_blank\">kernel density estimation</a> plots instead of histograms."
   ]
  },
  {
   "cell_type": "markdown",
   "metadata": {
    "application/vnd.databricks.v1+cell": {
     "cellMetadata": {},
     "inputWidgets": {},
     "nuid": "a45bae45-0c0f-42a3-9c82-f3876013461f",
     "showTitle": false,
     "title": ""
    }
   },
   "source": [
    "-sandbox\n",
    "Plot a histogram of the median value in the housing dataset.  Display this column, click on the plotting option, and visualize it as a histogram.\n",
    "\n",
    "<div><img src=\"https://files.training.databricks.com/images/eLearning/ML-Part-1/plotting.png\" style=\"height: 300px; margin: 20px\"/></div>"
   ]
  },
  {
   "cell_type": "code",
   "execution_count": 0,
   "metadata": {
    "application/vnd.databricks.v1+cell": {
     "cellMetadata": {
      "byteLimit": 2048000,
      "rowLimit": 10000
     },
     "inputWidgets": {},
     "nuid": "f057295b-fc6c-4f27-b152-e6a162a71d8b",
     "showTitle": false,
     "title": ""
    }
   },
   "outputs": [
    {
     "output_type": "display_data",
     "data": {
      "text/html": [
       "<style scoped>\n",
       "  .table-result-container {\n",
       "    max-height: 300px;\n",
       "    overflow: auto;\n",
       "  }\n",
       "  table, th, td {\n",
       "    border: 1px solid black;\n",
       "    border-collapse: collapse;\n",
       "  }\n",
       "  th, td {\n",
       "    padding: 5px;\n",
       "  }\n",
       "  th {\n",
       "    text-align: left;\n",
       "  }\n",
       "</style><div class='table-result-container'><table class='table-result'><thead style='background-color: white'><tr><th>medv</th></tr></thead><tbody><tr><td>24.0</td></tr><tr><td>21.6</td></tr><tr><td>34.7</td></tr><tr><td>33.4</td></tr><tr><td>36.2</td></tr><tr><td>28.7</td></tr><tr><td>22.9</td></tr><tr><td>27.1</td></tr><tr><td>16.5</td></tr><tr><td>18.9</td></tr><tr><td>15.0</td></tr><tr><td>18.9</td></tr><tr><td>21.7</td></tr><tr><td>20.4</td></tr><tr><td>18.2</td></tr><tr><td>19.9</td></tr><tr><td>23.1</td></tr><tr><td>17.5</td></tr><tr><td>20.2</td></tr><tr><td>18.2</td></tr><tr><td>13.6</td></tr><tr><td>19.6</td></tr><tr><td>15.2</td></tr><tr><td>14.5</td></tr><tr><td>15.6</td></tr><tr><td>13.9</td></tr><tr><td>16.6</td></tr><tr><td>14.8</td></tr><tr><td>18.4</td></tr><tr><td>21.0</td></tr><tr><td>12.7</td></tr><tr><td>14.5</td></tr><tr><td>13.2</td></tr><tr><td>13.1</td></tr><tr><td>13.5</td></tr><tr><td>18.9</td></tr><tr><td>20.0</td></tr><tr><td>21.0</td></tr><tr><td>24.7</td></tr><tr><td>30.8</td></tr><tr><td>34.9</td></tr><tr><td>26.6</td></tr><tr><td>25.3</td></tr><tr><td>24.7</td></tr><tr><td>21.2</td></tr><tr><td>19.3</td></tr><tr><td>20.0</td></tr><tr><td>16.6</td></tr><tr><td>14.4</td></tr><tr><td>19.4</td></tr><tr><td>19.7</td></tr><tr><td>20.5</td></tr><tr><td>25.0</td></tr><tr><td>23.4</td></tr><tr><td>18.9</td></tr><tr><td>35.4</td></tr><tr><td>24.7</td></tr><tr><td>31.6</td></tr><tr><td>23.3</td></tr><tr><td>19.6</td></tr><tr><td>18.7</td></tr><tr><td>16.0</td></tr><tr><td>22.2</td></tr><tr><td>25.0</td></tr><tr><td>33.0</td></tr><tr><td>23.5</td></tr><tr><td>19.4</td></tr><tr><td>22.0</td></tr><tr><td>17.4</td></tr><tr><td>20.9</td></tr><tr><td>24.2</td></tr><tr><td>21.7</td></tr><tr><td>22.8</td></tr><tr><td>23.4</td></tr><tr><td>24.1</td></tr><tr><td>21.4</td></tr><tr><td>20.0</td></tr><tr><td>20.8</td></tr><tr><td>21.2</td></tr><tr><td>20.3</td></tr><tr><td>28.0</td></tr><tr><td>23.9</td></tr><tr><td>24.8</td></tr><tr><td>22.9</td></tr><tr><td>23.9</td></tr><tr><td>26.6</td></tr><tr><td>22.5</td></tr><tr><td>22.2</td></tr><tr><td>23.6</td></tr><tr><td>28.7</td></tr><tr><td>22.6</td></tr><tr><td>22.0</td></tr><tr><td>22.9</td></tr><tr><td>25.0</td></tr><tr><td>20.6</td></tr><tr><td>28.4</td></tr><tr><td>21.4</td></tr><tr><td>38.7</td></tr><tr><td>43.8</td></tr><tr><td>33.2</td></tr><tr><td>27.5</td></tr><tr><td>26.5</td></tr><tr><td>18.6</td></tr><tr><td>19.3</td></tr><tr><td>20.1</td></tr><tr><td>19.5</td></tr><tr><td>19.5</td></tr><tr><td>20.4</td></tr><tr><td>19.8</td></tr><tr><td>19.4</td></tr><tr><td>21.7</td></tr><tr><td>22.8</td></tr><tr><td>18.8</td></tr><tr><td>18.7</td></tr><tr><td>18.5</td></tr><tr><td>18.3</td></tr><tr><td>21.2</td></tr><tr><td>19.2</td></tr><tr><td>20.4</td></tr><tr><td>19.3</td></tr><tr><td>22.0</td></tr><tr><td>20.3</td></tr><tr><td>20.5</td></tr><tr><td>17.3</td></tr><tr><td>18.8</td></tr><tr><td>21.4</td></tr><tr><td>15.7</td></tr><tr><td>16.2</td></tr><tr><td>18.0</td></tr><tr><td>14.3</td></tr><tr><td>19.2</td></tr><tr><td>19.6</td></tr><tr><td>23.0</td></tr><tr><td>18.4</td></tr><tr><td>15.6</td></tr><tr><td>18.1</td></tr><tr><td>17.4</td></tr><tr><td>17.1</td></tr><tr><td>13.3</td></tr><tr><td>17.8</td></tr><tr><td>14.0</td></tr><tr><td>14.4</td></tr><tr><td>13.4</td></tr><tr><td>15.6</td></tr><tr><td>11.8</td></tr><tr><td>13.8</td></tr><tr><td>15.6</td></tr><tr><td>14.6</td></tr><tr><td>17.8</td></tr><tr><td>15.4</td></tr><tr><td>21.5</td></tr><tr><td>19.6</td></tr><tr><td>15.3</td></tr><tr><td>19.4</td></tr><tr><td>17.0</td></tr><tr><td>15.6</td></tr><tr><td>13.1</td></tr><tr><td>41.3</td></tr><tr><td>24.3</td></tr><tr><td>23.3</td></tr><tr><td>27.0</td></tr><tr><td>50.0</td></tr><tr><td>50.0</td></tr><tr><td>50.0</td></tr><tr><td>22.7</td></tr><tr><td>25.0</td></tr><tr><td>50.0</td></tr><tr><td>23.8</td></tr><tr><td>23.8</td></tr><tr><td>22.3</td></tr><tr><td>17.4</td></tr><tr><td>19.1</td></tr><tr><td>23.1</td></tr><tr><td>23.6</td></tr><tr><td>22.6</td></tr><tr><td>29.4</td></tr><tr><td>23.2</td></tr><tr><td>24.6</td></tr><tr><td>29.9</td></tr><tr><td>37.2</td></tr><tr><td>39.8</td></tr><tr><td>36.2</td></tr><tr><td>37.9</td></tr><tr><td>32.5</td></tr><tr><td>26.4</td></tr><tr><td>29.6</td></tr><tr><td>50.0</td></tr><tr><td>32.0</td></tr><tr><td>29.8</td></tr><tr><td>34.9</td></tr><tr><td>37.0</td></tr><tr><td>30.5</td></tr><tr><td>36.4</td></tr><tr><td>31.1</td></tr><tr><td>29.1</td></tr><tr><td>50.0</td></tr><tr><td>33.3</td></tr><tr><td>30.3</td></tr><tr><td>34.6</td></tr><tr><td>34.9</td></tr><tr><td>32.9</td></tr><tr><td>24.1</td></tr><tr><td>42.3</td></tr><tr><td>48.5</td></tr><tr><td>50.0</td></tr><tr><td>22.6</td></tr><tr><td>24.4</td></tr><tr><td>22.5</td></tr><tr><td>24.4</td></tr><tr><td>20.0</td></tr><tr><td>21.7</td></tr><tr><td>19.3</td></tr><tr><td>22.4</td></tr><tr><td>28.1</td></tr><tr><td>23.7</td></tr><tr><td>25.0</td></tr><tr><td>23.3</td></tr><tr><td>28.7</td></tr><tr><td>21.5</td></tr><tr><td>23.0</td></tr><tr><td>26.7</td></tr><tr><td>21.7</td></tr><tr><td>27.5</td></tr><tr><td>30.1</td></tr><tr><td>44.8</td></tr><tr><td>50.0</td></tr><tr><td>37.6</td></tr><tr><td>31.6</td></tr><tr><td>46.7</td></tr><tr><td>31.5</td></tr><tr><td>24.3</td></tr><tr><td>31.7</td></tr><tr><td>41.7</td></tr><tr><td>48.3</td></tr><tr><td>29.0</td></tr><tr><td>24.0</td></tr><tr><td>25.1</td></tr><tr><td>31.5</td></tr><tr><td>23.7</td></tr><tr><td>23.3</td></tr><tr><td>22.0</td></tr><tr><td>20.1</td></tr><tr><td>22.2</td></tr><tr><td>23.7</td></tr><tr><td>17.6</td></tr><tr><td>18.5</td></tr><tr><td>24.3</td></tr><tr><td>20.5</td></tr><tr><td>24.5</td></tr><tr><td>26.2</td></tr><tr><td>24.4</td></tr><tr><td>24.8</td></tr><tr><td>29.6</td></tr><tr><td>42.8</td></tr><tr><td>21.9</td></tr><tr><td>20.9</td></tr><tr><td>44.0</td></tr><tr><td>50.0</td></tr><tr><td>36.0</td></tr><tr><td>30.1</td></tr><tr><td>33.8</td></tr><tr><td>43.1</td></tr><tr><td>48.8</td></tr><tr><td>31.0</td></tr><tr><td>36.5</td></tr><tr><td>22.8</td></tr><tr><td>30.7</td></tr><tr><td>50.0</td></tr><tr><td>43.5</td></tr><tr><td>20.7</td></tr><tr><td>21.1</td></tr><tr><td>25.2</td></tr><tr><td>24.4</td></tr><tr><td>35.2</td></tr><tr><td>32.4</td></tr><tr><td>32.0</td></tr><tr><td>33.2</td></tr><tr><td>33.1</td></tr><tr><td>29.1</td></tr><tr><td>35.1</td></tr><tr><td>45.4</td></tr><tr><td>35.4</td></tr><tr><td>46.0</td></tr><tr><td>50.0</td></tr><tr><td>32.2</td></tr><tr><td>22.0</td></tr><tr><td>20.1</td></tr><tr><td>23.2</td></tr><tr><td>22.3</td></tr><tr><td>24.8</td></tr><tr><td>28.5</td></tr><tr><td>37.3</td></tr><tr><td>27.9</td></tr><tr><td>23.9</td></tr><tr><td>21.7</td></tr><tr><td>28.6</td></tr><tr><td>27.1</td></tr><tr><td>20.3</td></tr><tr><td>22.5</td></tr><tr><td>29.0</td></tr><tr><td>24.8</td></tr><tr><td>22.0</td></tr><tr><td>26.4</td></tr><tr><td>33.1</td></tr><tr><td>36.1</td></tr><tr><td>28.4</td></tr><tr><td>33.4</td></tr><tr><td>28.2</td></tr><tr><td>22.8</td></tr><tr><td>20.3</td></tr><tr><td>16.1</td></tr><tr><td>22.1</td></tr><tr><td>19.4</td></tr><tr><td>21.6</td></tr><tr><td>23.8</td></tr><tr><td>16.2</td></tr><tr><td>17.8</td></tr><tr><td>19.8</td></tr><tr><td>23.1</td></tr><tr><td>21.0</td></tr><tr><td>23.8</td></tr><tr><td>23.1</td></tr><tr><td>20.4</td></tr><tr><td>18.5</td></tr><tr><td>25.0</td></tr><tr><td>24.6</td></tr><tr><td>23.0</td></tr><tr><td>22.2</td></tr><tr><td>19.3</td></tr><tr><td>22.6</td></tr><tr><td>19.8</td></tr><tr><td>17.1</td></tr><tr><td>19.4</td></tr><tr><td>22.2</td></tr><tr><td>20.7</td></tr><tr><td>21.1</td></tr><tr><td>19.5</td></tr><tr><td>18.5</td></tr><tr><td>20.6</td></tr><tr><td>19.0</td></tr><tr><td>18.7</td></tr><tr><td>32.7</td></tr><tr><td>16.5</td></tr><tr><td>23.9</td></tr><tr><td>31.2</td></tr><tr><td>17.5</td></tr><tr><td>17.2</td></tr><tr><td>23.1</td></tr><tr><td>24.5</td></tr><tr><td>26.6</td></tr><tr><td>22.9</td></tr><tr><td>24.1</td></tr><tr><td>18.6</td></tr><tr><td>30.1</td></tr><tr><td>18.2</td></tr><tr><td>20.6</td></tr><tr><td>17.8</td></tr><tr><td>21.7</td></tr><tr><td>22.7</td></tr><tr><td>22.6</td></tr><tr><td>25.0</td></tr><tr><td>19.9</td></tr><tr><td>20.8</td></tr><tr><td>16.8</td></tr><tr><td>21.9</td></tr><tr><td>27.5</td></tr><tr><td>21.9</td></tr><tr><td>23.1</td></tr><tr><td>50.0</td></tr><tr><td>50.0</td></tr><tr><td>50.0</td></tr><tr><td>50.0</td></tr><tr><td>50.0</td></tr><tr><td>13.8</td></tr><tr><td>13.8</td></tr><tr><td>15.0</td></tr><tr><td>13.9</td></tr><tr><td>13.3</td></tr><tr><td>13.1</td></tr><tr><td>10.2</td></tr><tr><td>10.4</td></tr><tr><td>10.9</td></tr><tr><td>11.3</td></tr><tr><td>12.3</td></tr><tr><td>8.8</td></tr><tr><td>7.2</td></tr><tr><td>10.5</td></tr><tr><td>7.4</td></tr><tr><td>10.2</td></tr><tr><td>11.5</td></tr><tr><td>15.1</td></tr><tr><td>23.2</td></tr><tr><td>9.7</td></tr><tr><td>13.8</td></tr><tr><td>12.7</td></tr><tr><td>13.1</td></tr><tr><td>12.5</td></tr><tr><td>8.5</td></tr><tr><td>5.0</td></tr><tr><td>6.3</td></tr><tr><td>5.6</td></tr><tr><td>7.2</td></tr><tr><td>12.1</td></tr><tr><td>8.3</td></tr><tr><td>8.5</td></tr><tr><td>5.0</td></tr><tr><td>11.9</td></tr><tr><td>27.9</td></tr><tr><td>17.2</td></tr><tr><td>27.5</td></tr><tr><td>15.0</td></tr><tr><td>17.2</td></tr><tr><td>17.9</td></tr><tr><td>16.3</td></tr><tr><td>7.0</td></tr><tr><td>7.2</td></tr><tr><td>7.5</td></tr><tr><td>10.4</td></tr><tr><td>8.8</td></tr><tr><td>8.4</td></tr><tr><td>16.7</td></tr><tr><td>14.2</td></tr><tr><td>20.8</td></tr><tr><td>13.4</td></tr><tr><td>11.7</td></tr><tr><td>8.3</td></tr><tr><td>10.2</td></tr><tr><td>10.9</td></tr><tr><td>11.0</td></tr><tr><td>9.5</td></tr><tr><td>14.5</td></tr><tr><td>14.1</td></tr><tr><td>16.1</td></tr><tr><td>14.3</td></tr><tr><td>11.7</td></tr><tr><td>13.4</td></tr><tr><td>9.6</td></tr><tr><td>8.7</td></tr><tr><td>8.4</td></tr><tr><td>12.8</td></tr><tr><td>10.5</td></tr><tr><td>17.1</td></tr><tr><td>18.4</td></tr><tr><td>15.4</td></tr><tr><td>10.8</td></tr><tr><td>11.8</td></tr><tr><td>14.9</td></tr><tr><td>12.6</td></tr><tr><td>14.1</td></tr><tr><td>13.0</td></tr><tr><td>13.4</td></tr><tr><td>15.2</td></tr><tr><td>16.1</td></tr><tr><td>17.8</td></tr><tr><td>14.9</td></tr><tr><td>14.1</td></tr><tr><td>12.7</td></tr><tr><td>13.5</td></tr><tr><td>14.9</td></tr><tr><td>20.0</td></tr><tr><td>16.4</td></tr><tr><td>17.7</td></tr><tr><td>19.5</td></tr><tr><td>20.2</td></tr><tr><td>21.4</td></tr><tr><td>19.9</td></tr><tr><td>19.0</td></tr><tr><td>19.1</td></tr><tr><td>19.1</td></tr><tr><td>20.1</td></tr><tr><td>19.9</td></tr><tr><td>19.6</td></tr><tr><td>23.2</td></tr><tr><td>29.8</td></tr><tr><td>13.8</td></tr><tr><td>13.3</td></tr><tr><td>16.7</td></tr><tr><td>12.0</td></tr><tr><td>14.6</td></tr><tr><td>21.4</td></tr><tr><td>23.0</td></tr><tr><td>23.7</td></tr><tr><td>25.0</td></tr><tr><td>21.8</td></tr><tr><td>20.6</td></tr><tr><td>21.2</td></tr><tr><td>19.1</td></tr><tr><td>20.6</td></tr><tr><td>15.2</td></tr><tr><td>7.0</td></tr><tr><td>8.1</td></tr><tr><td>13.6</td></tr><tr><td>20.1</td></tr><tr><td>21.8</td></tr><tr><td>24.5</td></tr><tr><td>23.1</td></tr><tr><td>19.7</td></tr><tr><td>18.3</td></tr><tr><td>21.2</td></tr><tr><td>17.5</td></tr><tr><td>16.8</td></tr><tr><td>22.4</td></tr><tr><td>20.6</td></tr><tr><td>23.9</td></tr><tr><td>22.0</td></tr><tr><td>11.9</td></tr></tbody></table></div>"
      ]
     },
     "metadata": {
      "application/vnd.databricks.v1+output": {
       "addedWidgets": {},
       "aggData": [],
       "aggError": "",
       "aggOverflow": false,
       "aggSchema": [],
       "aggSeriesLimitReached": false,
       "aggType": "",
       "arguments": {},
       "columnCustomDisplayInfos": {},
       "data": [
        [
         24.0
        ],
        [
         21.6
        ],
        [
         34.7
        ],
        [
         33.4
        ],
        [
         36.2
        ],
        [
         28.7
        ],
        [
         22.9
        ],
        [
         27.1
        ],
        [
         16.5
        ],
        [
         18.9
        ],
        [
         15.0
        ],
        [
         18.9
        ],
        [
         21.7
        ],
        [
         20.4
        ],
        [
         18.2
        ],
        [
         19.9
        ],
        [
         23.1
        ],
        [
         17.5
        ],
        [
         20.2
        ],
        [
         18.2
        ],
        [
         13.6
        ],
        [
         19.6
        ],
        [
         15.2
        ],
        [
         14.5
        ],
        [
         15.6
        ],
        [
         13.9
        ],
        [
         16.6
        ],
        [
         14.8
        ],
        [
         18.4
        ],
        [
         21.0
        ],
        [
         12.7
        ],
        [
         14.5
        ],
        [
         13.2
        ],
        [
         13.1
        ],
        [
         13.5
        ],
        [
         18.9
        ],
        [
         20.0
        ],
        [
         21.0
        ],
        [
         24.7
        ],
        [
         30.8
        ],
        [
         34.9
        ],
        [
         26.6
        ],
        [
         25.3
        ],
        [
         24.7
        ],
        [
         21.2
        ],
        [
         19.3
        ],
        [
         20.0
        ],
        [
         16.6
        ],
        [
         14.4
        ],
        [
         19.4
        ],
        [
         19.7
        ],
        [
         20.5
        ],
        [
         25.0
        ],
        [
         23.4
        ],
        [
         18.9
        ],
        [
         35.4
        ],
        [
         24.7
        ],
        [
         31.6
        ],
        [
         23.3
        ],
        [
         19.6
        ],
        [
         18.7
        ],
        [
         16.0
        ],
        [
         22.2
        ],
        [
         25.0
        ],
        [
         33.0
        ],
        [
         23.5
        ],
        [
         19.4
        ],
        [
         22.0
        ],
        [
         17.4
        ],
        [
         20.9
        ],
        [
         24.2
        ],
        [
         21.7
        ],
        [
         22.8
        ],
        [
         23.4
        ],
        [
         24.1
        ],
        [
         21.4
        ],
        [
         20.0
        ],
        [
         20.8
        ],
        [
         21.2
        ],
        [
         20.3
        ],
        [
         28.0
        ],
        [
         23.9
        ],
        [
         24.8
        ],
        [
         22.9
        ],
        [
         23.9
        ],
        [
         26.6
        ],
        [
         22.5
        ],
        [
         22.2
        ],
        [
         23.6
        ],
        [
         28.7
        ],
        [
         22.6
        ],
        [
         22.0
        ],
        [
         22.9
        ],
        [
         25.0
        ],
        [
         20.6
        ],
        [
         28.4
        ],
        [
         21.4
        ],
        [
         38.7
        ],
        [
         43.8
        ],
        [
         33.2
        ],
        [
         27.5
        ],
        [
         26.5
        ],
        [
         18.6
        ],
        [
         19.3
        ],
        [
         20.1
        ],
        [
         19.5
        ],
        [
         19.5
        ],
        [
         20.4
        ],
        [
         19.8
        ],
        [
         19.4
        ],
        [
         21.7
        ],
        [
         22.8
        ],
        [
         18.8
        ],
        [
         18.7
        ],
        [
         18.5
        ],
        [
         18.3
        ],
        [
         21.2
        ],
        [
         19.2
        ],
        [
         20.4
        ],
        [
         19.3
        ],
        [
         22.0
        ],
        [
         20.3
        ],
        [
         20.5
        ],
        [
         17.3
        ],
        [
         18.8
        ],
        [
         21.4
        ],
        [
         15.7
        ],
        [
         16.2
        ],
        [
         18.0
        ],
        [
         14.3
        ],
        [
         19.2
        ],
        [
         19.6
        ],
        [
         23.0
        ],
        [
         18.4
        ],
        [
         15.6
        ],
        [
         18.1
        ],
        [
         17.4
        ],
        [
         17.1
        ],
        [
         13.3
        ],
        [
         17.8
        ],
        [
         14.0
        ],
        [
         14.4
        ],
        [
         13.4
        ],
        [
         15.6
        ],
        [
         11.8
        ],
        [
         13.8
        ],
        [
         15.6
        ],
        [
         14.6
        ],
        [
         17.8
        ],
        [
         15.4
        ],
        [
         21.5
        ],
        [
         19.6
        ],
        [
         15.3
        ],
        [
         19.4
        ],
        [
         17.0
        ],
        [
         15.6
        ],
        [
         13.1
        ],
        [
         41.3
        ],
        [
         24.3
        ],
        [
         23.3
        ],
        [
         27.0
        ],
        [
         50.0
        ],
        [
         50.0
        ],
        [
         50.0
        ],
        [
         22.7
        ],
        [
         25.0
        ],
        [
         50.0
        ],
        [
         23.8
        ],
        [
         23.8
        ],
        [
         22.3
        ],
        [
         17.4
        ],
        [
         19.1
        ],
        [
         23.1
        ],
        [
         23.6
        ],
        [
         22.6
        ],
        [
         29.4
        ],
        [
         23.2
        ],
        [
         24.6
        ],
        [
         29.9
        ],
        [
         37.2
        ],
        [
         39.8
        ],
        [
         36.2
        ],
        [
         37.9
        ],
        [
         32.5
        ],
        [
         26.4
        ],
        [
         29.6
        ],
        [
         50.0
        ],
        [
         32.0
        ],
        [
         29.8
        ],
        [
         34.9
        ],
        [
         37.0
        ],
        [
         30.5
        ],
        [
         36.4
        ],
        [
         31.1
        ],
        [
         29.1
        ],
        [
         50.0
        ],
        [
         33.3
        ],
        [
         30.3
        ],
        [
         34.6
        ],
        [
         34.9
        ],
        [
         32.9
        ],
        [
         24.1
        ],
        [
         42.3
        ],
        [
         48.5
        ],
        [
         50.0
        ],
        [
         22.6
        ],
        [
         24.4
        ],
        [
         22.5
        ],
        [
         24.4
        ],
        [
         20.0
        ],
        [
         21.7
        ],
        [
         19.3
        ],
        [
         22.4
        ],
        [
         28.1
        ],
        [
         23.7
        ],
        [
         25.0
        ],
        [
         23.3
        ],
        [
         28.7
        ],
        [
         21.5
        ],
        [
         23.0
        ],
        [
         26.7
        ],
        [
         21.7
        ],
        [
         27.5
        ],
        [
         30.1
        ],
        [
         44.8
        ],
        [
         50.0
        ],
        [
         37.6
        ],
        [
         31.6
        ],
        [
         46.7
        ],
        [
         31.5
        ],
        [
         24.3
        ],
        [
         31.7
        ],
        [
         41.7
        ],
        [
         48.3
        ],
        [
         29.0
        ],
        [
         24.0
        ],
        [
         25.1
        ],
        [
         31.5
        ],
        [
         23.7
        ],
        [
         23.3
        ],
        [
         22.0
        ],
        [
         20.1
        ],
        [
         22.2
        ],
        [
         23.7
        ],
        [
         17.6
        ],
        [
         18.5
        ],
        [
         24.3
        ],
        [
         20.5
        ],
        [
         24.5
        ],
        [
         26.2
        ],
        [
         24.4
        ],
        [
         24.8
        ],
        [
         29.6
        ],
        [
         42.8
        ],
        [
         21.9
        ],
        [
         20.9
        ],
        [
         44.0
        ],
        [
         50.0
        ],
        [
         36.0
        ],
        [
         30.1
        ],
        [
         33.8
        ],
        [
         43.1
        ],
        [
         48.8
        ],
        [
         31.0
        ],
        [
         36.5
        ],
        [
         22.8
        ],
        [
         30.7
        ],
        [
         50.0
        ],
        [
         43.5
        ],
        [
         20.7
        ],
        [
         21.1
        ],
        [
         25.2
        ],
        [
         24.4
        ],
        [
         35.2
        ],
        [
         32.4
        ],
        [
         32.0
        ],
        [
         33.2
        ],
        [
         33.1
        ],
        [
         29.1
        ],
        [
         35.1
        ],
        [
         45.4
        ],
        [
         35.4
        ],
        [
         46.0
        ],
        [
         50.0
        ],
        [
         32.2
        ],
        [
         22.0
        ],
        [
         20.1
        ],
        [
         23.2
        ],
        [
         22.3
        ],
        [
         24.8
        ],
        [
         28.5
        ],
        [
         37.3
        ],
        [
         27.9
        ],
        [
         23.9
        ],
        [
         21.7
        ],
        [
         28.6
        ],
        [
         27.1
        ],
        [
         20.3
        ],
        [
         22.5
        ],
        [
         29.0
        ],
        [
         24.8
        ],
        [
         22.0
        ],
        [
         26.4
        ],
        [
         33.1
        ],
        [
         36.1
        ],
        [
         28.4
        ],
        [
         33.4
        ],
        [
         28.2
        ],
        [
         22.8
        ],
        [
         20.3
        ],
        [
         16.1
        ],
        [
         22.1
        ],
        [
         19.4
        ],
        [
         21.6
        ],
        [
         23.8
        ],
        [
         16.2
        ],
        [
         17.8
        ],
        [
         19.8
        ],
        [
         23.1
        ],
        [
         21.0
        ],
        [
         23.8
        ],
        [
         23.1
        ],
        [
         20.4
        ],
        [
         18.5
        ],
        [
         25.0
        ],
        [
         24.6
        ],
        [
         23.0
        ],
        [
         22.2
        ],
        [
         19.3
        ],
        [
         22.6
        ],
        [
         19.8
        ],
        [
         17.1
        ],
        [
         19.4
        ],
        [
         22.2
        ],
        [
         20.7
        ],
        [
         21.1
        ],
        [
         19.5
        ],
        [
         18.5
        ],
        [
         20.6
        ],
        [
         19.0
        ],
        [
         18.7
        ],
        [
         32.7
        ],
        [
         16.5
        ],
        [
         23.9
        ],
        [
         31.2
        ],
        [
         17.5
        ],
        [
         17.2
        ],
        [
         23.1
        ],
        [
         24.5
        ],
        [
         26.6
        ],
        [
         22.9
        ],
        [
         24.1
        ],
        [
         18.6
        ],
        [
         30.1
        ],
        [
         18.2
        ],
        [
         20.6
        ],
        [
         17.8
        ],
        [
         21.7
        ],
        [
         22.7
        ],
        [
         22.6
        ],
        [
         25.0
        ],
        [
         19.9
        ],
        [
         20.8
        ],
        [
         16.8
        ],
        [
         21.9
        ],
        [
         27.5
        ],
        [
         21.9
        ],
        [
         23.1
        ],
        [
         50.0
        ],
        [
         50.0
        ],
        [
         50.0
        ],
        [
         50.0
        ],
        [
         50.0
        ],
        [
         13.8
        ],
        [
         13.8
        ],
        [
         15.0
        ],
        [
         13.9
        ],
        [
         13.3
        ],
        [
         13.1
        ],
        [
         10.2
        ],
        [
         10.4
        ],
        [
         10.9
        ],
        [
         11.3
        ],
        [
         12.3
        ],
        [
         8.8
        ],
        [
         7.2
        ],
        [
         10.5
        ],
        [
         7.4
        ],
        [
         10.2
        ],
        [
         11.5
        ],
        [
         15.1
        ],
        [
         23.2
        ],
        [
         9.7
        ],
        [
         13.8
        ],
        [
         12.7
        ],
        [
         13.1
        ],
        [
         12.5
        ],
        [
         8.5
        ],
        [
         5.0
        ],
        [
         6.3
        ],
        [
         5.6
        ],
        [
         7.2
        ],
        [
         12.1
        ],
        [
         8.3
        ],
        [
         8.5
        ],
        [
         5.0
        ],
        [
         11.9
        ],
        [
         27.9
        ],
        [
         17.2
        ],
        [
         27.5
        ],
        [
         15.0
        ],
        [
         17.2
        ],
        [
         17.9
        ],
        [
         16.3
        ],
        [
         7.0
        ],
        [
         7.2
        ],
        [
         7.5
        ],
        [
         10.4
        ],
        [
         8.8
        ],
        [
         8.4
        ],
        [
         16.7
        ],
        [
         14.2
        ],
        [
         20.8
        ],
        [
         13.4
        ],
        [
         11.7
        ],
        [
         8.3
        ],
        [
         10.2
        ],
        [
         10.9
        ],
        [
         11.0
        ],
        [
         9.5
        ],
        [
         14.5
        ],
        [
         14.1
        ],
        [
         16.1
        ],
        [
         14.3
        ],
        [
         11.7
        ],
        [
         13.4
        ],
        [
         9.6
        ],
        [
         8.7
        ],
        [
         8.4
        ],
        [
         12.8
        ],
        [
         10.5
        ],
        [
         17.1
        ],
        [
         18.4
        ],
        [
         15.4
        ],
        [
         10.8
        ],
        [
         11.8
        ],
        [
         14.9
        ],
        [
         12.6
        ],
        [
         14.1
        ],
        [
         13.0
        ],
        [
         13.4
        ],
        [
         15.2
        ],
        [
         16.1
        ],
        [
         17.8
        ],
        [
         14.9
        ],
        [
         14.1
        ],
        [
         12.7
        ],
        [
         13.5
        ],
        [
         14.9
        ],
        [
         20.0
        ],
        [
         16.4
        ],
        [
         17.7
        ],
        [
         19.5
        ],
        [
         20.2
        ],
        [
         21.4
        ],
        [
         19.9
        ],
        [
         19.0
        ],
        [
         19.1
        ],
        [
         19.1
        ],
        [
         20.1
        ],
        [
         19.9
        ],
        [
         19.6
        ],
        [
         23.2
        ],
        [
         29.8
        ],
        [
         13.8
        ],
        [
         13.3
        ],
        [
         16.7
        ],
        [
         12.0
        ],
        [
         14.6
        ],
        [
         21.4
        ],
        [
         23.0
        ],
        [
         23.7
        ],
        [
         25.0
        ],
        [
         21.8
        ],
        [
         20.6
        ],
        [
         21.2
        ],
        [
         19.1
        ],
        [
         20.6
        ],
        [
         15.2
        ],
        [
         7.0
        ],
        [
         8.1
        ],
        [
         13.6
        ],
        [
         20.1
        ],
        [
         21.8
        ],
        [
         24.5
        ],
        [
         23.1
        ],
        [
         19.7
        ],
        [
         18.3
        ],
        [
         21.2
        ],
        [
         17.5
        ],
        [
         16.8
        ],
        [
         22.4
        ],
        [
         20.6
        ],
        [
         23.9
        ],
        [
         22.0
        ],
        [
         11.9
        ]
       ],
       "datasetInfos": [],
       "dbfsResultPath": null,
       "isJsonSchema": true,
       "metadata": {},
       "overflow": false,
       "plotOptions": {
        "customPlotOptions": {},
        "displayType": "table",
        "pivotAggregation": null,
        "pivotColumns": [],
        "xColumns": [],
        "yColumns": []
       },
       "removedWidgets": [],
       "schema": [
        {
         "metadata": "{}",
         "name": "medv",
         "type": "\"double\""
        }
       ],
       "type": "table"
      }
     },
     "output_type": "display_data"
    },
    {
     "output_type": "display_data",
     "data": {
      "text/plain": [
       "Databricks visualization. Run in Databricks to view."
      ]
     },
     "metadata": {
      "application/vnd.databricks.v1.subcommand+json": {
       "bindings": {},
       "collapsed": false,
       "command": "%python\n__backend_agg_display_orig = display\n__backend_agg_dfs = []\ndef __backend_agg_display_new(df):\n    __backend_agg_df_modules = [\"pandas.core.frame\", \"databricks.koalas.frame\", \"pyspark.sql.dataframe\", \"pyspark.pandas.frame\", \"pyspark.sql.connect.dataframe\"]\n    if (type(df).__module__ in __backend_agg_df_modules and type(df).__name__ == 'DataFrame') or isinstance(df, list):\n        __backend_agg_dfs.append(df)\n\ndisplay = __backend_agg_display_new\n\ndef __backend_agg_user_code_fn():\n    import base64\n    exec(base64.standard_b64decode(\"ZGlzcGxheShib3N0b25ERi5zZWxlY3QoIm1lZHYiKSk=\").decode())\n\ntry:\n    # run user code\n    __backend_agg_user_code_fn()\n\n    #reset display function\n    display = __backend_agg_display_orig\n\n    if len(__backend_agg_dfs) > 0:\n        # create a temp view\n        if hasattr(__backend_agg_dfs[0], \"to_spark\"):\n            # koalas dataframe\n            __backend_agg_dfs[0].to_spark().createOrReplaceTempView(\"DatabricksViewe3dbc2d\")\n        elif type(__backend_agg_dfs[0]).__module__ == \"pandas.core.frame\" or isinstance(__backend_agg_dfs[0], list):\n            # pandas dataframe\n            spark.createDataFrame(__backend_agg_dfs[0]).createOrReplaceTempView(\"DatabricksViewe3dbc2d\")\n        else:\n            __backend_agg_dfs[0].createOrReplaceTempView(\"DatabricksViewe3dbc2d\")\n        #run backend agg\n        display(spark.sql(\"\"\"WITH q AS (select * from DatabricksViewe3dbc2d) ,min_max AS (SELECT `medv`,(SELECT MAX(`medv`) FROM q) `target_column_max`,(SELECT MIN(`medv`) FROM q) `target_column_min` FROM q) ,histogram_meta AS (SELECT `medv`,`target_column_min` `min_value`,IF(`target_column_max` = `target_column_min`,`target_column_max` + 1,`target_column_max`) `max_value`,(`target_column_max` - `target_column_min`) / 10 `step` FROM min_max) SELECT IF(ISNULL(`medv`),NULL,LEAST(WIDTH_BUCKET(`medv`,`min_value`,`max_value`,10),10)) `medv_BIN`,FIRST(`min_value` + ((IF(ISNULL(`medv`),NULL,LEAST(WIDTH_BUCKET(`medv`,`min_value`,`max_value`,10),10)) - 1) * `step`)) `medv_BIN_LOWER_BOUND`,FIRST(`step`) `medv_BIN_STEP`,COUNT(`medv`) `COUNT` FROM histogram_meta GROUP BY `medv_BIN`\"\"\"))\n    else:\n        displayHTML(\"dataframe no longer exists. If you're using dataframe.display(), use display(dataframe) instead.\")\n\n\nfinally:\n    spark.sql(\"drop view if exists DatabricksViewe3dbc2d\")\n    display = __backend_agg_display_orig\n    del __backend_agg_display_new\n    del __backend_agg_display_orig\n    del __backend_agg_dfs\n    del __backend_agg_user_code_fn\n\n",
       "commandTitle": "Visualization 1",
       "commandType": "auto",
       "commandVersion": 0,
       "commentThread": [],
       "commentsVisible": false,
       "contentSha256Hex": null,
       "customPlotOptions": {
        "redashChart": [
         {
          "key": "type",
          "value": "CHART"
         },
         {
          "key": "options",
          "value": {
           "alignYAxesAtZero": true,
           "coefficient": 1,
           "columnConfigurationMap": {
            "x": {
             "column": "medv",
             "id": "column_82622c681"
            }
           },
           "dateTimeFormat": "DD/MM/YYYY HH:mm",
           "direction": {
            "type": "counterclockwise"
           },
           "error_y": {
            "type": "data",
            "visible": true
           },
           "globalSeriesType": "histogram",
           "legend": {
            "traceorder": "normal"
           },
           "missingValuesAsZero": true,
           "numBins": 10,
           "numberFormat": "0,0[.]00000",
           "percentFormat": "0[.]00%",
           "series": {
            "error_y": {
             "type": "data",
             "visible": true
            },
            "stacking": null
           },
           "seriesOptions": {},
           "showDataLabels": false,
           "sizemode": "diameter",
           "sortX": true,
           "sortY": true,
           "swappedAxes": false,
           "textFormat": "",
           "useAggregationsUi": true,
           "valuesOptions": {},
           "version": 2,
           "xAxis": {
            "labels": {
             "enabled": true
            },
            "type": "-"
           },
           "yAxis": [
            {
             "type": "-"
            },
            {
             "opposite": true,
             "type": "-"
            }
           ]
          }
         }
        ]
       },
       "datasetPreviewNameToCmdIdMap": {},
       "diffDeletes": [],
       "diffInserts": [],
       "displayType": "redashChart",
       "error": null,
       "errorSummary": null,
       "errorTraceType": null,
       "finishTime": 0,
       "globalVars": {},
       "guid": "b2281013-1ac5-428a-8871-b09112071d23",
       "height": "auto",
       "hideCommandCode": false,
       "hideCommandResult": false,
       "iPythonMetadata": null,
       "inputWidgets": {},
       "isLockedInExamMode": false,
       "latestUser": "a user",
       "latestUserId": null,
       "listResultMetadata": null,
       "metadata": {},
       "nuid": "dcfe1e1d-7708-4a1d-b042-0db000b1e4ad",
       "origId": 2177866436137895,
       "parentHierarchy": [
        "a306c3b9-6cec-4efe-bff5-cc2d3155b7a4"
       ],
       "pivotAggregation": null,
       "pivotColumns": null,
       "position": 16.0,
       "resultDbfsErrorMessage": null,
       "resultDbfsStatus": "INLINED_IN_TREE",
       "results": null,
       "showCommandTitle": false,
       "startTime": 0,
       "state": "input",
       "streamStates": {},
       "subcommandOptions": {
        "queryPlan": {
         "groups": [
          {
           "column": "medv_BIN",
           "type": "column"
          }
         ],
         "selects": [
          {
           "alias": "medv_BIN",
           "args": [
            {
             "column": "medv",
             "type": "column"
            },
            {
             "number": 10,
             "type": "number"
            }
           ],
           "function": "BIN",
           "type": "function"
          },
          {
           "alias": "medv_BIN_LOWER_BOUND",
           "args": [
            {
             "column": "medv",
             "type": "column"
            },
            {
             "number": 10,
             "type": "number"
            }
           ],
           "function": "BIN_LOWER_BOUND",
           "type": "function"
          },
          {
           "alias": "medv_BIN_STEP",
           "args": [
            {
             "column": "medv",
             "type": "column"
            },
            {
             "number": 10,
             "type": "number"
            }
           ],
           "function": "BIN_STEP",
           "type": "function"
          },
          {
           "alias": "COUNT",
           "args": [
            {
             "column": "medv",
             "type": "column"
            }
           ],
           "function": "COUNT",
           "type": "function"
          }
         ]
        }
       },
       "submitTime": 0,
       "subtype": "tableResultSubCmd.visualization",
       "tableResultIndex": 0,
       "useConsistentColors": false,
       "version": "CommandV1",
       "width": "auto",
       "workflows": [],
       "xColumns": null,
       "yColumns": null
      }
     },
     "output_type": "display_data"
    }
   ],
   "source": [
    "display(bostonDF.select(\"medv\"))"
   ]
  },
  {
   "cell_type": "markdown",
   "metadata": {
    "application/vnd.databricks.v1+cell": {
     "cellMetadata": {},
     "inputWidgets": {},
     "nuid": "dc3a5f33-1744-4c94-bdff-65b83bbb3a92",
     "showTitle": false,
     "title": ""
    }
   },
   "source": [
    "This plot shows the general distribution of median housing prices divided into 20 bins.  Now take a look at how the number of rooms compares to the median value.  Do this by selecting the scatterplot option from the plotting dropped menu."
   ]
  },
  {
   "cell_type": "code",
   "execution_count": 0,
   "metadata": {
    "application/vnd.databricks.v1+cell": {
     "cellMetadata": {
      "byteLimit": 2048000,
      "rowLimit": 10000
     },
     "inputWidgets": {},
     "nuid": "dfcddb7e-aedf-4217-aea1-d0ee8ef6989a",
     "showTitle": false,
     "title": ""
    }
   },
   "outputs": [
    {
     "output_type": "display_data",
     "data": {
      "text/html": [
       "<style scoped>\n",
       "  .table-result-container {\n",
       "    max-height: 300px;\n",
       "    overflow: auto;\n",
       "  }\n",
       "  table, th, td {\n",
       "    border: 1px solid black;\n",
       "    border-collapse: collapse;\n",
       "  }\n",
       "  th, td {\n",
       "    padding: 5px;\n",
       "  }\n",
       "  th {\n",
       "    text-align: left;\n",
       "  }\n",
       "</style><div class='table-result-container'><table class='table-result'><thead style='background-color: white'><tr><th>rm</th><th>medv</th></tr></thead><tbody><tr><td>6.575</td><td>24.0</td></tr><tr><td>6.421</td><td>21.6</td></tr><tr><td>7.185</td><td>34.7</td></tr><tr><td>6.998</td><td>33.4</td></tr><tr><td>7.147</td><td>36.2</td></tr><tr><td>6.43</td><td>28.7</td></tr><tr><td>6.012</td><td>22.9</td></tr><tr><td>6.172</td><td>27.1</td></tr><tr><td>5.631</td><td>16.5</td></tr><tr><td>6.004</td><td>18.9</td></tr><tr><td>6.377</td><td>15.0</td></tr><tr><td>6.009</td><td>18.9</td></tr><tr><td>5.889</td><td>21.7</td></tr><tr><td>5.949</td><td>20.4</td></tr><tr><td>6.096</td><td>18.2</td></tr><tr><td>5.834</td><td>19.9</td></tr><tr><td>5.935</td><td>23.1</td></tr><tr><td>5.99</td><td>17.5</td></tr><tr><td>5.456</td><td>20.2</td></tr><tr><td>5.727</td><td>18.2</td></tr><tr><td>5.57</td><td>13.6</td></tr><tr><td>5.965</td><td>19.6</td></tr><tr><td>6.142</td><td>15.2</td></tr><tr><td>5.813</td><td>14.5</td></tr><tr><td>5.924</td><td>15.6</td></tr><tr><td>5.599</td><td>13.9</td></tr><tr><td>5.813</td><td>16.6</td></tr><tr><td>6.047</td><td>14.8</td></tr><tr><td>6.495</td><td>18.4</td></tr><tr><td>6.674</td><td>21.0</td></tr><tr><td>5.713</td><td>12.7</td></tr><tr><td>6.072</td><td>14.5</td></tr><tr><td>5.95</td><td>13.2</td></tr><tr><td>5.701</td><td>13.1</td></tr><tr><td>6.096</td><td>13.5</td></tr><tr><td>5.933</td><td>18.9</td></tr><tr><td>5.841</td><td>20.0</td></tr><tr><td>5.85</td><td>21.0</td></tr><tr><td>5.966</td><td>24.7</td></tr><tr><td>6.595</td><td>30.8</td></tr><tr><td>7.024</td><td>34.9</td></tr><tr><td>6.77</td><td>26.6</td></tr><tr><td>6.169</td><td>25.3</td></tr><tr><td>6.211</td><td>24.7</td></tr><tr><td>6.069</td><td>21.2</td></tr><tr><td>5.682</td><td>19.3</td></tr><tr><td>5.786</td><td>20.0</td></tr><tr><td>6.03</td><td>16.6</td></tr><tr><td>5.399</td><td>14.4</td></tr><tr><td>5.602</td><td>19.4</td></tr><tr><td>5.963</td><td>19.7</td></tr><tr><td>6.115</td><td>20.5</td></tr><tr><td>6.511</td><td>25.0</td></tr><tr><td>5.998</td><td>23.4</td></tr><tr><td>5.888</td><td>18.9</td></tr><tr><td>7.249</td><td>35.4</td></tr><tr><td>6.383</td><td>24.7</td></tr><tr><td>6.816</td><td>31.6</td></tr><tr><td>6.145</td><td>23.3</td></tr><tr><td>5.927</td><td>19.6</td></tr><tr><td>5.741</td><td>18.7</td></tr><tr><td>5.966</td><td>16.0</td></tr><tr><td>6.456</td><td>22.2</td></tr><tr><td>6.762</td><td>25.0</td></tr><tr><td>7.104</td><td>33.0</td></tr><tr><td>6.29</td><td>23.5</td></tr><tr><td>5.787</td><td>19.4</td></tr><tr><td>5.878</td><td>22.0</td></tr><tr><td>5.594</td><td>17.4</td></tr><tr><td>5.885</td><td>20.9</td></tr><tr><td>6.417</td><td>24.2</td></tr><tr><td>5.961</td><td>21.7</td></tr><tr><td>6.065</td><td>22.8</td></tr><tr><td>6.245</td><td>23.4</td></tr><tr><td>6.273</td><td>24.1</td></tr><tr><td>6.286</td><td>21.4</td></tr><tr><td>6.279</td><td>20.0</td></tr><tr><td>6.14</td><td>20.8</td></tr><tr><td>6.232</td><td>21.2</td></tr><tr><td>5.874</td><td>20.3</td></tr><tr><td>6.727</td><td>28.0</td></tr><tr><td>6.619</td><td>23.9</td></tr><tr><td>6.302</td><td>24.8</td></tr><tr><td>6.167</td><td>22.9</td></tr><tr><td>6.389</td><td>23.9</td></tr><tr><td>6.63</td><td>26.6</td></tr><tr><td>6.015</td><td>22.5</td></tr><tr><td>6.121</td><td>22.2</td></tr><tr><td>7.007</td><td>23.6</td></tr><tr><td>7.079</td><td>28.7</td></tr><tr><td>6.417</td><td>22.6</td></tr><tr><td>6.405</td><td>22.0</td></tr><tr><td>6.442</td><td>22.9</td></tr><tr><td>6.211</td><td>25.0</td></tr><tr><td>6.249</td><td>20.6</td></tr><tr><td>6.625</td><td>28.4</td></tr><tr><td>6.163</td><td>21.4</td></tr><tr><td>8.069</td><td>38.7</td></tr><tr><td>7.82</td><td>43.8</td></tr><tr><td>7.416</td><td>33.2</td></tr><tr><td>6.727</td><td>27.5</td></tr><tr><td>6.781</td><td>26.5</td></tr><tr><td>6.405</td><td>18.6</td></tr><tr><td>6.137</td><td>19.3</td></tr><tr><td>6.167</td><td>20.1</td></tr><tr><td>5.851</td><td>19.5</td></tr><tr><td>5.836</td><td>19.5</td></tr><tr><td>6.127</td><td>20.4</td></tr><tr><td>6.474</td><td>19.8</td></tr><tr><td>6.229</td><td>19.4</td></tr><tr><td>6.195</td><td>21.7</td></tr><tr><td>6.715</td><td>22.8</td></tr><tr><td>5.913</td><td>18.8</td></tr><tr><td>6.092</td><td>18.7</td></tr><tr><td>6.254</td><td>18.5</td></tr><tr><td>5.928</td><td>18.3</td></tr><tr><td>6.176</td><td>21.2</td></tr><tr><td>6.021</td><td>19.2</td></tr><tr><td>5.872</td><td>20.4</td></tr><tr><td>5.731</td><td>19.3</td></tr><tr><td>5.87</td><td>22.0</td></tr><tr><td>6.004</td><td>20.3</td></tr><tr><td>5.961</td><td>20.5</td></tr><tr><td>5.856</td><td>17.3</td></tr><tr><td>5.879</td><td>18.8</td></tr><tr><td>5.986</td><td>21.4</td></tr><tr><td>5.613</td><td>15.7</td></tr><tr><td>5.693</td><td>16.2</td></tr><tr><td>6.431</td><td>18.0</td></tr><tr><td>5.637</td><td>14.3</td></tr><tr><td>6.458</td><td>19.2</td></tr><tr><td>6.326</td><td>19.6</td></tr><tr><td>6.372</td><td>23.0</td></tr><tr><td>5.822</td><td>18.4</td></tr><tr><td>5.757</td><td>15.6</td></tr><tr><td>6.335</td><td>18.1</td></tr><tr><td>5.942</td><td>17.4</td></tr><tr><td>6.454</td><td>17.1</td></tr><tr><td>5.857</td><td>13.3</td></tr><tr><td>6.151</td><td>17.8</td></tr><tr><td>6.174</td><td>14.0</td></tr><tr><td>5.019</td><td>14.4</td></tr><tr><td>5.403</td><td>13.4</td></tr><tr><td>5.468</td><td>15.6</td></tr><tr><td>4.903</td><td>11.8</td></tr><tr><td>6.13</td><td>13.8</td></tr><tr><td>5.628</td><td>15.6</td></tr><tr><td>4.926</td><td>14.6</td></tr><tr><td>5.186</td><td>17.8</td></tr><tr><td>5.597</td><td>15.4</td></tr><tr><td>6.122</td><td>21.5</td></tr><tr><td>5.404</td><td>19.6</td></tr><tr><td>5.012</td><td>15.3</td></tr><tr><td>5.709</td><td>19.4</td></tr><tr><td>6.129</td><td>17.0</td></tr><tr><td>6.152</td><td>15.6</td></tr><tr><td>5.272</td><td>13.1</td></tr><tr><td>6.943</td><td>41.3</td></tr><tr><td>6.066</td><td>24.3</td></tr><tr><td>6.51</td><td>23.3</td></tr><tr><td>6.25</td><td>27.0</td></tr><tr><td>7.489</td><td>50.0</td></tr><tr><td>7.802</td><td>50.0</td></tr><tr><td>8.375</td><td>50.0</td></tr><tr><td>5.854</td><td>22.7</td></tr><tr><td>6.101</td><td>25.0</td></tr><tr><td>7.929</td><td>50.0</td></tr><tr><td>5.877</td><td>23.8</td></tr><tr><td>6.319</td><td>23.8</td></tr><tr><td>6.402</td><td>22.3</td></tr><tr><td>5.875</td><td>17.4</td></tr><tr><td>5.88</td><td>19.1</td></tr><tr><td>5.572</td><td>23.1</td></tr><tr><td>6.416</td><td>23.6</td></tr><tr><td>5.859</td><td>22.6</td></tr><tr><td>6.546</td><td>29.4</td></tr><tr><td>6.02</td><td>23.2</td></tr><tr><td>6.315</td><td>24.6</td></tr><tr><td>6.86</td><td>29.9</td></tr><tr><td>6.98</td><td>37.2</td></tr><tr><td>7.765</td><td>39.8</td></tr><tr><td>6.144</td><td>36.2</td></tr><tr><td>7.155</td><td>37.9</td></tr><tr><td>6.563</td><td>32.5</td></tr><tr><td>5.604</td><td>26.4</td></tr><tr><td>6.153</td><td>29.6</td></tr><tr><td>7.831</td><td>50.0</td></tr><tr><td>6.782</td><td>32.0</td></tr><tr><td>6.556</td><td>29.8</td></tr><tr><td>7.185</td><td>34.9</td></tr><tr><td>6.951</td><td>37.0</td></tr><tr><td>6.739</td><td>30.5</td></tr><tr><td>7.178</td><td>36.4</td></tr><tr><td>6.8</td><td>31.1</td></tr><tr><td>6.604</td><td>29.1</td></tr><tr><td>7.875</td><td>50.0</td></tr><tr><td>7.287</td><td>33.3</td></tr><tr><td>7.107</td><td>30.3</td></tr><tr><td>7.274</td><td>34.6</td></tr><tr><td>6.975</td><td>34.9</td></tr><tr><td>7.135</td><td>32.9</td></tr><tr><td>6.162</td><td>24.1</td></tr><tr><td>7.61</td><td>42.3</td></tr><tr><td>7.853</td><td>48.5</td></tr><tr><td>8.034</td><td>50.0</td></tr><tr><td>5.891</td><td>22.6</td></tr><tr><td>6.326</td><td>24.4</td></tr><tr><td>5.783</td><td>22.5</td></tr><tr><td>6.064</td><td>24.4</td></tr><tr><td>5.344</td><td>20.0</td></tr><tr><td>5.96</td><td>21.7</td></tr><tr><td>5.404</td><td>19.3</td></tr><tr><td>5.807</td><td>22.4</td></tr><tr><td>6.375</td><td>28.1</td></tr><tr><td>5.412</td><td>23.7</td></tr><tr><td>6.182</td><td>25.0</td></tr><tr><td>5.888</td><td>23.3</td></tr><tr><td>6.642</td><td>28.7</td></tr><tr><td>5.951</td><td>21.5</td></tr><tr><td>6.373</td><td>23.0</td></tr><tr><td>6.951</td><td>26.7</td></tr><tr><td>6.164</td><td>21.7</td></tr><tr><td>6.879</td><td>27.5</td></tr><tr><td>6.618</td><td>30.1</td></tr><tr><td>8.266</td><td>44.8</td></tr><tr><td>8.725</td><td>50.0</td></tr><tr><td>8.04</td><td>37.6</td></tr><tr><td>7.163</td><td>31.6</td></tr><tr><td>7.686</td><td>46.7</td></tr><tr><td>6.552</td><td>31.5</td></tr><tr><td>5.981</td><td>24.3</td></tr><tr><td>7.412</td><td>31.7</td></tr><tr><td>8.337</td><td>41.7</td></tr><tr><td>8.247</td><td>48.3</td></tr><tr><td>6.726</td><td>29.0</td></tr><tr><td>6.086</td><td>24.0</td></tr><tr><td>6.631</td><td>25.1</td></tr><tr><td>7.358</td><td>31.5</td></tr><tr><td>6.481</td><td>23.7</td></tr><tr><td>6.606</td><td>23.3</td></tr><tr><td>6.897</td><td>22.0</td></tr><tr><td>6.095</td><td>20.1</td></tr><tr><td>6.358</td><td>22.2</td></tr><tr><td>6.393</td><td>23.7</td></tr><tr><td>5.593</td><td>17.6</td></tr><tr><td>5.605</td><td>18.5</td></tr><tr><td>6.108</td><td>24.3</td></tr><tr><td>6.226</td><td>20.5</td></tr><tr><td>6.433</td><td>24.5</td></tr><tr><td>6.718</td><td>26.2</td></tr><tr><td>6.487</td><td>24.4</td></tr><tr><td>6.438</td><td>24.8</td></tr><tr><td>6.957</td><td>29.6</td></tr><tr><td>8.259</td><td>42.8</td></tr><tr><td>6.108</td><td>21.9</td></tr><tr><td>5.876</td><td>20.9</td></tr><tr><td>7.454</td><td>44.0</td></tr><tr><td>8.704</td><td>50.0</td></tr><tr><td>7.333</td><td>36.0</td></tr><tr><td>6.842</td><td>30.1</td></tr><tr><td>7.203</td><td>33.8</td></tr><tr><td>7.52</td><td>43.1</td></tr><tr><td>8.398</td><td>48.8</td></tr><tr><td>7.327</td><td>31.0</td></tr><tr><td>7.206</td><td>36.5</td></tr><tr><td>5.56</td><td>22.8</td></tr><tr><td>7.014</td><td>30.7</td></tr><tr><td>8.297</td><td>50.0</td></tr><tr><td>7.47</td><td>43.5</td></tr><tr><td>5.92</td><td>20.7</td></tr><tr><td>5.856</td><td>21.1</td></tr><tr><td>6.24</td><td>25.2</td></tr><tr><td>6.538</td><td>24.4</td></tr><tr><td>7.691</td><td>35.2</td></tr><tr><td>6.758</td><td>32.4</td></tr><tr><td>6.854</td><td>32.0</td></tr><tr><td>7.267</td><td>33.2</td></tr><tr><td>6.826</td><td>33.1</td></tr><tr><td>6.482</td><td>29.1</td></tr><tr><td>6.812</td><td>35.1</td></tr><tr><td>7.82</td><td>45.4</td></tr><tr><td>6.968</td><td>35.4</td></tr><tr><td>7.645</td><td>46.0</td></tr><tr><td>7.923</td><td>50.0</td></tr><tr><td>7.088</td><td>32.2</td></tr><tr><td>6.453</td><td>22.0</td></tr><tr><td>6.23</td><td>20.1</td></tr><tr><td>6.209</td><td>23.2</td></tr><tr><td>6.315</td><td>22.3</td></tr><tr><td>6.565</td><td>24.8</td></tr><tr><td>6.861</td><td>28.5</td></tr><tr><td>7.148</td><td>37.3</td></tr><tr><td>6.63</td><td>27.9</td></tr><tr><td>6.127</td><td>23.9</td></tr><tr><td>6.009</td><td>21.7</td></tr><tr><td>6.678</td><td>28.6</td></tr><tr><td>6.549</td><td>27.1</td></tr><tr><td>5.79</td><td>20.3</td></tr><tr><td>6.345</td><td>22.5</td></tr><tr><td>7.041</td><td>29.0</td></tr><tr><td>6.871</td><td>24.8</td></tr><tr><td>6.59</td><td>22.0</td></tr><tr><td>6.495</td><td>26.4</td></tr><tr><td>6.982</td><td>33.1</td></tr><tr><td>7.236</td><td>36.1</td></tr><tr><td>6.616</td><td>28.4</td></tr><tr><td>7.42</td><td>33.4</td></tr><tr><td>6.849</td><td>28.2</td></tr><tr><td>6.635</td><td>22.8</td></tr><tr><td>5.972</td><td>20.3</td></tr><tr><td>4.973</td><td>16.1</td></tr><tr><td>6.122</td><td>22.1</td></tr><tr><td>6.023</td><td>19.4</td></tr><tr><td>6.266</td><td>21.6</td></tr><tr><td>6.567</td><td>23.8</td></tr><tr><td>5.705</td><td>16.2</td></tr><tr><td>5.914</td><td>17.8</td></tr><tr><td>5.782</td><td>19.8</td></tr><tr><td>6.382</td><td>23.1</td></tr><tr><td>6.113</td><td>21.0</td></tr><tr><td>6.426</td><td>23.8</td></tr><tr><td>6.376</td><td>23.1</td></tr><tr><td>6.041</td><td>20.4</td></tr><tr><td>5.708</td><td>18.5</td></tr><tr><td>6.415</td><td>25.0</td></tr><tr><td>6.431</td><td>24.6</td></tr><tr><td>6.312</td><td>23.0</td></tr><tr><td>6.083</td><td>22.2</td></tr><tr><td>5.868</td><td>19.3</td></tr><tr><td>6.333</td><td>22.6</td></tr><tr><td>6.144</td><td>19.8</td></tr><tr><td>5.706</td><td>17.1</td></tr><tr><td>6.031</td><td>19.4</td></tr><tr><td>6.316</td><td>22.2</td></tr><tr><td>6.31</td><td>20.7</td></tr><tr><td>6.037</td><td>21.1</td></tr><tr><td>5.869</td><td>19.5</td></tr><tr><td>5.895</td><td>18.5</td></tr><tr><td>6.059</td><td>20.6</td></tr><tr><td>5.985</td><td>19.0</td></tr><tr><td>5.968</td><td>18.7</td></tr><tr><td>7.241</td><td>32.7</td></tr><tr><td>6.54</td><td>16.5</td></tr><tr><td>6.696</td><td>23.9</td></tr><tr><td>6.874</td><td>31.2</td></tr><tr><td>6.014</td><td>17.5</td></tr><tr><td>5.898</td><td>17.2</td></tr><tr><td>6.516</td><td>23.1</td></tr><tr><td>6.635</td><td>24.5</td></tr><tr><td>6.939</td><td>26.6</td></tr><tr><td>6.49</td><td>22.9</td></tr><tr><td>6.579</td><td>24.1</td></tr><tr><td>5.884</td><td>18.6</td></tr><tr><td>6.728</td><td>30.1</td></tr><tr><td>5.663</td><td>18.2</td></tr><tr><td>5.936</td><td>20.6</td></tr><tr><td>6.212</td><td>17.8</td></tr><tr><td>6.395</td><td>21.7</td></tr><tr><td>6.127</td><td>22.7</td></tr><tr><td>6.112</td><td>22.6</td></tr><tr><td>6.398</td><td>25.0</td></tr><tr><td>6.251</td><td>19.9</td></tr><tr><td>5.362</td><td>20.8</td></tr><tr><td>5.803</td><td>16.8</td></tr><tr><td>8.78</td><td>21.9</td></tr><tr><td>3.561</td><td>27.5</td></tr><tr><td>4.963</td><td>21.9</td></tr><tr><td>3.863</td><td>23.1</td></tr><tr><td>4.97</td><td>50.0</td></tr><tr><td>6.683</td><td>50.0</td></tr><tr><td>7.016</td><td>50.0</td></tr><tr><td>6.216</td><td>50.0</td></tr><tr><td>5.875</td><td>50.0</td></tr><tr><td>4.906</td><td>13.8</td></tr><tr><td>4.138</td><td>13.8</td></tr><tr><td>7.313</td><td>15.0</td></tr><tr><td>6.649</td><td>13.9</td></tr><tr><td>6.794</td><td>13.3</td></tr><tr><td>6.38</td><td>13.1</td></tr><tr><td>6.223</td><td>10.2</td></tr><tr><td>6.968</td><td>10.4</td></tr><tr><td>6.545</td><td>10.9</td></tr><tr><td>5.536</td><td>11.3</td></tr><tr><td>5.52</td><td>12.3</td></tr><tr><td>4.368</td><td>8.8</td></tr><tr><td>5.277</td><td>7.2</td></tr><tr><td>4.652</td><td>10.5</td></tr><tr><td>5.0</td><td>7.4</td></tr><tr><td>4.88</td><td>10.2</td></tr><tr><td>5.39</td><td>11.5</td></tr><tr><td>5.713</td><td>15.1</td></tr><tr><td>6.051</td><td>23.2</td></tr><tr><td>5.036</td><td>9.7</td></tr><tr><td>6.193</td><td>13.8</td></tr><tr><td>5.887</td><td>12.7</td></tr><tr><td>6.471</td><td>13.1</td></tr><tr><td>6.405</td><td>12.5</td></tr><tr><td>5.747</td><td>8.5</td></tr><tr><td>5.453</td><td>5.0</td></tr><tr><td>5.852</td><td>6.3</td></tr><tr><td>5.987</td><td>5.6</td></tr><tr><td>6.343</td><td>7.2</td></tr><tr><td>6.404</td><td>12.1</td></tr><tr><td>5.349</td><td>8.3</td></tr><tr><td>5.531</td><td>8.5</td></tr><tr><td>5.683</td><td>5.0</td></tr><tr><td>4.138</td><td>11.9</td></tr><tr><td>5.608</td><td>27.9</td></tr><tr><td>5.617</td><td>17.2</td></tr><tr><td>6.852</td><td>27.5</td></tr><tr><td>5.757</td><td>15.0</td></tr><tr><td>6.657</td><td>17.2</td></tr><tr><td>4.628</td><td>17.9</td></tr><tr><td>5.155</td><td>16.3</td></tr><tr><td>4.519</td><td>7.0</td></tr><tr><td>6.434</td><td>7.2</td></tr><tr><td>6.782</td><td>7.5</td></tr><tr><td>5.304</td><td>10.4</td></tr><tr><td>5.957</td><td>8.8</td></tr><tr><td>6.824</td><td>8.4</td></tr><tr><td>6.411</td><td>16.7</td></tr><tr><td>6.006</td><td>14.2</td></tr><tr><td>5.648</td><td>20.8</td></tr><tr><td>6.103</td><td>13.4</td></tr><tr><td>5.565</td><td>11.7</td></tr><tr><td>5.896</td><td>8.3</td></tr><tr><td>5.837</td><td>10.2</td></tr><tr><td>6.202</td><td>10.9</td></tr><tr><td>6.193</td><td>11.0</td></tr><tr><td>6.38</td><td>9.5</td></tr><tr><td>6.348</td><td>14.5</td></tr><tr><td>6.833</td><td>14.1</td></tr><tr><td>6.425</td><td>16.1</td></tr><tr><td>6.436</td><td>14.3</td></tr><tr><td>6.208</td><td>11.7</td></tr><tr><td>6.629</td><td>13.4</td></tr><tr><td>6.461</td><td>9.6</td></tr><tr><td>6.152</td><td>8.7</td></tr><tr><td>5.935</td><td>8.4</td></tr><tr><td>5.627</td><td>12.8</td></tr><tr><td>5.818</td><td>10.5</td></tr><tr><td>6.406</td><td>17.1</td></tr><tr><td>6.219</td><td>18.4</td></tr><tr><td>6.485</td><td>15.4</td></tr><tr><td>5.854</td><td>10.8</td></tr><tr><td>6.459</td><td>11.8</td></tr><tr><td>6.341</td><td>14.9</td></tr><tr><td>6.251</td><td>12.6</td></tr><tr><td>6.185</td><td>14.1</td></tr><tr><td>6.417</td><td>13.0</td></tr><tr><td>6.749</td><td>13.4</td></tr><tr><td>6.655</td><td>15.2</td></tr><tr><td>6.297</td><td>16.1</td></tr><tr><td>7.393</td><td>17.8</td></tr><tr><td>6.728</td><td>14.9</td></tr><tr><td>6.525</td><td>14.1</td></tr><tr><td>5.976</td><td>12.7</td></tr><tr><td>5.936</td><td>13.5</td></tr><tr><td>6.301</td><td>14.9</td></tr><tr><td>6.081</td><td>20.0</td></tr><tr><td>6.701</td><td>16.4</td></tr><tr><td>6.376</td><td>17.7</td></tr><tr><td>6.317</td><td>19.5</td></tr><tr><td>6.513</td><td>20.2</td></tr><tr><td>6.209</td><td>21.4</td></tr><tr><td>5.759</td><td>19.9</td></tr><tr><td>5.952</td><td>19.0</td></tr><tr><td>6.003</td><td>19.1</td></tr><tr><td>5.926</td><td>19.1</td></tr><tr><td>5.713</td><td>20.1</td></tr><tr><td>6.167</td><td>19.9</td></tr><tr><td>6.229</td><td>19.6</td></tr><tr><td>6.437</td><td>23.2</td></tr><tr><td>6.98</td><td>29.8</td></tr><tr><td>5.427</td><td>13.8</td></tr><tr><td>6.162</td><td>13.3</td></tr><tr><td>6.484</td><td>16.7</td></tr><tr><td>5.304</td><td>12.0</td></tr><tr><td>6.185</td><td>14.6</td></tr><tr><td>6.229</td><td>21.4</td></tr><tr><td>6.242</td><td>23.0</td></tr><tr><td>6.75</td><td>23.7</td></tr><tr><td>7.061</td><td>25.0</td></tr><tr><td>5.762</td><td>21.8</td></tr><tr><td>5.871</td><td>20.6</td></tr><tr><td>6.312</td><td>21.2</td></tr><tr><td>6.114</td><td>19.1</td></tr><tr><td>5.905</td><td>20.6</td></tr><tr><td>5.454</td><td>15.2</td></tr><tr><td>5.414</td><td>7.0</td></tr><tr><td>5.093</td><td>8.1</td></tr><tr><td>5.983</td><td>13.6</td></tr><tr><td>5.983</td><td>20.1</td></tr><tr><td>5.707</td><td>21.8</td></tr><tr><td>5.926</td><td>24.5</td></tr><tr><td>5.67</td><td>23.1</td></tr><tr><td>5.39</td><td>19.7</td></tr><tr><td>5.794</td><td>18.3</td></tr><tr><td>6.019</td><td>21.2</td></tr><tr><td>5.569</td><td>17.5</td></tr><tr><td>6.027</td><td>16.8</td></tr><tr><td>6.593</td><td>22.4</td></tr><tr><td>6.12</td><td>20.6</td></tr><tr><td>6.976</td><td>23.9</td></tr><tr><td>6.794</td><td>22.0</td></tr><tr><td>6.03</td><td>11.9</td></tr></tbody></table></div>"
      ]
     },
     "metadata": {
      "application/vnd.databricks.v1+output": {
       "addedWidgets": {},
       "aggData": [],
       "aggError": "",
       "aggOverflow": false,
       "aggSchema": [],
       "aggSeriesLimitReached": false,
       "aggType": "",
       "arguments": {},
       "columnCustomDisplayInfos": {},
       "data": [
        [
         6.575,
         24.0
        ],
        [
         6.421,
         21.6
        ],
        [
         7.185,
         34.7
        ],
        [
         6.998,
         33.4
        ],
        [
         7.147,
         36.2
        ],
        [
         6.43,
         28.7
        ],
        [
         6.012,
         22.9
        ],
        [
         6.172,
         27.1
        ],
        [
         5.631,
         16.5
        ],
        [
         6.004,
         18.9
        ],
        [
         6.377,
         15.0
        ],
        [
         6.009,
         18.9
        ],
        [
         5.889,
         21.7
        ],
        [
         5.949,
         20.4
        ],
        [
         6.096,
         18.2
        ],
        [
         5.834,
         19.9
        ],
        [
         5.935,
         23.1
        ],
        [
         5.99,
         17.5
        ],
        [
         5.456,
         20.2
        ],
        [
         5.727,
         18.2
        ],
        [
         5.57,
         13.6
        ],
        [
         5.965,
         19.6
        ],
        [
         6.142,
         15.2
        ],
        [
         5.813,
         14.5
        ],
        [
         5.924,
         15.6
        ],
        [
         5.599,
         13.9
        ],
        [
         5.813,
         16.6
        ],
        [
         6.047,
         14.8
        ],
        [
         6.495,
         18.4
        ],
        [
         6.674,
         21.0
        ],
        [
         5.713,
         12.7
        ],
        [
         6.072,
         14.5
        ],
        [
         5.95,
         13.2
        ],
        [
         5.701,
         13.1
        ],
        [
         6.096,
         13.5
        ],
        [
         5.933,
         18.9
        ],
        [
         5.841,
         20.0
        ],
        [
         5.85,
         21.0
        ],
        [
         5.966,
         24.7
        ],
        [
         6.595,
         30.8
        ],
        [
         7.024,
         34.9
        ],
        [
         6.77,
         26.6
        ],
        [
         6.169,
         25.3
        ],
        [
         6.211,
         24.7
        ],
        [
         6.069,
         21.2
        ],
        [
         5.682,
         19.3
        ],
        [
         5.786,
         20.0
        ],
        [
         6.03,
         16.6
        ],
        [
         5.399,
         14.4
        ],
        [
         5.602,
         19.4
        ],
        [
         5.963,
         19.7
        ],
        [
         6.115,
         20.5
        ],
        [
         6.511,
         25.0
        ],
        [
         5.998,
         23.4
        ],
        [
         5.888,
         18.9
        ],
        [
         7.249,
         35.4
        ],
        [
         6.383,
         24.7
        ],
        [
         6.816,
         31.6
        ],
        [
         6.145,
         23.3
        ],
        [
         5.927,
         19.6
        ],
        [
         5.741,
         18.7
        ],
        [
         5.966,
         16.0
        ],
        [
         6.456,
         22.2
        ],
        [
         6.762,
         25.0
        ],
        [
         7.104,
         33.0
        ],
        [
         6.29,
         23.5
        ],
        [
         5.787,
         19.4
        ],
        [
         5.878,
         22.0
        ],
        [
         5.594,
         17.4
        ],
        [
         5.885,
         20.9
        ],
        [
         6.417,
         24.2
        ],
        [
         5.961,
         21.7
        ],
        [
         6.065,
         22.8
        ],
        [
         6.245,
         23.4
        ],
        [
         6.273,
         24.1
        ],
        [
         6.286,
         21.4
        ],
        [
         6.279,
         20.0
        ],
        [
         6.14,
         20.8
        ],
        [
         6.232,
         21.2
        ],
        [
         5.874,
         20.3
        ],
        [
         6.727,
         28.0
        ],
        [
         6.619,
         23.9
        ],
        [
         6.302,
         24.8
        ],
        [
         6.167,
         22.9
        ],
        [
         6.389,
         23.9
        ],
        [
         6.63,
         26.6
        ],
        [
         6.015,
         22.5
        ],
        [
         6.121,
         22.2
        ],
        [
         7.007,
         23.6
        ],
        [
         7.079,
         28.7
        ],
        [
         6.417,
         22.6
        ],
        [
         6.405,
         22.0
        ],
        [
         6.442,
         22.9
        ],
        [
         6.211,
         25.0
        ],
        [
         6.249,
         20.6
        ],
        [
         6.625,
         28.4
        ],
        [
         6.163,
         21.4
        ],
        [
         8.069,
         38.7
        ],
        [
         7.82,
         43.8
        ],
        [
         7.416,
         33.2
        ],
        [
         6.727,
         27.5
        ],
        [
         6.781,
         26.5
        ],
        [
         6.405,
         18.6
        ],
        [
         6.137,
         19.3
        ],
        [
         6.167,
         20.1
        ],
        [
         5.851,
         19.5
        ],
        [
         5.836,
         19.5
        ],
        [
         6.127,
         20.4
        ],
        [
         6.474,
         19.8
        ],
        [
         6.229,
         19.4
        ],
        [
         6.195,
         21.7
        ],
        [
         6.715,
         22.8
        ],
        [
         5.913,
         18.8
        ],
        [
         6.092,
         18.7
        ],
        [
         6.254,
         18.5
        ],
        [
         5.928,
         18.3
        ],
        [
         6.176,
         21.2
        ],
        [
         6.021,
         19.2
        ],
        [
         5.872,
         20.4
        ],
        [
         5.731,
         19.3
        ],
        [
         5.87,
         22.0
        ],
        [
         6.004,
         20.3
        ],
        [
         5.961,
         20.5
        ],
        [
         5.856,
         17.3
        ],
        [
         5.879,
         18.8
        ],
        [
         5.986,
         21.4
        ],
        [
         5.613,
         15.7
        ],
        [
         5.693,
         16.2
        ],
        [
         6.431,
         18.0
        ],
        [
         5.637,
         14.3
        ],
        [
         6.458,
         19.2
        ],
        [
         6.326,
         19.6
        ],
        [
         6.372,
         23.0
        ],
        [
         5.822,
         18.4
        ],
        [
         5.757,
         15.6
        ],
        [
         6.335,
         18.1
        ],
        [
         5.942,
         17.4
        ],
        [
         6.454,
         17.1
        ],
        [
         5.857,
         13.3
        ],
        [
         6.151,
         17.8
        ],
        [
         6.174,
         14.0
        ],
        [
         5.019,
         14.4
        ],
        [
         5.403,
         13.4
        ],
        [
         5.468,
         15.6
        ],
        [
         4.903,
         11.8
        ],
        [
         6.13,
         13.8
        ],
        [
         5.628,
         15.6
        ],
        [
         4.926,
         14.6
        ],
        [
         5.186,
         17.8
        ],
        [
         5.597,
         15.4
        ],
        [
         6.122,
         21.5
        ],
        [
         5.404,
         19.6
        ],
        [
         5.012,
         15.3
        ],
        [
         5.709,
         19.4
        ],
        [
         6.129,
         17.0
        ],
        [
         6.152,
         15.6
        ],
        [
         5.272,
         13.1
        ],
        [
         6.943,
         41.3
        ],
        [
         6.066,
         24.3
        ],
        [
         6.51,
         23.3
        ],
        [
         6.25,
         27.0
        ],
        [
         7.489,
         50.0
        ],
        [
         7.802,
         50.0
        ],
        [
         8.375,
         50.0
        ],
        [
         5.854,
         22.7
        ],
        [
         6.101,
         25.0
        ],
        [
         7.929,
         50.0
        ],
        [
         5.877,
         23.8
        ],
        [
         6.319,
         23.8
        ],
        [
         6.402,
         22.3
        ],
        [
         5.875,
         17.4
        ],
        [
         5.88,
         19.1
        ],
        [
         5.572,
         23.1
        ],
        [
         6.416,
         23.6
        ],
        [
         5.859,
         22.6
        ],
        [
         6.546,
         29.4
        ],
        [
         6.02,
         23.2
        ],
        [
         6.315,
         24.6
        ],
        [
         6.86,
         29.9
        ],
        [
         6.98,
         37.2
        ],
        [
         7.765,
         39.8
        ],
        [
         6.144,
         36.2
        ],
        [
         7.155,
         37.9
        ],
        [
         6.563,
         32.5
        ],
        [
         5.604,
         26.4
        ],
        [
         6.153,
         29.6
        ],
        [
         7.831,
         50.0
        ],
        [
         6.782,
         32.0
        ],
        [
         6.556,
         29.8
        ],
        [
         7.185,
         34.9
        ],
        [
         6.951,
         37.0
        ],
        [
         6.739,
         30.5
        ],
        [
         7.178,
         36.4
        ],
        [
         6.8,
         31.1
        ],
        [
         6.604,
         29.1
        ],
        [
         7.875,
         50.0
        ],
        [
         7.287,
         33.3
        ],
        [
         7.107,
         30.3
        ],
        [
         7.274,
         34.6
        ],
        [
         6.975,
         34.9
        ],
        [
         7.135,
         32.9
        ],
        [
         6.162,
         24.1
        ],
        [
         7.61,
         42.3
        ],
        [
         7.853,
         48.5
        ],
        [
         8.034,
         50.0
        ],
        [
         5.891,
         22.6
        ],
        [
         6.326,
         24.4
        ],
        [
         5.783,
         22.5
        ],
        [
         6.064,
         24.4
        ],
        [
         5.344,
         20.0
        ],
        [
         5.96,
         21.7
        ],
        [
         5.404,
         19.3
        ],
        [
         5.807,
         22.4
        ],
        [
         6.375,
         28.1
        ],
        [
         5.412,
         23.7
        ],
        [
         6.182,
         25.0
        ],
        [
         5.888,
         23.3
        ],
        [
         6.642,
         28.7
        ],
        [
         5.951,
         21.5
        ],
        [
         6.373,
         23.0
        ],
        [
         6.951,
         26.7
        ],
        [
         6.164,
         21.7
        ],
        [
         6.879,
         27.5
        ],
        [
         6.618,
         30.1
        ],
        [
         8.266,
         44.8
        ],
        [
         8.725,
         50.0
        ],
        [
         8.04,
         37.6
        ],
        [
         7.163,
         31.6
        ],
        [
         7.686,
         46.7
        ],
        [
         6.552,
         31.5
        ],
        [
         5.981,
         24.3
        ],
        [
         7.412,
         31.7
        ],
        [
         8.337,
         41.7
        ],
        [
         8.247,
         48.3
        ],
        [
         6.726,
         29.0
        ],
        [
         6.086,
         24.0
        ],
        [
         6.631,
         25.1
        ],
        [
         7.358,
         31.5
        ],
        [
         6.481,
         23.7
        ],
        [
         6.606,
         23.3
        ],
        [
         6.897,
         22.0
        ],
        [
         6.095,
         20.1
        ],
        [
         6.358,
         22.2
        ],
        [
         6.393,
         23.7
        ],
        [
         5.593,
         17.6
        ],
        [
         5.605,
         18.5
        ],
        [
         6.108,
         24.3
        ],
        [
         6.226,
         20.5
        ],
        [
         6.433,
         24.5
        ],
        [
         6.718,
         26.2
        ],
        [
         6.487,
         24.4
        ],
        [
         6.438,
         24.8
        ],
        [
         6.957,
         29.6
        ],
        [
         8.259,
         42.8
        ],
        [
         6.108,
         21.9
        ],
        [
         5.876,
         20.9
        ],
        [
         7.454,
         44.0
        ],
        [
         8.704,
         50.0
        ],
        [
         7.333,
         36.0
        ],
        [
         6.842,
         30.1
        ],
        [
         7.203,
         33.8
        ],
        [
         7.52,
         43.1
        ],
        [
         8.398,
         48.8
        ],
        [
         7.327,
         31.0
        ],
        [
         7.206,
         36.5
        ],
        [
         5.56,
         22.8
        ],
        [
         7.014,
         30.7
        ],
        [
         8.297,
         50.0
        ],
        [
         7.47,
         43.5
        ],
        [
         5.92,
         20.7
        ],
        [
         5.856,
         21.1
        ],
        [
         6.24,
         25.2
        ],
        [
         6.538,
         24.4
        ],
        [
         7.691,
         35.2
        ],
        [
         6.758,
         32.4
        ],
        [
         6.854,
         32.0
        ],
        [
         7.267,
         33.2
        ],
        [
         6.826,
         33.1
        ],
        [
         6.482,
         29.1
        ],
        [
         6.812,
         35.1
        ],
        [
         7.82,
         45.4
        ],
        [
         6.968,
         35.4
        ],
        [
         7.645,
         46.0
        ],
        [
         7.923,
         50.0
        ],
        [
         7.088,
         32.2
        ],
        [
         6.453,
         22.0
        ],
        [
         6.23,
         20.1
        ],
        [
         6.209,
         23.2
        ],
        [
         6.315,
         22.3
        ],
        [
         6.565,
         24.8
        ],
        [
         6.861,
         28.5
        ],
        [
         7.148,
         37.3
        ],
        [
         6.63,
         27.9
        ],
        [
         6.127,
         23.9
        ],
        [
         6.009,
         21.7
        ],
        [
         6.678,
         28.6
        ],
        [
         6.549,
         27.1
        ],
        [
         5.79,
         20.3
        ],
        [
         6.345,
         22.5
        ],
        [
         7.041,
         29.0
        ],
        [
         6.871,
         24.8
        ],
        [
         6.59,
         22.0
        ],
        [
         6.495,
         26.4
        ],
        [
         6.982,
         33.1
        ],
        [
         7.236,
         36.1
        ],
        [
         6.616,
         28.4
        ],
        [
         7.42,
         33.4
        ],
        [
         6.849,
         28.2
        ],
        [
         6.635,
         22.8
        ],
        [
         5.972,
         20.3
        ],
        [
         4.973,
         16.1
        ],
        [
         6.122,
         22.1
        ],
        [
         6.023,
         19.4
        ],
        [
         6.266,
         21.6
        ],
        [
         6.567,
         23.8
        ],
        [
         5.705,
         16.2
        ],
        [
         5.914,
         17.8
        ],
        [
         5.782,
         19.8
        ],
        [
         6.382,
         23.1
        ],
        [
         6.113,
         21.0
        ],
        [
         6.426,
         23.8
        ],
        [
         6.376,
         23.1
        ],
        [
         6.041,
         20.4
        ],
        [
         5.708,
         18.5
        ],
        [
         6.415,
         25.0
        ],
        [
         6.431,
         24.6
        ],
        [
         6.312,
         23.0
        ],
        [
         6.083,
         22.2
        ],
        [
         5.868,
         19.3
        ],
        [
         6.333,
         22.6
        ],
        [
         6.144,
         19.8
        ],
        [
         5.706,
         17.1
        ],
        [
         6.031,
         19.4
        ],
        [
         6.316,
         22.2
        ],
        [
         6.31,
         20.7
        ],
        [
         6.037,
         21.1
        ],
        [
         5.869,
         19.5
        ],
        [
         5.895,
         18.5
        ],
        [
         6.059,
         20.6
        ],
        [
         5.985,
         19.0
        ],
        [
         5.968,
         18.7
        ],
        [
         7.241,
         32.7
        ],
        [
         6.54,
         16.5
        ],
        [
         6.696,
         23.9
        ],
        [
         6.874,
         31.2
        ],
        [
         6.014,
         17.5
        ],
        [
         5.898,
         17.2
        ],
        [
         6.516,
         23.1
        ],
        [
         6.635,
         24.5
        ],
        [
         6.939,
         26.6
        ],
        [
         6.49,
         22.9
        ],
        [
         6.579,
         24.1
        ],
        [
         5.884,
         18.6
        ],
        [
         6.728,
         30.1
        ],
        [
         5.663,
         18.2
        ],
        [
         5.936,
         20.6
        ],
        [
         6.212,
         17.8
        ],
        [
         6.395,
         21.7
        ],
        [
         6.127,
         22.7
        ],
        [
         6.112,
         22.6
        ],
        [
         6.398,
         25.0
        ],
        [
         6.251,
         19.9
        ],
        [
         5.362,
         20.8
        ],
        [
         5.803,
         16.8
        ],
        [
         8.78,
         21.9
        ],
        [
         3.561,
         27.5
        ],
        [
         4.963,
         21.9
        ],
        [
         3.863,
         23.1
        ],
        [
         4.97,
         50.0
        ],
        [
         6.683,
         50.0
        ],
        [
         7.016,
         50.0
        ],
        [
         6.216,
         50.0
        ],
        [
         5.875,
         50.0
        ],
        [
         4.906,
         13.8
        ],
        [
         4.138,
         13.8
        ],
        [
         7.313,
         15.0
        ],
        [
         6.649,
         13.9
        ],
        [
         6.794,
         13.3
        ],
        [
         6.38,
         13.1
        ],
        [
         6.223,
         10.2
        ],
        [
         6.968,
         10.4
        ],
        [
         6.545,
         10.9
        ],
        [
         5.536,
         11.3
        ],
        [
         5.52,
         12.3
        ],
        [
         4.368,
         8.8
        ],
        [
         5.277,
         7.2
        ],
        [
         4.652,
         10.5
        ],
        [
         5.0,
         7.4
        ],
        [
         4.88,
         10.2
        ],
        [
         5.39,
         11.5
        ],
        [
         5.713,
         15.1
        ],
        [
         6.051,
         23.2
        ],
        [
         5.036,
         9.7
        ],
        [
         6.193,
         13.8
        ],
        [
         5.887,
         12.7
        ],
        [
         6.471,
         13.1
        ],
        [
         6.405,
         12.5
        ],
        [
         5.747,
         8.5
        ],
        [
         5.453,
         5.0
        ],
        [
         5.852,
         6.3
        ],
        [
         5.987,
         5.6
        ],
        [
         6.343,
         7.2
        ],
        [
         6.404,
         12.1
        ],
        [
         5.349,
         8.3
        ],
        [
         5.531,
         8.5
        ],
        [
         5.683,
         5.0
        ],
        [
         4.138,
         11.9
        ],
        [
         5.608,
         27.9
        ],
        [
         5.617,
         17.2
        ],
        [
         6.852,
         27.5
        ],
        [
         5.757,
         15.0
        ],
        [
         6.657,
         17.2
        ],
        [
         4.628,
         17.9
        ],
        [
         5.155,
         16.3
        ],
        [
         4.519,
         7.0
        ],
        [
         6.434,
         7.2
        ],
        [
         6.782,
         7.5
        ],
        [
         5.304,
         10.4
        ],
        [
         5.957,
         8.8
        ],
        [
         6.824,
         8.4
        ],
        [
         6.411,
         16.7
        ],
        [
         6.006,
         14.2
        ],
        [
         5.648,
         20.8
        ],
        [
         6.103,
         13.4
        ],
        [
         5.565,
         11.7
        ],
        [
         5.896,
         8.3
        ],
        [
         5.837,
         10.2
        ],
        [
         6.202,
         10.9
        ],
        [
         6.193,
         11.0
        ],
        [
         6.38,
         9.5
        ],
        [
         6.348,
         14.5
        ],
        [
         6.833,
         14.1
        ],
        [
         6.425,
         16.1
        ],
        [
         6.436,
         14.3
        ],
        [
         6.208,
         11.7
        ],
        [
         6.629,
         13.4
        ],
        [
         6.461,
         9.6
        ],
        [
         6.152,
         8.7
        ],
        [
         5.935,
         8.4
        ],
        [
         5.627,
         12.8
        ],
        [
         5.818,
         10.5
        ],
        [
         6.406,
         17.1
        ],
        [
         6.219,
         18.4
        ],
        [
         6.485,
         15.4
        ],
        [
         5.854,
         10.8
        ],
        [
         6.459,
         11.8
        ],
        [
         6.341,
         14.9
        ],
        [
         6.251,
         12.6
        ],
        [
         6.185,
         14.1
        ],
        [
         6.417,
         13.0
        ],
        [
         6.749,
         13.4
        ],
        [
         6.655,
         15.2
        ],
        [
         6.297,
         16.1
        ],
        [
         7.393,
         17.8
        ],
        [
         6.728,
         14.9
        ],
        [
         6.525,
         14.1
        ],
        [
         5.976,
         12.7
        ],
        [
         5.936,
         13.5
        ],
        [
         6.301,
         14.9
        ],
        [
         6.081,
         20.0
        ],
        [
         6.701,
         16.4
        ],
        [
         6.376,
         17.7
        ],
        [
         6.317,
         19.5
        ],
        [
         6.513,
         20.2
        ],
        [
         6.209,
         21.4
        ],
        [
         5.759,
         19.9
        ],
        [
         5.952,
         19.0
        ],
        [
         6.003,
         19.1
        ],
        [
         5.926,
         19.1
        ],
        [
         5.713,
         20.1
        ],
        [
         6.167,
         19.9
        ],
        [
         6.229,
         19.6
        ],
        [
         6.437,
         23.2
        ],
        [
         6.98,
         29.8
        ],
        [
         5.427,
         13.8
        ],
        [
         6.162,
         13.3
        ],
        [
         6.484,
         16.7
        ],
        [
         5.304,
         12.0
        ],
        [
         6.185,
         14.6
        ],
        [
         6.229,
         21.4
        ],
        [
         6.242,
         23.0
        ],
        [
         6.75,
         23.7
        ],
        [
         7.061,
         25.0
        ],
        [
         5.762,
         21.8
        ],
        [
         5.871,
         20.6
        ],
        [
         6.312,
         21.2
        ],
        [
         6.114,
         19.1
        ],
        [
         5.905,
         20.6
        ],
        [
         5.454,
         15.2
        ],
        [
         5.414,
         7.0
        ],
        [
         5.093,
         8.1
        ],
        [
         5.983,
         13.6
        ],
        [
         5.983,
         20.1
        ],
        [
         5.707,
         21.8
        ],
        [
         5.926,
         24.5
        ],
        [
         5.67,
         23.1
        ],
        [
         5.39,
         19.7
        ],
        [
         5.794,
         18.3
        ],
        [
         6.019,
         21.2
        ],
        [
         5.569,
         17.5
        ],
        [
         6.027,
         16.8
        ],
        [
         6.593,
         22.4
        ],
        [
         6.12,
         20.6
        ],
        [
         6.976,
         23.9
        ],
        [
         6.794,
         22.0
        ],
        [
         6.03,
         11.9
        ]
       ],
       "datasetInfos": [],
       "dbfsResultPath": null,
       "isJsonSchema": true,
       "metadata": {},
       "overflow": false,
       "plotOptions": {
        "customPlotOptions": {},
        "displayType": "table",
        "pivotAggregation": null,
        "pivotColumns": [],
        "xColumns": [],
        "yColumns": []
       },
       "removedWidgets": [],
       "schema": [
        {
         "metadata": "{}",
         "name": "rm",
         "type": "\"double\""
        },
        {
         "metadata": "{}",
         "name": "medv",
         "type": "\"double\""
        }
       ],
       "type": "table"
      }
     },
     "output_type": "display_data"
    },
    {
     "output_type": "display_data",
     "data": {
      "text/plain": [
       "Databricks visualization. Run in Databricks to view."
      ]
     },
     "metadata": {
      "application/vnd.databricks.v1.subcommand+json": {
       "bindings": {},
       "collapsed": false,
       "command": "%python\n__backend_agg_display_orig = display\n__backend_agg_dfs = []\ndef __backend_agg_display_new(df):\n    __backend_agg_df_modules = [\"pandas.core.frame\", \"databricks.koalas.frame\", \"pyspark.sql.dataframe\", \"pyspark.pandas.frame\", \"pyspark.sql.connect.dataframe\"]\n    if (type(df).__module__ in __backend_agg_df_modules and type(df).__name__ == 'DataFrame') or isinstance(df, list):\n        __backend_agg_dfs.append(df)\n\ndisplay = __backend_agg_display_new\n\ndef __backend_agg_user_code_fn():\n    import base64\n    exec(base64.standard_b64decode(\"ZGlzcGxheShib3N0b25ERi5zZWxlY3QoInJtIiwgIm1lZHYiKSk=\").decode())\n\ntry:\n    # run user code\n    __backend_agg_user_code_fn()\n\n    #reset display function\n    display = __backend_agg_display_orig\n\n    if len(__backend_agg_dfs) > 0:\n        # create a temp view\n        if hasattr(__backend_agg_dfs[0], \"to_spark\"):\n            # koalas dataframe\n            __backend_agg_dfs[0].to_spark().createOrReplaceTempView(\"DatabricksView1aae56f\")\n        elif type(__backend_agg_dfs[0]).__module__ == \"pandas.core.frame\" or isinstance(__backend_agg_dfs[0], list):\n            # pandas dataframe\n            spark.createDataFrame(__backend_agg_dfs[0]).createOrReplaceTempView(\"DatabricksView1aae56f\")\n        else:\n            __backend_agg_dfs[0].createOrReplaceTempView(\"DatabricksView1aae56f\")\n        #run backend agg\n        display(spark.sql(\"\"\"WITH q AS (select * from DatabricksView1aae56f) SELECT `rm`,`medv` FROM q\"\"\"))\n    else:\n        displayHTML(\"dataframe no longer exists. If you're using dataframe.display(), use display(dataframe) instead.\")\n\n\nfinally:\n    spark.sql(\"drop view if exists DatabricksView1aae56f\")\n    display = __backend_agg_display_orig\n    del __backend_agg_display_new\n    del __backend_agg_display_orig\n    del __backend_agg_dfs\n    del __backend_agg_user_code_fn\n\n",
       "commandTitle": "Visualization 1",
       "commandType": "auto",
       "commandVersion": 0,
       "commentThread": [],
       "commentsVisible": false,
       "contentSha256Hex": null,
       "customPlotOptions": {
        "redashChart": [
         {
          "key": "type",
          "value": "CHART"
         },
         {
          "key": "options",
          "value": {
           "alignYAxesAtZero": true,
           "coefficient": 1,
           "columnConfigurationMap": {
            "x": {
             "column": "rm",
             "id": "column_82622c682"
            },
            "y": [
             {
              "column": "medv",
              "id": "column_82622c683"
             }
            ]
           },
           "dateTimeFormat": "DD/MM/YYYY HH:mm",
           "direction": {
            "type": "counterclockwise"
           },
           "error_y": {
            "type": "data",
            "visible": true
           },
           "globalSeriesType": "scatter",
           "legend": {
            "traceorder": "normal"
           },
           "missingValuesAsZero": true,
           "numberFormat": "0,0[.]00000",
           "percentFormat": "0[.]00%",
           "series": {
            "error_y": {
             "type": "data",
             "visible": true
            },
            "stacking": null
           },
           "seriesOptions": {
            "column_82622c683": {
             "name": "medv",
             "yAxis": 0
            }
           },
           "showDataLabels": false,
           "sizemode": "diameter",
           "sortX": true,
           "sortY": true,
           "swappedAxes": false,
           "textFormat": "",
           "useAggregationsUi": true,
           "valuesOptions": {},
           "version": 2,
           "xAxis": {
            "labels": {
             "enabled": true
            },
            "type": "-"
           },
           "yAxis": [
            {
             "type": "-"
            },
            {
             "opposite": true,
             "type": "-"
            }
           ]
          }
         }
        ]
       },
       "datasetPreviewNameToCmdIdMap": {},
       "diffDeletes": [],
       "diffInserts": [],
       "displayType": "redashChart",
       "error": null,
       "errorSummary": null,
       "errorTraceType": null,
       "finishTime": 0,
       "globalVars": {},
       "guid": "bfd866b7-3339-4007-be92-614aa9f75a6a",
       "height": "auto",
       "hideCommandCode": false,
       "hideCommandResult": false,
       "iPythonMetadata": null,
       "inputWidgets": {},
       "isLockedInExamMode": false,
       "latestUser": "a user",
       "latestUserId": null,
       "listResultMetadata": null,
       "metadata": {},
       "nuid": "c05f5392-efa1-43fc-b4fc-3a0fbd5cadf4",
       "origId": 2177866436137896,
       "parentHierarchy": [
        "8a72dce7-2f4a-4b30-9d6d-cc29050c8f6e"
       ],
       "pivotAggregation": null,
       "pivotColumns": null,
       "position": 18.0,
       "resultDbfsErrorMessage": null,
       "resultDbfsStatus": "INLINED_IN_TREE",
       "results": null,
       "showCommandTitle": false,
       "startTime": 0,
       "state": "input",
       "streamStates": {},
       "subcommandOptions": {
        "queryPlan": {
         "selects": [
          {
           "column": "rm",
           "type": "column"
          },
          {
           "column": "medv",
           "type": "column"
          }
         ]
        }
       },
       "submitTime": 0,
       "subtype": "tableResultSubCmd.visualization",
       "tableResultIndex": 0,
       "useConsistentColors": false,
       "version": "CommandV1",
       "width": "auto",
       "workflows": [],
       "xColumns": null,
       "yColumns": null
      }
     },
     "output_type": "display_data"
    }
   ],
   "source": [
    "display(bostonDF.select(\"rm\", \"medv\"))"
   ]
  },
  {
   "cell_type": "markdown",
   "metadata": {
    "application/vnd.databricks.v1+cell": {
     "cellMetadata": {},
     "inputWidgets": {},
     "nuid": "80df7603-82ec-4322-9359-91df912adf7b",
     "showTitle": false,
     "title": ""
    }
   },
   "source": [
    "By clicking the \"LOESS\" box under Plot Options, a local regression line is added showing the trend."
   ]
  },
  {
   "cell_type": "markdown",
   "metadata": {
    "application/vnd.databricks.v1+cell": {
     "cellMetadata": {},
     "inputWidgets": {},
     "nuid": "3c42c56f-2b7c-4ef3-b9cb-356b5a7385e7",
     "showTitle": false,
     "title": ""
    }
   },
   "source": [
    "-sandbox\n",
    "Databricks notebooks can display plots generated in pure Python:<br><br>\n",
    "\n",
    "1. Import `matplotlib`, `pandas`, and `seaborn`\n",
    "2. Create a `fig` object\n",
    "3. Use the `.toPandas()` DataFrame method to turn the Spark DataFrame into a Pandas DataFrame.  This way we can use Python's plotting libraries\n",
    "4. Use the `scatter_matrix` pandas function to plot a matrix of scatterplots\n",
    "\n",
    "<img alt=\"Caution\" title=\"Caution\" style=\"vertical-align: text-bottom; position: relative; height:1.3em; top:0.0em\" src=\"https://files.training.databricks.com/static/images/icon-warning.svg\"/> Do not use `.toPandas()` on large datasets since a Pandas DataFrame must fit into the driver node of a cluster."
   ]
  },
  {
   "cell_type": "markdown",
   "metadata": {
    "application/vnd.databricks.v1+cell": {
     "cellMetadata": {},
     "inputWidgets": {},
     "nuid": "3d1b4700-2817-4846-b7bb-5c022715a1a3",
     "showTitle": false,
     "title": ""
    }
   },
   "source": [
    "Plot a scatter matrix using the `pandas` Python library."
   ]
  },
  {
   "cell_type": "code",
   "execution_count": 0,
   "metadata": {
    "application/vnd.databricks.v1+cell": {
     "cellMetadata": {
      "byteLimit": 2048000,
      "rowLimit": 10000
     },
     "inputWidgets": {},
     "nuid": "8d2ea4ba-8020-4e09-b3d8-51eb0c72932a",
     "showTitle": false,
     "title": ""
    }
   },
   "outputs": [
    {
     "output_type": "display_data",
     "data": {
      "application/vnd.databricks.v1+bamboolib_hint": "{\"pd.DataFrames\": [], \"version\": \"0.0.1\"}",
      "text/plain": []
     },
     "metadata": {},
     "output_type": "display_data"
    },
    {
     "output_type": "display_data",
     "data": {
      "image/png": "[encoded data removed]"
     },
     "metadata": {
      "application/vnd.databricks.v1+output": {
       "addedWidgets": {},
       "arguments": {},
       "data": "data:image/png;base64,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\n",
       "datasetInfos": [],
       "metadata": {},
       "removedWidgets": [],
       "type": "image"
      }
     },
     "output_type": "display_data"
    },
    {
     "output_type": "display_data",
     "data": {
      "image/png": "[encoded data removed]"
     },
     "metadata": {
      "application/vnd.databricks.v1+output": {
       "addedWidgets": {},
       "arguments": {},
       "data": "data:image/png;base64,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\n",
       "datasetInfos": [],
       "metadata": {},
       "removedWidgets": [],
       "type": "image"
      }
     },
     "output_type": "display_data"
    },
    {
     "output_type": "display_data",
     "data": {
      "image/png": "[encoded data removed]"
     },
     "metadata": {
      "application/vnd.databricks.v1+output": {
       "addedWidgets": {},
       "arguments": {},
       "data": "data:image/png;base64,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\n",
       "datasetInfos": [],
       "metadata": {},
       "removedWidgets": [],
       "type": "image"
      }
     },
     "output_type": "display_data"
    }
   ],
   "source": [
    "%python\n",
    "import matplotlib.pyplot as plt\n",
    "import pandas as pd\n",
    "import seaborn as sns # importing for a better color scheme\n",
    "\n",
    "try:\n",
    "  bostonDF\n",
    "except NameError: # Looks for local table if bostonDF not defined\n",
    "  bostonDF = spark.table(\"boston\")\n",
    "\n",
    "fig, ax = plt.subplots()\n",
    "pandasDF = bostonDF.select(\"rm\", \"crim\", \"lstat\", \"medv\").toPandas()\n",
    "\n",
    "pd.plotting.scatter_matrix(pandasDF)\n",
    "\n",
    "display(fig.figure)"
   ]
  },
  {
   "cell_type": "markdown",
   "metadata": {
    "application/vnd.databricks.v1+cell": {
     "cellMetadata": {},
     "inputWidgets": {},
     "nuid": "a2d61ae3-737c-4735-a0ed-38dce684d6ca",
     "showTitle": false,
     "title": ""
    }
   },
   "source": [
    "The above plot shows histograms on the diagonal and scatterplots in the other quadrants.  The plot in the upper-left hand quarter is a histogram of the `rm` variable and the plot to its right is a scatterplot with `rm` as the y axis and `crim` as the x axis.  This shows us correlations across our variables."
   ]
  },
  {
   "cell_type": "markdown",
   "metadata": {
    "application/vnd.databricks.v1+cell": {
     "cellMetadata": {},
     "inputWidgets": {},
     "nuid": "c3e955fd-f056-4521-9d2b-9657fc502ee1",
     "showTitle": false,
     "title": ""
    }
   },
   "source": [
    "-sandbox\n",
    "### Correlations\n",
    "\n",
    "Correlation is the first way of understanding the relationship between two variables.  The correlation of two variables is the degree to which one variable increases linearly with the other:<br><br>\n",
    "\n",
    "* A positive correlation of 1 means that for each unit increase in one variable, the same increase is seen in the other\n",
    "* A negative correlation of -1 means that for each unit increase in one variable, the same decrease is seen in the other\n",
    "* A correlation of 0 means that there is no association between the variables\n",
    "\n",
    "More formally, correlation is computed as the following:<br><br>\n",
    "\n",
    "<div><img src=\"https://files.training.databricks.com/images/eLearning/ML-Part-1/correlation.svg\" style=\"height: 60px; margin: 20px\"/></div>\n",
    "\n",
    "The correlation of variables X and Y is their covariance over the standard deviation of X multiplied by the standard deviation of Y.  The covariance is calculated by summing up the product of each value minus their respective mean (`μ`)."
   ]
  },
  {
   "cell_type": "markdown",
   "metadata": {
    "application/vnd.databricks.v1+cell": {
     "cellMetadata": {},
     "inputWidgets": {},
     "nuid": "8cbb1443-8278-42b1-af6f-140fbe257917",
     "showTitle": false,
     "title": ""
    }
   },
   "source": [
    "To deepen our understanding of correlation, add columns to the `bostonDF` DataFrame that accomplishes the following:<br><br>\n",
    "\n",
    "1. `medvX3`: `medv` multiplied by 3\n",
    "3. `medvNeg`: `medv` multiplied by -3\n",
    "4. `random1`: a random number\n",
    "5. `random2`: a second random number\n",
    "6. `medvWithNoise`: `medv` multiplied by some random noise\n",
    "7. `medvWithNegativeNoise`: negative `medv` multiplied by some random noise"
   ]
  },
  {
   "cell_type": "code",
   "execution_count": 0,
   "metadata": {
    "application/vnd.databricks.v1+cell": {
     "cellMetadata": {
      "byteLimit": 2048000,
      "rowLimit": 10000
     },
     "inputWidgets": {},
     "nuid": "049ab818-e70b-427e-ab76-2e54d046ded8",
     "showTitle": false,
     "title": ""
    }
   },
   "outputs": [
    {
     "output_type": "display_data",
     "data": {
      "text/html": [
       "<style scoped>\n",
       "  .table-result-container {\n",
       "    max-height: 300px;\n",
       "    overflow: auto;\n",
       "  }\n",
       "  table, th, td {\n",
       "    border: 1px solid black;\n",
       "    border-collapse: collapse;\n",
       "  }\n",
       "  th, td {\n",
       "    padding: 5px;\n",
       "  }\n",
       "  th {\n",
       "    text-align: left;\n",
       "  }\n",
       "</style><div class='table-result-container'><table class='table-result'><thead style='background-color: white'><tr><th>medv</th><th>medvX3</th><th>medvNeg</th><th>random1</th><th>random2</th><th>medvWithNoise</th><th>medvWithNegativeNoise</th></tr></thead><tbody><tr><td>24.0</td><td>72.0</td><td>-72.0</td><td>0.9502423797032892</td><td>0.7985334687187781</td><td>22.80581711287894</td><td>-22.80581711287894</td></tr><tr><td>21.6</td><td>64.80000000000001</td><td>-64.80000000000001</td><td>0.8724902006601648</td><td>0.8679617292463396</td><td>18.84578833425956</td><td>-18.84578833425956</td></tr><tr><td>34.7</td><td>104.10000000000001</td><td>-104.10000000000001</td><td>0.5469560487041895</td><td>0.5068407664758031</td><td>18.979374890035377</td><td>-18.979374890035377</td></tr><tr><td>33.4</td><td>100.19999999999999</td><td>-100.19999999999999</td><td>0.45521698538104904</td><td>0.7946993123364816</td><td>15.204247311727038</td><td>-15.204247311727038</td></tr><tr><td>36.2</td><td>108.60000000000001</td><td>-108.60000000000001</td><td>0.3726668369477889</td><td>0.7463770360606422</td><td>13.490539497509959</td><td>-13.490539497509959</td></tr><tr><td>28.7</td><td>86.1</td><td>-86.1</td><td>0.8102793186273827</td><td>0.27140710651938027</td><td>23.255016444605882</td><td>-23.255016444605882</td></tr><tr><td>22.9</td><td>68.69999999999999</td><td>-68.69999999999999</td><td>0.08157144775154124</td><td>0.2741303337234684</td><td>1.8679861535102942</td><td>-1.8679861535102942</td></tr><tr><td>27.1</td><td>81.30000000000001</td><td>-81.30000000000001</td><td>0.7895113419776418</td><td>0.8373499476137246</td><td>21.395757367594094</td><td>-21.395757367594094</td></tr><tr><td>16.5</td><td>49.5</td><td>-49.5</td><td>0.840914329463114</td><td>0.24589255141259847</td><td>13.87508643614138</td><td>-13.87508643614138</td></tr><tr><td>18.9</td><td>56.699999999999996</td><td>-56.699999999999996</td><td>0.5129710094443797</td><td>0.9652351351138434</td><td>9.695152078498776</td><td>-9.695152078498776</td></tr><tr><td>15.0</td><td>45.0</td><td>-45.0</td><td>0.1845149544547131</td><td>0.9672886812333024</td><td>2.7677243168206966</td><td>-2.7677243168206966</td></tr><tr><td>18.9</td><td>56.699999999999996</td><td>-56.699999999999996</td><td>0.15726599967042365</td><td>0.912233914172175</td><td>2.972327393771007</td><td>-2.972327393771007</td></tr><tr><td>21.7</td><td>65.1</td><td>-65.1</td><td>0.06007628332736825</td><td>0.569264765604792</td><td>1.303655348203891</td><td>-1.303655348203891</td></tr><tr><td>20.4</td><td>61.199999999999996</td><td>-61.199999999999996</td><td>0.2419528825705074</td><td>0.4424655687025356</td><td>4.935838804438351</td><td>-4.935838804438351</td></tr><tr><td>18.2</td><td>54.599999999999994</td><td>-54.599999999999994</td><td>0.34345007229791213</td><td>0.09915391721172861</td><td>6.250791315822001</td><td>-6.250791315822001</td></tr><tr><td>19.9</td><td>59.699999999999996</td><td>-59.699999999999996</td><td>0.7190777421482276</td><td>0.44821411386180077</td><td>14.309647068749728</td><td>-14.309647068749728</td></tr><tr><td>23.1</td><td>69.30000000000001</td><td>-69.30000000000001</td><td>0.8054093371302236</td><td>0.07797741260036084</td><td>18.604955687708166</td><td>-18.604955687708166</td></tr><tr><td>17.5</td><td>52.5</td><td>-52.5</td><td>0.15188401452199785</td><td>0.7806542100996988</td><td>2.657970254134962</td><td>-2.657970254134962</td></tr><tr><td>20.2</td><td>60.599999999999994</td><td>-60.599999999999994</td><td>0.010437318990060729</td><td>0.6456070269977019</td><td>0.21083384359922672</td><td>-0.21083384359922672</td></tr><tr><td>18.2</td><td>54.599999999999994</td><td>-54.599999999999994</td><td>0.8462319764332871</td><td>0.033224846121013174</td><td>15.401421971085824</td><td>-15.401421971085824</td></tr><tr><td>13.6</td><td>40.8</td><td>-40.8</td><td>0.9686558465808762</td><td>0.679432261008017</td><td>13.173719513499917</td><td>-13.173719513499917</td></tr><tr><td>19.6</td><td>58.800000000000004</td><td>-58.800000000000004</td><td>0.3647775811744318</td><td>0.6265080679221122</td><td>7.149640591018864</td><td>-7.149640591018864</td></tr><tr><td>15.2</td><td>45.599999999999994</td><td>-45.599999999999994</td><td>0.4387225139378774</td><td>0.6762527816811688</td><td>6.668582211855736</td><td>-6.668582211855736</td></tr><tr><td>14.5</td><td>43.5</td><td>-43.5</td><td>0.007945204649121296</td><td>0.35116359240280537</td><td>0.11520546741225879</td><td>-0.11520546741225879</td></tr><tr><td>15.6</td><td>46.8</td><td>-46.8</td><td>0.03545882732839678</td><td>0.5103952348907712</td><td>0.5531577063229898</td><td>-0.5531577063229898</td></tr><tr><td>13.9</td><td>41.7</td><td>-41.7</td><td>0.3214735489726033</td><td>0.22342788291295623</td><td>4.468482330719185</td><td>-4.468482330719185</td></tr><tr><td>16.6</td><td>49.800000000000004</td><td>-49.800000000000004</td><td>0.8393679778258945</td><td>0.44501142597261334</td><td>13.93350843190985</td><td>-13.93350843190985</td></tr><tr><td>14.8</td><td>44.400000000000006</td><td>-44.400000000000006</td><td>0.28440649176772315</td><td>0.8345245819477765</td><td>4.209216078162303</td><td>-4.209216078162303</td></tr><tr><td>18.4</td><td>55.199999999999996</td><td>-55.199999999999996</td><td>0.8494653815614148</td><td>0.9694740987925653</td><td>15.630163020730032</td><td>-15.630163020730032</td></tr><tr><td>21.0</td><td>63.0</td><td>-63.0</td><td>0.9222638259517473</td><td>0.10757180884848483</td><td>19.367540344986693</td><td>-19.367540344986693</td></tr><tr><td>12.7</td><td>38.099999999999994</td><td>-38.099999999999994</td><td>0.055210010722704816</td><td>0.2728931148741863</td><td>0.7011671361783511</td><td>-0.7011671361783511</td></tr><tr><td>14.5</td><td>43.5</td><td>-43.5</td><td>0.17005059532210465</td><td>0.3527662028119879</td><td>2.4657336321705174</td><td>-2.4657336321705174</td></tr><tr><td>13.2</td><td>39.599999999999994</td><td>-39.599999999999994</td><td>0.9389459161766412</td><td>0.69576260385497</td><td>12.394086093531664</td><td>-12.394086093531664</td></tr><tr><td>13.1</td><td>39.3</td><td>-39.3</td><td>0.6951832441927671</td><td>0.9855823659865658</td><td>9.106900498925249</td><td>-9.106900498925249</td></tr><tr><td>13.5</td><td>40.5</td><td>-40.5</td><td>0.6768113408631253</td><td>0.9905131217383232</td><td>9.136953101652193</td><td>-9.136953101652193</td></tr><tr><td>18.9</td><td>56.699999999999996</td><td>-56.699999999999996</td><td>0.7292062732237298</td><td>0.08309560551735151</td><td>13.781998563928491</td><td>-13.781998563928491</td></tr><tr><td>20.0</td><td>60.0</td><td>-60.0</td><td>0.4886108344407938</td><td>0.3838005426197798</td><td>9.772216688815876</td><td>-9.772216688815876</td></tr><tr><td>21.0</td><td>63.0</td><td>-63.0</td><td>0.3300880518744036</td><td>0.38559420104652886</td><td>6.931849089362475</td><td>-6.931849089362475</td></tr><tr><td>24.7</td><td>74.1</td><td>-74.1</td><td>0.09631975635880563</td><td>0.27531501508888256</td><td>2.379097982062499</td><td>-2.379097982062499</td></tr><tr><td>30.8</td><td>92.4</td><td>-92.4</td><td>0.11214092824548583</td><td>0.36689350566387025</td><td>3.4539405899609634</td><td>-3.4539405899609634</td></tr><tr><td>34.9</td><td>104.69999999999999</td><td>-104.69999999999999</td><td>0.8631150677310357</td><td>0.4352140989762626</td><td>30.122715863813145</td><td>-30.122715863813145</td></tr><tr><td>26.6</td><td>79.80000000000001</td><td>-79.80000000000001</td><td>0.6756960139922025</td><td>0.6089996242970306</td><td>17.97351397219259</td><td>-17.97351397219259</td></tr><tr><td>25.3</td><td>75.9</td><td>-75.9</td><td>0.3967372323081737</td><td>0.3777710575473592</td><td>10.037451977396795</td><td>-10.037451977396795</td></tr><tr><td>24.7</td><td>74.1</td><td>-74.1</td><td>0.06540930865582761</td><td>0.38879598327043297</td><td>1.615609923798942</td><td>-1.615609923798942</td></tr><tr><td>21.2</td><td>63.599999999999994</td><td>-63.599999999999994</td><td>0.45002139783837014</td><td>0.9344144651893381</td><td>9.540453634173447</td><td>-9.540453634173447</td></tr><tr><td>19.3</td><td>57.900000000000006</td><td>-57.900000000000006</td><td>0.3765341804559311</td><td>0.527210489617319</td><td>7.267109682799471</td><td>-7.267109682799471</td></tr><tr><td>20.0</td><td>60.0</td><td>-60.0</td><td>0.5519227352914453</td><td>0.48055128268306146</td><td>11.038454705828906</td><td>-11.038454705828906</td></tr><tr><td>16.6</td><td>49.800000000000004</td><td>-49.800000000000004</td><td>0.529203868653197</td><td>0.1624577771931014</td><td>8.784784219643072</td><td>-8.784784219643072</td></tr><tr><td>14.4</td><td>43.2</td><td>-43.2</td><td>0.26678951262698314</td><td>0.5259514055461892</td><td>3.841768981828557</td><td>-3.841768981828557</td></tr><tr><td>19.4</td><td>58.199999999999996</td><td>-58.199999999999996</td><td>0.3455000019127912</td><td>0.13370208186529908</td><td>6.702700037108149</td><td>-6.702700037108149</td></tr><tr><td>19.7</td><td>59.099999999999994</td><td>-59.099999999999994</td><td>0.9032940067263162</td><td>0.7681036863571448</td><td>17.794891932508428</td><td>-17.794891932508428</td></tr><tr><td>20.5</td><td>61.5</td><td>-61.5</td><td>0.27537480465196174</td><td>0.7058749398146719</td><td>5.645183495365216</td><td>-5.645183495365216</td></tr><tr><td>25.0</td><td>75.0</td><td>-75.0</td><td>0.7356388881450849</td><td>0.7521646702825372</td><td>18.390972203627122</td><td>-18.390972203627122</td></tr><tr><td>23.4</td><td>70.19999999999999</td><td>-70.19999999999999</td><td>0.20463393102469207</td><td>0.8049985764237442</td><td>4.788433985977794</td><td>-4.788433985977794</td></tr><tr><td>18.9</td><td>56.699999999999996</td><td>-56.699999999999996</td><td>0.9422396805038512</td><td>0.6116863065271948</td><td>17.808329961522787</td><td>-17.808329961522787</td></tr><tr><td>35.4</td><td>106.19999999999999</td><td>-106.19999999999999</td><td>0.8207568597275993</td><td>0.2877956965619147</td><td>29.054792834357013</td><td>-29.054792834357013</td></tr><tr><td>24.7</td><td>74.1</td><td>-74.1</td><td>0.49141095085594266</td><td>0.010331748825023745</td><td>12.137850486141783</td><td>-12.137850486141783</td></tr><tr><td>31.6</td><td>94.80000000000001</td><td>-94.80000000000001</td><td>0.6127698591407785</td><td>0.3207576342552442</td><td>19.3635275488486</td><td>-19.3635275488486</td></tr><tr><td>23.3</td><td>69.9</td><td>-69.9</td><td>0.5565634526913991</td><td>0.41675639490730676</td><td>12.967928447709598</td><td>-12.967928447709598</td></tr><tr><td>19.6</td><td>58.800000000000004</td><td>-58.800000000000004</td><td>0.3091603961118886</td><td>0.6053519491353351</td><td>6.059543763793017</td><td>-6.059543763793017</td></tr><tr><td>18.7</td><td>56.099999999999994</td><td>-56.099999999999994</td><td>0.6535253121385266</td><td>0.144122512492872</td><td>12.220923336990447</td><td>-12.220923336990447</td></tr><tr><td>16.0</td><td>48.0</td><td>-48.0</td><td>0.15022631668070463</td><td>0.6499111272375465</td><td>2.403621066891274</td><td>-2.403621066891274</td></tr><tr><td>22.2</td><td>66.6</td><td>-66.6</td><td>0.6464783605323514</td><td>0.7171902373236535</td><td>14.351819603818202</td><td>-14.351819603818202</td></tr><tr><td>25.0</td><td>75.0</td><td>-75.0</td><td>0.7921070318624411</td><td>0.15579585087594805</td><td>19.80267579656103</td><td>-19.80267579656103</td></tr><tr><td>33.0</td><td>99.0</td><td>-99.0</td><td>0.43188966640386595</td><td>0.2193987261947059</td><td>14.252358991327576</td><td>-14.252358991327576</td></tr><tr><td>23.5</td><td>70.5</td><td>-70.5</td><td>0.7952304995540453</td><td>0.2658843733639976</td><td>18.687916739520066</td><td>-18.687916739520066</td></tr><tr><td>19.4</td><td>58.199999999999996</td><td>-58.199999999999996</td><td>0.9250319447001932</td><td>0.8098961032711979</td><td>17.945619727183747</td><td>-17.945619727183747</td></tr><tr><td>22.0</td><td>66.0</td><td>-66.0</td><td>0.3755164074524088</td><td>0.40622425521891203</td><td>8.261360963952994</td><td>-8.261360963952994</td></tr><tr><td>17.4</td><td>52.199999999999996</td><td>-52.199999999999996</td><td>0.43042197920356073</td><td>0.42874240167004185</td><td>7.489342438141956</td><td>-7.489342438141956</td></tr><tr><td>20.9</td><td>62.699999999999996</td><td>-62.699999999999996</td><td>0.0983042562305334</td><td>0.8949422200092103</td><td>2.054558955218148</td><td>-2.054558955218148</td></tr><tr><td>24.2</td><td>72.6</td><td>-72.6</td><td>0.4117658207918985</td><td>0.6583941625272911</td><td>9.964732863163944</td><td>-9.964732863163944</td></tr><tr><td>21.7</td><td>65.1</td><td>-65.1</td><td>0.5780820164781861</td><td>0.09796228442335275</td><td>12.544379757576639</td><td>-12.544379757576639</td></tr><tr><td>22.8</td><td>68.4</td><td>-68.4</td><td>0.39219298148908477</td><td>0.82130463719059</td><td>8.941999977951133</td><td>-8.941999977951133</td></tr><tr><td>23.4</td><td>70.19999999999999</td><td>-70.19999999999999</td><td>0.5832112586812357</td><td>0.2915698130855622</td><td>13.647143453140915</td><td>-13.647143453140915</td></tr><tr><td>24.1</td><td>72.30000000000001</td><td>-72.30000000000001</td><td>0.2107704690478318</td><td>0.03488113496018397</td><td>5.079568304052747</td><td>-5.079568304052747</td></tr><tr><td>21.4</td><td>64.19999999999999</td><td>-64.19999999999999</td><td>0.5494759704954677</td><td>0.9927492879921583</td><td>11.758785768603008</td><td>-11.758785768603008</td></tr><tr><td>20.0</td><td>60.0</td><td>-60.0</td><td>0.5716596055904111</td><td>0.9322549199074635</td><td>11.433192111808221</td><td>-11.433192111808221</td></tr><tr><td>20.8</td><td>62.400000000000006</td><td>-62.400000000000006</td><td>0.4085960903251241</td><td>0.7328838901838817</td><td>8.498798678762581</td><td>-8.498798678762581</td></tr><tr><td>21.2</td><td>63.599999999999994</td><td>-63.599999999999994</td><td>0.8466930070094691</td><td>0.20952714013652296</td><td>17.949891748600745</td><td>-17.949891748600745</td></tr><tr><td>20.3</td><td>60.900000000000006</td><td>-60.900000000000006</td><td>0.009718521374224354</td><td>0.8064937544581713</td><td>0.1972859838967544</td><td>-0.1972859838967544</td></tr><tr><td>28.0</td><td>84.0</td><td>-84.0</td><td>0.9893326549208581</td><td>0.9993177138218906</td><td>27.701314337784027</td><td>-27.701314337784027</td></tr><tr><td>23.9</td><td>71.69999999999999</td><td>-71.69999999999999</td><td>0.281686826139412</td><td>0.5733692029027833</td><td>6.732315144731946</td><td>-6.732315144731946</td></tr><tr><td>24.8</td><td>74.4</td><td>-74.4</td><td>0.8033578773184166</td><td>0.41361202775572026</td><td>19.92327535749673</td><td>-19.92327535749673</td></tr><tr><td>22.9</td><td>68.69999999999999</td><td>-68.69999999999999</td><td>0.2057507160924682</td><td>0.06314525393686121</td><td>4.711691398517521</td><td>-4.711691398517521</td></tr><tr><td>23.9</td><td>71.69999999999999</td><td>-71.69999999999999</td><td>0.1269523638367872</td><td>0.038219706431171785</td><td>3.0341614956992142</td><td>-3.0341614956992142</td></tr><tr><td>26.6</td><td>79.80000000000001</td><td>-79.80000000000001</td><td>0.49277035818255643</td><td>0.6634276027674872</td><td>13.107691527656002</td><td>-13.107691527656002</td></tr><tr><td>22.5</td><td>67.5</td><td>-67.5</td><td>0.5824389118877379</td><td>0.13730239034175318</td><td>13.104875517474103</td><td>-13.104875517474103</td></tr><tr><td>22.2</td><td>66.6</td><td>-66.6</td><td>0.2530028940502459</td><td>0.8329162808591392</td><td>5.616664247915459</td><td>-5.616664247915459</td></tr><tr><td>23.6</td><td>70.80000000000001</td><td>-70.80000000000001</td><td>0.9320350993877586</td><td>0.9246236864777642</td><td>21.996028345551107</td><td>-21.996028345551107</td></tr><tr><td>28.7</td><td>86.1</td><td>-86.1</td><td>0.5155501333658742</td><td>0.31414107283291615</td><td>14.79628882760059</td><td>-14.79628882760059</td></tr><tr><td>22.6</td><td>67.80000000000001</td><td>-67.80000000000001</td><td>0.5213347156235132</td><td>0.393540962831451</td><td>11.782164573091398</td><td>-11.782164573091398</td></tr><tr><td>22.0</td><td>66.0</td><td>-66.0</td><td>0.2989588201783161</td><td>1.3806103214886178E-5</td><td>6.577094043922954</td><td>-6.577094043922954</td></tr><tr><td>22.9</td><td>68.69999999999999</td><td>-68.69999999999999</td><td>0.2949435916207236</td><td>0.8932332210844834</td><td>6.75420824811457</td><td>-6.75420824811457</td></tr><tr><td>25.0</td><td>75.0</td><td>-75.0</td><td>0.9607888909119869</td><td>0.40555959736275393</td><td>24.019722272799672</td><td>-24.019722272799672</td></tr><tr><td>20.6</td><td>61.800000000000004</td><td>-61.800000000000004</td><td>0.4726140921987336</td><td>0.030186068029289803</td><td>9.735850299293913</td><td>-9.735850299293913</td></tr><tr><td>28.4</td><td>85.19999999999999</td><td>-85.19999999999999</td><td>0.2850964679699103</td><td>0.5687909065963386</td><td>8.096739690345451</td><td>-8.096739690345451</td></tr><tr><td>21.4</td><td>64.19999999999999</td><td>-64.19999999999999</td><td>0.9275779620130545</td><td>0.41203755399854347</td><td>19.850168387079364</td><td>-19.850168387079364</td></tr><tr><td>38.7</td><td>116.10000000000001</td><td>-116.10000000000001</td><td>0.024271749226414396</td><td>0.3398330894987579</td><td>0.9393166950622373</td><td>-0.9393166950622373</td></tr><tr><td>43.8</td><td>131.39999999999998</td><td>-131.39999999999998</td><td>0.3081751916686881</td><td>0.8881261933853934</td><td>13.49807339508854</td><td>-13.49807339508854</td></tr><tr><td>33.2</td><td>99.60000000000001</td><td>-99.60000000000001</td><td>0.5769974120816777</td><td>0.9558279263449293</td><td>19.1563140811117</td><td>-19.1563140811117</td></tr><tr><td>27.5</td><td>82.5</td><td>-82.5</td><td>0.7797740959019214</td><td>0.9454434148089668</td><td>21.443787637302837</td><td>-21.443787637302837</td></tr><tr><td>26.5</td><td>79.5</td><td>-79.5</td><td>0.7911274124041524</td><td>0.9019332599304595</td><td>20.96487642871004</td><td>-20.96487642871004</td></tr><tr><td>18.6</td><td>55.800000000000004</td><td>-55.800000000000004</td><td>0.07453970130107068</td><td>0.857710547095301</td><td>1.3864384441999147</td><td>-1.3864384441999147</td></tr><tr><td>19.3</td><td>57.900000000000006</td><td>-57.900000000000006</td><td>0.8912102648860416</td><td>0.7739282527357546</td><td>17.200358112300602</td><td>-17.200358112300602</td></tr><tr><td>20.1</td><td>60.300000000000004</td><td>-60.300000000000004</td><td>0.23055906422899342</td><td>0.11356061005385287</td><td>4.634237191002768</td><td>-4.634237191002768</td></tr><tr><td>19.5</td><td>58.5</td><td>-58.5</td><td>0.7514739808212846</td><td>0.9680832862945131</td><td>14.653742626015049</td><td>-14.653742626015049</td></tr><tr><td>19.5</td><td>58.5</td><td>-58.5</td><td>0.5358633589026995</td><td>0.5487384510808017</td><td>10.449335498602641</td><td>-10.449335498602641</td></tr><tr><td>20.4</td><td>61.199999999999996</td><td>-61.199999999999996</td><td>0.06250095986328497</td><td>0.5903295227724773</td><td>1.2750195812110132</td><td>-1.2750195812110132</td></tr><tr><td>19.8</td><td>59.400000000000006</td><td>-59.400000000000006</td><td>0.4152595535037984</td><td>0.5670641185067493</td><td>8.222139159375208</td><td>-8.222139159375208</td></tr><tr><td>19.4</td><td>58.199999999999996</td><td>-58.199999999999996</td><td>0.22132983775209936</td><td>0.8563091008563439</td><td>4.293798852390728</td><td>-4.293798852390728</td></tr><tr><td>21.7</td><td>65.1</td><td>-65.1</td><td>0.6336858978093045</td><td>0.6566886149533575</td><td>13.750983982461907</td><td>-13.750983982461907</td></tr><tr><td>22.8</td><td>68.4</td><td>-68.4</td><td>0.10912776661230394</td><td>0.17499392286015825</td><td>2.48811307876053</td><td>-2.48811307876053</td></tr><tr><td>18.8</td><td>56.400000000000006</td><td>-56.400000000000006</td><td>0.6106122030714174</td><td>0.7846558511515905</td><td>11.479509417742648</td><td>-11.479509417742648</td></tr><tr><td>18.7</td><td>56.099999999999994</td><td>-56.099999999999994</td><td>0.9960174006040778</td><td>0.6542267242358717</td><td>18.625525391296254</td><td>-18.625525391296254</td></tr><tr><td>18.5</td><td>55.5</td><td>-55.5</td><td>0.4811464405947783</td><td>0.056273354902329764</td><td>8.901209151003398</td><td>-8.901209151003398</td></tr><tr><td>18.3</td><td>54.900000000000006</td><td>-54.900000000000006</td><td>0.3450949708843244</td><td>0.46416391177160565</td><td>6.315237967183137</td><td>-6.315237967183137</td></tr><tr><td>21.2</td><td>63.599999999999994</td><td>-63.599999999999994</td><td>0.8528519503746004</td><td>0.5951841331833765</td><td>18.080461347941526</td><td>-18.080461347941526</td></tr><tr><td>19.2</td><td>57.599999999999994</td><td>-57.599999999999994</td><td>0.8846419687697604</td><td>0.874745888379107</td><td>16.9851258003794</td><td>-16.9851258003794</td></tr><tr><td>20.4</td><td>61.199999999999996</td><td>-61.199999999999996</td><td>0.08189735375536311</td><td>0.09577869680390039</td><td>1.6707060166094074</td><td>-1.6707060166094074</td></tr><tr><td>19.3</td><td>57.900000000000006</td><td>-57.900000000000006</td><td>0.37984529436433245</td><td>0.4097834368541855</td><td>7.331014181231617</td><td>-7.331014181231617</td></tr><tr><td>22.0</td><td>66.0</td><td>-66.0</td><td>0.17759904862275222</td><td>0.8547163272528407</td><td>3.9071790697005486</td><td>-3.9071790697005486</td></tr><tr><td>20.3</td><td>60.900000000000006</td><td>-60.900000000000006</td><td>0.6061838315994245</td><td>0.6862969406957834</td><td>12.305531781468318</td><td>-12.305531781468318</td></tr><tr><td>20.5</td><td>61.5</td><td>-61.5</td><td>0.29579594682004184</td><td>0.8307832798603071</td><td>6.063816909810858</td><td>-6.063816909810858</td></tr><tr><td>17.3</td><td>51.900000000000006</td><td>-51.900000000000006</td><td>0.7440996133165794</td><td>0.4371894344938899</td><td>12.872923310376823</td><td>-12.872923310376823</td></tr><tr><td>18.8</td><td>56.400000000000006</td><td>-56.400000000000006</td><td>0.4206078155939935</td><td>0.20853835369679374</td><td>7.907426933167079</td><td>-7.907426933167079</td></tr><tr><td>21.4</td><td>64.19999999999999</td><td>-64.19999999999999</td><td>0.6199583313205431</td><td>0.7423995145344268</td><td>13.267108290259621</td><td>-13.267108290259621</td></tr><tr><td>15.7</td><td>47.099999999999994</td><td>-47.099999999999994</td><td>0.26040723950081635</td><td>0.7413072898820845</td><td>4.088393660162817</td><td>-4.088393660162817</td></tr><tr><td>16.2</td><td>48.599999999999994</td><td>-48.599999999999994</td><td>0.6325105236327606</td><td>0.8176663153038339</td><td>10.246670482850721</td><td>-10.246670482850721</td></tr><tr><td>18.0</td><td>54.0</td><td>-54.0</td><td>0.021343232895465802</td><td>0.5014042714942769</td><td>0.38417819211838444</td><td>-0.38417819211838444</td></tr><tr><td>14.3</td><td>42.900000000000006</td><td>-42.900000000000006</td><td>0.499278422377746</td><td>0.8839593724023229</td><td>7.139681440001768</td><td>-7.139681440001768</td></tr><tr><td>19.2</td><td>57.599999999999994</td><td>-57.599999999999994</td><td>0.5605445160307547</td><td>0.09934824805929687</td><td>10.762454707790491</td><td>-10.762454707790491</td></tr><tr><td>19.6</td><td>58.800000000000004</td><td>-58.800000000000004</td><td>0.5532638002791188</td><td>0.22298956209407783</td><td>10.843970485470729</td><td>-10.843970485470729</td></tr><tr><td>23.0</td><td>69.0</td><td>-69.0</td><td>0.6612765433964809</td><td>0.09163358793952647</td><td>15.20936049811906</td><td>-15.20936049811906</td></tr><tr><td>18.4</td><td>55.199999999999996</td><td>-55.199999999999996</td><td>0.7192411561222716</td><td>0.22070578518977746</td><td>13.234037272649797</td><td>-13.234037272649797</td></tr><tr><td>15.6</td><td>46.8</td><td>-46.8</td><td>0.3438986622346736</td><td>0.2718882438573105</td><td>5.364819130860908</td><td>-5.364819130860908</td></tr><tr><td>18.1</td><td>54.300000000000004</td><td>-54.300000000000004</td><td>0.05757504078231446</td><td>0.16778204806843233</td><td>1.0421082381598918</td><td>-1.0421082381598918</td></tr><tr><td>17.4</td><td>52.199999999999996</td><td>-52.199999999999996</td><td>0.8715677440543917</td><td>0.14611694505743078</td><td>15.165278746546415</td><td>-15.165278746546415</td></tr><tr><td>17.1</td><td>51.300000000000004</td><td>-51.300000000000004</td><td>0.7426630288392054</td><td>0.8241735312778641</td><td>12.699537793150414</td><td>-12.699537793150414</td></tr><tr><td>13.3</td><td>39.900000000000006</td><td>-39.900000000000006</td><td>0.8272253030189888</td><td>0.12062141081480737</td><td>11.002096530152551</td><td>-11.002096530152551</td></tr><tr><td>17.8</td><td>53.400000000000006</td><td>-53.400000000000006</td><td>0.5171439700763875</td><td>0.6644572764969583</td><td>9.205162667359698</td><td>-9.205162667359698</td></tr><tr><td>14.0</td><td>42.0</td><td>-42.0</td><td>0.5499405392504438</td><td>0.4029376567105355</td><td>7.699167549506214</td><td>-7.699167549506214</td></tr><tr><td>14.4</td><td>43.2</td><td>-43.2</td><td>0.6535143675972783</td><td>0.27334970114252655</td><td>9.410606893400809</td><td>-9.410606893400809</td></tr><tr><td>13.4</td><td>40.2</td><td>-40.2</td><td>0.6620661474880745</td><td>0.30417202520807685</td><td>8.871686376340199</td><td>-8.871686376340199</td></tr><tr><td>15.6</td><td>46.8</td><td>-46.8</td><td>0.8192429950773816</td><td>0.7932159235436412</td><td>12.780190723207154</td><td>-12.780190723207154</td></tr><tr><td>11.8</td><td>35.400000000000006</td><td>-35.400000000000006</td><td>0.5256675982500126</td><td>0.7752991539059294</td><td>6.20287765935015</td><td>-6.20287765935015</td></tr><tr><td>13.8</td><td>41.400000000000006</td><td>-41.400000000000006</td><td>0.5670189969532232</td><td>0.7605885854466481</td><td>7.824862157954481</td><td>-7.824862157954481</td></tr><tr><td>15.6</td><td>46.8</td><td>-46.8</td><td>0.25107107697145237</td><td>0.8452880696367764</td><td>3.9167088007546567</td><td>-3.9167088007546567</td></tr><tr><td>14.6</td><td>43.8</td><td>-43.8</td><td>0.005378932527663416</td><td>0.7682684744379142</td><td>0.07853241490388586</td><td>-0.07853241490388586</td></tr><tr><td>17.8</td><td>53.400000000000006</td><td>-53.400000000000006</td><td>0.961028735460552</td><td>0.41050818329762206</td><td>17.106311491197825</td><td>-17.106311491197825</td></tr><tr><td>15.4</td><td>46.2</td><td>-46.2</td><td>0.9427543912287302</td><td>0.11080431367225385</td><td>14.518417624922446</td><td>-14.518417624922446</td></tr><tr><td>21.5</td><td>64.5</td><td>-64.5</td><td>0.40685050419339686</td><td>0.9966482400209372</td><td>8.747285840158032</td><td>-8.747285840158032</td></tr><tr><td>19.6</td><td>58.800000000000004</td><td>-58.800000000000004</td><td>0.5546743241944121</td><td>0.79983740562066</td><td>10.871616754210478</td><td>-10.871616754210478</td></tr><tr><td>15.3</td><td>45.900000000000006</td><td>-45.900000000000006</td><td>0.9494483905086072</td><td>0.24812317711957788</td><td>14.52656037478169</td><td>-14.52656037478169</td></tr><tr><td>19.4</td><td>58.199999999999996</td><td>-58.199999999999996</td><td>0.662231935935307</td><td>0.4852214825812231</td><td>12.847299557144956</td><td>-12.847299557144956</td></tr><tr><td>17.0</td><td>51.0</td><td>-51.0</td><td>0.5487247301393197</td><td>0.49992574734530415</td><td>9.328320412368434</td><td>-9.328320412368434</td></tr><tr><td>15.6</td><td>46.8</td><td>-46.8</td><td>0.5549134567039475</td><td>0.1965381885047669</td><td>8.656649924581581</td><td>-8.656649924581581</td></tr><tr><td>13.1</td><td>39.3</td><td>-39.3</td><td>0.6613295820516302</td><td>0.3124907599877499</td><td>8.663417524876355</td><td>-8.663417524876355</td></tr><tr><td>41.3</td><td>123.89999999999999</td><td>-123.89999999999999</td><td>0.673149273918452</td><td>0.16870410944352843</td><td>27.801065012832066</td><td>-27.801065012832066</td></tr><tr><td>24.3</td><td>72.9</td><td>-72.9</td><td>0.6469768919464383</td><td>0.9483943209516255</td><td>15.72153847429845</td><td>-15.72153847429845</td></tr><tr><td>23.3</td><td>69.9</td><td>-69.9</td><td>0.9539350488357349</td><td>0.955778918968349</td><td>22.226686637872625</td><td>-22.226686637872625</td></tr><tr><td>27.0</td><td>81.0</td><td>-81.0</td><td>0.4453498546018887</td><td>0.6342339304843598</td><td>12.024446074250994</td><td>-12.024446074250994</td></tr><tr><td>50.0</td><td>150.0</td><td>-150.0</td><td>0.43798827689962005</td><td>0.6454592992480398</td><td>21.899413844981</td><td>-21.899413844981</td></tr><tr><td>50.0</td><td>150.0</td><td>-150.0</td><td>0.01451331144724155</td><td>0.36117875713060366</td><td>0.7256655723620775</td><td>-0.7256655723620775</td></tr><tr><td>50.0</td><td>150.0</td><td>-150.0</td><td>0.8838069713897021</td><td>0.09160452068285607</td><td>44.1903485694851</td><td>-44.1903485694851</td></tr><tr><td>22.7</td><td>68.1</td><td>-68.1</td><td>0.8177432710911143</td><td>0.7023616968757417</td><td>18.562772253768294</td><td>-18.562772253768294</td></tr><tr><td>25.0</td><td>75.0</td><td>-75.0</td><td>0.4745632806035688</td><td>0.3900890174502719</td><td>11.86408201508922</td><td>-11.86408201508922</td></tr><tr><td>50.0</td><td>150.0</td><td>-150.0</td><td>0.815659536350951</td><td>0.7163870919410471</td><td>40.78297681754755</td><td>-40.78297681754755</td></tr><tr><td>23.8</td><td>71.4</td><td>-71.4</td><td>0.6916903520122877</td><td>0.46070653200701406</td><td>16.462230377892446</td><td>-16.462230377892446</td></tr><tr><td>23.8</td><td>71.4</td><td>-71.4</td><td>0.4098402681608334</td><td>0.3163756777624871</td><td>9.754198382227836</td><td>-9.754198382227836</td></tr><tr><td>22.3</td><td>66.9</td><td>-66.9</td><td>0.13488529945580974</td><td>0.35489078489143866</td><td>3.007942177864557</td><td>-3.007942177864557</td></tr><tr><td>17.4</td><td>52.199999999999996</td><td>-52.199999999999996</td><td>0.019564111623329272</td><td>0.09746645434356593</td><td>0.3404155422459293</td><td>-0.3404155422459293</td></tr><tr><td>19.1</td><td>57.300000000000004</td><td>-57.300000000000004</td><td>0.8377719925473479</td><td>0.10522387247732723</td><td>16.001445057654347</td><td>-16.001445057654347</td></tr><tr><td>23.1</td><td>69.30000000000001</td><td>-69.30000000000001</td><td>0.813094814325438</td><td>0.7709667437075077</td><td>18.78249021091762</td><td>-18.78249021091762</td></tr><tr><td>23.6</td><td>70.80000000000001</td><td>-70.80000000000001</td><td>0.08983101018091377</td><td>0.7319697334583423</td><td>2.1200118402695654</td><td>-2.1200118402695654</td></tr><tr><td>22.6</td><td>67.80000000000001</td><td>-67.80000000000001</td><td>0.9195703496984747</td><td>0.07513210461856623</td><td>20.78228990318553</td><td>-20.78228990318553</td></tr><tr><td>29.4</td><td>88.19999999999999</td><td>-88.19999999999999</td><td>0.8548351529009605</td><td>0.04970742830074748</td><td>25.132153495288236</td><td>-25.132153495288236</td></tr><tr><td>23.2</td><td>69.6</td><td>-69.6</td><td>0.6292441807631255</td><td>0.1564373915069468</td><td>14.59846499370451</td><td>-14.59846499370451</td></tr><tr><td>24.6</td><td>73.80000000000001</td><td>-73.80000000000001</td><td>0.5454335473873233</td><td>0.7104247278939764</td><td>13.417665265728154</td><td>-13.417665265728154</td></tr><tr><td>29.9</td><td>89.69999999999999</td><td>-89.69999999999999</td><td>0.8618125541066987</td><td>0.74246022803348</td><td>25.768195367790288</td><td>-25.768195367790288</td></tr><tr><td>37.2</td><td>111.60000000000001</td><td>-111.60000000000001</td><td>0.9661457533521609</td><td>0.8909616827527296</td><td>35.94062202470039</td><td>-35.94062202470039</td></tr><tr><td>39.8</td><td>119.39999999999999</td><td>-119.39999999999999</td><td>0.5860983020177981</td><td>0.16405444709229267</td><td>23.326712420308365</td><td>-23.326712420308365</td></tr><tr><td>36.2</td><td>108.60000000000001</td><td>-108.60000000000001</td><td>0.4479432795967526</td><td>0.4077327138743554</td><td>16.215546721402447</td><td>-16.215546721402447</td></tr><tr><td>37.9</td><td>113.69999999999999</td><td>-113.69999999999999</td><td>0.45838769021791537</td><td>0.802432366472917</td><td>17.372893459258993</td><td>-17.372893459258993</td></tr><tr><td>32.5</td><td>97.5</td><td>-97.5</td><td>0.9520306457404784</td><td>0.6365351478806376</td><td>30.940995986565547</td><td>-30.940995986565547</td></tr><tr><td>26.4</td><td>79.19999999999999</td><td>-79.19999999999999</td><td>0.2977131085663447</td><td>0.22285454116377879</td><td>7.8596260661515</td><td>-7.8596260661515</td></tr><tr><td>29.6</td><td>88.80000000000001</td><td>-88.80000000000001</td><td>0.5757780692958796</td><td>0.47520388958595483</td><td>17.043030851158036</td><td>-17.043030851158036</td></tr><tr><td>50.0</td><td>150.0</td><td>-150.0</td><td>0.03901441859831656</td><td>0.052009558815387935</td><td>1.950720929915828</td><td>-1.950720929915828</td></tr><tr><td>32.0</td><td>96.0</td><td>-96.0</td><td>0.744018740603323</td><td>0.12244848196873137</td><td>23.808599699306335</td><td>-23.808599699306335</td></tr><tr><td>29.8</td><td>89.4</td><td>-89.4</td><td>0.35763308262230353</td><td>0.07616241010731184</td><td>10.657465862144646</td><td>-10.657465862144646</td></tr><tr><td>34.9</td><td>104.69999999999999</td><td>-104.69999999999999</td><td>0.7748750928261002</td><td>0.5056438436551253</td><td>27.043140739630896</td><td>-27.043140739630896</td></tr><tr><td>37.0</td><td>111.0</td><td>-111.0</td><td>0.49336950184032013</td><td>0.47556338745484916</td><td>18.254671568091844</td><td>-18.254671568091844</td></tr><tr><td>30.5</td><td>91.5</td><td>-91.5</td><td>0.9583125195856576</td><td>0.9502898717479387</td><td>29.228531847362554</td><td>-29.228531847362554</td></tr><tr><td>36.4</td><td>109.19999999999999</td><td>-109.19999999999999</td><td>0.29508043197510525</td><td>0.9163169519037355</td><td>10.740927723893831</td><td>-10.740927723893831</td></tr><tr><td>31.1</td><td>93.30000000000001</td><td>-93.30000000000001</td><td>0.007458261632874552</td><td>0.7396722133399581</td><td>0.2319519367823986</td><td>-0.2319519367823986</td></tr><tr><td>29.1</td><td>87.30000000000001</td><td>-87.30000000000001</td><td>0.8060322896049883</td><td>0.6961768036370015</td><td>23.45553962750516</td><td>-23.45553962750516</td></tr><tr><td>50.0</td><td>150.0</td><td>-150.0</td><td>0.7873085497407318</td><td>0.023450650574921017</td><td>39.36542748703659</td><td>-39.36542748703659</td></tr><tr><td>33.3</td><td>99.89999999999999</td><td>-99.89999999999999</td><td>0.19180956201005894</td><td>0.11857291794678115</td><td>6.387258414934962</td><td>-6.387258414934962</td></tr><tr><td>30.3</td><td>90.9</td><td>-90.9</td><td>0.7057755004277046</td><td>0.26963286648752427</td><td>21.384997662959453</td><td>-21.384997662959453</td></tr><tr><td>34.6</td><td>103.80000000000001</td><td>-103.80000000000001</td><td>0.7530574943266793</td><td>0.08451031944326326</td><td>26.055789303703108</td><td>-26.055789303703108</td></tr><tr><td>34.9</td><td>104.69999999999999</td><td>-104.69999999999999</td><td>0.47540168153041806</td><td>0.6111691901654889</td><td>16.59151868541159</td><td>-16.59151868541159</td></tr><tr><td>32.9</td><td>98.69999999999999</td><td>-98.69999999999999</td><td>0.3223329516321517</td><td>0.40992328174699755</td><td>10.60475410869779</td><td>-10.60475410869779</td></tr><tr><td>24.1</td><td>72.30000000000001</td><td>-72.30000000000001</td><td>0.9140492917192653</td><td>0.29840437430583866</td><td>22.028587930434295</td><td>-22.028587930434295</td></tr><tr><td>42.3</td><td>126.89999999999999</td><td>-126.89999999999999</td><td>0.14105280589124036</td><td>0.12663775854182013</td><td>5.966533689199467</td><td>-5.966533689199467</td></tr><tr><td>48.5</td><td>145.5</td><td>-145.5</td><td>0.11513460474695825</td><td>0.3647522969840741</td><td>5.584028330227475</td><td>-5.584028330227475</td></tr><tr><td>50.0</td><td>150.0</td><td>-150.0</td><td>0.2818486048553329</td><td>0.38524492607922567</td><td>14.092430242766646</td><td>-14.092430242766646</td></tr><tr><td>22.6</td><td>67.80000000000001</td><td>-67.80000000000001</td><td>0.7535516020509196</td><td>0.669678170094519</td><td>17.030266206350785</td><td>-17.030266206350785</td></tr><tr><td>24.4</td><td>73.19999999999999</td><td>-73.19999999999999</td><td>0.6100387995990815</td><td>0.9711960010039673</td><td>14.884946710217587</td><td>-14.884946710217587</td></tr><tr><td>22.5</td><td>67.5</td><td>-67.5</td><td>0.8223672558704561</td><td>0.05058610945796227</td><td>18.503263257085262</td><td>-18.503263257085262</td></tr><tr><td>24.4</td><td>73.19999999999999</td><td>-73.19999999999999</td><td>0.36059042268263797</td><td>0.6381244132645271</td><td>8.798406313456367</td><td>-8.798406313456367</td></tr><tr><td>20.0</td><td>60.0</td><td>-60.0</td><td>0.06330415460758942</td><td>0.5039532286101178</td><td>1.2660830921517885</td><td>-1.2660830921517885</td></tr><tr><td>21.7</td><td>65.1</td><td>-65.1</td><td>0.24663587393020625</td><td>0.5049637915108649</td><td>5.351998464285476</td><td>-5.351998464285476</td></tr><tr><td>19.3</td><td>57.900000000000006</td><td>-57.900000000000006</td><td>0.10081900895391027</td><td>0.8262449908881875</td><td>1.9458068728104683</td><td>-1.9458068728104683</td></tr><tr><td>22.4</td><td>67.19999999999999</td><td>-67.19999999999999</td><td>0.8501723296434371</td><td>0.373031778118427</td><td>19.043860184012992</td><td>-19.043860184012992</td></tr><tr><td>28.1</td><td>84.30000000000001</td><td>-84.30000000000001</td><td>0.18857276335791562</td><td>0.579063659286573</td><td>5.298894650357429</td><td>-5.298894650357429</td></tr><tr><td>23.7</td><td>71.1</td><td>-71.1</td><td>0.94354108665156</td><td>0.04978304352573293</td><td>22.36192375364197</td><td>-22.36192375364197</td></tr><tr><td>25.0</td><td>75.0</td><td>-75.0</td><td>0.4951744678623188</td><td>0.8149127970743405</td><td>12.37936169655797</td><td>-12.37936169655797</td></tr><tr><td>23.3</td><td>69.9</td><td>-69.9</td><td>0.8608465536311003</td><td>0.8570508959442659</td><td>20.057724699604638</td><td>-20.057724699604638</td></tr><tr><td>28.7</td><td>86.1</td><td>-86.1</td><td>0.9854706608867907</td><td>0.7724265411010179</td><td>28.283007967450892</td><td>-28.283007967450892</td></tr><tr><td>21.5</td><td>64.5</td><td>-64.5</td><td>0.7981402347296231</td><td>0.7095942110338073</td><td>17.160015046686897</td><td>-17.160015046686897</td></tr><tr><td>23.0</td><td>69.0</td><td>-69.0</td><td>0.9033481564778684</td><td>0.5729985189671705</td><td>20.777007598990973</td><td>-20.777007598990973</td></tr><tr><td>26.7</td><td>80.1</td><td>-80.1</td><td>0.8736527393920991</td><td>0.2738897019835037</td><td>23.326528141769046</td><td>-23.326528141769046</td></tr><tr><td>21.7</td><td>65.1</td><td>-65.1</td><td>0.7815333411137801</td><td>0.3356993138011617</td><td>16.95927350216903</td><td>-16.95927350216903</td></tr><tr><td>27.5</td><td>82.5</td><td>-82.5</td><td>0.9742314005916094</td><td>0.6649671456629953</td><td>26.791363516269257</td><td>-26.791363516269257</td></tr><tr><td>30.1</td><td>90.30000000000001</td><td>-90.30000000000001</td><td>0.34572814023168885</td><td>0.4795068331228013</td><td>10.406417020973835</td><td>-10.406417020973835</td></tr><tr><td>44.8</td><td>134.39999999999998</td><td>-134.39999999999998</td><td>0.6496728539390854</td><td>0.032338080051201645</td><td>29.105343856471023</td><td>-29.105343856471023</td></tr><tr><td>50.0</td><td>150.0</td><td>-150.0</td><td>0.6419247387475339</td><td>0.35289447397197926</td><td>32.096236937376695</td><td>-32.096236937376695</td></tr><tr><td>37.6</td><td>112.80000000000001</td><td>-112.80000000000001</td><td>0.3926080824015813</td><td>0.32456747706665046</td><td>14.762063898299457</td><td>-14.762063898299457</td></tr><tr><td>31.6</td><td>94.80000000000001</td><td>-94.80000000000001</td><td>0.09423905867357818</td><td>0.4319997493831843</td><td>2.9779542540850708</td><td>-2.9779542540850708</td></tr><tr><td>46.7</td><td>140.10000000000002</td><td>-140.10000000000002</td><td>0.5600951724854205</td><td>0.14177162126008658</td><td>26.15644455506914</td><td>-26.15644455506914</td></tr><tr><td>31.5</td><td>94.5</td><td>-94.5</td><td>0.6438165702206837</td><td>0.24713499167425246</td><td>20.280221961951536</td><td>-20.280221961951536</td></tr><tr><td>24.3</td><td>72.9</td><td>-72.9</td><td>0.3841384718050481</td><td>0.08374983731520114</td><td>9.334564864862669</td><td>-9.334564864862669</td></tr><tr><td>31.7</td><td>95.1</td><td>-95.1</td><td>0.3634107421407027</td><td>0.16288194112601717</td><td>11.520120525860275</td><td>-11.520120525860275</td></tr><tr><td>41.7</td><td>125.10000000000001</td><td>-125.10000000000001</td><td>0.9329451074990298</td><td>0.742296776729064</td><td>38.903810982709544</td><td>-38.903810982709544</td></tr><tr><td>48.3</td><td>144.89999999999998</td><td>-144.89999999999998</td><td>0.7249909182675008</td><td>0.9202094975159772</td><td>35.01706135232029</td><td>-35.01706135232029</td></tr><tr><td>29.0</td><td>87.0</td><td>-87.0</td><td>0.07154651205875617</td><td>0.2781062832050729</td><td>2.074848849703929</td><td>-2.074848849703929</td></tr><tr><td>24.0</td><td>72.0</td><td>-72.0</td><td>0.9166928807425082</td><td>0.8048602280460793</td><td>22.000629137820198</td><td>-22.000629137820198</td></tr><tr><td>25.1</td><td>75.30000000000001</td><td>-75.30000000000001</td><td>0.14413917509478502</td><td>0.7742412396203119</td><td>3.6178932948791043</td><td>-3.6178932948791043</td></tr><tr><td>31.5</td><td>94.5</td><td>-94.5</td><td>0.04400762954202275</td><td>0.24277645999420838</td><td>1.3862403305737168</td><td>-1.3862403305737168</td></tr><tr><td>23.7</td><td>71.1</td><td>-71.1</td><td>0.25981048368423676</td><td>0.649463224654801</td><td>6.157508463316411</td><td>-6.157508463316411</td></tr><tr><td>23.3</td><td>69.9</td><td>-69.9</td><td>0.5708619780488221</td><td>0.23196305190794775</td><td>13.301084088537555</td><td>-13.301084088537555</td></tr><tr><td>22.0</td><td>66.0</td><td>-66.0</td><td>0.125552514312678</td><td>0.8845737986572296</td><td>2.7621553148789157</td><td>-2.7621553148789157</td></tr><tr><td>20.1</td><td>60.300000000000004</td><td>-60.300000000000004</td><td>0.523081791323418</td><td>0.8006692931823184</td><td>10.513944005600703</td><td>-10.513944005600703</td></tr><tr><td>22.2</td><td>66.6</td><td>-66.6</td><td>0.46745697416297727</td><td>0.9498101120523187</td><td>10.377544826418095</td><td>-10.377544826418095</td></tr><tr><td>23.7</td><td>71.1</td><td>-71.1</td><td>0.9070641712745333</td><td>0.7592132667784594</td><td>21.49742085920644</td><td>-21.49742085920644</td></tr><tr><td>17.6</td><td>52.800000000000004</td><td>-52.800000000000004</td><td>0.0056760437092399085</td><td>0.01047916067937904</td><td>0.0998983692826224</td><td>-0.0998983692826224</td></tr><tr><td>18.5</td><td>55.5</td><td>-55.5</td><td>0.16377594061004674</td><td>0.7136468355218533</td><td>3.029854901285865</td><td>-3.029854901285865</td></tr><tr><td>24.3</td><td>72.9</td><td>-72.9</td><td>0.7807386890830101</td><td>0.9774630815754738</td><td>18.971950144717148</td><td>-18.971950144717148</td></tr><tr><td>20.5</td><td>61.5</td><td>-61.5</td><td>0.9442025982569121</td><td>0.2789081144450537</td><td>19.3561532642667</td><td>-19.3561532642667</td></tr><tr><td>24.5</td><td>73.5</td><td>-73.5</td><td>0.45085332305492487</td><td>0.8627114197407638</td><td>11.045906414845659</td><td>-11.045906414845659</td></tr><tr><td>26.2</td><td>78.6</td><td>-78.6</td><td>0.6332652214712486</td><td>0.5968740634565727</td><td>16.591548802546715</td><td>-16.591548802546715</td></tr><tr><td>24.4</td><td>73.19999999999999</td><td>-73.19999999999999</td><td>0.21871579659936613</td><td>0.8864673652477796</td><td>5.336665437024533</td><td>-5.336665437024533</td></tr><tr><td>24.8</td><td>74.4</td><td>-74.4</td><td>0.6354050236410802</td><td>0.8190062771567421</td><td>15.758044586298789</td><td>-15.758044586298789</td></tr><tr><td>29.6</td><td>88.80000000000001</td><td>-88.80000000000001</td><td>0.3723868356365403</td><td>0.6210721194806375</td><td>11.022650334841593</td><td>-11.022650334841593</td></tr><tr><td>42.8</td><td>128.39999999999998</td><td>-128.39999999999998</td><td>0.5821499924417302</td><td>0.44048888281621446</td><td>24.91601967650605</td><td>-24.91601967650605</td></tr><tr><td>21.9</td><td>65.69999999999999</td><td>-65.69999999999999</td><td>0.7340008545856638</td><td>0.618363491102285</td><td>16.074618715426034</td><td>-16.074618715426034</td></tr><tr><td>20.9</td><td>62.699999999999996</td><td>-62.699999999999996</td><td>0.6960890577978927</td><td>0.10060463877403414</td><td>14.548261307975956</td><td>-14.548261307975956</td></tr><tr><td>44.0</td><td>132.0</td><td>-132.0</td><td>0.5541581085477355</td><td>0.7662722034799381</td><td>24.38295677610036</td><td>-24.38295677610036</td></tr><tr><td>50.0</td><td>150.0</td><td>-150.0</td><td>0.10925499208432965</td><td>0.4900371004994567</td><td>5.462749604216483</td><td>-5.462749604216483</td></tr><tr><td>36.0</td><td>108.0</td><td>-108.0</td><td>0.0338485222815198</td><td>0.7437853899656353</td><td>1.2185468021347128</td><td>-1.2185468021347128</td></tr><tr><td>30.1</td><td>90.30000000000001</td><td>-90.30000000000001</td><td>0.5767656272238656</td><td>0.8575204974406964</td><td>17.360645379438356</td><td>-17.360645379438356</td></tr><tr><td>33.8</td><td>101.39999999999999</td><td>-101.39999999999999</td><td>0.5724476011219438</td><td>0.5583961769678726</td><td>19.3487289179217</td><td>-19.3487289179217</td></tr><tr><td>43.1</td><td>129.3</td><td>-129.3</td><td>0.2387351382971663</td><td>0.4972246142364033</td><td>10.289484460607868</td><td>-10.289484460607868</td></tr><tr><td>48.8</td><td>146.39999999999998</td><td>-146.39999999999998</td><td>0.6086863296202547</td><td>0.5165896252767287</td><td>29.703892885468427</td><td>-29.703892885468427</td></tr><tr><td>31.0</td><td>93.0</td><td>-93.0</td><td>0.8730849198488561</td><td>0.3379493606358335</td><td>27.065632515314537</td><td>-27.065632515314537</td></tr><tr><td>36.5</td><td>109.5</td><td>-109.5</td><td>0.19701926489097799</td><td>0.49646984833364016</td><td>7.191203168520697</td><td>-7.191203168520697</td></tr><tr><td>22.8</td><td>68.4</td><td>-68.4</td><td>0.1776682835142278</td><td>0.8959534755809481</td><td>4.050836864124395</td><td>-4.050836864124395</td></tr><tr><td>30.7</td><td>92.1</td><td>-92.1</td><td>0.10418185372575017</td><td>0.4756898855028271</td><td>3.19838290938053</td><td>-3.19838290938053</td></tr><tr><td>50.0</td><td>150.0</td><td>-150.0</td><td>0.6574868061349483</td><td>0.18782300329003865</td><td>32.87434030674741</td><td>-32.87434030674741</td></tr><tr><td>43.5</td><td>130.5</td><td>-130.5</td><td>0.806669055317857</td><td>0.5993055029318137</td><td>35.09010390632678</td><td>-35.09010390632678</td></tr><tr><td>20.7</td><td>62.099999999999994</td><td>-62.099999999999994</td><td>0.3429697993308024</td><td>0.2707048057562904</td><td>7.09947484614761</td><td>-7.09947484614761</td></tr><tr><td>21.1</td><td>63.300000000000004</td><td>-63.300000000000004</td><td>0.5482341038991075</td><td>0.6192157121339383</td><td>11.56773959227117</td><td>-11.56773959227117</td></tr><tr><td>25.2</td><td>75.6</td><td>-75.6</td><td>0.3459806232496395</td><td>0.22202654229302377</td><td>8.718711705890916</td><td>-8.718711705890916</td></tr><tr><td>24.4</td><td>73.19999999999999</td><td>-73.19999999999999</td><td>0.5922080067569728</td><td>0.1978467995347729</td><td>14.449875364870136</td><td>-14.449875364870136</td></tr><tr><td>35.2</td><td>105.60000000000001</td><td>-105.60000000000001</td><td>0.28364819187506296</td><td>0.7396970139111531</td><td>9.984416354002217</td><td>-9.984416354002217</td></tr><tr><td>32.4</td><td>97.19999999999999</td><td>-97.19999999999999</td><td>0.7509745942635946</td><td>0.2826149578964129</td><td>24.331576854140465</td><td>-24.331576854140465</td></tr><tr><td>32.0</td><td>96.0</td><td>-96.0</td><td>0.5837817376390667</td><td>0.49963914617783356</td><td>18.681015604450135</td><td>-18.681015604450135</td></tr><tr><td>33.2</td><td>99.60000000000001</td><td>-99.60000000000001</td><td>0.8178315055502844</td><td>0.6957512576642036</td><td>27.152005984269444</td><td>-27.152005984269444</td></tr><tr><td>33.1</td><td>99.30000000000001</td><td>-99.30000000000001</td><td>0.4906518352238892</td><td>0.14554479409429877</td><td>16.240575745910736</td><td>-16.240575745910736</td></tr><tr><td>29.1</td><td>87.30000000000001</td><td>-87.30000000000001</td><td>0.4062325896662501</td><td>0.22236655716126885</td><td>11.821368359287877</td><td>-11.821368359287877</td></tr><tr><td>35.1</td><td>105.30000000000001</td><td>-105.30000000000001</td><td>0.8846364368353338</td><td>0.19390629492652378</td><td>31.05073893292022</td><td>-31.05073893292022</td></tr><tr><td>45.4</td><td>136.2</td><td>-136.2</td><td>0.15575752677081212</td><td>0.8571052022220775</td><td>7.07139171539487</td><td>-7.07139171539487</td></tr><tr><td>35.4</td><td>106.19999999999999</td><td>-106.19999999999999</td><td>0.6205494632514602</td><td>0.545624367527153</td><td>21.96745099910169</td><td>-21.96745099910169</td></tr><tr><td>46.0</td><td>138.0</td><td>-138.0</td><td>0.3513215824810838</td><td>0.11365900222898984</td><td>16.160792794129854</td><td>-16.160792794129854</td></tr><tr><td>50.0</td><td>150.0</td><td>-150.0</td><td>0.8419521978859469</td><td>0.4945028240100898</td><td>42.09760989429734</td><td>-42.09760989429734</td></tr><tr><td>32.2</td><td>96.60000000000001</td><td>-96.60000000000001</td><td>0.46494889956569463</td><td>0.5127686451618146</td><td>14.971354566015368</td><td>-14.971354566015368</td></tr><tr><td>22.0</td><td>66.0</td><td>-66.0</td><td>0.46793400463562684</td><td>0.6821650079815196</td><td>10.294548101983791</td><td>-10.294548101983791</td></tr><tr><td>20.1</td><td>60.300000000000004</td><td>-60.300000000000004</td><td>0.7143816807373091</td><td>0.6387573633441272</td><td>14.359071782819914</td><td>-14.359071782819914</td></tr><tr><td>23.2</td><td>69.6</td><td>-69.6</td><td>0.48268621099927445</td><td>0.35468422871629146</td><td>11.198320095183167</td><td>-11.198320095183167</td></tr><tr><td>22.3</td><td>66.9</td><td>-66.9</td><td>0.43208600575464406</td><td>0.01821058491289984</td><td>9.635517928328563</td><td>-9.635517928328563</td></tr><tr><td>24.8</td><td>74.4</td><td>-74.4</td><td>0.4126798259773439</td><td>0.8749351080634036</td><td>10.234459684238129</td><td>-10.234459684238129</td></tr><tr><td>28.5</td><td>85.5</td><td>-85.5</td><td>0.8998703058760814</td><td>0.2739724486263325</td><td>25.64630371746832</td><td>-25.64630371746832</td></tr><tr><td>37.3</td><td>111.89999999999999</td><td>-111.89999999999999</td><td>0.14429501225801666</td><td>0.4012148126445946</td><td>5.3822039572240215</td><td>-5.3822039572240215</td></tr><tr><td>27.9</td><td>83.69999999999999</td><td>-83.69999999999999</td><td>0.23247987867222797</td><td>0.044588341980738466</td><td>6.48618861495516</td><td>-6.48618861495516</td></tr><tr><td>23.9</td><td>71.69999999999999</td><td>-71.69999999999999</td><td>0.059898246414313405</td><td>0.874708088985829</td><td>1.4315680893020903</td><td>-1.4315680893020903</td></tr><tr><td>21.7</td><td>65.1</td><td>-65.1</td><td>0.0014689314675067067</td><td>0.18781001199031788</td><td>0.03187581284489553</td><td>-0.03187581284489553</td></tr><tr><td>28.6</td><td>85.80000000000001</td><td>-85.80000000000001</td><td>0.18077636636511651</td><td>0.3974562711430555</td><td>5.170204078042333</td><td>-5.170204078042333</td></tr><tr><td>27.1</td><td>81.30000000000001</td><td>-81.30000000000001</td><td>0.182327956756005</td><td>0.7553206618777751</td><td>4.941087628087735</td><td>-4.941087628087735</td></tr><tr><td>20.3</td><td>60.900000000000006</td><td>-60.900000000000006</td><td>0.9420182714990615</td><td>0.16687413998520462</td><td>19.122970911430947</td><td>-19.122970911430947</td></tr><tr><td>22.5</td><td>67.5</td><td>-67.5</td><td>0.5646363104985088</td><td>0.5053568974396301</td><td>12.704316986216448</td><td>-12.704316986216448</td></tr><tr><td>29.0</td><td>87.0</td><td>-87.0</td><td>0.6331930820746432</td><td>0.10537963960378438</td><td>18.362599380164653</td><td>-18.362599380164653</td></tr><tr><td>24.8</td><td>74.4</td><td>-74.4</td><td>0.5419546189671236</td><td>0.4393073830670109</td><td>13.440474550384666</td><td>-13.440474550384666</td></tr><tr><td>22.0</td><td>66.0</td><td>-66.0</td><td>0.6409065008302963</td><td>0.7508787439012441</td><td>14.099943018266519</td><td>-14.099943018266519</td></tr><tr><td>26.4</td><td>79.19999999999999</td><td>-79.19999999999999</td><td>0.5925394842755629</td><td>0.40521107443519144</td><td>15.64304238487486</td><td>-15.64304238487486</td></tr><tr><td>33.1</td><td>99.30000000000001</td><td>-99.30000000000001</td><td>0.8385338283424497</td><td>0.8062152603564793</td><td>27.755469718135085</td><td>-27.755469718135085</td></tr><tr><td>36.1</td><td>108.30000000000001</td><td>-108.30000000000001</td><td>0.42289217471952667</td><td>0.11718907129750444</td><td>15.266407507374913</td><td>-15.266407507374913</td></tr><tr><td>28.4</td><td>85.19999999999999</td><td>-85.19999999999999</td><td>0.8862340642049775</td><td>0.2568469781769557</td><td>25.16904742342136</td><td>-25.16904742342136</td></tr><tr><td>33.4</td><td>100.19999999999999</td><td>-100.19999999999999</td><td>0.6754551623572886</td><td>0.8530331859687469</td><td>22.56020242273344</td><td>-22.56020242273344</td></tr><tr><td>28.2</td><td>84.6</td><td>-84.6</td><td>0.07310146254759875</td><td>0.15067316506013728</td><td>2.0614612438422846</td><td>-2.0614612438422846</td></tr><tr><td>22.8</td><td>68.4</td><td>-68.4</td><td>0.6000484725903077</td><td>0.6286857264760838</td><td>13.681105175059015</td><td>-13.681105175059015</td></tr><tr><td>20.3</td><td>60.900000000000006</td><td>-60.900000000000006</td><td>0.28679103022090724</td><td>0.9604432763854659</td><td>5.8218579134844175</td><td>-5.8218579134844175</td></tr><tr><td>16.1</td><td>48.300000000000004</td><td>-48.300000000000004</td><td>0.44932467027043455</td><td>0.308733043673708</td><td>7.234127191353997</td><td>-7.234127191353997</td></tr><tr><td>22.1</td><td>66.30000000000001</td><td>-66.30000000000001</td><td>0.5992178580792907</td><td>0.061351856633768964</td><td>13.242714663552325</td><td>-13.242714663552325</td></tr><tr><td>19.4</td><td>58.199999999999996</td><td>-58.199999999999996</td><td>0.8060862911572101</td><td>0.38203548978517066</td><td>15.638074048449875</td><td>-15.638074048449875</td></tr><tr><td>21.6</td><td>64.80000000000001</td><td>-64.80000000000001</td><td>0.7336200294524898</td><td>0.4662789771015109</td><td>15.84619263617378</td><td>-15.84619263617378</td></tr><tr><td>23.8</td><td>71.4</td><td>-71.4</td><td>0.2866398195922847</td><td>0.9145555563190637</td><td>6.8220277062963754</td><td>-6.8220277062963754</td></tr><tr><td>16.2</td><td>48.599999999999994</td><td>-48.599999999999994</td><td>0.6548390847126561</td><td>0.6097793166289867</td><td>10.608393172345028</td><td>-10.608393172345028</td></tr><tr><td>17.8</td><td>53.400000000000006</td><td>-53.400000000000006</td><td>0.10427955851509718</td><td>0.6733630674049581</td><td>1.85617614156873</td><td>-1.85617614156873</td></tr><tr><td>19.8</td><td>59.400000000000006</td><td>-59.400000000000006</td><td>0.0677160109978906</td><td>0.6837387321670552</td><td>1.3407770177582339</td><td>-1.3407770177582339</td></tr><tr><td>23.1</td><td>69.30000000000001</td><td>-69.30000000000001</td><td>0.9650597937477645</td><td>0.17233460246995658</td><td>22.29288123557336</td><td>-22.29288123557336</td></tr><tr><td>21.0</td><td>63.0</td><td>-63.0</td><td>0.06733300905332318</td><td>0.7758921284569019</td><td>1.4139931901197866</td><td>-1.4139931901197866</td></tr><tr><td>23.8</td><td>71.4</td><td>-71.4</td><td>0.7007220074802242</td><td>0.5126691619667869</td><td>16.677183778029335</td><td>-16.677183778029335</td></tr><tr><td>23.1</td><td>69.30000000000001</td><td>-69.30000000000001</td><td>0.18875905507018953</td><td>0.9825292783661247</td><td>4.360334172121378</td><td>-4.360334172121378</td></tr><tr><td>20.4</td><td>61.199999999999996</td><td>-61.199999999999996</td><td>0.6920056156449833</td><td>0.5338240612972794</td><td>14.116914559157658</td><td>-14.116914559157658</td></tr><tr><td>18.5</td><td>55.5</td><td>-55.5</td><td>0.2698168283360711</td><td>0.8886962640477288</td><td>4.991611324217316</td><td>-4.991611324217316</td></tr><tr><td>25.0</td><td>75.0</td><td>-75.0</td><td>0.7729521049712922</td><td>0.12196580039072435</td><td>19.323802624282305</td><td>-19.323802624282305</td></tr><tr><td>24.6</td><td>73.80000000000001</td><td>-73.80000000000001</td><td>0.028895644466858883</td><td>0.39431922127744934</td><td>0.7108328538847286</td><td>-0.7108328538847286</td></tr><tr><td>23.0</td><td>69.0</td><td>-69.0</td><td>0.5902249387919115</td><td>0.6145090620185033</td><td>13.575173592213964</td><td>-13.575173592213964</td></tr><tr><td>22.2</td><td>66.6</td><td>-66.6</td><td>0.011237719721222006</td><td>0.21788456764942288</td><td>0.24947737781112853</td><td>-0.24947737781112853</td></tr><tr><td>19.3</td><td>57.900000000000006</td><td>-57.900000000000006</td><td>0.8922173366987758</td><td>0.9409365101593536</td><td>17.219794598286374</td><td>-17.219794598286374</td></tr><tr><td>22.6</td><td>67.80000000000001</td><td>-67.80000000000001</td><td>0.9752491448083712</td><td>0.9898834883390256</td><td>22.04063067266919</td><td>-22.04063067266919</td></tr><tr><td>19.8</td><td>59.400000000000006</td><td>-59.400000000000006</td><td>0.9248253243463849</td><td>0.7986084269610589</td><td>18.311541422058422</td><td>-18.311541422058422</td></tr><tr><td>17.1</td><td>51.300000000000004</td><td>-51.300000000000004</td><td>0.7865169267644929</td><td>0.6358813322166387</td><td>13.44943944767283</td><td>-13.44943944767283</td></tr><tr><td>19.4</td><td>58.199999999999996</td><td>-58.199999999999996</td><td>0.8212095716914161</td><td>0.9085323030436636</td><td>15.93146569081347</td><td>-15.93146569081347</td></tr><tr><td>22.2</td><td>66.6</td><td>-66.6</td><td>0.6461185025932021</td><td>0.473890838868153</td><td>14.343830757569087</td><td>-14.343830757569087</td></tr><tr><td>20.7</td><td>62.099999999999994</td><td>-62.099999999999994</td><td>0.1924424476486647</td><td>0.11736073576223205</td><td>3.983558666327359</td><td>-3.983558666327359</td></tr><tr><td>21.1</td><td>63.300000000000004</td><td>-63.300000000000004</td><td>0.3649447132349136</td><td>0.40161106639954647</td><td>7.700333449256678</td><td>-7.700333449256678</td></tr><tr><td>19.5</td><td>58.5</td><td>-58.5</td><td>0.6992190002813027</td><td>0.5771621201793821</td><td>13.634770505485402</td><td>-13.634770505485402</td></tr><tr><td>18.5</td><td>55.5</td><td>-55.5</td><td>0.12450508722631437</td><td>0.8994434144562846</td><td>2.303344113686816</td><td>-2.303344113686816</td></tr><tr><td>20.6</td><td>61.800000000000004</td><td>-61.800000000000004</td><td>0.8480701346572509</td><td>0.5301638209642983</td><td>17.47024477393937</td><td>-17.47024477393937</td></tr><tr><td>19.0</td><td>57.0</td><td>-57.0</td><td>0.715276083636401</td><td>0.925889790603591</td><td>13.59024558909162</td><td>-13.59024558909162</td></tr><tr><td>18.7</td><td>56.099999999999994</td><td>-56.099999999999994</td><td>0.19103969144899746</td><td>0.0158533547663936</td><td>3.5724422300962524</td><td>-3.5724422300962524</td></tr><tr><td>32.7</td><td>98.10000000000001</td><td>-98.10000000000001</td><td>0.9805688425069256</td><td>0.36798854099183165</td><td>32.06460114997647</td><td>-32.06460114997647</td></tr><tr><td>16.5</td><td>49.5</td><td>-49.5</td><td>0.00691448832181818</td><td>0.6278903363882649</td><td>0.11408905730999996</td><td>-0.11408905730999996</td></tr><tr><td>23.9</td><td>71.69999999999999</td><td>-71.69999999999999</td><td>0.5597090873258603</td><td>0.9155222971084023</td><td>13.377047187088062</td><td>-13.377047187088062</td></tr><tr><td>31.2</td><td>93.6</td><td>-93.6</td><td>0.5452263487969994</td><td>0.36205828182118915</td><td>17.01106208246638</td><td>-17.01106208246638</td></tr><tr><td>17.5</td><td>52.5</td><td>-52.5</td><td>0.874801328112305</td><td>0.4285678147298132</td><td>15.309023241965338</td><td>-15.309023241965338</td></tr><tr><td>17.2</td><td>51.599999999999994</td><td>-51.599999999999994</td><td>0.9986521352987948</td><td>0.7314621503133685</td><td>17.17681672713927</td><td>-17.17681672713927</td></tr><tr><td>23.1</td><td>69.30000000000001</td><td>-69.30000000000001</td><td>0.4587090728804315</td><td>0.824696852436432</td><td>10.596179583537968</td><td>-10.596179583537968</td></tr><tr><td>24.5</td><td>73.5</td><td>-73.5</td><td>0.8660027452719464</td><td>0.7984865355734915</td><td>21.217067259162686</td><td>-21.217067259162686</td></tr><tr><td>26.6</td><td>79.80000000000001</td><td>-79.80000000000001</td><td>0.5022079938207723</td><td>0.5130465963180316</td><td>13.358732635632544</td><td>-13.358732635632544</td></tr><tr><td>22.9</td><td>68.69999999999999</td><td>-68.69999999999999</td><td>0.7952688531999531</td><td>0.07827068245656421</td><td>18.211656738278926</td><td>-18.211656738278926</td></tr><tr><td>24.1</td><td>72.30000000000001</td><td>-72.30000000000001</td><td>0.7823706633313511</td><td>0.5213003812155432</td><td>18.85513298628556</td><td>-18.85513298628556</td></tr><tr><td>18.6</td><td>55.800000000000004</td><td>-55.800000000000004</td><td>0.5184935228883626</td><td>0.39942530318300073</td><td>9.643979525723545</td><td>-9.643979525723545</td></tr><tr><td>30.1</td><td>90.30000000000001</td><td>-90.30000000000001</td><td>0.4807666327423765</td><td>0.7656595646009904</td><td>14.471075645545534</td><td>-14.471075645545534</td></tr><tr><td>18.2</td><td>54.599999999999994</td><td>-54.599999999999994</td><td>0.3544301060014583</td><td>0.621927916437744</td><td>6.450627929226541</td><td>-6.450627929226541</td></tr><tr><td>20.6</td><td>61.800000000000004</td><td>-61.800000000000004</td><td>0.04920013788324673</td><td>0.9834109728987821</td><td>1.0135228403948828</td><td>-1.0135228403948828</td></tr><tr><td>17.8</td><td>53.400000000000006</td><td>-53.400000000000006</td><td>0.3686165424495701</td><td>0.503494329514271</td><td>6.561374455602348</td><td>-6.561374455602348</td></tr><tr><td>21.7</td><td>65.1</td><td>-65.1</td><td>0.26276779162762076</td><td>0.7125554331933904</td><td>5.70206107831937</td><td>-5.70206107831937</td></tr><tr><td>22.7</td><td>68.1</td><td>-68.1</td><td>0.7412458821138157</td><td>0.9510998861310512</td><td>16.826281523983617</td><td>-16.826281523983617</td></tr><tr><td>22.6</td><td>67.80000000000001</td><td>-67.80000000000001</td><td>0.7780042667132944</td><td>0.4421435514955623</td><td>17.582896427720453</td><td>-17.582896427720453</td></tr><tr><td>25.0</td><td>75.0</td><td>-75.0</td><td>0.4181756208940681</td><td>0.14467714672088694</td><td>10.454390522351703</td><td>-10.454390522351703</td></tr><tr><td>19.9</td><td>59.699999999999996</td><td>-59.699999999999996</td><td>0.301431837203169</td><td>0.005047859263675902</td><td>5.998493560343063</td><td>-5.998493560343063</td></tr><tr><td>20.8</td><td>62.400000000000006</td><td>-62.400000000000006</td><td>0.17097984678894218</td><td>0.5278319760272221</td><td>3.5563808132099974</td><td>-3.5563808132099974</td></tr><tr><td>16.8</td><td>50.400000000000006</td><td>-50.400000000000006</td><td>0.655251278600807</td><td>0.8566779243821917</td><td>11.008221480493559</td><td>-11.008221480493559</td></tr><tr><td>21.9</td><td>65.69999999999999</td><td>-65.69999999999999</td><td>0.335901118402566</td><td>0.353453599032309</td><td>7.356234493016195</td><td>-7.356234493016195</td></tr><tr><td>27.5</td><td>82.5</td><td>-82.5</td><td>0.2689168266874983</td><td>0.540410063000669</td><td>7.395212733906202</td><td>-7.395212733906202</td></tr><tr><td>21.9</td><td>65.69999999999999</td><td>-65.69999999999999</td><td>0.7696252755289047</td><td>0.7461772542612461</td><td>16.85479353408301</td><td>-16.85479353408301</td></tr><tr><td>23.1</td><td>69.30000000000001</td><td>-69.30000000000001</td><td>0.6701935596492569</td><td>0.9396160620911327</td><td>15.481471227897835</td><td>-15.481471227897835</td></tr><tr><td>50.0</td><td>150.0</td><td>-150.0</td><td>0.13093793128911313</td><td>0.9337446397418275</td><td>6.546896564455657</td><td>-6.546896564455657</td></tr><tr><td>50.0</td><td>150.0</td><td>-150.0</td><td>0.09483600696924432</td><td>0.16514818909823736</td><td>4.741800348462216</td><td>-4.741800348462216</td></tr><tr><td>50.0</td><td>150.0</td><td>-150.0</td><td>0.3703349998972475</td><td>0.25472063312635795</td><td>18.516749994862376</td><td>-18.516749994862376</td></tr><tr><td>50.0</td><td>150.0</td><td>-150.0</td><td>0.4384040816219268</td><td>0.8829511613873152</td><td>21.92020408109634</td><td>-21.92020408109634</td></tr><tr><td>50.0</td><td>150.0</td><td>-150.0</td><td>0.6095306262869172</td><td>0.159548628987771</td><td>30.476531314345863</td><td>-30.476531314345863</td></tr><tr><td>13.8</td><td>41.400000000000006</td><td>-41.400000000000006</td><td>0.48761403891858723</td><td>0.579883311252496</td><td>6.729073737076504</td><td>-6.729073737076504</td></tr><tr><td>13.8</td><td>41.400000000000006</td><td>-41.400000000000006</td><td>0.39855792084931463</td><td>0.7584254909245453</td><td>5.500099307720542</td><td>-5.500099307720542</td></tr><tr><td>15.0</td><td>45.0</td><td>-45.0</td><td>0.5817706428708463</td><td>0.4104532036417431</td><td>8.726559643062695</td><td>-8.726559643062695</td></tr><tr><td>13.9</td><td>41.7</td><td>-41.7</td><td>0.34221196088992256</td><td>0.4160287858805417</td><td>4.756746256369924</td><td>-4.756746256369924</td></tr><tr><td>13.3</td><td>39.900000000000006</td><td>-39.900000000000006</td><td>0.8211644323459076</td><td>0.3111377755745165</td><td>10.921486950200572</td><td>-10.921486950200572</td></tr><tr><td>13.1</td><td>39.3</td><td>-39.3</td><td>0.850347441911421</td><td>0.5743282774647265</td><td>11.139551489039615</td><td>-11.139551489039615</td></tr><tr><td>10.2</td><td>30.599999999999998</td><td>-30.599999999999998</td><td>0.4930753619512458</td><td>0.8017798387578315</td><td>5.0293686919027065</td><td>-5.0293686919027065</td></tr><tr><td>10.4</td><td>31.200000000000003</td><td>-31.200000000000003</td><td>0.8339016684491922</td><td>0.012047413029610432</td><td>8.672577351871599</td><td>-8.672577351871599</td></tr><tr><td>10.9</td><td>32.7</td><td>-32.7</td><td>0.5074424056323721</td><td>0.8225095710973505</td><td>5.531122221392856</td><td>-5.531122221392856</td></tr><tr><td>11.3</td><td>33.900000000000006</td><td>-33.900000000000006</td><td>0.28619051371625503</td><td>0.5557554699037389</td><td>3.2339528049936823</td><td>-3.2339528049936823</td></tr><tr><td>12.3</td><td>36.900000000000006</td><td>-36.900000000000006</td><td>0.3138503358145869</td><td>0.10763786545979537</td><td>3.8603591305194187</td><td>-3.8603591305194187</td></tr><tr><td>8.8</td><td>26.400000000000002</td><td>-26.400000000000002</td><td>0.22257965418952663</td><td>0.88001518107452</td><td>1.9587009568678346</td><td>-1.9587009568678346</td></tr><tr><td>7.2</td><td>21.6</td><td>-21.6</td><td>0.6205311782804485</td><td>0.16567632092830198</td><td>4.467824483619229</td><td>-4.467824483619229</td></tr><tr><td>10.5</td><td>31.5</td><td>-31.5</td><td>0.6235436791211839</td><td>0.3052856932613148</td><td>6.547208630772431</td><td>-6.547208630772431</td></tr><tr><td>7.4</td><td>22.200000000000003</td><td>-22.200000000000003</td><td>0.27177501669617976</td><td>0.7537141544012513</td><td>2.0111351235517305</td><td>-2.0111351235517305</td></tr><tr><td>10.2</td><td>30.599999999999998</td><td>-30.599999999999998</td><td>0.4067866381436567</td><td>0.7102126592758322</td><td>4.149223709065298</td><td>-4.149223709065298</td></tr><tr><td>11.5</td><td>34.5</td><td>-34.5</td><td>0.7056819434801154</td><td>0.5468892863215568</td><td>8.115342350021328</td><td>-8.115342350021328</td></tr><tr><td>15.1</td><td>45.3</td><td>-45.3</td><td>0.4899977188859731</td><td>0.13238549082580464</td><td>7.398965555178194</td><td>-7.398965555178194</td></tr><tr><td>23.2</td><td>69.6</td><td>-69.6</td><td>0.05060748976476259</td><td>0.16314422960449315</td><td>1.174093762542492</td><td>-1.174093762542492</td></tr><tr><td>9.7</td><td>29.099999999999998</td><td>-29.099999999999998</td><td>0.7687321865982761</td><td>0.43054324182716297</td><td>7.456702210003278</td><td>-7.456702210003278</td></tr><tr><td>13.8</td><td>41.400000000000006</td><td>-41.400000000000006</td><td>0.17391724819888166</td><td>0.9776052663000357</td><td>2.400058025144567</td><td>-2.400058025144567</td></tr><tr><td>12.7</td><td>38.099999999999994</td><td>-38.099999999999994</td><td>0.2567024143793618</td><td>0.4422951642973093</td><td>3.260120662617895</td><td>-3.260120662617895</td></tr><tr><td>13.1</td><td>39.3</td><td>-39.3</td><td>0.6961449344703885</td><td>0.1387994045076978</td><td>9.119498641562089</td><td>-9.119498641562089</td></tr><tr><td>12.5</td><td>37.5</td><td>-37.5</td><td>0.7487040466029901</td><td>0.1170534702749414</td><td>9.358800582537375</td><td>-9.358800582537375</td></tr><tr><td>8.5</td><td>25.5</td><td>-25.5</td><td>0.52807290409611</td><td>0.30685815101025793</td><td>4.488619684816935</td><td>-4.488619684816935</td></tr><tr><td>5.0</td><td>15.0</td><td>-15.0</td><td>0.22452620522496025</td><td>0.9178228651593838</td><td>1.1226310261248011</td><td>-1.1226310261248011</td></tr><tr><td>6.3</td><td>18.9</td><td>-18.9</td><td>0.09624803772716817</td><td>0.39652039853428445</td><td>0.6063626376811594</td><td>-0.6063626376811594</td></tr><tr><td>5.6</td><td>16.799999999999997</td><td>-16.799999999999997</td><td>0.2836141018804158</td><td>0.2716386205075628</td><td>1.5882389705303284</td><td>-1.5882389705303284</td></tr><tr><td>7.2</td><td>21.6</td><td>-21.6</td><td>0.23994347789094073</td><td>0.2330156704794124</td><td>1.7275930408147733</td><td>-1.7275930408147733</td></tr><tr><td>12.1</td><td>36.3</td><td>-36.3</td><td>0.04599662681459282</td><td>0.18156607379592515</td><td>0.5565591844565732</td><td>-0.5565591844565732</td></tr><tr><td>8.3</td><td>24.900000000000002</td><td>-24.900000000000002</td><td>0.9313373760627264</td><td>0.39177787704385103</td><td>7.73010022132063</td><td>-7.73010022132063</td></tr><tr><td>8.5</td><td>25.5</td><td>-25.5</td><td>0.12734013628022156</td><td>0.7803636884350443</td><td>1.0823911583818833</td><td>-1.0823911583818833</td></tr><tr><td>5.0</td><td>15.0</td><td>-15.0</td><td>0.5344726760886547</td><td>0.6338403792365409</td><td>2.672363380443273</td><td>-2.672363380443273</td></tr><tr><td>11.9</td><td>35.7</td><td>-35.7</td><td>0.30116880915314714</td><td>0.669779856764933</td><td>3.583908828922451</td><td>-3.583908828922451</td></tr><tr><td>27.9</td><td>83.69999999999999</td><td>-83.69999999999999</td><td>0.4278811414602124</td><td>0.7132233387040676</td><td>11.937883846739926</td><td>-11.937883846739926</td></tr><tr><td>17.2</td><td>51.599999999999994</td><td>-51.599999999999994</td><td>0.46434188729442893</td><td>0.4421304161129529</td><td>7.986680461464178</td><td>-7.986680461464178</td></tr><tr><td>27.5</td><td>82.5</td><td>-82.5</td><td>0.9014821870101644</td><td>0.41720660886797745</td><td>24.79076014277952</td><td>-24.79076014277952</td></tr><tr><td>15.0</td><td>45.0</td><td>-45.0</td><td>0.5157993691825588</td><td>0.3288345252261753</td><td>7.736990537738381</td><td>-7.736990537738381</td></tr><tr><td>17.2</td><td>51.599999999999994</td><td>-51.599999999999994</td><td>0.5620178110955738</td><td>0.8125870231950661</td><td>9.666706350843869</td><td>-9.666706350843869</td></tr><tr><td>17.9</td><td>53.699999999999996</td><td>-53.699999999999996</td><td>0.7837600275033102</td><td>0.6272278308115489</td><td>14.029304492309251</td><td>-14.029304492309251</td></tr><tr><td>16.3</td><td>48.900000000000006</td><td>-48.900000000000006</td><td>0.9158902275394809</td><td>0.5645103395216143</td><td>14.92901070889354</td><td>-14.92901070889354</td></tr><tr><td>7.0</td><td>21.0</td><td>-21.0</td><td>0.6935737419149416</td><td>0.3812917284764039</td><td>4.855016193404591</td><td>-4.855016193404591</td></tr><tr><td>7.2</td><td>21.6</td><td>-21.6</td><td>0.7815076962288493</td><td>0.4869353783654641</td><td>5.626855412847715</td><td>-5.626855412847715</td></tr><tr><td>7.5</td><td>22.5</td><td>-22.5</td><td>0.6833470914692995</td><td>0.07131819849446852</td><td>5.1251031860197465</td><td>-5.1251031860197465</td></tr><tr><td>10.4</td><td>31.200000000000003</td><td>-31.200000000000003</td><td>0.37074862527799934</td><td>0.4846047683473357</td><td>3.8557857028911933</td><td>-3.8557857028911933</td></tr><tr><td>8.8</td><td>26.400000000000002</td><td>-26.400000000000002</td><td>0.010150514161229696</td><td>0.4464891449229783</td><td>0.08932452461882133</td><td>-0.08932452461882133</td></tr><tr><td>8.4</td><td>25.200000000000003</td><td>-25.200000000000003</td><td>0.9315057382327521</td><td>0.2176129941906194</td><td>7.824648201155117</td><td>-7.824648201155117</td></tr><tr><td>16.7</td><td>50.099999999999994</td><td>-50.099999999999994</td><td>0.04399954622017255</td><td>0.6399772985781004</td><td>0.7347924218768815</td><td>-0.7347924218768815</td></tr><tr><td>14.2</td><td>42.599999999999994</td><td>-42.599999999999994</td><td>0.32133387232423405</td><td>0.6580208709388229</td><td>4.562940987004123</td><td>-4.562940987004123</td></tr><tr><td>20.8</td><td>62.400000000000006</td><td>-62.400000000000006</td><td>0.8622632527648907</td><td>0.8208436865500003</td><td>17.935075657509728</td><td>-17.935075657509728</td></tr><tr><td>13.4</td><td>40.2</td><td>-40.2</td><td>0.19948006002133234</td><td>0.05355850488291358</td><td>2.6730328042858535</td><td>-2.6730328042858535</td></tr><tr><td>11.7</td><td>35.099999999999994</td><td>-35.099999999999994</td><td>0.38554819846060695</td><td>0.001984736040997581</td><td>4.5109139219891015</td><td>-4.5109139219891015</td></tr><tr><td>8.3</td><td>24.900000000000002</td><td>-24.900000000000002</td><td>0.8206820882958263</td><td>0.06353312518350662</td><td>6.811661332855359</td><td>-6.811661332855359</td></tr><tr><td>10.2</td><td>30.599999999999998</td><td>-30.599999999999998</td><td>0.15696387459622085</td><td>0.15363045164044953</td><td>1.6010315208814525</td><td>-1.6010315208814525</td></tr><tr><td>10.9</td><td>32.7</td><td>-32.7</td><td>0.3084205389983464</td><td>0.07564211167680546</td><td>3.361783875081976</td><td>-3.361783875081976</td></tr><tr><td>11.0</td><td>33.0</td><td>-33.0</td><td>0.9148313204629626</td><td>0.9672180730692702</td><td>10.063144525092588</td><td>-10.063144525092588</td></tr><tr><td>9.5</td><td>28.5</td><td>-28.5</td><td>0.34388429599294024</td><td>0.01779224541183866</td><td>3.266900811932932</td><td>-3.266900811932932</td></tr><tr><td>14.5</td><td>43.5</td><td>-43.5</td><td>0.16429952556630167</td><td>0.6304509146705218</td><td>2.3823431207113743</td><td>-2.3823431207113743</td></tr><tr><td>14.1</td><td>42.3</td><td>-42.3</td><td>0.05568300224588729</td><td>0.6533780307270517</td><td>0.7851303316670109</td><td>-0.7851303316670109</td></tr><tr><td>16.1</td><td>48.300000000000004</td><td>-48.300000000000004</td><td>0.8011439670584276</td><td>0.9800327959835669</td><td>12.898417869640685</td><td>-12.898417869640685</td></tr><tr><td>14.3</td><td>42.900000000000006</td><td>-42.900000000000006</td><td>0.7161454016075218</td><td>0.8147860498349871</td><td>10.240879242987562</td><td>-10.240879242987562</td></tr><tr><td>11.7</td><td>35.099999999999994</td><td>-35.099999999999994</td><td>0.2597610944557175</td><td>0.4799704191620957</td><td>3.0392048051318943</td><td>-3.0392048051318943</td></tr><tr><td>13.4</td><td>40.2</td><td>-40.2</td><td>0.977312596567419</td><td>0.8633741121903149</td><td>13.095988794003414</td><td>-13.095988794003414</td></tr><tr><td>9.6</td><td>28.799999999999997</td><td>-28.799999999999997</td><td>0.08790373617321867</td><td>0.8283230708165791</td><td>0.8438758672628992</td><td>-0.8438758672628992</td></tr><tr><td>8.7</td><td>26.099999999999998</td><td>-26.099999999999998</td><td>0.4113188638506885</td><td>0.6439637592754239</td><td>3.5784741155009896</td><td>-3.5784741155009896</td></tr><tr><td>8.4</td><td>25.200000000000003</td><td>-25.200000000000003</td><td>0.204348098301811</td><td>0.6881812977562908</td><td>1.7165240257352126</td><td>-1.7165240257352126</td></tr><tr><td>12.8</td><td>38.400000000000006</td><td>-38.400000000000006</td><td>0.9080149126315735</td><td>0.5060595800993668</td><td>11.622590881684141</td><td>-11.622590881684141</td></tr><tr><td>10.5</td><td>31.5</td><td>-31.5</td><td>0.841911365193686</td><td>0.42302095980655785</td><td>8.840069334533704</td><td>-8.840069334533704</td></tr><tr><td>17.1</td><td>51.300000000000004</td><td>-51.300000000000004</td><td>0.045201911574638154</td><td>0.8620407153570689</td><td>0.7729526879263124</td><td>-0.7729526879263124</td></tr><tr><td>18.4</td><td>55.199999999999996</td><td>-55.199999999999996</td><td>0.052383403657132455</td><td>0.9120536730983652</td><td>0.963854627291237</td><td>-0.963854627291237</td></tr><tr><td>15.4</td><td>46.2</td><td>-46.2</td><td>0.8935832127745721</td><td>0.5695530784688889</td><td>13.76118147672841</td><td>-13.76118147672841</td></tr><tr><td>10.8</td><td>32.400000000000006</td><td>-32.400000000000006</td><td>0.710376655845938</td><td>0.5899537429979081</td><td>7.672067883136131</td><td>-7.672067883136131</td></tr><tr><td>11.8</td><td>35.400000000000006</td><td>-35.400000000000006</td><td>0.18505706380283693</td><td>0.1386539677425187</td><td>2.183673352873476</td><td>-2.183673352873476</td></tr><tr><td>14.9</td><td>44.7</td><td>-44.7</td><td>0.5560730151042577</td><td>0.46836340077168326</td><td>8.28548792505344</td><td>-8.28548792505344</td></tr><tr><td>12.6</td><td>37.8</td><td>-37.8</td><td>0.45192325923700216</td><td>0.8507164900704465</td><td>5.694233066386227</td><td>-5.694233066386227</td></tr><tr><td>14.1</td><td>42.3</td><td>-42.3</td><td>0.003513294954655799</td><td>0.3336372048295856</td><td>0.04953745886064676</td><td>-0.04953745886064676</td></tr><tr><td>13.0</td><td>39.0</td><td>-39.0</td><td>0.7867015109347356</td><td>0.939681860423036</td><td>10.227119642151562</td><td>-10.227119642151562</td></tr><tr><td>13.4</td><td>40.2</td><td>-40.2</td><td>0.9432330523494292</td><td>0.017643993773674982</td><td>12.639322901482352</td><td>-12.639322901482352</td></tr><tr><td>15.2</td><td>45.599999999999994</td><td>-45.599999999999994</td><td>0.33292614879454563</td><td>0.3174756240378652</td><td>5.060477461677094</td><td>-5.060477461677094</td></tr><tr><td>16.1</td><td>48.300000000000004</td><td>-48.300000000000004</td><td>0.10120019456024743</td><td>0.8776538318224769</td><td>1.6293231324199837</td><td>-1.6293231324199837</td></tr><tr><td>17.8</td><td>53.400000000000006</td><td>-53.400000000000006</td><td>0.781044365589822</td><td>0.9486536902833465</td><td>13.902589707498834</td><td>-13.902589707498834</td></tr><tr><td>14.9</td><td>44.7</td><td>-44.7</td><td>0.17129023501728236</td><td>0.575731992157802</td><td>2.5522245017575074</td><td>-2.5522245017575074</td></tr><tr><td>14.1</td><td>42.3</td><td>-42.3</td><td>0.9833907651182234</td><td>0.7230879543916295</td><td>13.86580978816695</td><td>-13.86580978816695</td></tr><tr><td>12.7</td><td>38.099999999999994</td><td>-38.099999999999994</td><td>0.413427087210823</td><td>0.3398331871640845</td><td>5.250524007577452</td><td>-5.250524007577452</td></tr><tr><td>13.5</td><td>40.5</td><td>-40.5</td><td>0.2931083328343359</td><td>0.511984199717952</td><td>3.9569624932635348</td><td>-3.9569624932635348</td></tr><tr><td>14.9</td><td>44.7</td><td>-44.7</td><td>0.2751843487086437</td><td>0.5700604851807413</td><td>4.100246795758792</td><td>-4.100246795758792</td></tr><tr><td>20.0</td><td>60.0</td><td>-60.0</td><td>0.9186607284229745</td><td>0.2646674247940204</td><td>18.373214568459492</td><td>-18.373214568459492</td></tr><tr><td>16.4</td><td>49.199999999999996</td><td>-49.199999999999996</td><td>0.8804084493447459</td><td>0.5767475023630395</td><td>14.438698569253832</td><td>-14.438698569253832</td></tr><tr><td>17.7</td><td>53.099999999999994</td><td>-53.099999999999994</td><td>0.9549221882050097</td><td>0.06152499289330504</td><td>16.902122731228673</td><td>-16.902122731228673</td></tr><tr><td>19.5</td><td>58.5</td><td>-58.5</td><td>0.6325850393119711</td><td>0.8230229093903114</td><td>12.335408266583435</td><td>-12.335408266583435</td></tr><tr><td>20.2</td><td>60.599999999999994</td><td>-60.599999999999994</td><td>0.8336716429726984</td><td>0.28387829866192504</td><td>16.840167188048508</td><td>-16.840167188048508</td></tr><tr><td>21.4</td><td>64.19999999999999</td><td>-64.19999999999999</td><td>0.6906967918519936</td><td>0.23661949535149718</td><td>14.780911345632662</td><td>-14.780911345632662</td></tr><tr><td>19.9</td><td>59.699999999999996</td><td>-59.699999999999996</td><td>0.7407312805942873</td><td>0.4238778055760041</td><td>14.740552483826315</td><td>-14.740552483826315</td></tr><tr><td>19.0</td><td>57.0</td><td>-57.0</td><td>0.6792707539252734</td><td>0.895541838575909</td><td>12.906144324580193</td><td>-12.906144324580193</td></tr><tr><td>19.1</td><td>57.300000000000004</td><td>-57.300000000000004</td><td>0.7196617872678295</td><td>0.8771148389154301</td><td>13.745540136815544</td><td>-13.745540136815544</td></tr><tr><td>19.1</td><td>57.300000000000004</td><td>-57.300000000000004</td><td>0.547279002111545</td><td>0.7358276950596114</td><td>10.45302894033051</td><td>-10.45302894033051</td></tr><tr><td>20.1</td><td>60.300000000000004</td><td>-60.300000000000004</td><td>0.44957084334952224</td><td>0.18049671329260852</td><td>9.036373951325398</td><td>-9.036373951325398</td></tr><tr><td>19.9</td><td>59.699999999999996</td><td>-59.699999999999996</td><td>0.6970585631882671</td><td>0.26854067435523543</td><td>13.871465407446514</td><td>-13.871465407446514</td></tr><tr><td>19.6</td><td>58.800000000000004</td><td>-58.800000000000004</td><td>0.4391825236268515</td><td>0.9935784229611839</td><td>8.60797746308629</td><td>-8.60797746308629</td></tr><tr><td>23.2</td><td>69.6</td><td>-69.6</td><td>0.05499696125105091</td><td>0.5839802855324416</td><td>1.2759295010243812</td><td>-1.2759295010243812</td></tr><tr><td>29.8</td><td>89.4</td><td>-89.4</td><td>0.4026611198692125</td><td>0.9069707745326538</td><td>11.999301372102533</td><td>-11.999301372102533</td></tr><tr><td>13.8</td><td>41.400000000000006</td><td>-41.400000000000006</td><td>0.7100915216789975</td><td>0.1793101512941463</td><td>9.799262999170166</td><td>-9.799262999170166</td></tr><tr><td>13.3</td><td>39.900000000000006</td><td>-39.900000000000006</td><td>0.5374944486608269</td><td>0.10927313852372733</td><td>7.148676167188998</td><td>-7.148676167188998</td></tr><tr><td>16.7</td><td>50.099999999999994</td><td>-50.099999999999994</td><td>0.3066125268913661</td><td>0.9750260278694122</td><td>5.120429199085813</td><td>-5.120429199085813</td></tr><tr><td>12.0</td><td>36.0</td><td>-36.0</td><td>0.2997354523401966</td><td>0.9622961847347751</td><td>3.5968254280823593</td><td>-3.5968254280823593</td></tr><tr><td>14.6</td><td>43.8</td><td>-43.8</td><td>0.9874599821727476</td><td>0.2617277043928612</td><td>14.416915739722114</td><td>-14.416915739722114</td></tr><tr><td>21.4</td><td>64.19999999999999</td><td>-64.19999999999999</td><td>0.451436144113477</td><td>0.20014150703401545</td><td>9.660733484028407</td><td>-9.660733484028407</td></tr><tr><td>23.0</td><td>69.0</td><td>-69.0</td><td>0.8258190741163189</td><td>0.38896103811767435</td><td>18.993838704675337</td><td>-18.993838704675337</td></tr><tr><td>23.7</td><td>71.1</td><td>-71.1</td><td>0.8264185835192057</td><td>0.5052266497168828</td><td>19.586120429405174</td><td>-19.586120429405174</td></tr><tr><td>25.0</td><td>75.0</td><td>-75.0</td><td>0.9871171082325573</td><td>0.5301697550272668</td><td>24.677927705813932</td><td>-24.677927705813932</td></tr><tr><td>21.8</td><td>65.4</td><td>-65.4</td><td>0.3956773358612511</td><td>0.9914075926827359</td><td>8.625765921775274</td><td>-8.625765921775274</td></tr><tr><td>20.6</td><td>61.800000000000004</td><td>-61.800000000000004</td><td>0.25478702386078356</td><td>0.5729200975487508</td><td>5.248612691532141</td><td>-5.248612691532141</td></tr><tr><td>21.2</td><td>63.599999999999994</td><td>-63.599999999999994</td><td>0.34181961159415875</td><td>0.49679298672960304</td><td>7.246575765796165</td><td>-7.246575765796165</td></tr><tr><td>19.1</td><td>57.300000000000004</td><td>-57.300000000000004</td><td>0.0773219210558651</td><td>0.9633324477002154</td><td>1.4768486921670236</td><td>-1.4768486921670236</td></tr><tr><td>20.6</td><td>61.800000000000004</td><td>-61.800000000000004</td><td>0.9078950863704699</td><td>0.9074345716659159</td><td>18.70263877923168</td><td>-18.70263877923168</td></tr><tr><td>15.2</td><td>45.599999999999994</td><td>-45.599999999999994</td><td>0.7307644654593252</td><td>0.5281892049590007</td><td>11.107619874981742</td><td>-11.107619874981742</td></tr><tr><td>7.0</td><td>21.0</td><td>-21.0</td><td>0.3550336897141986</td><td>0.8077685037843485</td><td>2.4852358279993902</td><td>-2.4852358279993902</td></tr><tr><td>8.1</td><td>24.299999999999997</td><td>-24.299999999999997</td><td>0.6616195344183486</td><td>0.18803130526472867</td><td>5.359118228788624</td><td>-5.359118228788624</td></tr><tr><td>13.6</td><td>40.8</td><td>-40.8</td><td>0.8290646039815746</td><td>0.07721318779670738</td><td>11.275278614149414</td><td>-11.275278614149414</td></tr><tr><td>20.1</td><td>60.300000000000004</td><td>-60.300000000000004</td><td>0.8031157021239372</td><td>0.27417111839717845</td><td>16.14262561269114</td><td>-16.14262561269114</td></tr><tr><td>21.8</td><td>65.4</td><td>-65.4</td><td>0.6302659918155651</td><td>0.8635328157928103</td><td>13.73979862157932</td><td>-13.73979862157932</td></tr><tr><td>24.5</td><td>73.5</td><td>-73.5</td><td>0.40376459644609874</td><td>0.09501833939286197</td><td>9.89223261292942</td><td>-9.89223261292942</td></tr><tr><td>23.1</td><td>69.30000000000001</td><td>-69.30000000000001</td><td>0.6538369500833412</td><td>0.21757345053379518</td><td>15.103633546925183</td><td>-15.103633546925183</td></tr><tr><td>19.7</td><td>59.099999999999994</td><td>-59.099999999999994</td><td>0.3825507501035774</td><td>0.9916348428034945</td><td>7.536249777040475</td><td>-7.536249777040475</td></tr><tr><td>18.3</td><td>54.900000000000006</td><td>-54.900000000000006</td><td>0.3637389784947853</td><td>0.2924307994067614</td><td>6.656423306454571</td><td>-6.656423306454571</td></tr><tr><td>21.2</td><td>63.599999999999994</td><td>-63.599999999999994</td><td>0.6855216533252213</td><td>0.4600872214466242</td><td>14.53305905049469</td><td>-14.53305905049469</td></tr><tr><td>17.5</td><td>52.5</td><td>-52.5</td><td>0.5510079689106003</td><td>0.5758379591589896</td><td>9.642639455935505</td><td>-9.642639455935505</td></tr><tr><td>16.8</td><td>50.400000000000006</td><td>-50.400000000000006</td><td>0.05552867861579813</td><td>0.9867151433166426</td><td>0.9328818007454087</td><td>-0.9328818007454087</td></tr><tr><td>22.4</td><td>67.19999999999999</td><td>-67.19999999999999</td><td>0.4693401468918398</td><td>0.3013998515317041</td><td>10.51321929037721</td><td>-10.51321929037721</td></tr><tr><td>20.6</td><td>61.800000000000004</td><td>-61.800000000000004</td><td>0.18518341517549186</td><td>0.28938727201100456</td><td>3.8147783526151327</td><td>-3.8147783526151327</td></tr><tr><td>23.9</td><td>71.69999999999999</td><td>-71.69999999999999</td><td>0.39290142297386077</td><td>0.6730856452827781</td><td>9.390344009075271</td><td>-9.390344009075271</td></tr><tr><td>22.0</td><td>66.0</td><td>-66.0</td><td>0.14966019696002408</td><td>0.3224486239718283</td><td>3.2925243331205296</td><td>-3.2925243331205296</td></tr><tr><td>11.9</td><td>35.7</td><td>-35.7</td><td>0.14846454595097158</td><td>0.6613471633259399</td><td>1.766728096816562</td><td>-1.766728096816562</td></tr></tbody></table></div>"
      ]
     },
     "metadata": {
      "application/vnd.databricks.v1+output": {
       "addedWidgets": {},
       "aggData": [],
       "aggError": "",
       "aggOverflow": false,
       "aggSchema": [],
       "aggSeriesLimitReached": false,
       "aggType": "",
       "arguments": {},
       "columnCustomDisplayInfos": {},
       "data": [
        [
         24.0,
         72.0,
         -72.0,
         0.9502423797032892,
         0.7985334687187781,
         22.80581711287894,
         -22.80581711287894
        ],
        [
         21.6,
         64.80000000000001,
         -64.80000000000001,
         0.8724902006601648,
         0.8679617292463396,
         18.84578833425956,
         -18.84578833425956
        ],
        [
         34.7,
         104.10000000000001,
         -104.10000000000001,
         0.5469560487041895,
         0.5068407664758031,
         18.979374890035377,
         -18.979374890035377
        ],
        [
         33.4,
         100.19999999999999,
         -100.19999999999999,
         0.45521698538104904,
         0.7946993123364816,
         15.204247311727038,
         -15.204247311727038
        ],
        [
         36.2,
         108.60000000000001,
         -108.60000000000001,
         0.3726668369477889,
         0.7463770360606422,
         13.490539497509959,
         -13.490539497509959
        ],
        [
         28.7,
         86.1,
         -86.1,
         0.8102793186273827,
         0.27140710651938027,
         23.255016444605882,
         -23.255016444605882
        ],
        [
         22.9,
         68.69999999999999,
         -68.69999999999999,
         0.08157144775154124,
         0.2741303337234684,
         1.8679861535102942,
         -1.8679861535102942
        ],
        [
         27.1,
         81.30000000000001,
         -81.30000000000001,
         0.7895113419776418,
         0.8373499476137246,
         21.395757367594094,
         -21.395757367594094
        ],
        [
         16.5,
         49.5,
         -49.5,
         0.840914329463114,
         0.24589255141259847,
         13.87508643614138,
         -13.87508643614138
        ],
        [
         18.9,
         56.699999999999996,
         -56.699999999999996,
         0.5129710094443797,
         0.9652351351138434,
         9.695152078498776,
         -9.695152078498776
        ],
        [
         15.0,
         45.0,
         -45.0,
         0.1845149544547131,
         0.9672886812333024,
         2.7677243168206966,
         -2.7677243168206966
        ],
        [
         18.9,
         56.699999999999996,
         -56.699999999999996,
         0.15726599967042365,
         0.912233914172175,
         2.972327393771007,
         -2.972327393771007
        ],
        [
         21.7,
         65.1,
         -65.1,
         0.06007628332736825,
         0.569264765604792,
         1.303655348203891,
         -1.303655348203891
        ],
        [
         20.4,
         61.199999999999996,
         -61.199999999999996,
         0.2419528825705074,
         0.4424655687025356,
         4.935838804438351,
         -4.935838804438351
        ],
        [
         18.2,
         54.599999999999994,
         -54.599999999999994,
         0.34345007229791213,
         0.09915391721172861,
         6.250791315822001,
         -6.250791315822001
        ],
        [
         19.9,
         59.699999999999996,
         -59.699999999999996,
         0.7190777421482276,
         0.44821411386180077,
         14.309647068749728,
         -14.309647068749728
        ],
        [
         23.1,
         69.30000000000001,
         -69.30000000000001,
         0.8054093371302236,
         0.07797741260036084,
         18.604955687708166,
         -18.604955687708166
        ],
        [
         17.5,
         52.5,
         -52.5,
         0.15188401452199785,
         0.7806542100996988,
         2.657970254134962,
         -2.657970254134962
        ],
        [
         20.2,
         60.599999999999994,
         -60.599999999999994,
         0.010437318990060729,
         0.6456070269977019,
         0.21083384359922672,
         -0.21083384359922672
        ],
        [
         18.2,
         54.599999999999994,
         -54.599999999999994,
         0.8462319764332871,
         0.033224846121013174,
         15.401421971085824,
         -15.401421971085824
        ],
        [
         13.6,
         40.8,
         -40.8,
         0.9686558465808762,
         0.679432261008017,
         13.173719513499917,
         -13.173719513499917
        ],
        [
         19.6,
         58.800000000000004,
         -58.800000000000004,
         0.3647775811744318,
         0.6265080679221122,
         7.149640591018864,
         -7.149640591018864
        ],
        [
         15.2,
         45.599999999999994,
         -45.599999999999994,
         0.4387225139378774,
         0.6762527816811688,
         6.668582211855736,
         -6.668582211855736
        ],
        [
         14.5,
         43.5,
         -43.5,
         0.007945204649121296,
         0.35116359240280537,
         0.11520546741225879,
         -0.11520546741225879
        ],
        [
         15.6,
         46.8,
         -46.8,
         0.03545882732839678,
         0.5103952348907712,
         0.5531577063229898,
         -0.5531577063229898
        ],
        [
         13.9,
         41.7,
         -41.7,
         0.3214735489726033,
         0.22342788291295623,
         4.468482330719185,
         -4.468482330719185
        ],
        [
         16.6,
         49.800000000000004,
         -49.800000000000004,
         0.8393679778258945,
         0.44501142597261334,
         13.93350843190985,
         -13.93350843190985
        ],
        [
         14.8,
         44.400000000000006,
         -44.400000000000006,
         0.28440649176772315,
         0.8345245819477765,
         4.209216078162303,
         -4.209216078162303
        ],
        [
         18.4,
         55.199999999999996,
         -55.199999999999996,
         0.8494653815614148,
         0.9694740987925653,
         15.630163020730032,
         -15.630163020730032
        ],
        [
         21.0,
         63.0,
         -63.0,
         0.9222638259517473,
         0.10757180884848483,
         19.367540344986693,
         -19.367540344986693
        ],
        [
         12.7,
         38.099999999999994,
         -38.099999999999994,
         0.055210010722704816,
         0.2728931148741863,
         0.7011671361783511,
         -0.7011671361783511
        ],
        [
         14.5,
         43.5,
         -43.5,
         0.17005059532210465,
         0.3527662028119879,
         2.4657336321705174,
         -2.4657336321705174
        ],
        [
         13.2,
         39.599999999999994,
         -39.599999999999994,
         0.9389459161766412,
         0.69576260385497,
         12.394086093531664,
         -12.394086093531664
        ],
        [
         13.1,
         39.3,
         -39.3,
         0.6951832441927671,
         0.9855823659865658,
         9.106900498925249,
         -9.106900498925249
        ],
        [
         13.5,
         40.5,
         -40.5,
         0.6768113408631253,
         0.9905131217383232,
         9.136953101652193,
         -9.136953101652193
        ],
        [
         18.9,
         56.699999999999996,
         -56.699999999999996,
         0.7292062732237298,
         0.08309560551735151,
         13.781998563928491,
         -13.781998563928491
        ],
        [
         20.0,
         60.0,
         -60.0,
         0.4886108344407938,
         0.3838005426197798,
         9.772216688815876,
         -9.772216688815876
        ],
        [
         21.0,
         63.0,
         -63.0,
         0.3300880518744036,
         0.38559420104652886,
         6.931849089362475,
         -6.931849089362475
        ],
        [
         24.7,
         74.1,
         -74.1,
         0.09631975635880563,
         0.27531501508888256,
         2.379097982062499,
         -2.379097982062499
        ],
        [
         30.8,
         92.4,
         -92.4,
         0.11214092824548583,
         0.36689350566387025,
         3.4539405899609634,
         -3.4539405899609634
        ],
        [
         34.9,
         104.69999999999999,
         -104.69999999999999,
         0.8631150677310357,
         0.4352140989762626,
         30.122715863813145,
         -30.122715863813145
        ],
        [
         26.6,
         79.80000000000001,
         -79.80000000000001,
         0.6756960139922025,
         0.6089996242970306,
         17.97351397219259,
         -17.97351397219259
        ],
        [
         25.3,
         75.9,
         -75.9,
         0.3967372323081737,
         0.3777710575473592,
         10.037451977396795,
         -10.037451977396795
        ],
        [
         24.7,
         74.1,
         -74.1,
         0.06540930865582761,
         0.38879598327043297,
         1.615609923798942,
         -1.615609923798942
        ],
        [
         21.2,
         63.599999999999994,
         -63.599999999999994,
         0.45002139783837014,
         0.9344144651893381,
         9.540453634173447,
         -9.540453634173447
        ],
        [
         19.3,
         57.900000000000006,
         -57.900000000000006,
         0.3765341804559311,
         0.527210489617319,
         7.267109682799471,
         -7.267109682799471
        ],
        [
         20.0,
         60.0,
         -60.0,
         0.5519227352914453,
         0.48055128268306146,
         11.038454705828906,
         -11.038454705828906
        ],
        [
         16.6,
         49.800000000000004,
         -49.800000000000004,
         0.529203868653197,
         0.1624577771931014,
         8.784784219643072,
         -8.784784219643072
        ],
        [
         14.4,
         43.2,
         -43.2,
         0.26678951262698314,
         0.5259514055461892,
         3.841768981828557,
         -3.841768981828557
        ],
        [
         19.4,
         58.199999999999996,
         -58.199999999999996,
         0.3455000019127912,
         0.13370208186529908,
         6.702700037108149,
         -6.702700037108149
        ],
        [
         19.7,
         59.099999999999994,
         -59.099999999999994,
         0.9032940067263162,
         0.7681036863571448,
         17.794891932508428,
         -17.794891932508428
        ],
        [
         20.5,
         61.5,
         -61.5,
         0.27537480465196174,
         0.7058749398146719,
         5.645183495365216,
         -5.645183495365216
        ],
        [
         25.0,
         75.0,
         -75.0,
         0.7356388881450849,
         0.7521646702825372,
         18.390972203627122,
         -18.390972203627122
        ],
        [
         23.4,
         70.19999999999999,
         -70.19999999999999,
         0.20463393102469207,
         0.8049985764237442,
         4.788433985977794,
         -4.788433985977794
        ],
        [
         18.9,
         56.699999999999996,
         -56.699999999999996,
         0.9422396805038512,
         0.6116863065271948,
         17.808329961522787,
         -17.808329961522787
        ],
        [
         35.4,
         106.19999999999999,
         -106.19999999999999,
         0.8207568597275993,
         0.2877956965619147,
         29.054792834357013,
         -29.054792834357013
        ],
        [
         24.7,
         74.1,
         -74.1,
         0.49141095085594266,
         0.010331748825023745,
         12.137850486141783,
         -12.137850486141783
        ],
        [
         31.6,
         94.80000000000001,
         -94.80000000000001,
         0.6127698591407785,
         0.3207576342552442,
         19.3635275488486,
         -19.3635275488486
        ],
        [
         23.3,
         69.9,
         -69.9,
         0.5565634526913991,
         0.41675639490730676,
         12.967928447709598,
         -12.967928447709598
        ],
        [
         19.6,
         58.800000000000004,
         -58.800000000000004,
         0.3091603961118886,
         0.6053519491353351,
         6.059543763793017,
         -6.059543763793017
        ],
        [
         18.7,
         56.099999999999994,
         -56.099999999999994,
         0.6535253121385266,
         0.144122512492872,
         12.220923336990447,
         -12.220923336990447
        ],
        [
         16.0,
         48.0,
         -48.0,
         0.15022631668070463,
         0.6499111272375465,
         2.403621066891274,
         -2.403621066891274
        ],
        [
         22.2,
         66.6,
         -66.6,
         0.6464783605323514,
         0.7171902373236535,
         14.351819603818202,
         -14.351819603818202
        ],
        [
         25.0,
         75.0,
         -75.0,
         0.7921070318624411,
         0.15579585087594805,
         19.80267579656103,
         -19.80267579656103
        ],
        [
         33.0,
         99.0,
         -99.0,
         0.43188966640386595,
         0.2193987261947059,
         14.252358991327576,
         -14.252358991327576
        ],
        [
         23.5,
         70.5,
         -70.5,
         0.7952304995540453,
         0.2658843733639976,
         18.687916739520066,
         -18.687916739520066
        ],
        [
         19.4,
         58.199999999999996,
         -58.199999999999996,
         0.9250319447001932,
         0.8098961032711979,
         17.945619727183747,
         -17.945619727183747
        ],
        [
         22.0,
         66.0,
         -66.0,
         0.3755164074524088,
         0.40622425521891203,
         8.261360963952994,
         -8.261360963952994
        ],
        [
         17.4,
         52.199999999999996,
         -52.199999999999996,
         0.43042197920356073,
         0.42874240167004185,
         7.489342438141956,
         -7.489342438141956
        ],
        [
         20.9,
         62.699999999999996,
         -62.699999999999996,
         0.0983042562305334,
         0.8949422200092103,
         2.054558955218148,
         -2.054558955218148
        ],
        [
         24.2,
         72.6,
         -72.6,
         0.4117658207918985,
         0.6583941625272911,
         9.964732863163944,
         -9.964732863163944
        ],
        [
         21.7,
         65.1,
         -65.1,
         0.5780820164781861,
         0.09796228442335275,
         12.544379757576639,
         -12.544379757576639
        ],
        [
         22.8,
         68.4,
         -68.4,
         0.39219298148908477,
         0.82130463719059,
         8.941999977951133,
         -8.941999977951133
        ],
        [
         23.4,
         70.19999999999999,
         -70.19999999999999,
         0.5832112586812357,
         0.2915698130855622,
         13.647143453140915,
         -13.647143453140915
        ],
        [
         24.1,
         72.30000000000001,
         -72.30000000000001,
         0.2107704690478318,
         0.03488113496018397,
         5.079568304052747,
         -5.079568304052747
        ],
        [
         21.4,
         64.19999999999999,
         -64.19999999999999,
         0.5494759704954677,
         0.9927492879921583,
         11.758785768603008,
         -11.758785768603008
        ],
        [
         20.0,
         60.0,
         -60.0,
         0.5716596055904111,
         0.9322549199074635,
         11.433192111808221,
         -11.433192111808221
        ],
        [
         20.8,
         62.400000000000006,
         -62.400000000000006,
         0.4085960903251241,
         0.7328838901838817,
         8.498798678762581,
         -8.498798678762581
        ],
        [
         21.2,
         63.599999999999994,
         -63.599999999999994,
         0.8466930070094691,
         0.20952714013652296,
         17.949891748600745,
         -17.949891748600745
        ],
        [
         20.3,
         60.900000000000006,
         -60.900000000000006,
         0.009718521374224354,
         0.8064937544581713,
         0.1972859838967544,
         -0.1972859838967544
        ],
        [
         28.0,
         84.0,
         -84.0,
         0.9893326549208581,
         0.9993177138218906,
         27.701314337784027,
         -27.701314337784027
        ],
        [
         23.9,
         71.69999999999999,
         -71.69999999999999,
         0.281686826139412,
         0.5733692029027833,
         6.732315144731946,
         -6.732315144731946
        ],
        [
         24.8,
         74.4,
         -74.4,
         0.8033578773184166,
         0.41361202775572026,
         19.92327535749673,
         -19.92327535749673
        ],
        [
         22.9,
         68.69999999999999,
         -68.69999999999999,
         0.2057507160924682,
         0.06314525393686121,
         4.711691398517521,
         -4.711691398517521
        ],
        [
         23.9,
         71.69999999999999,
         -71.69999999999999,
         0.1269523638367872,
         0.038219706431171785,
         3.0341614956992142,
         -3.0341614956992142
        ],
        [
         26.6,
         79.80000000000001,
         -79.80000000000001,
         0.49277035818255643,
         0.6634276027674872,
         13.107691527656002,
         -13.107691527656002
        ],
        [
         22.5,
         67.5,
         -67.5,
         0.5824389118877379,
         0.13730239034175318,
         13.104875517474103,
         -13.104875517474103
        ],
        [
         22.2,
         66.6,
         -66.6,
         0.2530028940502459,
         0.8329162808591392,
         5.616664247915459,
         -5.616664247915459
        ],
        [
         23.6,
         70.80000000000001,
         -70.80000000000001,
         0.9320350993877586,
         0.9246236864777642,
         21.996028345551107,
         -21.996028345551107
        ],
        [
         28.7,
         86.1,
         -86.1,
         0.5155501333658742,
         0.31414107283291615,
         14.79628882760059,
         -14.79628882760059
        ],
        [
         22.6,
         67.80000000000001,
         -67.80000000000001,
         0.5213347156235132,
         0.393540962831451,
         11.782164573091398,
         -11.782164573091398
        ],
        [
         22.0,
         66.0,
         -66.0,
         0.2989588201783161,
         1.3806103214886178E-5,
         6.577094043922954,
         -6.577094043922954
        ],
        [
         22.9,
         68.69999999999999,
         -68.69999999999999,
         0.2949435916207236,
         0.8932332210844834,
         6.75420824811457,
         -6.75420824811457
        ],
        [
         25.0,
         75.0,
         -75.0,
         0.9607888909119869,
         0.40555959736275393,
         24.019722272799672,
         -24.019722272799672
        ],
        [
         20.6,
         61.800000000000004,
         -61.800000000000004,
         0.4726140921987336,
         0.030186068029289803,
         9.735850299293913,
         -9.735850299293913
        ],
        [
         28.4,
         85.19999999999999,
         -85.19999999999999,
         0.2850964679699103,
         0.5687909065963386,
         8.096739690345451,
         -8.096739690345451
        ],
        [
         21.4,
         64.19999999999999,
         -64.19999999999999,
         0.9275779620130545,
         0.41203755399854347,
         19.850168387079364,
         -19.850168387079364
        ],
        [
         38.7,
         116.10000000000001,
         -116.10000000000001,
         0.024271749226414396,
         0.3398330894987579,
         0.9393166950622373,
         -0.9393166950622373
        ],
        [
         43.8,
         131.39999999999998,
         -131.39999999999998,
         0.3081751916686881,
         0.8881261933853934,
         13.49807339508854,
         -13.49807339508854
        ],
        [
         33.2,
         99.60000000000001,
         -99.60000000000001,
         0.5769974120816777,
         0.9558279263449293,
         19.1563140811117,
         -19.1563140811117
        ],
        [
         27.5,
         82.5,
         -82.5,
         0.7797740959019214,
         0.9454434148089668,
         21.443787637302837,
         -21.443787637302837
        ],
        [
         26.5,
         79.5,
         -79.5,
         0.7911274124041524,
         0.9019332599304595,
         20.96487642871004,
         -20.96487642871004
        ],
        [
         18.6,
         55.800000000000004,
         -55.800000000000004,
         0.07453970130107068,
         0.857710547095301,
         1.3864384441999147,
         -1.3864384441999147
        ],
        [
         19.3,
         57.900000000000006,
         -57.900000000000006,
         0.8912102648860416,
         0.7739282527357546,
         17.200358112300602,
         -17.200358112300602
        ],
        [
         20.1,
         60.300000000000004,
         -60.300000000000004,
         0.23055906422899342,
         0.11356061005385287,
         4.634237191002768,
         -4.634237191002768
        ],
        [
         19.5,
         58.5,
         -58.5,
         0.7514739808212846,
         0.9680832862945131,
         14.653742626015049,
         -14.653742626015049
        ],
        [
         19.5,
         58.5,
         -58.5,
         0.5358633589026995,
         0.5487384510808017,
         10.449335498602641,
         -10.449335498602641
        ],
        [
         20.4,
         61.199999999999996,
         -61.199999999999996,
         0.06250095986328497,
         0.5903295227724773,
         1.2750195812110132,
         -1.2750195812110132
        ],
        [
         19.8,
         59.400000000000006,
         -59.400000000000006,
         0.4152595535037984,
         0.5670641185067493,
         8.222139159375208,
         -8.222139159375208
        ],
        [
         19.4,
         58.199999999999996,
         -58.199999999999996,
         0.22132983775209936,
         0.8563091008563439,
         4.293798852390728,
         -4.293798852390728
        ],
        [
         21.7,
         65.1,
         -65.1,
         0.6336858978093045,
         0.6566886149533575,
         13.750983982461907,
         -13.750983982461907
        ],
        [
         22.8,
         68.4,
         -68.4,
         0.10912776661230394,
         0.17499392286015825,
         2.48811307876053,
         -2.48811307876053
        ],
        [
         18.8,
         56.400000000000006,
         -56.400000000000006,
         0.6106122030714174,
         0.7846558511515905,
         11.479509417742648,
         -11.479509417742648
        ],
        [
         18.7,
         56.099999999999994,
         -56.099999999999994,
         0.9960174006040778,
         0.6542267242358717,
         18.625525391296254,
         -18.625525391296254
        ],
        [
         18.5,
         55.5,
         -55.5,
         0.4811464405947783,
         0.056273354902329764,
         8.901209151003398,
         -8.901209151003398
        ],
        [
         18.3,
         54.900000000000006,
         -54.900000000000006,
         0.3450949708843244,
         0.46416391177160565,
         6.315237967183137,
         -6.315237967183137
        ],
        [
         21.2,
         63.599999999999994,
         -63.599999999999994,
         0.8528519503746004,
         0.5951841331833765,
         18.080461347941526,
         -18.080461347941526
        ],
        [
         19.2,
         57.599999999999994,
         -57.599999999999994,
         0.8846419687697604,
         0.874745888379107,
         16.9851258003794,
         -16.9851258003794
        ],
        [
         20.4,
         61.199999999999996,
         -61.199999999999996,
         0.08189735375536311,
         0.09577869680390039,
         1.6707060166094074,
         -1.6707060166094074
        ],
        [
         19.3,
         57.900000000000006,
         -57.900000000000006,
         0.37984529436433245,
         0.4097834368541855,
         7.331014181231617,
         -7.331014181231617
        ],
        [
         22.0,
         66.0,
         -66.0,
         0.17759904862275222,
         0.8547163272528407,
         3.9071790697005486,
         -3.9071790697005486
        ],
        [
         20.3,
         60.900000000000006,
         -60.900000000000006,
         0.6061838315994245,
         0.6862969406957834,
         12.305531781468318,
         -12.305531781468318
        ],
        [
         20.5,
         61.5,
         -61.5,
         0.29579594682004184,
         0.8307832798603071,
         6.063816909810858,
         -6.063816909810858
        ],
        [
         17.3,
         51.900000000000006,
         -51.900000000000006,
         0.7440996133165794,
         0.4371894344938899,
         12.872923310376823,
         -12.872923310376823
        ],
        [
         18.8,
         56.400000000000006,
         -56.400000000000006,
         0.4206078155939935,
         0.20853835369679374,
         7.907426933167079,
         -7.907426933167079
        ],
        [
         21.4,
         64.19999999999999,
         -64.19999999999999,
         0.6199583313205431,
         0.7423995145344268,
         13.267108290259621,
         -13.267108290259621
        ],
        [
         15.7,
         47.099999999999994,
         -47.099999999999994,
         0.26040723950081635,
         0.7413072898820845,
         4.088393660162817,
         -4.088393660162817
        ],
        [
         16.2,
         48.599999999999994,
         -48.599999999999994,
         0.6325105236327606,
         0.8176663153038339,
         10.246670482850721,
         -10.246670482850721
        ],
        [
         18.0,
         54.0,
         -54.0,
         0.021343232895465802,
         0.5014042714942769,
         0.38417819211838444,
         -0.38417819211838444
        ],
        [
         14.3,
         42.900000000000006,
         -42.900000000000006,
         0.499278422377746,
         0.8839593724023229,
         7.139681440001768,
         -7.139681440001768
        ],
        [
         19.2,
         57.599999999999994,
         -57.599999999999994,
         0.5605445160307547,
         0.09934824805929687,
         10.762454707790491,
         -10.762454707790491
        ],
        [
         19.6,
         58.800000000000004,
         -58.800000000000004,
         0.5532638002791188,
         0.22298956209407783,
         10.843970485470729,
         -10.843970485470729
        ],
        [
         23.0,
         69.0,
         -69.0,
         0.6612765433964809,
         0.09163358793952647,
         15.20936049811906,
         -15.20936049811906
        ],
        [
         18.4,
         55.199999999999996,
         -55.199999999999996,
         0.7192411561222716,
         0.22070578518977746,
         13.234037272649797,
         -13.234037272649797
        ],
        [
         15.6,
         46.8,
         -46.8,
         0.3438986622346736,
         0.2718882438573105,
         5.364819130860908,
         -5.364819130860908
        ],
        [
         18.1,
         54.300000000000004,
         -54.300000000000004,
         0.05757504078231446,
         0.16778204806843233,
         1.0421082381598918,
         -1.0421082381598918
        ],
        [
         17.4,
         52.199999999999996,
         -52.199999999999996,
         0.8715677440543917,
         0.14611694505743078,
         15.165278746546415,
         -15.165278746546415
        ],
        [
         17.1,
         51.300000000000004,
         -51.300000000000004,
         0.7426630288392054,
         0.8241735312778641,
         12.699537793150414,
         -12.699537793150414
        ],
        [
         13.3,
         39.900000000000006,
         -39.900000000000006,
         0.8272253030189888,
         0.12062141081480737,
         11.002096530152551,
         -11.002096530152551
        ],
        [
         17.8,
         53.400000000000006,
         -53.400000000000006,
         0.5171439700763875,
         0.6644572764969583,
         9.205162667359698,
         -9.205162667359698
        ],
        [
         14.0,
         42.0,
         -42.0,
         0.5499405392504438,
         0.4029376567105355,
         7.699167549506214,
         -7.699167549506214
        ],
        [
         14.4,
         43.2,
         -43.2,
         0.6535143675972783,
         0.27334970114252655,
         9.410606893400809,
         -9.410606893400809
        ],
        [
         13.4,
         40.2,
         -40.2,
         0.6620661474880745,
         0.30417202520807685,
         8.871686376340199,
         -8.871686376340199
        ],
        [
         15.6,
         46.8,
         -46.8,
         0.8192429950773816,
         0.7932159235436412,
         12.780190723207154,
         -12.780190723207154
        ],
        [
         11.8,
         35.400000000000006,
         -35.400000000000006,
         0.5256675982500126,
         0.7752991539059294,
         6.20287765935015,
         -6.20287765935015
        ],
        [
         13.8,
         41.400000000000006,
         -41.400000000000006,
         0.5670189969532232,
         0.7605885854466481,
         7.824862157954481,
         -7.824862157954481
        ],
        [
         15.6,
         46.8,
         -46.8,
         0.25107107697145237,
         0.8452880696367764,
         3.9167088007546567,
         -3.9167088007546567
        ],
        [
         14.6,
         43.8,
         -43.8,
         0.005378932527663416,
         0.7682684744379142,
         0.07853241490388586,
         -0.07853241490388586
        ],
        [
         17.8,
         53.400000000000006,
         -53.400000000000006,
         0.961028735460552,
         0.41050818329762206,
         17.106311491197825,
         -17.106311491197825
        ],
        [
         15.4,
         46.2,
         -46.2,
         0.9427543912287302,
         0.11080431367225385,
         14.518417624922446,
         -14.518417624922446
        ],
        [
         21.5,
         64.5,
         -64.5,
         0.40685050419339686,
         0.9966482400209372,
         8.747285840158032,
         -8.747285840158032
        ],
        [
         19.6,
         58.800000000000004,
         -58.800000000000004,
         0.5546743241944121,
         0.79983740562066,
         10.871616754210478,
         -10.871616754210478
        ],
        [
         15.3,
         45.900000000000006,
         -45.900000000000006,
         0.9494483905086072,
         0.24812317711957788,
         14.52656037478169,
         -14.52656037478169
        ],
        [
         19.4,
         58.199999999999996,
         -58.199999999999996,
         0.662231935935307,
         0.4852214825812231,
         12.847299557144956,
         -12.847299557144956
        ],
        [
         17.0,
         51.0,
         -51.0,
         0.5487247301393197,
         0.49992574734530415,
         9.328320412368434,
         -9.328320412368434
        ],
        [
         15.6,
         46.8,
         -46.8,
         0.5549134567039475,
         0.1965381885047669,
         8.656649924581581,
         -8.656649924581581
        ],
        [
         13.1,
         39.3,
         -39.3,
         0.6613295820516302,
         0.3124907599877499,
         8.663417524876355,
         -8.663417524876355
        ],
        [
         41.3,
         123.89999999999999,
         -123.89999999999999,
         0.673149273918452,
         0.16870410944352843,
         27.801065012832066,
         -27.801065012832066
        ],
        [
         24.3,
         72.9,
         -72.9,
         0.6469768919464383,
         0.9483943209516255,
         15.72153847429845,
         -15.72153847429845
        ],
        [
         23.3,
         69.9,
         -69.9,
         0.9539350488357349,
         0.955778918968349,
         22.226686637872625,
         -22.226686637872625
        ],
        [
         27.0,
         81.0,
         -81.0,
         0.4453498546018887,
         0.6342339304843598,
         12.024446074250994,
         -12.024446074250994
        ],
        [
         50.0,
         150.0,
         -150.0,
         0.43798827689962005,
         0.6454592992480398,
         21.899413844981,
         -21.899413844981
        ],
        [
         50.0,
         150.0,
         -150.0,
         0.01451331144724155,
         0.36117875713060366,
         0.7256655723620775,
         -0.7256655723620775
        ],
        [
         50.0,
         150.0,
         -150.0,
         0.8838069713897021,
         0.09160452068285607,
         44.1903485694851,
         -44.1903485694851
        ],
        [
         22.7,
         68.1,
         -68.1,
         0.8177432710911143,
         0.7023616968757417,
         18.562772253768294,
         -18.562772253768294
        ],
        [
         25.0,
         75.0,
         -75.0,
         0.4745632806035688,
         0.3900890174502719,
         11.86408201508922,
         -11.86408201508922
        ],
        [
         50.0,
         150.0,
         -150.0,
         0.815659536350951,
         0.7163870919410471,
         40.78297681754755,
         -40.78297681754755
        ],
        [
         23.8,
         71.4,
         -71.4,
         0.6916903520122877,
         0.46070653200701406,
         16.462230377892446,
         -16.462230377892446
        ],
        [
         23.8,
         71.4,
         -71.4,
         0.4098402681608334,
         0.3163756777624871,
         9.754198382227836,
         -9.754198382227836
        ],
        [
         22.3,
         66.9,
         -66.9,
         0.13488529945580974,
         0.35489078489143866,
         3.007942177864557,
         -3.007942177864557
        ],
        [
         17.4,
         52.199999999999996,
         -52.199999999999996,
         0.019564111623329272,
         0.09746645434356593,
         0.3404155422459293,
         -0.3404155422459293
        ],
        [
         19.1,
         57.300000000000004,
         -57.300000000000004,
         0.8377719925473479,
         0.10522387247732723,
         16.001445057654347,
         -16.001445057654347
        ],
        [
         23.1,
         69.30000000000001,
         -69.30000000000001,
         0.813094814325438,
         0.7709667437075077,
         18.78249021091762,
         -18.78249021091762
        ],
        [
         23.6,
         70.80000000000001,
         -70.80000000000001,
         0.08983101018091377,
         0.7319697334583423,
         2.1200118402695654,
         -2.1200118402695654
        ],
        [
         22.6,
         67.80000000000001,
         -67.80000000000001,
         0.9195703496984747,
         0.07513210461856623,
         20.78228990318553,
         -20.78228990318553
        ],
        [
         29.4,
         88.19999999999999,
         -88.19999999999999,
         0.8548351529009605,
         0.04970742830074748,
         25.132153495288236,
         -25.132153495288236
        ],
        [
         23.2,
         69.6,
         -69.6,
         0.6292441807631255,
         0.1564373915069468,
         14.59846499370451,
         -14.59846499370451
        ],
        [
         24.6,
         73.80000000000001,
         -73.80000000000001,
         0.5454335473873233,
         0.7104247278939764,
         13.417665265728154,
         -13.417665265728154
        ],
        [
         29.9,
         89.69999999999999,
         -89.69999999999999,
         0.8618125541066987,
         0.74246022803348,
         25.768195367790288,
         -25.768195367790288
        ],
        [
         37.2,
         111.60000000000001,
         -111.60000000000001,
         0.9661457533521609,
         0.8909616827527296,
         35.94062202470039,
         -35.94062202470039
        ],
        [
         39.8,
         119.39999999999999,
         -119.39999999999999,
         0.5860983020177981,
         0.16405444709229267,
         23.326712420308365,
         -23.326712420308365
        ],
        [
         36.2,
         108.60000000000001,
         -108.60000000000001,
         0.4479432795967526,
         0.4077327138743554,
         16.215546721402447,
         -16.215546721402447
        ],
        [
         37.9,
         113.69999999999999,
         -113.69999999999999,
         0.45838769021791537,
         0.802432366472917,
         17.372893459258993,
         -17.372893459258993
        ],
        [
         32.5,
         97.5,
         -97.5,
         0.9520306457404784,
         0.6365351478806376,
         30.940995986565547,
         -30.940995986565547
        ],
        [
         26.4,
         79.19999999999999,
         -79.19999999999999,
         0.2977131085663447,
         0.22285454116377879,
         7.8596260661515,
         -7.8596260661515
        ],
        [
         29.6,
         88.80000000000001,
         -88.80000000000001,
         0.5757780692958796,
         0.47520388958595483,
         17.043030851158036,
         -17.043030851158036
        ],
        [
         50.0,
         150.0,
         -150.0,
         0.03901441859831656,
         0.052009558815387935,
         1.950720929915828,
         -1.950720929915828
        ],
        [
         32.0,
         96.0,
         -96.0,
         0.744018740603323,
         0.12244848196873137,
         23.808599699306335,
         -23.808599699306335
        ],
        [
         29.8,
         89.4,
         -89.4,
         0.35763308262230353,
         0.07616241010731184,
         10.657465862144646,
         -10.657465862144646
        ],
        [
         34.9,
         104.69999999999999,
         -104.69999999999999,
         0.7748750928261002,
         0.5056438436551253,
         27.043140739630896,
         -27.043140739630896
        ],
        [
         37.0,
         111.0,
         -111.0,
         0.49336950184032013,
         0.47556338745484916,
         18.254671568091844,
         -18.254671568091844
        ],
        [
         30.5,
         91.5,
         -91.5,
         0.9583125195856576,
         0.9502898717479387,
         29.228531847362554,
         -29.228531847362554
        ],
        [
         36.4,
         109.19999999999999,
         -109.19999999999999,
         0.29508043197510525,
         0.9163169519037355,
         10.740927723893831,
         -10.740927723893831
        ],
        [
         31.1,
         93.30000000000001,
         -93.30000000000001,
         0.007458261632874552,
         0.7396722133399581,
         0.2319519367823986,
         -0.2319519367823986
        ],
        [
         29.1,
         87.30000000000001,
         -87.30000000000001,
         0.8060322896049883,
         0.6961768036370015,
         23.45553962750516,
         -23.45553962750516
        ],
        [
         50.0,
         150.0,
         -150.0,
         0.7873085497407318,
         0.023450650574921017,
         39.36542748703659,
         -39.36542748703659
        ],
        [
         33.3,
         99.89999999999999,
         -99.89999999999999,
         0.19180956201005894,
         0.11857291794678115,
         6.387258414934962,
         -6.387258414934962
        ],
        [
         30.3,
         90.9,
         -90.9,
         0.7057755004277046,
         0.26963286648752427,
         21.384997662959453,
         -21.384997662959453
        ],
        [
         34.6,
         103.80000000000001,
         -103.80000000000001,
         0.7530574943266793,
         0.08451031944326326,
         26.055789303703108,
         -26.055789303703108
        ],
        [
         34.9,
         104.69999999999999,
         -104.69999999999999,
         0.47540168153041806,
         0.6111691901654889,
         16.59151868541159,
         -16.59151868541159
        ],
        [
         32.9,
         98.69999999999999,
         -98.69999999999999,
         0.3223329516321517,
         0.40992328174699755,
         10.60475410869779,
         -10.60475410869779
        ],
        [
         24.1,
         72.30000000000001,
         -72.30000000000001,
         0.9140492917192653,
         0.29840437430583866,
         22.028587930434295,
         -22.028587930434295
        ],
        [
         42.3,
         126.89999999999999,
         -126.89999999999999,
         0.14105280589124036,
         0.12663775854182013,
         5.966533689199467,
         -5.966533689199467
        ],
        [
         48.5,
         145.5,
         -145.5,
         0.11513460474695825,
         0.3647522969840741,
         5.584028330227475,
         -5.584028330227475
        ],
        [
         50.0,
         150.0,
         -150.0,
         0.2818486048553329,
         0.38524492607922567,
         14.092430242766646,
         -14.092430242766646
        ],
        [
         22.6,
         67.80000000000001,
         -67.80000000000001,
         0.7535516020509196,
         0.669678170094519,
         17.030266206350785,
         -17.030266206350785
        ],
        [
         24.4,
         73.19999999999999,
         -73.19999999999999,
         0.6100387995990815,
         0.9711960010039673,
         14.884946710217587,
         -14.884946710217587
        ],
        [
         22.5,
         67.5,
         -67.5,
         0.8223672558704561,
         0.05058610945796227,
         18.503263257085262,
         -18.503263257085262
        ],
        [
         24.4,
         73.19999999999999,
         -73.19999999999999,
         0.36059042268263797,
         0.6381244132645271,
         8.798406313456367,
         -8.798406313456367
        ],
        [
         20.0,
         60.0,
         -60.0,
         0.06330415460758942,
         0.5039532286101178,
         1.2660830921517885,
         -1.2660830921517885
        ],
        [
         21.7,
         65.1,
         -65.1,
         0.24663587393020625,
         0.5049637915108649,
         5.351998464285476,
         -5.351998464285476
        ],
        [
         19.3,
         57.900000000000006,
         -57.900000000000006,
         0.10081900895391027,
         0.8262449908881875,
         1.9458068728104683,
         -1.9458068728104683
        ],
        [
         22.4,
         67.19999999999999,
         -67.19999999999999,
         0.8501723296434371,
         0.373031778118427,
         19.043860184012992,
         -19.043860184012992
        ],
        [
         28.1,
         84.30000000000001,
         -84.30000000000001,
         0.18857276335791562,
         0.579063659286573,
         5.298894650357429,
         -5.298894650357429
        ],
        [
         23.7,
         71.1,
         -71.1,
         0.94354108665156,
         0.04978304352573293,
         22.36192375364197,
         -22.36192375364197
        ],
        [
         25.0,
         75.0,
         -75.0,
         0.4951744678623188,
         0.8149127970743405,
         12.37936169655797,
         -12.37936169655797
        ],
        [
         23.3,
         69.9,
         -69.9,
         0.8608465536311003,
         0.8570508959442659,
         20.057724699604638,
         -20.057724699604638
        ],
        [
         28.7,
         86.1,
         -86.1,
         0.9854706608867907,
         0.7724265411010179,
         28.283007967450892,
         -28.283007967450892
        ],
        [
         21.5,
         64.5,
         -64.5,
         0.7981402347296231,
         0.7095942110338073,
         17.160015046686897,
         -17.160015046686897
        ],
        [
         23.0,
         69.0,
         -69.0,
         0.9033481564778684,
         0.5729985189671705,
         20.777007598990973,
         -20.777007598990973
        ],
        [
         26.7,
         80.1,
         -80.1,
         0.8736527393920991,
         0.2738897019835037,
         23.326528141769046,
         -23.326528141769046
        ],
        [
         21.7,
         65.1,
         -65.1,
         0.7815333411137801,
         0.3356993138011617,
         16.95927350216903,
         -16.95927350216903
        ],
        [
         27.5,
         82.5,
         -82.5,
         0.9742314005916094,
         0.6649671456629953,
         26.791363516269257,
         -26.791363516269257
        ],
        [
         30.1,
         90.30000000000001,
         -90.30000000000001,
         0.34572814023168885,
         0.4795068331228013,
         10.406417020973835,
         -10.406417020973835
        ],
        [
         44.8,
         134.39999999999998,
         -134.39999999999998,
         0.6496728539390854,
         0.032338080051201645,
         29.105343856471023,
         -29.105343856471023
        ],
        [
         50.0,
         150.0,
         -150.0,
         0.6419247387475339,
         0.35289447397197926,
         32.096236937376695,
         -32.096236937376695
        ],
        [
         37.6,
         112.80000000000001,
         -112.80000000000001,
         0.3926080824015813,
         0.32456747706665046,
         14.762063898299457,
         -14.762063898299457
        ],
        [
         31.6,
         94.80000000000001,
         -94.80000000000001,
         0.09423905867357818,
         0.4319997493831843,
         2.9779542540850708,
         -2.9779542540850708
        ],
        [
         46.7,
         140.10000000000002,
         -140.10000000000002,
         0.5600951724854205,
         0.14177162126008658,
         26.15644455506914,
         -26.15644455506914
        ],
        [
         31.5,
         94.5,
         -94.5,
         0.6438165702206837,
         0.24713499167425246,
         20.280221961951536,
         -20.280221961951536
        ],
        [
         24.3,
         72.9,
         -72.9,
         0.3841384718050481,
         0.08374983731520114,
         9.334564864862669,
         -9.334564864862669
        ],
        [
         31.7,
         95.1,
         -95.1,
         0.3634107421407027,
         0.16288194112601717,
         11.520120525860275,
         -11.520120525860275
        ],
        [
         41.7,
         125.10000000000001,
         -125.10000000000001,
         0.9329451074990298,
         0.742296776729064,
         38.903810982709544,
         -38.903810982709544
        ],
        [
         48.3,
         144.89999999999998,
         -144.89999999999998,
         0.7249909182675008,
         0.9202094975159772,
         35.01706135232029,
         -35.01706135232029
        ],
        [
         29.0,
         87.0,
         -87.0,
         0.07154651205875617,
         0.2781062832050729,
         2.074848849703929,
         -2.074848849703929
        ],
        [
         24.0,
         72.0,
         -72.0,
         0.9166928807425082,
         0.8048602280460793,
         22.000629137820198,
         -22.000629137820198
        ],
        [
         25.1,
         75.30000000000001,
         -75.30000000000001,
         0.14413917509478502,
         0.7742412396203119,
         3.6178932948791043,
         -3.6178932948791043
        ],
        [
         31.5,
         94.5,
         -94.5,
         0.04400762954202275,
         0.24277645999420838,
         1.3862403305737168,
         -1.3862403305737168
        ],
        [
         23.7,
         71.1,
         -71.1,
         0.25981048368423676,
         0.649463224654801,
         6.157508463316411,
         -6.157508463316411
        ],
        [
         23.3,
         69.9,
         -69.9,
         0.5708619780488221,
         0.23196305190794775,
         13.301084088537555,
         -13.301084088537555
        ],
        [
         22.0,
         66.0,
         -66.0,
         0.125552514312678,
         0.8845737986572296,
         2.7621553148789157,
         -2.7621553148789157
        ],
        [
         20.1,
         60.300000000000004,
         -60.300000000000004,
         0.523081791323418,
         0.8006692931823184,
         10.513944005600703,
         -10.513944005600703
        ],
        [
         22.2,
         66.6,
         -66.6,
         0.46745697416297727,
         0.9498101120523187,
         10.377544826418095,
         -10.377544826418095
        ],
        [
         23.7,
         71.1,
         -71.1,
         0.9070641712745333,
         0.7592132667784594,
         21.49742085920644,
         -21.49742085920644
        ],
        [
         17.6,
         52.800000000000004,
         -52.800000000000004,
         0.0056760437092399085,
         0.01047916067937904,
         0.0998983692826224,
         -0.0998983692826224
        ],
        [
         18.5,
         55.5,
         -55.5,
         0.16377594061004674,
         0.7136468355218533,
         3.029854901285865,
         -3.029854901285865
        ],
        [
         24.3,
         72.9,
         -72.9,
         0.7807386890830101,
         0.9774630815754738,
         18.971950144717148,
         -18.971950144717148
        ],
        [
         20.5,
         61.5,
         -61.5,
         0.9442025982569121,
         0.2789081144450537,
         19.3561532642667,
         -19.3561532642667
        ],
        [
         24.5,
         73.5,
         -73.5,
         0.45085332305492487,
         0.8627114197407638,
         11.045906414845659,
         -11.045906414845659
        ],
        [
         26.2,
         78.6,
         -78.6,
         0.6332652214712486,
         0.5968740634565727,
         16.591548802546715,
         -16.591548802546715
        ],
        [
         24.4,
         73.19999999999999,
         -73.19999999999999,
         0.21871579659936613,
         0.8864673652477796,
         5.336665437024533,
         -5.336665437024533
        ],
        [
         24.8,
         74.4,
         -74.4,
         0.6354050236410802,
         0.8190062771567421,
         15.758044586298789,
         -15.758044586298789
        ],
        [
         29.6,
         88.80000000000001,
         -88.80000000000001,
         0.3723868356365403,
         0.6210721194806375,
         11.022650334841593,
         -11.022650334841593
        ],
        [
         42.8,
         128.39999999999998,
         -128.39999999999998,
         0.5821499924417302,
         0.44048888281621446,
         24.91601967650605,
         -24.91601967650605
        ],
        [
         21.9,
         65.69999999999999,
         -65.69999999999999,
         0.7340008545856638,
         0.618363491102285,
         16.074618715426034,
         -16.074618715426034
        ],
        [
         20.9,
         62.699999999999996,
         -62.699999999999996,
         0.6960890577978927,
         0.10060463877403414,
         14.548261307975956,
         -14.548261307975956
        ],
        [
         44.0,
         132.0,
         -132.0,
         0.5541581085477355,
         0.7662722034799381,
         24.38295677610036,
         -24.38295677610036
        ],
        [
         50.0,
         150.0,
         -150.0,
         0.10925499208432965,
         0.4900371004994567,
         5.462749604216483,
         -5.462749604216483
        ],
        [
         36.0,
         108.0,
         -108.0,
         0.0338485222815198,
         0.7437853899656353,
         1.2185468021347128,
         -1.2185468021347128
        ],
        [
         30.1,
         90.30000000000001,
         -90.30000000000001,
         0.5767656272238656,
         0.8575204974406964,
         17.360645379438356,
         -17.360645379438356
        ],
        [
         33.8,
         101.39999999999999,
         -101.39999999999999,
         0.5724476011219438,
         0.5583961769678726,
         19.3487289179217,
         -19.3487289179217
        ],
        [
         43.1,
         129.3,
         -129.3,
         0.2387351382971663,
         0.4972246142364033,
         10.289484460607868,
         -10.289484460607868
        ],
        [
         48.8,
         146.39999999999998,
         -146.39999999999998,
         0.6086863296202547,
         0.5165896252767287,
         29.703892885468427,
         -29.703892885468427
        ],
        [
         31.0,
         93.0,
         -93.0,
         0.8730849198488561,
         0.3379493606358335,
         27.065632515314537,
         -27.065632515314537
        ],
        [
         36.5,
         109.5,
         -109.5,
         0.19701926489097799,
         0.49646984833364016,
         7.191203168520697,
         -7.191203168520697
        ],
        [
         22.8,
         68.4,
         -68.4,
         0.1776682835142278,
         0.8959534755809481,
         4.050836864124395,
         -4.050836864124395
        ],
        [
         30.7,
         92.1,
         -92.1,
         0.10418185372575017,
         0.4756898855028271,
         3.19838290938053,
         -3.19838290938053
        ],
        [
         50.0,
         150.0,
         -150.0,
         0.6574868061349483,
         0.18782300329003865,
         32.87434030674741,
         -32.87434030674741
        ],
        [
         43.5,
         130.5,
         -130.5,
         0.806669055317857,
         0.5993055029318137,
         35.09010390632678,
         -35.09010390632678
        ],
        [
         20.7,
         62.099999999999994,
         -62.099999999999994,
         0.3429697993308024,
         0.2707048057562904,
         7.09947484614761,
         -7.09947484614761
        ],
        [
         21.1,
         63.300000000000004,
         -63.300000000000004,
         0.5482341038991075,
         0.6192157121339383,
         11.56773959227117,
         -11.56773959227117
        ],
        [
         25.2,
         75.6,
         -75.6,
         0.3459806232496395,
         0.22202654229302377,
         8.718711705890916,
         -8.718711705890916
        ],
        [
         24.4,
         73.19999999999999,
         -73.19999999999999,
         0.5922080067569728,
         0.1978467995347729,
         14.449875364870136,
         -14.449875364870136
        ],
        [
         35.2,
         105.60000000000001,
         -105.60000000000001,
         0.28364819187506296,
         0.7396970139111531,
         9.984416354002217,
         -9.984416354002217
        ],
        [
         32.4,
         97.19999999999999,
         -97.19999999999999,
         0.7509745942635946,
         0.2826149578964129,
         24.331576854140465,
         -24.331576854140465
        ],
        [
         32.0,
         96.0,
         -96.0,
         0.5837817376390667,
         0.49963914617783356,
         18.681015604450135,
         -18.681015604450135
        ],
        [
         33.2,
         99.60000000000001,
         -99.60000000000001,
         0.8178315055502844,
         0.6957512576642036,
         27.152005984269444,
         -27.152005984269444
        ],
        [
         33.1,
         99.30000000000001,
         -99.30000000000001,
         0.4906518352238892,
         0.14554479409429877,
         16.240575745910736,
         -16.240575745910736
        ],
        [
         29.1,
         87.30000000000001,
         -87.30000000000001,
         0.4062325896662501,
         0.22236655716126885,
         11.821368359287877,
         -11.821368359287877
        ],
        [
         35.1,
         105.30000000000001,
         -105.30000000000001,
         0.8846364368353338,
         0.19390629492652378,
         31.05073893292022,
         -31.05073893292022
        ],
        [
         45.4,
         136.2,
         -136.2,
         0.15575752677081212,
         0.8571052022220775,
         7.07139171539487,
         -7.07139171539487
        ],
        [
         35.4,
         106.19999999999999,
         -106.19999999999999,
         0.6205494632514602,
         0.545624367527153,
         21.96745099910169,
         -21.96745099910169
        ],
        [
         46.0,
         138.0,
         -138.0,
         0.3513215824810838,
         0.11365900222898984,
         16.160792794129854,
         -16.160792794129854
        ],
        [
         50.0,
         150.0,
         -150.0,
         0.8419521978859469,
         0.4945028240100898,
         42.09760989429734,
         -42.09760989429734
        ],
        [
         32.2,
         96.60000000000001,
         -96.60000000000001,
         0.46494889956569463,
         0.5127686451618146,
         14.971354566015368,
         -14.971354566015368
        ],
        [
         22.0,
         66.0,
         -66.0,
         0.46793400463562684,
         0.6821650079815196,
         10.294548101983791,
         -10.294548101983791
        ],
        [
         20.1,
         60.300000000000004,
         -60.300000000000004,
         0.7143816807373091,
         0.6387573633441272,
         14.359071782819914,
         -14.359071782819914
        ],
        [
         23.2,
         69.6,
         -69.6,
         0.48268621099927445,
         0.35468422871629146,
         11.198320095183167,
         -11.198320095183167
        ],
        [
         22.3,
         66.9,
         -66.9,
         0.43208600575464406,
         0.01821058491289984,
         9.635517928328563,
         -9.635517928328563
        ],
        [
         24.8,
         74.4,
         -74.4,
         0.4126798259773439,
         0.8749351080634036,
         10.234459684238129,
         -10.234459684238129
        ],
        [
         28.5,
         85.5,
         -85.5,
         0.8998703058760814,
         0.2739724486263325,
         25.64630371746832,
         -25.64630371746832
        ],
        [
         37.3,
         111.89999999999999,
         -111.89999999999999,
         0.14429501225801666,
         0.4012148126445946,
         5.3822039572240215,
         -5.3822039572240215
        ],
        [
         27.9,
         83.69999999999999,
         -83.69999999999999,
         0.23247987867222797,
         0.044588341980738466,
         6.48618861495516,
         -6.48618861495516
        ],
        [
         23.9,
         71.69999999999999,
         -71.69999999999999,
         0.059898246414313405,
         0.874708088985829,
         1.4315680893020903,
         -1.4315680893020903
        ],
        [
         21.7,
         65.1,
         -65.1,
         0.0014689314675067067,
         0.18781001199031788,
         0.03187581284489553,
         -0.03187581284489553
        ],
        [
         28.6,
         85.80000000000001,
         -85.80000000000001,
         0.18077636636511651,
         0.3974562711430555,
         5.170204078042333,
         -5.170204078042333
        ],
        [
         27.1,
         81.30000000000001,
         -81.30000000000001,
         0.182327956756005,
         0.7553206618777751,
         4.941087628087735,
         -4.941087628087735
        ],
        [
         20.3,
         60.900000000000006,
         -60.900000000000006,
         0.9420182714990615,
         0.16687413998520462,
         19.122970911430947,
         -19.122970911430947
        ],
        [
         22.5,
         67.5,
         -67.5,
         0.5646363104985088,
         0.5053568974396301,
         12.704316986216448,
         -12.704316986216448
        ],
        [
         29.0,
         87.0,
         -87.0,
         0.6331930820746432,
         0.10537963960378438,
         18.362599380164653,
         -18.362599380164653
        ],
        [
         24.8,
         74.4,
         -74.4,
         0.5419546189671236,
         0.4393073830670109,
         13.440474550384666,
         -13.440474550384666
        ],
        [
         22.0,
         66.0,
         -66.0,
         0.6409065008302963,
         0.7508787439012441,
         14.099943018266519,
         -14.099943018266519
        ],
        [
         26.4,
         79.19999999999999,
         -79.19999999999999,
         0.5925394842755629,
         0.40521107443519144,
         15.64304238487486,
         -15.64304238487486
        ],
        [
         33.1,
         99.30000000000001,
         -99.30000000000001,
         0.8385338283424497,
         0.8062152603564793,
         27.755469718135085,
         -27.755469718135085
        ],
        [
         36.1,
         108.30000000000001,
         -108.30000000000001,
         0.42289217471952667,
         0.11718907129750444,
         15.266407507374913,
         -15.266407507374913
        ],
        [
         28.4,
         85.19999999999999,
         -85.19999999999999,
         0.8862340642049775,
         0.2568469781769557,
         25.16904742342136,
         -25.16904742342136
        ],
        [
         33.4,
         100.19999999999999,
         -100.19999999999999,
         0.6754551623572886,
         0.8530331859687469,
         22.56020242273344,
         -22.56020242273344
        ],
        [
         28.2,
         84.6,
         -84.6,
         0.07310146254759875,
         0.15067316506013728,
         2.0614612438422846,
         -2.0614612438422846
        ],
        [
         22.8,
         68.4,
         -68.4,
         0.6000484725903077,
         0.6286857264760838,
         13.681105175059015,
         -13.681105175059015
        ],
        [
         20.3,
         60.900000000000006,
         -60.900000000000006,
         0.28679103022090724,
         0.9604432763854659,
         5.8218579134844175,
         -5.8218579134844175
        ],
        [
         16.1,
         48.300000000000004,
         -48.300000000000004,
         0.44932467027043455,
         0.308733043673708,
         7.234127191353997,
         -7.234127191353997
        ],
        [
         22.1,
         66.30000000000001,
         -66.30000000000001,
         0.5992178580792907,
         0.061351856633768964,
         13.242714663552325,
         -13.242714663552325
        ],
        [
         19.4,
         58.199999999999996,
         -58.199999999999996,
         0.8060862911572101,
         0.38203548978517066,
         15.638074048449875,
         -15.638074048449875
        ],
        [
         21.6,
         64.80000000000001,
         -64.80000000000001,
         0.7336200294524898,
         0.4662789771015109,
         15.84619263617378,
         -15.84619263617378
        ],
        [
         23.8,
         71.4,
         -71.4,
         0.2866398195922847,
         0.9145555563190637,
         6.8220277062963754,
         -6.8220277062963754
        ],
        [
         16.2,
         48.599999999999994,
         -48.599999999999994,
         0.6548390847126561,
         0.6097793166289867,
         10.608393172345028,
         -10.608393172345028
        ],
        [
         17.8,
         53.400000000000006,
         -53.400000000000006,
         0.10427955851509718,
         0.6733630674049581,
         1.85617614156873,
         -1.85617614156873
        ],
        [
         19.8,
         59.400000000000006,
         -59.400000000000006,
         0.0677160109978906,
         0.6837387321670552,
         1.3407770177582339,
         -1.3407770177582339
        ],
        [
         23.1,
         69.30000000000001,
         -69.30000000000001,
         0.9650597937477645,
         0.17233460246995658,
         22.29288123557336,
         -22.29288123557336
        ],
        [
         21.0,
         63.0,
         -63.0,
         0.06733300905332318,
         0.7758921284569019,
         1.4139931901197866,
         -1.4139931901197866
        ],
        [
         23.8,
         71.4,
         -71.4,
         0.7007220074802242,
         0.5126691619667869,
         16.677183778029335,
         -16.677183778029335
        ],
        [
         23.1,
         69.30000000000001,
         -69.30000000000001,
         0.18875905507018953,
         0.9825292783661247,
         4.360334172121378,
         -4.360334172121378
        ],
        [
         20.4,
         61.199999999999996,
         -61.199999999999996,
         0.6920056156449833,
         0.5338240612972794,
         14.116914559157658,
         -14.116914559157658
        ],
        [
         18.5,
         55.5,
         -55.5,
         0.2698168283360711,
         0.8886962640477288,
         4.991611324217316,
         -4.991611324217316
        ],
        [
         25.0,
         75.0,
         -75.0,
         0.7729521049712922,
         0.12196580039072435,
         19.323802624282305,
         -19.323802624282305
        ],
        [
         24.6,
         73.80000000000001,
         -73.80000000000001,
         0.028895644466858883,
         0.39431922127744934,
         0.7108328538847286,
         -0.7108328538847286
        ],
        [
         23.0,
         69.0,
         -69.0,
         0.5902249387919115,
         0.6145090620185033,
         13.575173592213964,
         -13.575173592213964
        ],
        [
         22.2,
         66.6,
         -66.6,
         0.011237719721222006,
         0.21788456764942288,
         0.24947737781112853,
         -0.24947737781112853
        ],
        [
         19.3,
         57.900000000000006,
         -57.900000000000006,
         0.8922173366987758,
         0.9409365101593536,
         17.219794598286374,
         -17.219794598286374
        ],
        [
         22.6,
         67.80000000000001,
         -67.80000000000001,
         0.9752491448083712,
         0.9898834883390256,
         22.04063067266919,
         -22.04063067266919
        ],
        [
         19.8,
         59.400000000000006,
         -59.400000000000006,
         0.9248253243463849,
         0.7986084269610589,
         18.311541422058422,
         -18.311541422058422
        ],
        [
         17.1,
         51.300000000000004,
         -51.300000000000004,
         0.7865169267644929,
         0.6358813322166387,
         13.44943944767283,
         -13.44943944767283
        ],
        [
         19.4,
         58.199999999999996,
         -58.199999999999996,
         0.8212095716914161,
         0.9085323030436636,
         15.93146569081347,
         -15.93146569081347
        ],
        [
         22.2,
         66.6,
         -66.6,
         0.6461185025932021,
         0.473890838868153,
         14.343830757569087,
         -14.343830757569087
        ],
        [
         20.7,
         62.099999999999994,
         -62.099999999999994,
         0.1924424476486647,
         0.11736073576223205,
         3.983558666327359,
         -3.983558666327359
        ],
        [
         21.1,
         63.300000000000004,
         -63.300000000000004,
         0.3649447132349136,
         0.40161106639954647,
         7.700333449256678,
         -7.700333449256678
        ],
        [
         19.5,
         58.5,
         -58.5,
         0.6992190002813027,
         0.5771621201793821,
         13.634770505485402,
         -13.634770505485402
        ],
        [
         18.5,
         55.5,
         -55.5,
         0.12450508722631437,
         0.8994434144562846,
         2.303344113686816,
         -2.303344113686816
        ],
        [
         20.6,
         61.800000000000004,
         -61.800000000000004,
         0.8480701346572509,
         0.5301638209642983,
         17.47024477393937,
         -17.47024477393937
        ],
        [
         19.0,
         57.0,
         -57.0,
         0.715276083636401,
         0.925889790603591,
         13.59024558909162,
         -13.59024558909162
        ],
        [
         18.7,
         56.099999999999994,
         -56.099999999999994,
         0.19103969144899746,
         0.0158533547663936,
         3.5724422300962524,
         -3.5724422300962524
        ],
        [
         32.7,
         98.10000000000001,
         -98.10000000000001,
         0.9805688425069256,
         0.36798854099183165,
         32.06460114997647,
         -32.06460114997647
        ],
        [
         16.5,
         49.5,
         -49.5,
         0.00691448832181818,
         0.6278903363882649,
         0.11408905730999996,
         -0.11408905730999996
        ],
        [
         23.9,
         71.69999999999999,
         -71.69999999999999,
         0.5597090873258603,
         0.9155222971084023,
         13.377047187088062,
         -13.377047187088062
        ],
        [
         31.2,
         93.6,
         -93.6,
         0.5452263487969994,
         0.36205828182118915,
         17.01106208246638,
         -17.01106208246638
        ],
        [
         17.5,
         52.5,
         -52.5,
         0.874801328112305,
         0.4285678147298132,
         15.309023241965338,
         -15.309023241965338
        ],
        [
         17.2,
         51.599999999999994,
         -51.599999999999994,
         0.9986521352987948,
         0.7314621503133685,
         17.17681672713927,
         -17.17681672713927
        ],
        [
         23.1,
         69.30000000000001,
         -69.30000000000001,
         0.4587090728804315,
         0.824696852436432,
         10.596179583537968,
         -10.596179583537968
        ],
        [
         24.5,
         73.5,
         -73.5,
         0.8660027452719464,
         0.7984865355734915,
         21.217067259162686,
         -21.217067259162686
        ],
        [
         26.6,
         79.80000000000001,
         -79.80000000000001,
         0.5022079938207723,
         0.5130465963180316,
         13.358732635632544,
         -13.358732635632544
        ],
        [
         22.9,
         68.69999999999999,
         -68.69999999999999,
         0.7952688531999531,
         0.07827068245656421,
         18.211656738278926,
         -18.211656738278926
        ],
        [
         24.1,
         72.30000000000001,
         -72.30000000000001,
         0.7823706633313511,
         0.5213003812155432,
         18.85513298628556,
         -18.85513298628556
        ],
        [
         18.6,
         55.800000000000004,
         -55.800000000000004,
         0.5184935228883626,
         0.39942530318300073,
         9.643979525723545,
         -9.643979525723545
        ],
        [
         30.1,
         90.30000000000001,
         -90.30000000000001,
         0.4807666327423765,
         0.7656595646009904,
         14.471075645545534,
         -14.471075645545534
        ],
        [
         18.2,
         54.599999999999994,
         -54.599999999999994,
         0.3544301060014583,
         0.621927916437744,
         6.450627929226541,
         -6.450627929226541
        ],
        [
         20.6,
         61.800000000000004,
         -61.800000000000004,
         0.04920013788324673,
         0.9834109728987821,
         1.0135228403948828,
         -1.0135228403948828
        ],
        [
         17.8,
         53.400000000000006,
         -53.400000000000006,
         0.3686165424495701,
         0.503494329514271,
         6.561374455602348,
         -6.561374455602348
        ],
        [
         21.7,
         65.1,
         -65.1,
         0.26276779162762076,
         0.7125554331933904,
         5.70206107831937,
         -5.70206107831937
        ],
        [
         22.7,
         68.1,
         -68.1,
         0.7412458821138157,
         0.9510998861310512,
         16.826281523983617,
         -16.826281523983617
        ],
        [
         22.6,
         67.80000000000001,
         -67.80000000000001,
         0.7780042667132944,
         0.4421435514955623,
         17.582896427720453,
         -17.582896427720453
        ],
        [
         25.0,
         75.0,
         -75.0,
         0.4181756208940681,
         0.14467714672088694,
         10.454390522351703,
         -10.454390522351703
        ],
        [
         19.9,
         59.699999999999996,
         -59.699999999999996,
         0.301431837203169,
         0.005047859263675902,
         5.998493560343063,
         -5.998493560343063
        ],
        [
         20.8,
         62.400000000000006,
         -62.400000000000006,
         0.17097984678894218,
         0.5278319760272221,
         3.5563808132099974,
         -3.5563808132099974
        ],
        [
         16.8,
         50.400000000000006,
         -50.400000000000006,
         0.655251278600807,
         0.8566779243821917,
         11.008221480493559,
         -11.008221480493559
        ],
        [
         21.9,
         65.69999999999999,
         -65.69999999999999,
         0.335901118402566,
         0.353453599032309,
         7.356234493016195,
         -7.356234493016195
        ],
        [
         27.5,
         82.5,
         -82.5,
         0.2689168266874983,
         0.540410063000669,
         7.395212733906202,
         -7.395212733906202
        ],
        [
         21.9,
         65.69999999999999,
         -65.69999999999999,
         0.7696252755289047,
         0.7461772542612461,
         16.85479353408301,
         -16.85479353408301
        ],
        [
         23.1,
         69.30000000000001,
         -69.30000000000001,
         0.6701935596492569,
         0.9396160620911327,
         15.481471227897835,
         -15.481471227897835
        ],
        [
         50.0,
         150.0,
         -150.0,
         0.13093793128911313,
         0.9337446397418275,
         6.546896564455657,
         -6.546896564455657
        ],
        [
         50.0,
         150.0,
         -150.0,
         0.09483600696924432,
         0.16514818909823736,
         4.741800348462216,
         -4.741800348462216
        ],
        [
         50.0,
         150.0,
         -150.0,
         0.3703349998972475,
         0.25472063312635795,
         18.516749994862376,
         -18.516749994862376
        ],
        [
         50.0,
         150.0,
         -150.0,
         0.4384040816219268,
         0.8829511613873152,
         21.92020408109634,
         -21.92020408109634
        ],
        [
         50.0,
         150.0,
         -150.0,
         0.6095306262869172,
         0.159548628987771,
         30.476531314345863,
         -30.476531314345863
        ],
        [
         13.8,
         41.400000000000006,
         -41.400000000000006,
         0.48761403891858723,
         0.579883311252496,
         6.729073737076504,
         -6.729073737076504
        ],
        [
         13.8,
         41.400000000000006,
         -41.400000000000006,
         0.39855792084931463,
         0.7584254909245453,
         5.500099307720542,
         -5.500099307720542
        ],
        [
         15.0,
         45.0,
         -45.0,
         0.5817706428708463,
         0.4104532036417431,
         8.726559643062695,
         -8.726559643062695
        ],
        [
         13.9,
         41.7,
         -41.7,
         0.34221196088992256,
         0.4160287858805417,
         4.756746256369924,
         -4.756746256369924
        ],
        [
         13.3,
         39.900000000000006,
         -39.900000000000006,
         0.8211644323459076,
         0.3111377755745165,
         10.921486950200572,
         -10.921486950200572
        ],
        [
         13.1,
         39.3,
         -39.3,
         0.850347441911421,
         0.5743282774647265,
         11.139551489039615,
         -11.139551489039615
        ],
        [
         10.2,
         30.599999999999998,
         -30.599999999999998,
         0.4930753619512458,
         0.8017798387578315,
         5.0293686919027065,
         -5.0293686919027065
        ],
        [
         10.4,
         31.200000000000003,
         -31.200000000000003,
         0.8339016684491922,
         0.012047413029610432,
         8.672577351871599,
         -8.672577351871599
        ],
        [
         10.9,
         32.7,
         -32.7,
         0.5074424056323721,
         0.8225095710973505,
         5.531122221392856,
         -5.531122221392856
        ],
        [
         11.3,
         33.900000000000006,
         -33.900000000000006,
         0.28619051371625503,
         0.5557554699037389,
         3.2339528049936823,
         -3.2339528049936823
        ],
        [
         12.3,
         36.900000000000006,
         -36.900000000000006,
         0.3138503358145869,
         0.10763786545979537,
         3.8603591305194187,
         -3.8603591305194187
        ],
        [
         8.8,
         26.400000000000002,
         -26.400000000000002,
         0.22257965418952663,
         0.88001518107452,
         1.9587009568678346,
         -1.9587009568678346
        ],
        [
         7.2,
         21.6,
         -21.6,
         0.6205311782804485,
         0.16567632092830198,
         4.467824483619229,
         -4.467824483619229
        ],
        [
         10.5,
         31.5,
         -31.5,
         0.6235436791211839,
         0.3052856932613148,
         6.547208630772431,
         -6.547208630772431
        ],
        [
         7.4,
         22.200000000000003,
         -22.200000000000003,
         0.27177501669617976,
         0.7537141544012513,
         2.0111351235517305,
         -2.0111351235517305
        ],
        [
         10.2,
         30.599999999999998,
         -30.599999999999998,
         0.4067866381436567,
         0.7102126592758322,
         4.149223709065298,
         -4.149223709065298
        ],
        [
         11.5,
         34.5,
         -34.5,
         0.7056819434801154,
         0.5468892863215568,
         8.115342350021328,
         -8.115342350021328
        ],
        [
         15.1,
         45.3,
         -45.3,
         0.4899977188859731,
         0.13238549082580464,
         7.398965555178194,
         -7.398965555178194
        ],
        [
         23.2,
         69.6,
         -69.6,
         0.05060748976476259,
         0.16314422960449315,
         1.174093762542492,
         -1.174093762542492
        ],
        [
         9.7,
         29.099999999999998,
         -29.099999999999998,
         0.7687321865982761,
         0.43054324182716297,
         7.456702210003278,
         -7.456702210003278
        ],
        [
         13.8,
         41.400000000000006,
         -41.400000000000006,
         0.17391724819888166,
         0.9776052663000357,
         2.400058025144567,
         -2.400058025144567
        ],
        [
         12.7,
         38.099999999999994,
         -38.099999999999994,
         0.2567024143793618,
         0.4422951642973093,
         3.260120662617895,
         -3.260120662617895
        ],
        [
         13.1,
         39.3,
         -39.3,
         0.6961449344703885,
         0.1387994045076978,
         9.119498641562089,
         -9.119498641562089
        ],
        [
         12.5,
         37.5,
         -37.5,
         0.7487040466029901,
         0.1170534702749414,
         9.358800582537375,
         -9.358800582537375
        ],
        [
         8.5,
         25.5,
         -25.5,
         0.52807290409611,
         0.30685815101025793,
         4.488619684816935,
         -4.488619684816935
        ],
        [
         5.0,
         15.0,
         -15.0,
         0.22452620522496025,
         0.9178228651593838,
         1.1226310261248011,
         -1.1226310261248011
        ],
        [
         6.3,
         18.9,
         -18.9,
         0.09624803772716817,
         0.39652039853428445,
         0.6063626376811594,
         -0.6063626376811594
        ],
        [
         5.6,
         16.799999999999997,
         -16.799999999999997,
         0.2836141018804158,
         0.2716386205075628,
         1.5882389705303284,
         -1.5882389705303284
        ],
        [
         7.2,
         21.6,
         -21.6,
         0.23994347789094073,
         0.2330156704794124,
         1.7275930408147733,
         -1.7275930408147733
        ],
        [
         12.1,
         36.3,
         -36.3,
         0.04599662681459282,
         0.18156607379592515,
         0.5565591844565732,
         -0.5565591844565732
        ],
        [
         8.3,
         24.900000000000002,
         -24.900000000000002,
         0.9313373760627264,
         0.39177787704385103,
         7.73010022132063,
         -7.73010022132063
        ],
        [
         8.5,
         25.5,
         -25.5,
         0.12734013628022156,
         0.7803636884350443,
         1.0823911583818833,
         -1.0823911583818833
        ],
        [
         5.0,
         15.0,
         -15.0,
         0.5344726760886547,
         0.6338403792365409,
         2.672363380443273,
         -2.672363380443273
        ],
        [
         11.9,
         35.7,
         -35.7,
         0.30116880915314714,
         0.669779856764933,
         3.583908828922451,
         -3.583908828922451
        ],
        [
         27.9,
         83.69999999999999,
         -83.69999999999999,
         0.4278811414602124,
         0.7132233387040676,
         11.937883846739926,
         -11.937883846739926
        ],
        [
         17.2,
         51.599999999999994,
         -51.599999999999994,
         0.46434188729442893,
         0.4421304161129529,
         7.986680461464178,
         -7.986680461464178
        ],
        [
         27.5,
         82.5,
         -82.5,
         0.9014821870101644,
         0.41720660886797745,
         24.79076014277952,
         -24.79076014277952
        ],
        [
         15.0,
         45.0,
         -45.0,
         0.5157993691825588,
         0.3288345252261753,
         7.736990537738381,
         -7.736990537738381
        ],
        [
         17.2,
         51.599999999999994,
         -51.599999999999994,
         0.5620178110955738,
         0.8125870231950661,
         9.666706350843869,
         -9.666706350843869
        ],
        [
         17.9,
         53.699999999999996,
         -53.699999999999996,
         0.7837600275033102,
         0.6272278308115489,
         14.029304492309251,
         -14.029304492309251
        ],
        [
         16.3,
         48.900000000000006,
         -48.900000000000006,
         0.9158902275394809,
         0.5645103395216143,
         14.92901070889354,
         -14.92901070889354
        ],
        [
         7.0,
         21.0,
         -21.0,
         0.6935737419149416,
         0.3812917284764039,
         4.855016193404591,
         -4.855016193404591
        ],
        [
         7.2,
         21.6,
         -21.6,
         0.7815076962288493,
         0.4869353783654641,
         5.626855412847715,
         -5.626855412847715
        ],
        [
         7.5,
         22.5,
         -22.5,
         0.6833470914692995,
         0.07131819849446852,
         5.1251031860197465,
         -5.1251031860197465
        ],
        [
         10.4,
         31.200000000000003,
         -31.200000000000003,
         0.37074862527799934,
         0.4846047683473357,
         3.8557857028911933,
         -3.8557857028911933
        ],
        [
         8.8,
         26.400000000000002,
         -26.400000000000002,
         0.010150514161229696,
         0.4464891449229783,
         0.08932452461882133,
         -0.08932452461882133
        ],
        [
         8.4,
         25.200000000000003,
         -25.200000000000003,
         0.9315057382327521,
         0.2176129941906194,
         7.824648201155117,
         -7.824648201155117
        ],
        [
         16.7,
         50.099999999999994,
         -50.099999999999994,
         0.04399954622017255,
         0.6399772985781004,
         0.7347924218768815,
         -0.7347924218768815
        ],
        [
         14.2,
         42.599999999999994,
         -42.599999999999994,
         0.32133387232423405,
         0.6580208709388229,
         4.562940987004123,
         -4.562940987004123
        ],
        [
         20.8,
         62.400000000000006,
         -62.400000000000006,
         0.8622632527648907,
         0.8208436865500003,
         17.935075657509728,
         -17.935075657509728
        ],
        [
         13.4,
         40.2,
         -40.2,
         0.19948006002133234,
         0.05355850488291358,
         2.6730328042858535,
         -2.6730328042858535
        ],
        [
         11.7,
         35.099999999999994,
         -35.099999999999994,
         0.38554819846060695,
         0.001984736040997581,
         4.5109139219891015,
         -4.5109139219891015
        ],
        [
         8.3,
         24.900000000000002,
         -24.900000000000002,
         0.8206820882958263,
         0.06353312518350662,
         6.811661332855359,
         -6.811661332855359
        ],
        [
         10.2,
         30.599999999999998,
         -30.599999999999998,
         0.15696387459622085,
         0.15363045164044953,
         1.6010315208814525,
         -1.6010315208814525
        ],
        [
         10.9,
         32.7,
         -32.7,
         0.3084205389983464,
         0.07564211167680546,
         3.361783875081976,
         -3.361783875081976
        ],
        [
         11.0,
         33.0,
         -33.0,
         0.9148313204629626,
         0.9672180730692702,
         10.063144525092588,
         -10.063144525092588
        ],
        [
         9.5,
         28.5,
         -28.5,
         0.34388429599294024,
         0.01779224541183866,
         3.266900811932932,
         -3.266900811932932
        ],
        [
         14.5,
         43.5,
         -43.5,
         0.16429952556630167,
         0.6304509146705218,
         2.3823431207113743,
         -2.3823431207113743
        ],
        [
         14.1,
         42.3,
         -42.3,
         0.05568300224588729,
         0.6533780307270517,
         0.7851303316670109,
         -0.7851303316670109
        ],
        [
         16.1,
         48.300000000000004,
         -48.300000000000004,
         0.8011439670584276,
         0.9800327959835669,
         12.898417869640685,
         -12.898417869640685
        ],
        [
         14.3,
         42.900000000000006,
         -42.900000000000006,
         0.7161454016075218,
         0.8147860498349871,
         10.240879242987562,
         -10.240879242987562
        ],
        [
         11.7,
         35.099999999999994,
         -35.099999999999994,
         0.2597610944557175,
         0.4799704191620957,
         3.0392048051318943,
         -3.0392048051318943
        ],
        [
         13.4,
         40.2,
         -40.2,
         0.977312596567419,
         0.8633741121903149,
         13.095988794003414,
         -13.095988794003414
        ],
        [
         9.6,
         28.799999999999997,
         -28.799999999999997,
         0.08790373617321867,
         0.8283230708165791,
         0.8438758672628992,
         -0.8438758672628992
        ],
        [
         8.7,
         26.099999999999998,
         -26.099999999999998,
         0.4113188638506885,
         0.6439637592754239,
         3.5784741155009896,
         -3.5784741155009896
        ],
        [
         8.4,
         25.200000000000003,
         -25.200000000000003,
         0.204348098301811,
         0.6881812977562908,
         1.7165240257352126,
         -1.7165240257352126
        ],
        [
         12.8,
         38.400000000000006,
         -38.400000000000006,
         0.9080149126315735,
         0.5060595800993668,
         11.622590881684141,
         -11.622590881684141
        ],
        [
         10.5,
         31.5,
         -31.5,
         0.841911365193686,
         0.42302095980655785,
         8.840069334533704,
         -8.840069334533704
        ],
        [
         17.1,
         51.300000000000004,
         -51.300000000000004,
         0.045201911574638154,
         0.8620407153570689,
         0.7729526879263124,
         -0.7729526879263124
        ],
        [
         18.4,
         55.199999999999996,
         -55.199999999999996,
         0.052383403657132455,
         0.9120536730983652,
         0.963854627291237,
         -0.963854627291237
        ],
        [
         15.4,
         46.2,
         -46.2,
         0.8935832127745721,
         0.5695530784688889,
         13.76118147672841,
         -13.76118147672841
        ],
        [
         10.8,
         32.400000000000006,
         -32.400000000000006,
         0.710376655845938,
         0.5899537429979081,
         7.672067883136131,
         -7.672067883136131
        ],
        [
         11.8,
         35.400000000000006,
         -35.400000000000006,
         0.18505706380283693,
         0.1386539677425187,
         2.183673352873476,
         -2.183673352873476
        ],
        [
         14.9,
         44.7,
         -44.7,
         0.5560730151042577,
         0.46836340077168326,
         8.28548792505344,
         -8.28548792505344
        ],
        [
         12.6,
         37.8,
         -37.8,
         0.45192325923700216,
         0.8507164900704465,
         5.694233066386227,
         -5.694233066386227
        ],
        [
         14.1,
         42.3,
         -42.3,
         0.003513294954655799,
         0.3336372048295856,
         0.04953745886064676,
         -0.04953745886064676
        ],
        [
         13.0,
         39.0,
         -39.0,
         0.7867015109347356,
         0.939681860423036,
         10.227119642151562,
         -10.227119642151562
        ],
        [
         13.4,
         40.2,
         -40.2,
         0.9432330523494292,
         0.017643993773674982,
         12.639322901482352,
         -12.639322901482352
        ],
        [
         15.2,
         45.599999999999994,
         -45.599999999999994,
         0.33292614879454563,
         0.3174756240378652,
         5.060477461677094,
         -5.060477461677094
        ],
        [
         16.1,
         48.300000000000004,
         -48.300000000000004,
         0.10120019456024743,
         0.8776538318224769,
         1.6293231324199837,
         -1.6293231324199837
        ],
        [
         17.8,
         53.400000000000006,
         -53.400000000000006,
         0.781044365589822,
         0.9486536902833465,
         13.902589707498834,
         -13.902589707498834
        ],
        [
         14.9,
         44.7,
         -44.7,
         0.17129023501728236,
         0.575731992157802,
         2.5522245017575074,
         -2.5522245017575074
        ],
        [
         14.1,
         42.3,
         -42.3,
         0.9833907651182234,
         0.7230879543916295,
         13.86580978816695,
         -13.86580978816695
        ],
        [
         12.7,
         38.099999999999994,
         -38.099999999999994,
         0.413427087210823,
         0.3398331871640845,
         5.250524007577452,
         -5.250524007577452
        ],
        [
         13.5,
         40.5,
         -40.5,
         0.2931083328343359,
         0.511984199717952,
         3.9569624932635348,
         -3.9569624932635348
        ],
        [
         14.9,
         44.7,
         -44.7,
         0.2751843487086437,
         0.5700604851807413,
         4.100246795758792,
         -4.100246795758792
        ],
        [
         20.0,
         60.0,
         -60.0,
         0.9186607284229745,
         0.2646674247940204,
         18.373214568459492,
         -18.373214568459492
        ],
        [
         16.4,
         49.199999999999996,
         -49.199999999999996,
         0.8804084493447459,
         0.5767475023630395,
         14.438698569253832,
         -14.438698569253832
        ],
        [
         17.7,
         53.099999999999994,
         -53.099999999999994,
         0.9549221882050097,
         0.06152499289330504,
         16.902122731228673,
         -16.902122731228673
        ],
        [
         19.5,
         58.5,
         -58.5,
         0.6325850393119711,
         0.8230229093903114,
         12.335408266583435,
         -12.335408266583435
        ],
        [
         20.2,
         60.599999999999994,
         -60.599999999999994,
         0.8336716429726984,
         0.28387829866192504,
         16.840167188048508,
         -16.840167188048508
        ],
        [
         21.4,
         64.19999999999999,
         -64.19999999999999,
         0.6906967918519936,
         0.23661949535149718,
         14.780911345632662,
         -14.780911345632662
        ],
        [
         19.9,
         59.699999999999996,
         -59.699999999999996,
         0.7407312805942873,
         0.4238778055760041,
         14.740552483826315,
         -14.740552483826315
        ],
        [
         19.0,
         57.0,
         -57.0,
         0.6792707539252734,
         0.895541838575909,
         12.906144324580193,
         -12.906144324580193
        ],
        [
         19.1,
         57.300000000000004,
         -57.300000000000004,
         0.7196617872678295,
         0.8771148389154301,
         13.745540136815544,
         -13.745540136815544
        ],
        [
         19.1,
         57.300000000000004,
         -57.300000000000004,
         0.547279002111545,
         0.7358276950596114,
         10.45302894033051,
         -10.45302894033051
        ],
        [
         20.1,
         60.300000000000004,
         -60.300000000000004,
         0.44957084334952224,
         0.18049671329260852,
         9.036373951325398,
         -9.036373951325398
        ],
        [
         19.9,
         59.699999999999996,
         -59.699999999999996,
         0.6970585631882671,
         0.26854067435523543,
         13.871465407446514,
         -13.871465407446514
        ],
        [
         19.6,
         58.800000000000004,
         -58.800000000000004,
         0.4391825236268515,
         0.9935784229611839,
         8.60797746308629,
         -8.60797746308629
        ],
        [
         23.2,
         69.6,
         -69.6,
         0.05499696125105091,
         0.5839802855324416,
         1.2759295010243812,
         -1.2759295010243812
        ],
        [
         29.8,
         89.4,
         -89.4,
         0.4026611198692125,
         0.9069707745326538,
         11.999301372102533,
         -11.999301372102533
        ],
        [
         13.8,
         41.400000000000006,
         -41.400000000000006,
         0.7100915216789975,
         0.1793101512941463,
         9.799262999170166,
         -9.799262999170166
        ],
        [
         13.3,
         39.900000000000006,
         -39.900000000000006,
         0.5374944486608269,
         0.10927313852372733,
         7.148676167188998,
         -7.148676167188998
        ],
        [
         16.7,
         50.099999999999994,
         -50.099999999999994,
         0.3066125268913661,
         0.9750260278694122,
         5.120429199085813,
         -5.120429199085813
        ],
        [
         12.0,
         36.0,
         -36.0,
         0.2997354523401966,
         0.9622961847347751,
         3.5968254280823593,
         -3.5968254280823593
        ],
        [
         14.6,
         43.8,
         -43.8,
         0.9874599821727476,
         0.2617277043928612,
         14.416915739722114,
         -14.416915739722114
        ],
        [
         21.4,
         64.19999999999999,
         -64.19999999999999,
         0.451436144113477,
         0.20014150703401545,
         9.660733484028407,
         -9.660733484028407
        ],
        [
         23.0,
         69.0,
         -69.0,
         0.8258190741163189,
         0.38896103811767435,
         18.993838704675337,
         -18.993838704675337
        ],
        [
         23.7,
         71.1,
         -71.1,
         0.8264185835192057,
         0.5052266497168828,
         19.586120429405174,
         -19.586120429405174
        ],
        [
         25.0,
         75.0,
         -75.0,
         0.9871171082325573,
         0.5301697550272668,
         24.677927705813932,
         -24.677927705813932
        ],
        [
         21.8,
         65.4,
         -65.4,
         0.3956773358612511,
         0.9914075926827359,
         8.625765921775274,
         -8.625765921775274
        ],
        [
         20.6,
         61.800000000000004,
         -61.800000000000004,
         0.25478702386078356,
         0.5729200975487508,
         5.248612691532141,
         -5.248612691532141
        ],
        [
         21.2,
         63.599999999999994,
         -63.599999999999994,
         0.34181961159415875,
         0.49679298672960304,
         7.246575765796165,
         -7.246575765796165
        ],
        [
         19.1,
         57.300000000000004,
         -57.300000000000004,
         0.0773219210558651,
         0.9633324477002154,
         1.4768486921670236,
         -1.4768486921670236
        ],
        [
         20.6,
         61.800000000000004,
         -61.800000000000004,
         0.9078950863704699,
         0.9074345716659159,
         18.70263877923168,
         -18.70263877923168
        ],
        [
         15.2,
         45.599999999999994,
         -45.599999999999994,
         0.7307644654593252,
         0.5281892049590007,
         11.107619874981742,
         -11.107619874981742
        ],
        [
         7.0,
         21.0,
         -21.0,
         0.3550336897141986,
         0.8077685037843485,
         2.4852358279993902,
         -2.4852358279993902
        ],
        [
         8.1,
         24.299999999999997,
         -24.299999999999997,
         0.6616195344183486,
         0.18803130526472867,
         5.359118228788624,
         -5.359118228788624
        ],
        [
         13.6,
         40.8,
         -40.8,
         0.8290646039815746,
         0.07721318779670738,
         11.275278614149414,
         -11.275278614149414
        ],
        [
         20.1,
         60.300000000000004,
         -60.300000000000004,
         0.8031157021239372,
         0.27417111839717845,
         16.14262561269114,
         -16.14262561269114
        ],
        [
         21.8,
         65.4,
         -65.4,
         0.6302659918155651,
         0.8635328157928103,
         13.73979862157932,
         -13.73979862157932
        ],
        [
         24.5,
         73.5,
         -73.5,
         0.40376459644609874,
         0.09501833939286197,
         9.89223261292942,
         -9.89223261292942
        ],
        [
         23.1,
         69.30000000000001,
         -69.30000000000001,
         0.6538369500833412,
         0.21757345053379518,
         15.103633546925183,
         -15.103633546925183
        ],
        [
         19.7,
         59.099999999999994,
         -59.099999999999994,
         0.3825507501035774,
         0.9916348428034945,
         7.536249777040475,
         -7.536249777040475
        ],
        [
         18.3,
         54.900000000000006,
         -54.900000000000006,
         0.3637389784947853,
         0.2924307994067614,
         6.656423306454571,
         -6.656423306454571
        ],
        [
         21.2,
         63.599999999999994,
         -63.599999999999994,
         0.6855216533252213,
         0.4600872214466242,
         14.53305905049469,
         -14.53305905049469
        ],
        [
         17.5,
         52.5,
         -52.5,
         0.5510079689106003,
         0.5758379591589896,
         9.642639455935505,
         -9.642639455935505
        ],
        [
         16.8,
         50.400000000000006,
         -50.400000000000006,
         0.05552867861579813,
         0.9867151433166426,
         0.9328818007454087,
         -0.9328818007454087
        ],
        [
         22.4,
         67.19999999999999,
         -67.19999999999999,
         0.4693401468918398,
         0.3013998515317041,
         10.51321929037721,
         -10.51321929037721
        ],
        [
         20.6,
         61.800000000000004,
         -61.800000000000004,
         0.18518341517549186,
         0.28938727201100456,
         3.8147783526151327,
         -3.8147783526151327
        ],
        [
         23.9,
         71.69999999999999,
         -71.69999999999999,
         0.39290142297386077,
         0.6730856452827781,
         9.390344009075271,
         -9.390344009075271
        ],
        [
         22.0,
         66.0,
         -66.0,
         0.14966019696002408,
         0.3224486239718283,
         3.2925243331205296,
         -3.2925243331205296
        ],
        [
         11.9,
         35.7,
         -35.7,
         0.14846454595097158,
         0.6613471633259399,
         1.766728096816562,
         -1.766728096816562
        ]
       ],
       "datasetInfos": [],
       "dbfsResultPath": null,
       "isJsonSchema": true,
       "metadata": {},
       "overflow": false,
       "plotOptions": {
        "customPlotOptions": {},
        "displayType": "table",
        "pivotAggregation": null,
        "pivotColumns": [],
        "xColumns": [],
        "yColumns": []
       },
       "removedWidgets": [],
       "schema": [
        {
         "metadata": "{}",
         "name": "medv",
         "type": "\"double\""
        },
        {
         "metadata": "{}",
         "name": "medvX3",
         "type": "\"double\""
        },
        {
         "metadata": "{}",
         "name": "medvNeg",
         "type": "\"double\""
        },
        {
         "metadata": "{}",
         "name": "random1",
         "type": "\"double\""
        },
        {
         "metadata": "{}",
         "name": "random2",
         "type": "\"double\""
        },
        {
         "metadata": "{}",
         "name": "medvWithNoise",
         "type": "\"double\""
        },
        {
         "metadata": "{}",
         "name": "medvWithNegativeNoise",
         "type": "\"double\""
        }
       ],
       "type": "table"
      }
     },
     "output_type": "display_data"
    }
   ],
   "source": [
    "from pyspark.sql.functions import col, rand\n",
    "\n",
    "bostonWithDummyDataDF = (bostonDF\n",
    "  .select(\"medv\")\n",
    "  .withColumn(\"medvX3\", col(\"medv\")*3)\n",
    "  .withColumn(\"medvNeg\", col(\"medv\")*-3)\n",
    "  .withColumn(\"random1\", rand(seed=41))\n",
    "  .withColumn(\"random2\", rand(seed=44))\n",
    "  .withColumn(\"medvWithNoise\", col(\"medv\")*col(\"random1\"))\n",
    "  .withColumn(\"medvWithNegativeNoise\", col(\"medv\")*col(\"random1\")*-1)\n",
    ")\n",
    "\n",
    "display(bostonWithDummyDataDF)"
   ]
  },
  {
   "cell_type": "markdown",
   "metadata": {
    "application/vnd.databricks.v1+cell": {
     "cellMetadata": {},
     "inputWidgets": {},
     "nuid": "8c898348-ea1a-44a5-a1d7-d6564e2042e9",
     "showTitle": false,
     "title": ""
    }
   },
   "source": [
    "Calculate correlations between all columns and `id`"
   ]
  },
  {
   "cell_type": "code",
   "execution_count": 0,
   "metadata": {
    "application/vnd.databricks.v1+cell": {
     "cellMetadata": {
      "byteLimit": 2048000,
      "rowLimit": 10000
     },
     "inputWidgets": {},
     "nuid": "37968cf7-872c-454e-a150-80ccdbcb2bc3",
     "showTitle": false,
     "title": ""
    }
   },
   "outputs": [
    {
     "output_type": "stream",
     "name": "stdout",
     "output_type": "stream",
     "text": [
      "The correlation between columns 'id' and 'medv': \t1.0\nThe correlation between columns 'id' and 'medvX3': \t1.0000000000000004\nThe correlation between columns 'id' and 'medvNeg': \t-1.0000000000000004\nThe correlation between columns 'id' and 'random1': \t0.006432271130492889\nThe correlation between columns 'id' and 'random2': \t-0.05810370320527292\nThe correlation between columns 'id' and 'medvWithNoise': \t0.5446845136944051\nThe correlation between columns 'id' and 'medvWithNegativeNoise': \t-0.5446845136944051\n"
     ]
    }
   ],
   "source": [
    "for col in bostonWithDummyDataDF.columns:\n",
    "  correlation = bostonWithDummyDataDF.stat.corr(\"medv\", col)\n",
    "  \n",
    "  print(\"The correlation between columns 'id' and '{}': \\t{}\".format(col, correlation))"
   ]
  },
  {
   "cell_type": "markdown",
   "metadata": {
    "application/vnd.databricks.v1+cell": {
     "cellMetadata": {},
     "inputWidgets": {},
     "nuid": "bac1894e-e4fd-425b-bf4f-ec8e9bfd48a4",
     "showTitle": false,
     "title": ""
    }
   },
   "source": [
    "The main takeaways:<br><br>\n",
    "\n",
    "* The correlation between `id` and itself is 1, as is the correlation between `id` and `id` multiplied by 3.  \n",
    "* The correlation between `id` and `id` multiplied by -3 is -1.  \n",
    "* The correlations between `id` and random noise varied based on what was in the noise, but the results were closer to 0.  \n",
    "* There were stronger positive and negative correlations in random noise multiplied by `id` than in random noise not correlated to `id`"
   ]
  },
  {
   "cell_type": "markdown",
   "metadata": {
    "application/vnd.databricks.v1+cell": {
     "cellMetadata": {},
     "inputWidgets": {},
     "nuid": "88acbaea-92c9-4200-ba45-38b64c9bebb3",
     "showTitle": false,
     "title": ""
    }
   },
   "source": [
    "### Other Visualization Tools\n",
    "\n",
    "There are a number of other helpful visualizations depending on the needs of your data.  These include:<br><br>\n",
    "\n",
    "* <a href=\"https://en.wikipedia.org/wiki/Heat_map\" target=\"_blank\">Heat maps:</a> similar to a scattermatrix, heatmaps can be especially helpful at visualizing correlations between variables\n",
    "* <a href=\"https://en.wikipedia.org/wiki/Box_plot\" target=\"_blank\">Box plots:</a> visualizes quantiles and outliers\n",
    "* <a href=\"https://en.wikipedia.org/wiki/Q%E2%80%93Q_plot\" target=\"_blank\">Q-Q Plots:</a> visualizes two probability distributions\n",
    "* <a href=\"https://en.wikipedia.org/wiki/Geographic_information_system\" target=\"_blank\">Maps and GIS:</a> visualizes geographically-bound data\n",
    "* <a href=\"https://en.wikipedia.org/wiki/T-distributed_stochastic_neighbor_embedding\" target=\"_blank\">t-SNE:</a> plots high dimensional data (i.e. data that has many variables) by projecting it down into two-diminsional plot\n",
    "* <a href=\"https://en.wikipedia.org/wiki/Time_series\" target=\"_blank\">Time series:</a> plots time-bound variables including run charts, lag plots, and wavelet spectrograms"
   ]
  },
  {
   "cell_type": "markdown",
   "metadata": {
    "application/vnd.databricks.v1+cell": {
     "cellMetadata": {},
     "inputWidgets": {},
     "nuid": "1cf33b93-7a59-4273-93ff-02650c981fc8",
     "showTitle": false,
     "title": ""
    }
   },
   "source": [
    "Assemble all of the `bostonDF` features into a single column `features`.  This allows us to use Spark's built-in correlation functionality."
   ]
  },
  {
   "cell_type": "code",
   "execution_count": 0,
   "metadata": {
    "application/vnd.databricks.v1+cell": {
     "cellMetadata": {
      "byteLimit": 2048000,
      "rowLimit": 10000
     },
     "inputWidgets": {},
     "nuid": "bf829122-69db-4381-9255-74571835b6cb",
     "showTitle": false,
     "title": ""
    }
   },
   "outputs": [],
   "source": [
    "%python\n",
    "from pyspark.ml.feature import VectorAssembler\n",
    "\n",
    "assembler = VectorAssembler(inputCols=bostonDF.columns, outputCol=\"features\")\n",
    "\n",
    "bostonFeaturizedDF = assembler.transform(bostonDF)"
   ]
  },
  {
   "cell_type": "markdown",
   "metadata": {
    "application/vnd.databricks.v1+cell": {
     "cellMetadata": {},
     "inputWidgets": {},
     "nuid": "4599bc82-fd2e-421c-ba39-e92dd0e7703d",
     "showTitle": false,
     "title": ""
    }
   },
   "source": [
    "Calculate the correlations across the entire dataset."
   ]
  },
  {
   "cell_type": "code",
   "execution_count": 0,
   "metadata": {
    "application/vnd.databricks.v1+cell": {
     "cellMetadata": {
      "byteLimit": 2048000,
      "rowLimit": 10000
     },
     "inputWidgets": {},
     "nuid": "2da33860-1688-4bb0-a23d-d6be3ca6152a",
     "showTitle": false,
     "title": ""
    }
   },
   "outputs": [],
   "source": [
    "%python\n",
    "from pyspark.ml.stat import Correlation\n",
    "\n",
    "pearsonCorr = Correlation.corr(bostonFeaturizedDF, 'features').collect()[0][0]\n",
    "pandasDF = pd.DataFrame(pearsonCorr.toArray())\n",
    "\n",
    "pandasDF.index, pandasDF.columns = bostonDF.columns, bostonDF.columns # Labels our index and columns so we can interpret the results"
   ]
  },
  {
   "cell_type": "markdown",
   "metadata": {
    "application/vnd.databricks.v1+cell": {
     "cellMetadata": {},
     "inputWidgets": {},
     "nuid": "526583f9-8e69-4352-ad88-baea352f1f89",
     "showTitle": false,
     "title": ""
    }
   },
   "source": [
    "Plot a heatmap of the correlations.  The redder the value, the stronger the positive correlation and the bluer the value the stronger the negative correlation.  Do this in pure Python rather than Spark because Python has better plotting functionality."
   ]
  },
  {
   "cell_type": "code",
   "execution_count": 0,
   "metadata": {
    "application/vnd.databricks.v1+cell": {
     "cellMetadata": {
      "byteLimit": 2048000,
      "rowLimit": 10000
     },
     "inputWidgets": {},
     "nuid": "18e5ca13-161e-4786-a502-4ef61d8db8d3",
     "showTitle": false,
     "title": ""
    }
   },
   "outputs": [
    {
     "output_type": "display_data",
     "data": {
      "image/png": "[encoded data removed]"
     },
     "metadata": {
      "application/vnd.databricks.v1+output": {
       "addedWidgets": {},
       "arguments": {},
       "data": "data:image/png;base64,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\n",
       "datasetInfos": [],
       "metadata": {},
       "removedWidgets": [],
       "type": "image"
      }
     },
     "output_type": "display_data"
    },
    {
     "output_type": "display_data",
     "data": {
      "image/png": "[encoded data removed]"
     },
     "metadata": {
      "application/vnd.databricks.v1+output": {
       "addedWidgets": {},
       "arguments": {},
       "data": "data:image/png;base64,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\n",
       "datasetInfos": [],
       "metadata": {},
       "removedWidgets": [],
       "type": "image"
      }
     },
     "output_type": "display_data"
    }
   ],
   "source": [
    "%python\n",
    "import matplotlib.pyplot as plt\n",
    "import seaborn as sns\n",
    "\n",
    "fig, ax = plt.subplots()\n",
    "sns.heatmap(pandasDF)\n",
    "display(fig.figure)"
   ]
  },
  {
   "cell_type": "code",
   "execution_count": 0,
   "metadata": {
    "application/vnd.databricks.v1+cell": {
     "cellMetadata": {},
     "inputWidgets": {},
     "nuid": "ac7c9768-7649-46a6-9600-6b17665e0b7d",
     "showTitle": false,
     "title": ""
    }
   },
   "outputs": [],
   "source": []
  }
 ],
 "metadata": {
  "application/vnd.databricks.v1+notebook": {
   "dashboards": [],
   "language": "python",
   "notebookMetadata": {
    "pythonIndentUnit": 2
   },
   "notebookName": "3. Exploratory Analysis",
   "widgets": {}
  }
 },
 "nbformat": 4,
 "nbformat_minor": 0
}
