{
 "cells": [
  {
   "cell_type": "markdown",
   "id": "1efeb3ca",
   "metadata": {},
   "source": [
    "# Hierarchical Clustering"
   ]
  },
  {
   "cell_type": "code",
   "execution_count": 1,
   "id": "d88e0640",
   "metadata": {},
   "outputs": [],
   "source": [
    "#We start by importing the required libraries:\n",
    "\n",
    "import matplotlib.pyplot as plt\n",
    "import pandas as pd\n",
    "%matplotlib inline\n",
    "import numpy as np"
   ]
  },
  {
   "cell_type": "code",
   "execution_count": 2,
   "id": "1a605ecf",
   "metadata": {},
   "outputs": [],
   "source": [
    "X = np.array([[5,3],\n",
    "    [10,15],\n",
    "    [15,12],\n",
    "    [24,10],\n",
    "    [30,30],\n",
    "    [85,70],\n",
    "    [71,80],\n",
    "    [60,78],\n",
    "    [70,55],\n",
    "    [80,91],])"
   ]
  },
  {
   "cell_type": "markdown",
   "id": "7badc79f",
   "metadata": {},
   "source": [
    "The next step is to import the class for clustering and call its fit_predict method to predict the clusters that each data point belongs to."
   ]
  },
  {
   "cell_type": "code",
   "execution_count": 4,
   "id": "a7b17068",
   "metadata": {},
   "outputs": [
    {
     "name": "stdout",
     "output_type": "stream",
     "text": [
      "[1 1 1 1 1 0 0 0 0 0]\n"
     ]
    }
   ],
   "source": [
    "from sklearn.cluster import AgglomerativeClustering\n",
    "\n",
    "cluster = AgglomerativeClustering(n_clusters=2, affinity='euclidean', linkage='ward')\n",
    "cluster.fit_predict(X)\n",
    "print(cluster.labels_)"
   ]
  },
  {
   "cell_type": "markdown",
   "id": "84dd8fee",
   "metadata": {},
   "source": [
    "The number of parameters is set to 2 using the n_clusters parameter while the affinity is set to \"euclidean\" (distance between the datapoints). Finally linkage parameter is set to \"ward\", which minimizes the variant between the clusters."
   ]
  },
  {
   "cell_type": "markdown",
   "id": "6312f492",
   "metadata": {},
   "source": [
    "Finally, let's plot our clusters. To do so, execute the following code:"
   ]
  },
  {
   "cell_type": "code",
   "execution_count": 5,
   "id": "ebab7df9",
   "metadata": {},
   "outputs": [
    {
     "data": {
      "text/plain": [
       "<matplotlib.collections.PathCollection at 0x16b5a84d6a0>"
      ]
     },
     "execution_count": 5,
     "metadata": {},
     "output_type": "execute_result"
    },
    {
     "data": {
      "image/png": "[encoded data removed]",
      "text/plain": [
       "<Figure size 432x288 with 1 Axes>"
      ]
     },
     "metadata": {
      "needs_background": "light"
     },
     "output_type": "display_data"
    }
   ],
   "source": [
    "plt.scatter(X[:,0],X[:,1], c=cluster.labels_, cmap='rainbow')"
   ]
  },
  {
   "cell_type": "code",
   "execution_count": null,
   "id": "b102e323",
   "metadata": {},
   "outputs": [],
   "source": []
  }
 ],
 "metadata": {
  "kernelspec": {
   "display_name": "Python 3",
   "language": "python",
   "name": "python3"
  },
  "language_info": {
   "codemirror_mode": {
    "name": "ipython",
    "version": 3
   },
   "file_extension": ".py",
   "mimetype": "text/x-python",
   "name": "python",
   "nbconvert_exporter": "python",
   "pygments_lexer": "ipython3",
   "version": "3.9.5"
  }
 },
 "nbformat": 4,
 "nbformat_minor": 5
}
